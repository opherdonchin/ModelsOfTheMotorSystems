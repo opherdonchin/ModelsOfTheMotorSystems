{
 "cells": [
  {
   "cell_type": "markdown",
   "id": "f70cf925",
   "metadata": {},
   "source": [
    "# Homework 1: Modeling Muscle Behavior with Hill-Type Models\n",
    "\n",
    "**Instructions:** Complete all sections below. You will build and explore a Hill-type muscle model\n",
    "to simulate twitch, tonic, and shortening contractions. Answer all written questions in the appropriate\n",
    "markdown sections. Submit your completed `.ipynb` notebook on Moodle."
   ]
  },
  {
   "cell_type": "markdown",
   "id": "0b51d653",
   "metadata": {},
   "source": [
    "## Part A: Build Your Hill-Type Muscle Model\n",
    "\n",
    "Implement a function called `simulate_hill_model()` that models muscle force output over time.\n",
    "Your model **must include**:\n",
    "- Activation dynamics (with different activation and deactivation time constants)\n",
    "- Active force–length relationship (e.g. Gaussian)\n",
    "- Force–velocity relationship (may be simplified)\n",
    "- Passive muscle force\n",
    "- Nonlinear tendon elasticity\n",
    "\n",
    "This function will be used throughout the rest of the assignment."
   ]
  },
  {
   "cell_type": "code",
   "execution_count": null,
   "id": "351dd72f",
   "metadata": {},
   "outputs": [],
   "source": [
    "# TODO: Define simulate_hill_model(time, stim, L_MT)\n",
    "# Inputs:\n",
    "#   - time: time array\n",
    "#   - stim: stimulation signal (0–1)\n",
    "#   - L_MT: muscle-tendon unit length array\n",
    "# Returns:\n",
    "#   - Dictionary with 'activation', 'F_total', 'F_tendon', 'L_CE', etc."
   ]
  },
  {
   "cell_type": "markdown",
   "id": "f5ee8359",
   "metadata": {},
   "source": [
    "## Part B1: Simulate a Twitch Contraction\n",
    "\n",
    "Use a brief stimulation pulse (~5 ms) to elicit a twitch response.\n",
    "Plot the following over time:\n",
    "- Activation\n",
    "- Muscle force\n",
    "- Fiber length (L_CE)\n",
    "- Tendon length (L_SE)\n",
    "\n",
    "Use this to verify that your model responds correctly to a short pulse."
   ]
  },
  {
   "cell_type": "code",
   "execution_count": null,
   "id": "32fa2946",
   "metadata": {},
   "outputs": [],
   "source": [
    "# TODO: Define stimulation signal (short pulse)\n",
    "# TODO: Choose reasonable MTU length (e.g. L_MT = 1.0)\n",
    "# TODO: Simulate and plot the outputs"
   ]
  },
  {
   "cell_type": "markdown",
   "id": "0dd19fc7",
   "metadata": {},
   "source": [
    "### Answer B1:\n",
    "- What was the peak force?\n",
    "- What was the time to half-relaxation?\n",
    "- How would changing deactivation time constant affect this?"
   ]
  },
  {
   "cell_type": "markdown",
   "id": "4b1f9f33",
   "metadata": {},
   "source": [
    "## Part B2: Tonic Contractions at Different Lengths\n",
    "\n",
    "Apply constant stimulation for 1 second. Simulate the muscle at **three different lengths**\n",
    "(e.g. L_MT = 0.95, 1.0, and 1.05). Plot steady-state force vs. muscle-tendon length.\n",
    "This explores the active force–length curve."
   ]
  },
  {
   "cell_type": "code",
   "execution_count": null,
   "id": "408f67fb",
   "metadata": {},
   "outputs": [],
   "source": [
    "# TODO: Loop over multiple MTU lengths\n",
    "# TODO: Simulate and extract steady-state force for each\n",
    "# TODO: Plot force vs. length"
   ]
  },
  {
   "cell_type": "markdown",
   "id": "8bf4b4bc",
   "metadata": {},
   "source": [
    "### Answer B2:\n",
    "- Describe the trend you observed.\n",
    "- How does this relate to the active force–length relationship discussed in lecture?"
   ]
  },
  {
   "cell_type": "markdown",
   "id": "4274229b",
   "metadata": {},
   "source": [
    "## Part B3: Simulate a Shortening Contraction\n",
    "\n",
    "Create a simulation where the muscle shortens over time during stimulation.\n",
    "- Use a ramped or step-decreasing L_MT.\n",
    "- Keep stimulation constant.\n",
    "- Plot force vs. velocity.\n",
    "\n",
    "Compare the resulting curve to the theoretical force–velocity relationship."
   ]
  },
  {
   "cell_type": "code",
   "execution_count": null,
   "id": "6864a99c",
   "metadata": {},
   "outputs": [],
   "source": [
    "# TODO: Define time-varying L_MT (e.g. linear ramp)\n",
    "# TODO: Simulate and calculate instantaneous velocity\n",
    "# TODO: Plot force vs. velocity"
   ]
  },
  {
   "cell_type": "markdown",
   "id": "e7e105fc",
   "metadata": {},
   "source": [
    "### Answer B3:\n",
    "- How does the simulated curve compare to the idealized force–velocity plot?\n",
    "- What factors limit your model’s ability to match the theoretical curve?"
   ]
  },
  {
   "cell_type": "markdown",
   "id": "96da38d3",
   "metadata": {},
   "source": [
    "## ⭐ Part D (Bonus +3%): Simulate an Older Muscle\n",
    "\n",
    "Modify your model to simulate behavior of an older adult muscle based on Thelen (2003).\n",
    "Specifically:\n",
    "- Increase deactivation time constant\n",
    "- Reduce maximum isometric force (Fmax)\n",
    "- Increase passive stiffness (if implemented)\n",
    "\n",
    "Simulate both a twitch and tonic contraction and compare to your original results."
   ]
  },
  {
   "cell_type": "code",
   "execution_count": null,
   "id": "c4ca633d",
   "metadata": {},
   "outputs": [],
   "source": [
    "# TODO: Modify model parameters to reflect aging\n",
    "# TODO: Repeat twitch and tonic simulations\n",
    "# TODO: Plot and compare to young muscle"
   ]
  },
  {
   "cell_type": "markdown",
   "id": "57a643a9",
   "metadata": {},
   "source": [
    "### Answer D:\n",
    "- What differences did you observe in timing, magnitude, or shape of the responses?\n",
    "- Which parameter had the most noticeable effect?"
   ]
  }
 ],
 "metadata": {
  "jupytext": {
   "cell_metadata_filter": "-all",
   "main_language": "python",
   "notebook_metadata_filter": "-all"
  },
  "language_info": {
   "name": "python"
  }
 },
 "nbformat": 4,
 "nbformat_minor": 5
}
