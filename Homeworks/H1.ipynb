{
 "cells": [
  {
   "cell_type": "code",
   "execution_count": 2,
   "outputs": [],
   "source": [
    "import numpy as np\n",
    "import matplotlib.pyplot as plt\n",
    "from scipy.stats import norm"
   ],
   "metadata": {
    "collapsed": false,
    "pycharm": {
     "name": "#%%\n"
    }
   }
  },
  {
   "cell_type": "markdown",
   "metadata": {
    "collapsed": true,
    "pycharm": {
     "name": "#%% md\n"
    }
   },
   "source": [
    "# Homework 1\n",
    "## Problem 1\n",
    "1. Using neural activity to predict monkey movements\n",
    "\n",
    "a. Imagine that you are recording a neuron inside the monkey motor cortex. You suspect\n",
    "that activity of this neuron reflects whether the monkeys hand is open or closed. Every\n",
    "20 ms, the neuron either fires an action potential (called a spike) or it does not.\n",
    "\n",
    "Let us assume the following probabilities:\n",
    "\n",
    "$p\\left( {{\\text{hand open}}} \\right) = 0.5$\n",
    "<br />\n",
    "$p\\left( {{\\text{spike}}|{\\text{hand open}}} \\right) = 0.6$\n",
    "<br />\n",
    "$p\\left( {{\\text{spike}}|{\\text{hand close}}} \\right) = 0.35$\n",
    "<br />\n",
    "\n",
    "You observe a series of 10 spikes spaced evenly over the course of 200 ms.\n",
    "What is the probability that the hand is open, given the data?\n",
    "\n",
    "*Answer*\n",
    "\n",
    "The probability that the hand is open is\n",
    "\n",
    "$\n",
    "p(\\textrm{open} | \\textrm{10 spikes}) = \\frac{\n",
    "p(\\textrm{10 spikes} | \\textrm{open} )p(\\textrm{open})\n",
    "}{\n",
    "p(\\textrm{10 spikes})\n",
    "}\n",
    "$\n",
    "\n",
    "and also\n",
    "\n",
    "$\n",
    "p(\\textrm{10 spikes}) =\n",
    "p(\\textrm{10 spikes} | \\textrm{open} )p(\\textrm{open}) +\n",
    "p(\\textrm{10 spikes} | \\textrm{closed} )p(\\textrm{closed})\n",
    "$"
   ]
  },
  {
   "cell_type": "code",
   "execution_count": 2,
   "outputs": [
    {
     "name": "stdout",
     "output_type": "stream",
     "text": [
      "The probability of the hand being open, given 10 spikes is 0.9955\n"
     ]
    }
   ],
   "source": [
    "pOpen = 0.5\n",
    "pClosed = 1 - pOpen\n",
    "\n",
    "p1Open = 0.6\n",
    "p1Closed = 0.35\n",
    "\n",
    "p10Open = p1Open ** 10\n",
    "p10Closed = p1Closed ** 10\n",
    "\n",
    "p10 = p10Open * pOpen + p10Closed * pClosed\n",
    "\n",
    "pOpen10 = p10Open*pOpen/p10\n",
    "\n",
    "print(f'The probability of the hand being open, given 10 spikes is {pOpen10:.4f}')"
   ],
   "metadata": {
    "collapsed": false,
    "pycharm": {
     "name": "#%%\n"
    }
   }
  },
  {
   "cell_type": "markdown",
   "source": [
    "b. What is the probability for (a) if $p(\\textrm{open}) = 0.05$?\n",
    "\n",
    "*Answer*"
   ],
   "metadata": {
    "collapsed": false
   }
  },
  {
   "cell_type": "code",
   "execution_count": 3,
   "outputs": [
    {
     "name": "stdout",
     "output_type": "stream",
     "text": [
      "The probability of the hand being open, given 10 spikes\n",
      "and a prior proabability of open of 0.05\n",
      "is 0.9202\n"
     ]
    }
   ],
   "source": [
    "pOpen = 0.05\n",
    "pClosed = 1 - pOpen\n",
    "p10 = p10Open * pOpen + p10Closed * pClosed\n",
    "pOpen10 = p10Open*pOpen/p10\n",
    "print(f'The probability of the hand being open, given 10 spikes')\n",
    "print(f'and a prior proabability of open of 0.05')\n",
    "print(f'is {pOpen10:.4f}')"
   ],
   "metadata": {
    "collapsed": false,
    "pycharm": {
     "name": "#%%\n"
    }
   }
  },
  {
   "cell_type": "markdown",
   "source": [
    "c. What would be the probability if you had observed only 5 spikes\n",
    "in the same 200 ms?\n",
    "\n",
    "*Answer*"
   ],
   "metadata": {
    "collapsed": false
   }
  },
  {
   "cell_type": "code",
   "execution_count": 4,
   "outputs": [
    {
     "name": "stdout",
     "output_type": "stream",
     "text": [
      "The probability of the hand being open, given 5 spikes\n",
      "is 0.5665\n"
     ]
    }
   ],
   "source": [
    "pOpen = 0.5\n",
    "pClosed = 1 - pOpen\n",
    "p5Open = p1Open**5*(1-p1Open)**5\n",
    "p5Closed = p1Closed**5*(1-p1Closed)**5\n",
    "p5 = p5Open*pOpen + p5Closed*pClosed\n",
    "pOpen5 = p5Open*pOpen / p5\n",
    "\n",
    "print(f'The probability of the hand being open, given 5 spikes')\n",
    "print(f'is {pOpen5:.4f}')"
   ],
   "metadata": {
    "collapsed": false,
    "pycharm": {
     "name": "#%%\n"
    }
   }
  },
  {
   "cell_type": "markdown",
   "source": [
    "## Problem 2\n",
    "\n",
    "In the lecture we saw equations that allow us to calculate the\n",
    "posterior distribution of the mean if the prior distribution is\n",
    "normal and the likelihood is normal as well. It is also possible\n",
    "to use a method called grid estimation. To do grid estimation, we\n",
    "select points  $\\mu_k$ for $k=1,\\ldots,K$ . For each point $\\mu_k$ ,\n",
    "we calculate a value proportional to the posterior distribution\n",
    "through simple multiplication using the formula:\n",
    "\n",
    "\\begin{equation}\n",
    "p( \\mu_k |  x_i, \\sigma_x ) \\propto p( x_i| \\mu_k, \\sigma_x)p( \\mu_k)\n",
    "\\end{equation}\n",
    "\n",
    "Let’s call this multiplication  $q\\left( {{\\mu }_{k}} \\right)=p\\left( \\left\\{ {{x}_{i}} \\right\\}\\left| {{\\mu }_{k}},{{\\sigma }_{x}} \\right. \\right)p\\left( {{\\mu }_{k}} \\right)$.\n",
    "We can normalize to approximate the posterior by dividing by the total:\n",
    "\n",
    "\\begin{equation}\n",
    "p\\left( {{\\mu }_{k}}\\left| \\left\\{ {{x}_{i}} \\right\\},{{\\sigma }_{x}} \\right. \\right)=\\frac{q\\left( {{\\mu }_{k}} \\right)}{\\sum\\limits_{k}{q\\left( {{\\mu }_{k}} \\right)}}\n",
    "\\end{equation}\n",
    "\n",
    "Usually, this approach yields an accurate picture of the posterior distribution with only 100 points and certainly provides accuracy with 500.\n",
    "\n",
    "a.\tUse this approach to solve again the exercise at the end of the lecture, but this time using a grid approximation. All numbers are in Newtons:\n",
    "Your prior about the box is  $\\mu_0=3.5$ with confidence $\\sigma_0 = 1$.\n",
    "<br >\n",
    "Your confidence in your perception is $\\sigma_x = 1$.\n",
    "<br >\n",
    "Your lift the box multiple times and perceive the weight to\n",
    "be 6, 6, 7, 7, 4 and 5.\n",
    "<br >\n",
    "Plot the posterior of distribution of the weight after each lift on a grid of 500 points between 0 and 10.\n",
    "\n",
    "*Answer*\n",
    "\n",
    "Set up the constants and the underlying grid"
   ],
   "metadata": {
    "collapsed": false
   }
  },
  {
   "cell_type": "code",
   "execution_count": 6,
   "outputs": [
    {
     "name": "stdout",
     "output_type": "stream",
     "text": [
      "Mean of inputs is 5.83\n"
     ]
    }
   ],
   "source": [
    "mu_0 = 3.5\n",
    "sigma_0 = 1\n",
    "sigma_x = 1\n",
    "x = [6, 6, 7, 7, 4, 5]\n",
    "mu_k = np.arange(start=0, stop=10, step=10/500)\n",
    "\n",
    "print(f'Mean of inputs is {np.mean(x):.2f}')"
   ],
   "metadata": {
    "collapsed": false,
    "pycharm": {
     "name": "#%%\n"
    }
   }
  },
  {
   "cell_type": "markdown",
   "source": [
    "Now we can generate the prior"
   ],
   "metadata": {
    "collapsed": false
   }
  },
  {
   "cell_type": "code",
   "execution_count": 4,
   "outputs": [
    {
     "data": {
      "text/plain": "Text(0.5, 1.0, 'Prior')"
     },
     "execution_count": 4,
     "metadata": {},
     "output_type": "execute_result"
    },
    {
     "data": {
      "text/plain": "<Figure size 432x288 with 1 Axes>",
      "image/png": "[encoded data removed]"
     },
     "metadata": {},
     "output_type": "display_data"
    }
   ],
   "source": [
    "p_mu = norm.pdf(mu_k, loc=mu_0, scale = sigma_0)\n",
    "p_mu = p_mu/sum(p_mu)\n",
    "\n",
    "fig, ax = plt.subplots()\n",
    "fig.patch.set_facecolor('white')\n",
    "\n",
    "ax.bar(mu_k, p_mu)\n",
    "ax.set_xlabel('$\\mu_k$')\n",
    "ax.set_ylabel('$p(\\mu_k)$')\n",
    "ax.set_title(f'Prior')\n"
   ],
   "metadata": {
    "collapsed": false,
    "pycharm": {
     "name": "#%%\n"
    }
   }
  },
  {
   "cell_type": "markdown",
   "source": [
    "And now loop for each posterior"
   ],
   "metadata": {
    "collapsed": false
   }
  },
  {
   "cell_type": "code",
   "source": [
    "fig, ax = plt.subplots(nrows=len(x), figsize=(9,20),\n",
    "                       sharex='all', sharey='all')\n",
    "fig.patch.set_facecolor('white')\n",
    "\n",
    "this_p_mu = p_mu # Set initial prior\n",
    "\n",
    "for i,x_i in enumerate(x):\n",
    "    # Likelihood\n",
    "    p_x_mu = norm.pdf(x_i, loc=mu_k, scale=sigma_x)\n",
    "\n",
    "    # Unnormalized posterior\n",
    "    p_mu_x = p_x_mu*this_p_mu\n",
    "\n",
    "    # Normalized posterior\n",
    "    p_mu_x = p_mu_x / sum(p_mu_x)\n",
    "\n",
    "    ax[i].bar(mu_k, p_mu_x)\n",
    "    ax[i].set_xlabel('$\\mu_k$')\n",
    "    ax[i].set_ylabel('$p(\\mu_k | x_0)$')\n",
    "    ax[i].set_title(f'x[{i}] = {x_i}')\n",
    "\n",
    "    # Now set the prior to the previous posterior\n",
    "    this_p_mu = p_mu_x"
   ],
   "metadata": {
    "collapsed": false,
    "pycharm": {
     "name": "#%%\n"
    }
   },
   "execution_count": 54,
   "outputs": [
    {
     "data": {
      "text/plain": "<Figure size 648x1440 with 6 Axes>",
      "image/png": "[encoded data removed]"
     },
     "metadata": {},
     "output_type": "display_data"
    }
   ]
  },
  {
   "cell_type": "markdown",
   "source": [
    "b.\tIn these experiments, subjects need to report whether the box is\n",
    "heavier or lighter than the reference box of 6 N. We can model this\n",
    "forced-choice reporting by picking an estimated weight at random from\n",
    "the posterior distribution and saying the box we are lifting is\n",
    "lighter than the reference if our number is less than 6 and heavier\n",
    "if it is greater than 6.\n",
    "What is the probability of claiming that the small box (prior\n",
    "for $\\mu=3.5$) is actually heavier before lifting any box and\n",
    "then after each lift of the box in part (a).\n",
    "\n",
    "*Answer*\n",
    "\n",
    "We can repeat the loop in the last exercise, but this time each time\n",
    "through the loop we will check the probability of picking a random number\n",
    "from the posterior that is greater than 6.\n",
    "\n",
    "This is easy to do, all we need to do is check how much of the posterior\n",
    "is greater than 6."
   ],
   "metadata": {
    "collapsed": false
   }
  },
  {
   "cell_type": "code",
   "execution_count": 7,
   "outputs": [
    {
     "name": "stdout",
     "output_type": "stream",
     "text": [
      "The probability based only on the prior is 0.01\n",
      "The probability after the 1-th lift of 6 is 0.04\n",
      "The probability after the 2-th lift of 6 is 0.07\n",
      "The probability after the 3-th lift of 7 is 0.22\n",
      "The probability after the 4-th lift of 7 is 0.40\n",
      "The probability after the 5-th lift of 4 is 0.15\n",
      "The probability after the 6-th lift of 5 is 0.09\n"
     ]
    }
   ],
   "source": [
    "p_6 = sum(p_mu[mu_k>6])\n",
    "print(f'The probability based only on the prior is {p_6:.2f}')\n",
    "\n",
    "this_p_mu = p_mu # Set initial prior\n",
    "for i,x_i in enumerate(x):\n",
    "    p_x_mu = norm.pdf(x_i, loc=mu_k, scale=sigma_x)\n",
    "    p_mu_x = p_x_mu*this_p_mu\n",
    "    p_mu_x = p_mu_x / sum(p_mu_x)\n",
    "\n",
    "    p_6 = sum( p_mu_x[mu_k > 6])\n",
    "    print(f'The probability after the {i+1}-th lift of {x_i} is {p_6:.2f}')\n",
    "\n",
    "    this_p_mu = p_mu_x"
   ],
   "metadata": {
    "collapsed": false,
    "pycharm": {
     "name": "#%%\n"
    }
   }
  },
  {
   "cell_type": "markdown",
   "source": [
    "c. Determine whether the results in parts (a) and (b) are consistent with the graphs on\n",
    "slide 14 (copied below). How are the consistent or inconsistent?\n",
    "\n",
    "*Answer*\n",
    "\n",
    "They are consistent because the actual esimate of how heavy the box is\n",
    "and the probability of saying it is heavior goes up on subsequent lifts.\n",
    "\n",
    "## Problem 3\n",
    "\n",
    "You are running an experiment where a participant is facing several\n",
    " speakers and several lights that are placed in a semicircle (±90◦) around\n",
    " them. As the experimenter, you can manipulate the average location and noise\n",
    " of auditory and visual feedback by controlling which lights and speakers\n",
    " will turn on. On a particular trial, you turn on a few lights to light up\n",
    " so that it is hard to pinpoint exactly where\n",
    " (${{\\mu }_{v}}=-{{10.0}^{\\circ }},{{\\sigma }_{v}}={{5}^{\\circ }}$).\n",
    " Simultaneously, you set a few speakers to produce a tone\n",
    " (${{\\mu }_{a}}={{25.0}^{\\circ }},{{\\sigma }_{a}}={{15}^{\\circ }}$). The\n",
    " participant has to point towards a single location that best captures the\n",
    " source of the light and sound. Assuming they have no prior inclination to\n",
    " point in any specific direction, where do you expect them to point? If\n",
    " a particular subject points towards towards  $-{{2}^{\\circ }}$,\n",
    " is their behavior still consistent with Bayesian estimation? Where\n",
    " would they need to point to convince you that their estimation\n",
    " process is not Bayesian?\n",
    "\n",
    "*Answer*\n",
    "\n",
    "We will treat this as a two step process of including information into\n",
    "prior knowledge. The prior knowledge is flat:"
   ],
   "metadata": {
    "collapsed": false
   }
  },
  {
   "cell_type": "code",
   "execution_count": 8,
   "outputs": [],
   "source": [
    "mu_0 = 0\n",
    "sigma_0 = 10000"
   ],
   "metadata": {
    "collapsed": false,
    "pycharm": {
     "name": "#%%\n"
    }
   }
  },
  {
   "cell_type": "markdown",
   "source": [
    "Now let's add in the visual estimate:"
   ],
   "metadata": {
    "collapsed": false
   }
  },
  {
   "cell_type": "code",
   "execution_count": 9,
   "outputs": [
    {
     "name": "stdout",
     "output_type": "stream",
     "text": [
      "Including the visual input we have an estimate of -10.0 with an uncertainty of 5.00\n"
     ]
    }
   ],
   "source": [
    "mu_v = -10\n",
    "sigma_v = 5\n",
    "\n",
    "# This is just to make the equations easier to type\n",
    "tau_v = 1/sigma_v**2\n",
    "tau_0 = 1/sigma_0**2\n",
    "\n",
    "mu_v1 = (tau_v*mu_v + tau_0*mu_0) / (tau_v+tau_0)\n",
    "sigma_v1 = np.sqrt(1 / (tau_v + tau_0))\n",
    "\n",
    "print(f'Including the visual input we have an estimate of {mu_v1:.1f} with an uncertainty of {sigma_v1:.2f}')"
   ],
   "metadata": {
    "collapsed": false,
    "pycharm": {
     "name": "#%%\n"
    }
   }
  },
  {
   "cell_type": "markdown",
   "source": [
    "We can see that if you have no prior information, then the estimate with the new data is just what\n",
    "is indicated by that data. We could have actually skipped this step and just started with incoporating\n",
    "the visual into the auditory information.\n",
    "\n",
    "Now we add in the auditory information."
   ],
   "metadata": {
    "collapsed": false
   }
  },
  {
   "cell_type": "code",
   "execution_count": 10,
   "outputs": [
    {
     "name": "stdout",
     "output_type": "stream",
     "text": [
      "Including both inputs, we have an estimate of -6.5 with an uncertainty of 4.74\n"
     ]
    }
   ],
   "source": [
    "mu_a = 25\n",
    "sigma_a = 15\n",
    "\n",
    "tau_v1 = 1/sigma_v1**2\n",
    "tau_a = 1/sigma_a**2\n",
    "\n",
    "mu_av = (tau_v1*mu_v1 + tau_a*mu_a)/(tau_v1+tau_a)\n",
    "sigma_av = np.sqrt(1/(tau_v1+tau_a))\n",
    "\n",
    "print(f'Including both inputs, we have an estimate of {mu_av:.1f} with an uncertainty of {sigma_av:.2f}')"
   ],
   "metadata": {
    "collapsed": false,
    "pycharm": {
     "name": "#%%\n"
    }
   }
  },
  {
   "cell_type": "markdown",
   "source": [
    "A subject who points at $-2^{\\circ}$ is within the uncertainty and is thus reasonably consistent with\n",
    "the Bayesian estimate.\n",
    "\n",
    "If they pointed at a point more than twice the uncertainty, that would certainly be inconsistent with\n",
    "Bayesian estimate. That is, anywhere to the left of $\\mu_{av}-2\\sigma_{av}$ or to the right of\n",
    "$\\mu_{av}+2\\sigma_{av}$"
   ],
   "metadata": {
    "collapsed": false
   }
  },
  {
   "cell_type": "code",
   "execution_count": 16,
   "outputs": [
    {
     "name": "stdout",
     "output_type": "stream",
     "text": [
      "Esimates to the right of -16.0 or the left of 3.0 are not Bayesian estimates\n",
      "The probability to point outside one $\\sigma$ of $\\mu$ is 0.317\n",
      "The probability to point outside two $\\sigma$ of $\\mu$ is 0.046\n",
      "The probability to point outside 3 $\\sigma$ of $\\mu$ is 0.003\n"
     ]
    }
   ],
   "source": [
    "print(f'Esimates to the right of {mu_av-2*sigma_av:.1f} or the left of {mu_av+2*sigma_av:.1f} are not Bayesian estimates')\n",
    "\n",
    "p_1_sigma = norm.cdf(mu_av+sigma_av, loc=mu_av, scale=sigma_av) - norm.cdf(mu_av-sigma_av, loc=mu_av, scale=sigma_av)\n",
    "p_outside_1_sigma = 1 - p_1_sigma\n",
    "\n",
    "print(f'The probability to point outside one $\\sigma$ of $\\mu$ is {p_outside_1_sigma:.3f}')\n",
    "\n",
    "p_2_sigma = norm.cdf(mu_av+2*sigma_av, loc=mu_av, scale=sigma_av) - norm.cdf(mu_av-2*sigma_av, loc=mu_av, scale=sigma_av)\n",
    "p_outside_2_sigma = 1 - p_2_sigma\n",
    "\n",
    "print(f'The probability to point outside two $\\sigma$ of $\\mu$ is {p_outside_2_sigma:.3f}')\n",
    "\n",
    "p_3_sigma = norm.cdf(mu_av+3*sigma_av, loc=mu_av, scale=sigma_av) - norm.cdf(mu_av-3*sigma_av, loc=mu_av, scale=sigma_av)\n",
    "p_outside_3_sigma = 1 - p_3_sigma\n",
    "\n",
    "print(f'The probability to point outside 3 $\\sigma$ of $\\mu$ is {p_outside_3_sigma:.3f}')\n"
   ],
   "metadata": {
    "collapsed": false,
    "pycharm": {
     "name": "#%%\n"
    }
   }
  }
 ],
 "metadata": {
  "kernelspec": {
   "display_name": "Python 3",
   "language": "python",
   "name": "python3"
  },
  "language_info": {
   "codemirror_mode": {
    "name": "ipython",
    "version": 2
   },
   "file_extension": ".py",
   "mimetype": "text/x-python",
   "name": "python",
   "nbconvert_exporter": "python",
   "pygments_lexer": "ipython2",
   "version": "2.7.6"
  }
 },
 "nbformat": 4,
 "nbformat_minor": 0
}