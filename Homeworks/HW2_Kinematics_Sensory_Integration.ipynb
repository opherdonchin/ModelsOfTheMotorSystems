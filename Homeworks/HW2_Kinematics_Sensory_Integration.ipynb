{
 "cells": [
  {
   "cell_type": "code",
   "execution_count": null,
   "id": "d644a5e5",
   "metadata": {},
   "outputs": [],
   "source": [
    "import pandas as pd\n",
    "import numpy as np\n",
    "from scipy import stats \n",
    "import matplotlib.pyplot as plt\n"
   ]
  },
  {
   "cell_type": "markdown",
   "id": "ef97f0fb",
   "metadata": {},
   "source": [
    "**Instructions:** Work through all parts below. Provide full derivations, code, and figures. All blank-coded sections (`# TODO`) must be completed by you; scaffolding is minimal. You may add helper functions but core implementations must be your own. Include brief explanatory comments and intermediate checks where helpful."
   ]
  },
  {
   "cell_type": "markdown",
   "id": "bd679882",
   "metadata": {},
   "source": [
    "# Part A: Two-Link Arm Dynamics\n",
    "\n",
    "This problem explores planar arm dynamics using the Lagrangian approach.\n",
    "\n",
    "1. **Derivation (by hand):**\n",
    "   - Define joint angles $\\theta=[\\theta_1,\\theta_2]^T$. The equations of motion take the form\n",
    "     $$M(\\theta)\\ddot{\\theta} + C(\\theta,\\dot{\\theta}) + G(\\theta)=0,$$\n",
    "     where:\n",
    "     - **Mass matrix** $M(\\theta)$ includes link inertias and coupling terms.\n",
    "     - **Coriolis/centrifugal** vector $C(\\theta,\\dot{\\theta})$ captures velocity-dependent forces.\n",
    "     - **Gravity** vector $G(\\theta)$ contains $m_i g r_i \\sin(\\theta_i)$ contributions.\n",
    "   - Show all steps, symbol definitions, and final expressions for $M$, $C$, and $G$.\n",
    "   - Solve algebraically for\n",
    "     $$\\ddot{\\theta} = -M^{-1}(\\theta) \\bigl[C(\\theta,\\dot{\\theta}) + G(\\theta)\\bigr].$$\n",
    "   - **Hint:** Verify that your $M$ is symmetric and positive definite."
   ]
  },
  {
   "cell_type": "markdown",
   "id": "41eee115",
   "metadata": {},
   "source": [
    "### TODO: Add your derviation of $M$, $C$, and $G$"
   ]
  },
  {
   "cell_type": "markdown",
   "id": "e272b7f6",
   "metadata": {},
   "source": [
    "### TODO: Solve algebraicy for $ddot{\\theta}$"
   ]
  },
  {
   "cell_type": "markdown",
   "id": "928d93e5",
   "metadata": {},
   "source": [
    "2. **Implementation:**\n",
    "   - Set parameters: \n",
    "     ```python\n",
    "     params = dict(\n",
    "         m1=2.1, m2=1.65,\n",
    "         I1=0.025, I2=0.075,\n",
    "         l1=0.3384, l2=0.4554,\n",
    "         r1=0.1692, r2=0.2277,\n",
    "         g=9.81\n",
    "     )\n",
    "     ```\n",
    "   - Use Euler integration (time step $\\Delta t = 1e\\!{-5}$ s) for $t\\in[0,2]$ s.\n",
    "   - Initial states: $\\theta(0)=[180°,1°]$ (convert to radians), $\\dot{\\theta}(0)=[0,0]$.\n",
    "   - **Strategy:** Implement a function `two_link_eom(theta, dtheta, params)` that returns $\\ddot{\\theta}$.  Include inline comments explaining terms."
   ]
  },
  {
   "cell_type": "code",
   "execution_count": null,
   "id": "0d44dd5f",
   "metadata": {},
   "outputs": [],
   "source": [
    "# TODO: Implement the function `two_link_eom``\n",
    "\n",
    "# Parameters & initial state\n",
    "dt = 1e-5\n",
    "time = np.arange(0, 2.0+dt, dt)\n",
    "theta = np.zeros((len(time), 2))\n",
    "dtheta = np.zeros_like(theta)\n",
    "theta[0] = np.deg2rad([180, 1])\n",
    "dtheta[0] = [0.0, 0.0]\n",
    "params = dict(\n",
    "    m1=2.1, m2=1.65,\n",
    "    I1=0.025, I2=0.075,\n",
    "    l1=0.3384, l2=0.4554,\n",
    "    r1=0.1692, r2=0.2277,\n",
    "    g=9.81\n",
    ")\n",
    "\n",
    "# TODO: Implement two_link_eom\n",
    "# Should compute M, C, G and return -np.linalg.solve(M, C+G)\n",
    "def two_link_eom(theta, dtheta, p):\n",
    "    \"\"\"\n",
    "    Compute angular accelerations for two-link arm.\n",
    "    theta: [theta1, theta2]\n",
    "    dtheta: [dtheta1, dtheta2]\n",
    "    Returns: [ddtheta1, ddtheta2]\n",
    "    \"\"\"\n",
    "    raise NotImplementedError"
   ]
  },
  {
   "cell_type": "markdown",
   "id": "56fe165d",
   "metadata": {},
   "source": [
    "3. **Simulation and Plots:**\n",
    "   - Run the integration loop.\n",
    "   - Plot:\n",
    "     - $\\theta_1(t)$, $\\theta_2(t)$ in degrees.\n",
    "     - $\\dot{\\theta}_1(t)$, $\\dot{\\theta}_2(t)$ in rad/s.\n",
    "   - Label axes and add legends."
   ]
  },
  {
   "cell_type": "code",
   "execution_count": null,
   "id": "5daafa33",
   "metadata": {},
   "outputs": [],
   "source": [
    "# Run the simulation loop\n",
    "\n",
    "for i in range(1, len(time)):\n",
    "    ddth = two_link_eom(theta[i-1], dtheta[i-1], params)\n",
    "    theta[i]  = theta[i-1]  + dtheta[i-1] * dt\n",
    "    dtheta[i] = dtheta[i-1] + ddth          * dt"
   ]
  },
  {
   "cell_type": "code",
   "execution_count": null,
   "id": "a2378a42",
   "metadata": {},
   "outputs": [],
   "source": [
    "# Generate the plots\n",
    "\n",
    "# Plot angles & velocities\n",
    "plt.figure(figsize=(10, 6))\n",
    "plt.subplot(2, 1, 1)\n",
    "plt.plot(time, np.rad2deg(theta[:, 0]), label='$\\theta_1$')\n",
    "plt.plot(time, np.rad2deg(theta[:, 1]), label='$\\theta_2$')\n",
    "plt.ylabel('Angle (deg)'); plt.legend()\n",
    "\n",
    "plt.subplot(2, 1, 2)\n",
    "plt.plot(time, dtheta[:, 0], label='$\\dot\\theta_1$')\n",
    "plt.plot(time, dtheta[:, 1], label='$\\dot\\theta_2$')\n",
    "plt.ylabel('Angular vel (rad/s)'); plt.xlabel('Time (s)'); plt.legend()\n",
    "plt.tight_layout(); plt.show()"
   ]
  },
  {
   "cell_type": "markdown",
   "id": "99a7320a",
   "metadata": {},
   "source": [
    "4. **Energy Analysis:**\n",
    "   - Define kinetic energy\n",
    "     $$T = \\tfrac12 \\dot{\\theta}^T M(\\theta) \\dot{\\theta}.$$  \n",
    "   - Define potential energy (zero at shoulder height)\n",
    "     $$U = m_1 g r_1 (1-\\cos\\theta_1) + m_2 g [l_1(1-\\cos\\theta_1) + r_2(1-\\cos(\\theta_1+\\theta_2))].$$\n",
    "   - Implement `compute_energies(theta, dtheta, params)` returning arrays `T`, `U`.\n",
    "   - Plot `T`, `U`, and `E=T+U` versus time.\n",
    "   - **Discuss:** Does total energy drift? Relate to integration error."
   ]
  },
  {
   "cell_type": "markdown",
   "id": "cacaa757",
   "metadata": {
    "lines_to_next_cell": 1
   },
   "source": [
    "# Energy Computation and Analysis\n",
    "\n",
    "Implement kinetic and potential energies and analyze drift."
   ]
  },
  {
   "cell_type": "code",
   "execution_count": null,
   "id": "c936d509",
   "metadata": {},
   "outputs": [],
   "source": [
    "# TODO: Implement compute_energies\n",
    "def compute_energies(theta, dtheta, p):\n",
    "    \"\"\"\n",
    "    Returns arrays T, U of same length as time.\n",
    "    Use definitions in prompt.\n",
    "    \"\"\"\n",
    "    raise NotImplementedError"
   ]
  },
  {
   "cell_type": "code",
   "execution_count": null,
   "id": "61485c0f",
   "metadata": {},
   "outputs": [],
   "source": [
    "# Compute and plot energy\n",
    "time_E = time  # reuse time vector\n",
    "T, U = compute_energies(theta, dtheta, params)\n",
    "E = T + U\n",
    "\n",
    "plt.figure(figsize=(8, 4))\n",
    "plt.plot(time_E, T, label='Kinetic (T)')\n",
    "plt.plot(time_E, U, label='Potential (U)')\n",
    "plt.plot(time_E, E, label='Total (E)')\n",
    "plt.xlabel('Time (s)'); plt.ylabel('Energy'); plt.legend(); plt.title('Energy Terms'); plt.grid(True); plt.show()"
   ]
  },
  {
   "cell_type": "markdown",
   "id": "3ff20578",
   "metadata": {},
   "source": [
    "# Part B: Multisensory Integration (Assignment 2, Q7b)\n",
    "\n",
    "Gaussian cue fusion without prior: measurement noise only.\n",
    "\n",
    "Visual cue: $\\mu_v=-10°$, $\\sigma_v=5°$.  \n",
    "Auditory cue: $\\mu_a=25°$, $\\sigma_a=15°$.\n",
    "\n",
    "1. **Derive** (by hand) the MLE formula for combined estimate:\n",
    "   $$\\hat x = \\frac{\\sigma_a^2\\mu_v + \\sigma_v^2\\mu_a}{\\sigma_v^2 + \\sigma_a^2}.$$  \n",
    "   Show each algebraic step.\n",
    "\n",
    "#### TODO: Show derivation here"
   ]
  },
  {
   "cell_type": "markdown",
   "id": "8fa26a04",
   "metadata": {},
   "source": [
    "2. **Compute** $\\hat x$ in Python and print the result.  \n",
    "   *Hint:* Use floating-point operations and verify with manual calculation."
   ]
  },
  {
   "cell_type": "code",
   "execution_count": null,
   "id": "5464e373",
   "metadata": {},
   "outputs": [],
   "source": [
    "# Compute hat_x"
   ]
  },
  {
   "cell_type": "markdown",
   "id": "8e7ee183",
   "metadata": {},
   "source": [
    "3. **Plot** the likelihood functions $L_v(x)$ and $L_a(x)$ and their product (unnormalized posterior) over $x\\in[-90,90]$.  \n",
    "   *Hint:* Use `scipy.stats.norm.pdf` and normalize the product with `np.trapz`."
   ]
  },
  {
   "cell_type": "code",
   "execution_count": null,
   "id": "95a04869",
   "metadata": {},
   "outputs": [],
   "source": [
    "# TODO: Plot the likelihood"
   ]
  },
  {
   "cell_type": "markdown",
   "id": "675d0846",
   "metadata": {},
   "source": [
    "4. **Extended challenges:**\n",
    "   a. Vary visual noise $\\sigma_v\\in[5,10,20,40]$ (keep $\\sigma_a=15$), compute and plot \\hat x vs $\\sigma_v$.  \n",
    "   b. Add a Gaussian prior $\\mathcal{N}(0,\\sigma_p^2)$ with $\\sigma_p=20°$, derive and implement the MAP estimate. Compare numeric values.  \n",
    "   c. Simulate $N=100$ trials: true source at 0°, sample noisy cues, compute MLE each trial, plot histogram of estimates, and compute MSE.  \n",
    "   *Hint:* Use `np.random.seed` for reproducibility."
   ]
  },
  {
   "cell_type": "code",
   "execution_count": null,
   "id": "12be561d",
   "metadata": {},
   "outputs": [],
   "source": [
    "# TODO: Vary visual noise and plot"
   ]
  },
  {
   "cell_type": "code",
   "execution_count": null,
   "id": "c1e70fa6",
   "metadata": {},
   "outputs": [],
   "source": [
    "# TODO: Compare previous results with new results from a Gaussian prior"
   ]
  },
  {
   "cell_type": "code",
   "execution_count": null,
   "id": "5fd1d634",
   "metadata": {},
   "outputs": [],
   "source": [
    "# TODO: Simulate 100 trials and plot results"
   ]
  }
 ],
 "metadata": {
  "jupytext": {
   "cell_metadata_filter": "-all",
   "main_language": "python",
   "notebook_metadata_filter": "-all"
  },
  "language_info": {
   "name": "python"
  }
 },
 "nbformat": 4,
 "nbformat_minor": 5
}
