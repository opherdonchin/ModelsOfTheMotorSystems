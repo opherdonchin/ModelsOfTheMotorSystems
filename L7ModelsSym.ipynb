{
 "cells": [
  {
   "cell_type": "code",
   "execution_count": 1,
   "metadata": {
    "collapsed": true,
    "pycharm": {
     "name": "#%%\n"
    }
   },
   "outputs": [],
   "source": [
    "from sympy import *\n",
    "import math\n",
    "init_printing()"
   ]
  },
  {
   "cell_type": "code",
   "execution_count": 2,
   "outputs": [
    {
     "data": {
      "text/plain": "⎡-l⋅sin(θ)⎤\n⎢         ⎥\n⎣l⋅cos(θ) ⎦",
      "text/latex": "$\\displaystyle \\left[\\begin{matrix}- l \\sin{\\left(\\theta \\right)}\\\\l \\cos{\\left(\\theta \\right)}\\end{matrix}\\right]$"
     },
     "execution_count": 2,
     "metadata": {},
     "output_type": "execute_result"
    }
   ],
   "source": [
    "theta, l = symbols('theta l')\n",
    "\n",
    "H = Matrix([l*cos(theta), l*sin(theta)])\n",
    "Hdot = H.calc_J([theta])\n",
    "\n",
    "Hdot"
   ],
   "metadata": {
    "collapsed": false,
    "pycharm": {
     "name": "#%%\n"
    }
   }
  },
  {
   "cell_type": "code",
   "execution_count": 3,
   "outputs": [
    {
     "data": {
      "text/plain": "⎡-0.263845160721481⎤\n⎢                  ⎥\n⎣0.376809940372936 ⎦",
      "text/latex": "$\\displaystyle \\left[\\begin{matrix}-0.263845160721481\\\\0.376809940372936\\end{matrix}\\right]$"
     },
     "execution_count": 3,
     "metadata": {},
     "output_type": "execute_result"
    }
   ],
   "source": [
    "Hdot.subs(\n",
    "    [\n",
    "        (l, 0.46),\n",
    "        (theta,35*math.pi/180)\n",
    "    ]\n",
    ")"
   ],
   "metadata": {
    "collapsed": false,
    "pycharm": {
     "name": "#%%\n"
    }
   }
  },
  {
   "cell_type": "code",
   "execution_count": 4,
   "outputs": [
    {
     "data": {
      "text/plain": "⎡          d    ⎤\n⎢-l⋅cos(θ)⋅──(θ)⎥\n⎢          dt   ⎥\n⎢               ⎥\n⎢          d    ⎥\n⎢-l⋅sin(θ)⋅──(θ)⎥\n⎣          dt   ⎦",
      "text/latex": "$\\displaystyle \\left[\\begin{matrix}- l \\cos{\\left(\\theta \\right)} \\frac{d}{d t} \\theta\\\\- l \\sin{\\left(\\theta \\right)} \\frac{d}{d t} \\theta\\end{matrix}\\right]$"
     },
     "execution_count": 4,
     "metadata": {},
     "output_type": "execute_result"
    }
   ],
   "source": [
    "t = symbols('t')\n",
    "\n",
    "Hddot = Hdot.calc_J([theta])*Derivative(theta,t)\n",
    "Hddot\n"
   ],
   "metadata": {
    "collapsed": false,
    "pycharm": {
     "name": "#%%\n"
    }
   }
  },
  {
   "cell_type": "code",
   "execution_count": 5,
   "outputs": [
    {
     "data": {
      "text/plain": "⎡-sin(θ)   cos(θ)⎤\n⎢────────  ──────⎥\n⎣   l        l   ⎦",
      "text/latex": "$\\displaystyle \\left[\\begin{matrix}- \\frac{\\sin{\\left(\\theta \\right)}}{l} & \\frac{\\cos{\\left(\\theta \\right)}}{l}\\end{matrix}\\right]$"
     },
     "execution_count": 5,
     "metadata": {},
     "output_type": "execute_result"
    }
   ],
   "source": [
    "J = Hdot\n",
    "J1 = (J.T*J)**(-1)*J.T\n",
    "simplify(J1)\n"
   ],
   "metadata": {
    "collapsed": false,
    "pycharm": {
     "name": "#%% Generate left pseudo inverse\n"
    }
   }
  },
  {
   "cell_type": "code",
   "execution_count": 6,
   "outputs": [
    {
     "data": {
      "text/plain": "[1]",
      "text/latex": "$\\displaystyle \\left[\\begin{matrix}1\\end{matrix}\\right]$"
     },
     "execution_count": 6,
     "metadata": {},
     "output_type": "execute_result"
    }
   ],
   "source": [
    "simplify(J1*J)\n"
   ],
   "metadata": {
    "collapsed": false,
    "pycharm": {
     "name": "#%% Show left pseudo inverse\n"
    }
   }
  },
  {
   "cell_type": "code",
   "execution_count": 7,
   "outputs": [],
   "source": [
    "g, t = symbols('g t')\n",
    "m1, m2, l1, l2, r1, r2, I1, I2 = symbols('m1 m2 l1 l2 r1 r2 I1 I2')\n",
    "m = Matrix([m1, m2])\n",
    "l = Matrix([l1, l2])\n",
    "r = Matrix([r1, r2])\n",
    "I = Matrix([I1, I2])\n",
    "\n",
    "theta_s = Function('theta_s')(t)\n",
    "theta_e = Function('theta_e')(t)\n",
    "theta = Matrix([theta_s, theta_e])\n",
    "\n",
    "x1 = Matrix([r1*sin(theta_s), \n",
    "             -r1*cos(theta_s)])\n",
    "x2 = Matrix([l1*sin(theta_s)+r2*sin(theta_s+theta_e),\n",
    "             -l1*cos(theta_s)-r2*cos(theta_s+theta_e)])\n",
    "\n",
    "x1d = diff(x1, t)\n",
    "x2d = diff(x2, t)\n",
    "thetad = diff(theta, t)\n",
    "\n",
    "Tlinear1 = 1/2.*m1*(x1d[0]**2+x1d[1]**2) \n",
    "Tlinear2 = 1/2.*m2*(x2d[0]**2+x2d[1]**2)\n",
    "Trot1 = 1/2.*I1*thetad[0]**2\n",
    "Trot2 = 1/2.*I2*(thetad[0]+thetad[1])**2\n",
    "T = Tlinear1 + Tlinear2 + Trot1 + Trot2\n",
    "\n",
    "U1 = r1*m1*g*(1-cos(theta_s))\n",
    "U2 = l1*m2*g*(1-cos(theta_s)) + r2*m2*g*(1-cos(theta_s+theta_e))\n",
    "U = U1 + U2\n",
    "\n",
    "L = T - U\n",
    "L = simplify(L)\n",
    "\n",
    "tau = Matrix([\n",
    "    diff( diff(L, diff(theta_s)), t) - diff(L, theta_s),\n",
    "    diff( diff(L, diff(theta_e)), t) - diff(L, theta_e),\n",
    "])\n",
    "tau = simplify(nsimplify(tau))\n",
    "tau = tau.rewrite(exp).expand().powsimp().rewrite(sin).expand()\n",
    "\n",
    "tau = Matrix([\n",
    "    collect(tau[0], Derivative(Derivative(theta_s, t), t)), \n",
    "    collect(tau[1], Derivative(Derivative(theta_s, t), t))\n",
    "])\n",
    "tau = Matrix([\n",
    "    collect(tau[0], Derivative(Derivative(theta_e, t), t)), \n",
    "    collect(tau[1], Derivative(Derivative(theta_e, t), t))\n",
    "])\n",
    "\n",
    "tau = Matrix([\n",
    "    collect(tau[0], sin(theta_s)),\n",
    "    collect(tau[1], sin(theta_e))\n",
    "])\n"
   ],
   "metadata": {
    "collapsed": false,
    "pycharm": {
     "name": "#%% 2-Link equations of motion\n"
    }
   }
  },
  {
   "cell_type": "code",
   "execution_count": 8,
   "outputs": [
    {
     "data": {
      "text/plain": "                                                               2              \n                                                    ⎛d        ⎞               \ng⋅m₂⋅r₂⋅sin(θₑ(t))⋅cos(θₛ(t)) - l₁⋅m₂⋅r₂⋅sin(θₑ(t))⋅⎜──(θₑ(t))⎟  - 2⋅l₁⋅m₂⋅r₂⋅\n                                                    ⎝dt       ⎠               \n                                                                              \n\n                                                                       2      \n           d         d           ⎛                                2⎞  d       \nsin(θₑ(t))⋅──(θₑ(t))⋅──(θₛ(t)) + ⎝I₂ + l₁⋅m₂⋅r₂⋅cos(θₑ(t)) + m₂⋅r₂ ⎠⋅───(θₑ(t)\n           dt        dt                                                2      \n                                                                     dt       \n\n                                                                              \n                                                          ⎛            2      \n) + (g⋅l₁⋅m₂ + g⋅m₁⋅r₁ + g⋅m₂⋅r₂⋅cos(θₑ(t)))⋅sin(θₛ(t)) + ⎝I₁ + I₂ + l₁ ⋅m₂ + \n                                                                              \n                                                                              \n\n                                           2       \n                             2        2⎞  d        \n2⋅l₁⋅m₂⋅r₂⋅cos(θₑ(t)) + m₁⋅r₁  + m₂⋅r₂ ⎠⋅───(θₛ(t))\n                                           2       \n                                         dt        ",
      "text/latex": "$\\displaystyle g m_{2} r_{2} \\sin{\\left(\\theta_{e}{\\left(t \\right)} \\right)} \\cos{\\left(\\theta_{s}{\\left(t \\right)} \\right)} - l_{1} m_{2} r_{2} \\sin{\\left(\\theta_{e}{\\left(t \\right)} \\right)} \\left(\\frac{d}{d t} \\theta_{e}{\\left(t \\right)}\\right)^{2} - 2 l_{1} m_{2} r_{2} \\sin{\\left(\\theta_{e}{\\left(t \\right)} \\right)} \\frac{d}{d t} \\theta_{e}{\\left(t \\right)} \\frac{d}{d t} \\theta_{s}{\\left(t \\right)} + \\left(I_{2} + l_{1} m_{2} r_{2} \\cos{\\left(\\theta_{e}{\\left(t \\right)} \\right)} + m_{2} r_{2}^{2}\\right) \\frac{d^{2}}{d t^{2}} \\theta_{e}{\\left(t \\right)} + \\left(g l_{1} m_{2} + g m_{1} r_{1} + g m_{2} r_{2} \\cos{\\left(\\theta_{e}{\\left(t \\right)} \\right)}\\right) \\sin{\\left(\\theta_{s}{\\left(t \\right)} \\right)} + \\left(I_{1} + I_{2} + l_{1}^{2} m_{2} + 2 l_{1} m_{2} r_{2} \\cos{\\left(\\theta_{e}{\\left(t \\right)} \\right)} + m_{1} r_{1}^{2} + m_{2} r_{2}^{2}\\right) \\frac{d^{2}}{d t^{2}} \\theta_{s}{\\left(t \\right)}$"
     },
     "execution_count": 8,
     "metadata": {},
     "output_type": "execute_result"
    }
   ],
   "source": [
    "tau[0]\n"
   ],
   "metadata": {
    "collapsed": false,
    "pycharm": {
     "name": "#%%\n"
    }
   }
  },
  {
   "cell_type": "code",
   "execution_count": 9,
   "outputs": [
    {
     "data": {
      "text/plain": "                                                2          ⎛                  \n                                ⎛          2⎞  d           ⎜                  \ng⋅m₂⋅r₂⋅sin(θₛ(t))⋅cos(θₑ(t)) + ⎝I₂ + m₂⋅r₂ ⎠⋅───(θₑ(t)) + ⎜g⋅m₂⋅r₂⋅cos(θₛ(t))\n                                                2          ⎝                  \n                                              dt                              \n\n                       2⎞                                                    2\n            ⎛d        ⎞ ⎟              ⎛                                2⎞  d \n + l₁⋅m₂⋅r₂⋅⎜──(θₛ(t))⎟ ⎟⋅sin(θₑ(t)) + ⎝I₂ + l₁⋅m₂⋅r₂⋅cos(θₑ(t)) + m₂⋅r₂ ⎠⋅───\n            ⎝dt       ⎠ ⎠                                                    2\n                                                                           dt \n\n       \n       \n(θₛ(t))\n       \n       ",
      "text/latex": "$\\displaystyle g m_{2} r_{2} \\sin{\\left(\\theta_{s}{\\left(t \\right)} \\right)} \\cos{\\left(\\theta_{e}{\\left(t \\right)} \\right)} + \\left(I_{2} + m_{2} r_{2}^{2}\\right) \\frac{d^{2}}{d t^{2}} \\theta_{e}{\\left(t \\right)} + \\left(g m_{2} r_{2} \\cos{\\left(\\theta_{s}{\\left(t \\right)} \\right)} + l_{1} m_{2} r_{2} \\left(\\frac{d}{d t} \\theta_{s}{\\left(t \\right)}\\right)^{2}\\right) \\sin{\\left(\\theta_{e}{\\left(t \\right)} \\right)} + \\left(I_{2} + l_{1} m_{2} r_{2} \\cos{\\left(\\theta_{e}{\\left(t \\right)} \\right)} + m_{2} r_{2}^{2}\\right) \\frac{d^{2}}{d t^{2}} \\theta_{s}{\\left(t \\right)}$"
     },
     "execution_count": 9,
     "metadata": {},
     "output_type": "execute_result"
    }
   ],
   "source": [
    "tau[1]\n",
    "\n",
    "\n"
   ],
   "metadata": {
    "collapsed": false,
    "pycharm": {
     "name": "#%%\n"
    }
   }
  }
 ],
 "metadata": {
  "kernelspec": {
   "display_name": "Python 3",
   "language": "python",
   "name": "python3"
  },
  "language_info": {
   "codemirror_mode": {
    "name": "ipython",
    "version": 2
   },
   "file_extension": ".py",
   "mimetype": "text/x-python",
   "name": "python",
   "nbconvert_exporter": "python",
   "pygments_lexer": "ipython2",
   "version": "2.7.6"
  }
 },
 "nbformat": 4,
 "nbformat_minor": 0
}