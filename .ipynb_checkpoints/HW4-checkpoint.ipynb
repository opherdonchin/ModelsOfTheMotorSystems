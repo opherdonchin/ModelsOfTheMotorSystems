{
 "cells": [
  {
   "cell_type": "markdown",
   "source": [
    "# Homework 4"
   ],
   "metadata": {}
  },
  {
   "cell_type": "code",
   "execution_count": 18,
   "outputs": [],
   "source": [
    "import numpy as np\n",
    "import matplotlib.pyplot as plt\n",
    "rng = np.random.default_rng()"
   ],
   "metadata": {
    "collapsed": false,
    "pycharm": {
     "name": "#%%\n"
    }
   }
  },
  {
   "cell_type": "markdown",
   "source": [
    "## Problem 1\n",
    "Let us assume a participant is performing a visuomotor rotation task.\n",
    "There are $50$ baseline trials without rotation, then $50$ adaptation trials\n",
    "with a $30^{\\circ}$ rotation, followed by $8$ trials with a $-30$ degree\n",
    "counter-rotation, and finally  $30$ error clamp trials (with no feedback)."
   ],
   "metadata": {
    "collapsed": false,
    "pycharm": {
     "name": "#%% md\n"
    }
   }
  },
  {
   "cell_type": "code",
   "execution_count": 19,
   "outputs": [],
   "source": [
    "p = np.concatenate([np.zeros(50), 30*np.ones(50), -30*np.ones(8), 30*np.zeros(30)])\n",
    "clamp = np.concatenate([np.full(50, False), np.full(50, False), np.full(8, False), 30*np.full(30, True)])\n",
    "num_trials = len(p)\n",
    "t = np.arange(num_trials)+1\n"
   ],
   "metadata": {
    "collapsed": false,
    "pycharm": {
     "name": "#%%\n"
    }
   }
  },
  {
   "cell_type": "markdown",
   "source": [
    "\n",
    "### a. No forgetting\n",
    "Assume a single state model with only an adaptation rate ($B = 0.2$),\n",
    "with output noise $\\sigma_{\\epsilon}=8$ and state noise $\\sigma_{\\eta}=1.5$.\n",
    "\n",
    "Plot the adaptation and error curves.\n",
    "\n"
   ],
   "metadata": {}
  },
  {
   "cell_type": "code",
   "execution_count": 20,
   "source": [
    "x = np.zeros_like(p)\n",
    "y = np.zeros_like(p)\n",
    "B = 0.2\n",
    "s_epsilon = 8\n",
    "s_eta = 1.5\n",
    "epsilon = rng.normal(0, s_epsilon, num_trials)\n",
    "eta = rng.normal(0, s_eta, num_trials)\n",
    "\n",
    "for i in range(num_trials-1):\n",
    "    y[i] = x[i] + p[i] + epsilon[i]\n",
    "    x[i+1] = x[i] + B*y[i] + eta[i]\n",
    "    if clamp[i]:\n",
    "        x[i+1] = x[i] + eta[i]\n",
    "\n",
    "y[num_trials-1] = x[num_trials-1] + p[num_trials-1] + epsilon[num_trials-1]\n",
    "\n",
    "plt.figure()\n",
    "\n",
    "plt.subplot(121)\n",
    "plt.plot(t, y)\n",
    "plt.subplot(122)\n",
    "plt.plot(t, x)"
   ],
   "outputs": [
    {
     "data": {
      "text/plain": "[<matplotlib.lines.Line2D at 0x295a02fd970>]"
     },
     "execution_count": 20,
     "metadata": {},
     "output_type": "execute_result"
    }
   ],
   "metadata": {}
  },
  {
   "cell_type": "markdown",
   "source": [
    "\r\n",
    "\r\n",
    "### b. With forgetting\r\n",
    "Now include a retention rate ($A = 0.98$; $B = 0.1$). Use the same noises\r\n",
    "\r\n",
    "Plot the adaptation\r\n",
    "and error curves.\r\n",
    "\r\n",
    "### c. Two state model\r\n",
    "Turn this into a two state model. Use the same state noise for both states\r\n",
    "and output noise as above.\r\n",
    "\r\n",
    "\\begin{equation}\r\n",
    "A_f: 0.95 \\\\\r\n",
    "A_s: 0.992 \\\\\r\n",
    "B_f: 0.18 \\\\\r\n",
    "B_s: 0.03\r\n",
    "\\end{equation}\r\n",
    "\r\n",
    "Plot the adaptation and error curves.\r\n",
    "\r\n",
    "## Problem 2\r\n",
    "\r\n",
    "Download the paper (available as part of this assignment):\r\n",
    "\r\n",
    "> Therrien AS, Wolpert DM, Bastian AJ. Effective reinforcement learning following cerebellar damage requires a balance between exploration and motor noise. Brain. 2016 Jan;139(Pt 1):101-14. doi: 10.1093/brain/awv329.\r\n",
    "\r\n",
    "You may want to read the whole paper, but pay particular attention to the\r\n",
    "methods for providing reward in the closed loop reinforcement (at the end\r\n",
    "end of the methods for experiment 1, but note that we will actually\r\n",
    "be simulating experiment 2) and to the section on the model\r\n",
    "analysis (although you do not need the section on how they used\r\n",
    "particle filters to do the fitting).\r\n",
    "\r\n",
    "Implement the model they describe and reproduce the right hand plots in\r\n",
    "figure 6A, 6B, and 6C using the parameters given.\r\n",
    "\r\n",
    "\r\n",
    "\r\n",
    "\r\n"
   ],
   "metadata": {}
  },
  {
   "cell_type": "code",
   "execution_count": 21,
   "source": [
    "5+4"
   ],
   "outputs": [
    {
     "data": {
      "text/plain": "9"
     },
     "execution_count": 21,
     "metadata": {},
     "output_type": "execute_result"
    }
   ],
   "metadata": {}
  }
 ],
 "metadata": {
  "kernelspec": {
   "name": "python3",
   "display_name": "Python 3.9.5 64-bit (windows store)"
  },
  "language_info": {
   "name": "python",
   "version": "3.9.5",
   "mimetype": "text/x-python",
   "codemirror_mode": {
    "name": "ipython",
    "version": 3
   },
   "pygments_lexer": "ipython3",
   "nbconvert_exporter": "python",
   "file_extension": ".py"
  },
  "interpreter": {
   "hash": "5ea396dab85d665d29fc1f125afa46641eec223ac71be1caa0796a5dcac35b65"
  }
 },
 "nbformat": 4,
 "nbformat_minor": 2
}