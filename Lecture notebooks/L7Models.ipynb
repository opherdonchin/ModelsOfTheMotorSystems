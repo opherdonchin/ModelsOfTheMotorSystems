{
 "cells": [
  {
   "cell_type": "code",
   "execution_count": 6,
   "metadata": {
    "collapsed": true
   },
   "outputs": [
    {
     "data": {
      "text/plain": "array([[-1.3192258],\n       [ 1.8840497]])"
     },
     "execution_count": 6,
     "metadata": {},
     "output_type": "execute_result"
    }
   ],
   "source": [
    "import numpy as np\n",
    "import math\n",
    "\n",
    "l = 0.46 # m\n",
    "theta = 35 * math.pi / 180 # radians\n",
    "theta_dot = np.array([[5.0]]) # m/s\n",
    "theta_ddot = np.array([[2.0]]) # m/s^2\n",
    "\n",
    "J = np.array([\n",
    "    [-l * math.sin(theta)],\n",
    "    [l * math.cos(theta)]\n",
    "])\n",
    "\n",
    "H_dot = np.dot(J, theta_dot)\n",
    "H_dot"
   ]
  },
  {
   "cell_type": "code",
   "execution_count": 7,
   "outputs": [
    {
     "data": {
      "text/plain": "array([[-9.94793883],\n       [-5.84250914]])"
     },
     "execution_count": 7,
     "metadata": {},
     "output_type": "execute_result"
    }
   ],
   "source": [
    "Jdot = np.array([\n",
    "    [-l * math.cos(theta) * theta_dot[0, 0]],\n",
    "    [-l * math.sin(theta) * theta_dot[0, 0]]\n",
    "])\n",
    "\n",
    "H_ddt = np.dot(Jdot, theta_dot)+np.dot(J, theta_ddot)\n",
    "H_ddt"
   ],
   "metadata": {
    "collapsed": false,
    "pycharm": {
     "name": "#%%\n"
    }
   }
  },
  {
   "cell_type": "code",
   "execution_count": 9,
   "outputs": [
    {
     "data": {
      "text/plain": "array([[-1.2469053 ,  1.78076531]])"
     },
     "execution_count": 9,
     "metadata": {},
     "output_type": "execute_result"
    }
   ],
   "source": [
    "J1 = np.linalg.pinv(J)\n",
    "J1"
   ],
   "metadata": {
    "collapsed": false,
    "pycharm": {
     "name": "#%%\n"
    }
   }
  }
 ],
 "metadata": {
  "kernelspec": {
   "display_name": "Python 3",
   "language": "python",
   "name": "python3"
  },
  "language_info": {
   "codemirror_mode": {
    "name": "ipython",
    "version": 2
   },
   "file_extension": ".py",
   "mimetype": "text/x-python",
   "name": "python",
   "nbconvert_exporter": "python",
   "pygments_lexer": "ipython2",
   "version": "2.7.6"
  }
 },
 "nbformat": 4,
 "nbformat_minor": 0
}