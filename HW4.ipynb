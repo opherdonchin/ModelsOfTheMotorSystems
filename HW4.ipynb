{
 "cells": [
  {
   "cell_type": "markdown",
   "metadata": {
    "collapsed": true,
    "pycharm": {
     "name": "#%% md\n"
    }
   },
   "source": [
    "# Homework 4\n",
    "## Problem 1\n",
    "Let us assume a participant is performing a visuomotor rotation task.\n",
    "There are $50$ baseline trials without rotation, then $50$ adaptation trials\n",
    "with a $30^{\\circ}$ rotation, followed by $8$ trials with a $-30$ degree\n",
    "counter-rotation, and finally  $30$ error clamp trials (with no feedback).\n",
    "\n",
    "### a. No forgetting\n",
    "Assume a single state model with only an adaptation rate ($B = 0.2$),\n",
    "with output noise $\\sigma_{\\epsilon}=8$ and state noise $\\sigma_{\\eta}=1.5$.\n",
    "\n",
    "Plot the adaptation and error curves.\n",
    "\n",
    "### b. With forgetting\n",
    "Now include a retention rate ($A = 0.98$; $B = 0.1$). Use the same noises\n",
    "\n",
    "Plot the adaptation\n",
    "and error curves.\n",
    "\n",
    "### c. Two state model\n",
    "Turn this into a two state model. Use the same state noise for both states\n",
    "and output noise as above.\n",
    "\n",
    "\\begin{equation}\n",
    "A_f: 0.95 \\\\\n",
    "A_s: 0.992 \\\\\n",
    "B_f: 0.18 \\\\\n",
    "B_s: 0.03\n",
    "\\end{equation}\n",
    "\n",
    "Plot the adaptation and error curves.\n",
    "\n",
    "## Problem 2\n",
    "\n",
    "Download the paper (available as part of this assignment):\n",
    "\n",
    "> Therrien AS, Wolpert DM, Bastian AJ. Effective reinforcement learning following cerebellar damage requires a balance between exploration and motor noise. Brain. 2016 Jan;139(Pt 1):101-14. doi: 10.1093/brain/awv329.\n",
    "\n",
    "You may want to read the whole paper, but pay particular attention to the\n",
    "methods for providing reward in the closed loop reinforcement (at the end\n",
    "end of the methods for experiment 1, but note that we will actually\n",
    "be simulating experiment 2) and to the section on the model\n",
    "analysis (although you do not need the section on how they used\n",
    "particle filters to do the fitting).\n",
    "\n",
    "Implement the model they describe and reproduce the right hand plots in\n",
    "figure 6A, 6B, and 6C using the parameters given.\n",
    "\n",
    "\n",
    "\n",
    "\n"
   ]
  }
 ],
 "metadata": {
  "kernelspec": {
   "display_name": "Python 3",
   "language": "python",
   "name": "python3"
  },
  "language_info": {
   "codemirror_mode": {
    "name": "ipython",
    "version": 2
   },
   "file_extension": ".py",
   "mimetype": "text/x-python",
   "name": "python",
   "nbconvert_exporter": "python",
   "pygments_lexer": "ipython2",
   "version": "2.7.6"
  }
 },
 "nbformat": 4,
 "nbformat_minor": 0
}