{
  "cells": [
    {
      "cell_type": "code",
      "execution_count": 141,
      "outputs": [],
      "source": [
        "import numpy as np\n",
        "import matplotlib.pyplot as plt\n",
        "import matplotlib.animation as animation\n"
      ],
      "metadata": {
        "pycharm": {
          "name": "#%%\n"
        },
        "id": "PAIAYJGd-tBg"
      }
    },
    {
      "cell_type": "markdown",
      "metadata": {
        "collapsed": true,
        "pycharm": {
          "name": "#%% md\n"
        },
        "id": "duO2WXHX-tBi"
      },
      "source": [
        "# Homework 3\n",
        "## Problem 1\n",
        "\n",
        "For a 2-link arm, assume\n",
        "\n",
        "- Upper arm length: $l_1 = 0.34 ~\\textrm{m}$\n",
        "- Forearm length: $l_2 = 0.46 ~\\textrm{m}$\n",
        "- Hand position: $x = (0.36, 0.65)$ in $\\textrm{m}$\n",
        "- Hand velocity: $\\dot{x} = (−3.89, 1.30)$ in $\\textrm{m/s}$\n",
        "- Hand acceleration: $\\ddot{x} = (−7.79, −26.18)$ in $\\textrm{m/s$^2$}$"
      ]
    },
    {
      "cell_type": "code",
      "execution_count": 142,
      "outputs": [],
      "source": [
        "H = np.array([0.36,  0.65])\n",
        "l = np.array([0.34, 0.46])\n",
        "Hdot = np.array([-3.89, 1.30])\n",
        "Hddot = np.array([-7.79, -26.18])"
      ],
      "metadata": {
        "pycharm": {
          "name": "#%%\n"
        },
        "id": "xkXWLnMd-tBu"
      }
    },
    {
      "cell_type": "markdown",
      "source": [
        "### a: The Jacobian\n",
        "\n",
        "Work through the derivaitves by hand to find $J(\\theta)$ and $\\dot{J}(\\theta)$.\n",
        "\n",
        "#### Solution\n",
        "\n",
        "\\begin{equation}\n",
        "J\\left( \\theta  \\right) = \\left( {\\begin{array}{*{20}{c}}\n",
        "{\\frac{{\\partial {H_x}}}{{\\partial {\\theta _s}}}}&{\\frac{{\\partial {H_x}}}{{\\partial {\\theta _e}}}}\\\\\n",
        "{\\frac{{\\partial {H_y}}}{{\\partial {\\theta _s}}}}&{\\frac{{\\partial {H_y}}}{{\\partial {\\theta _e}}}}\n",
        "\\end{array}} \\right)\n",
        "\\end{equation}\n",
        "\\begin{equation}\n",
        "{} = \\left( {\\begin{array}{*{20}{c}}\n",
        "{\\frac{\\partial }{{\\partial {\\theta _s}}}{l_1}\\cos {\\theta _s} + {l_2}\\cos \\left( {{\\theta _s} + {\\theta _e}} \\right)}&{\\frac{\\partial }{{\\partial {\\theta _e}}}{l_1}\\cos {\\theta _s} + {l_2}\\cos \\left( {{\\theta _s} + {\\theta _e}} \\right)}\\\\\n",
        "{\\frac{\\partial }{{\\partial {\\theta _s}}}{l_1}\\sin {\\theta _s} + {l_2}\\sin \\left( {{\\theta _s} + {\\theta _e}} \\right)}&{\\frac{\\partial }{{\\partial {\\theta _e}}}{l_1}\\sin {\\theta _s} + {l_2}\\sin \\left( {{\\theta _s} + {\\theta _e}} \\right)}\n",
        "\\end{array}} \\right)\n",
        "\\end{equation}\n",
        "\\begin{equation}\n",
        "{} = \\left( {\\begin{array}{*{20}{c}}\n",
        "{ - {l_1}\\sin {\\theta _s} - {l_2}\\sin \\left( {{\\theta _s} + {\\theta _e}} \\right)}&{ - {l_2}\\sin \\left( {{\\theta _s} + {\\theta _e}} \\right)}\\\\\n",
        "{{l_1}\\cos {\\theta _s} + {l_2}\\cos \\left( {{\\theta _s} + {\\theta _e}} \\right)}&{{l_2}\\cos \\left( {{\\theta _s} + {\\theta _e}} \\right)}\n",
        "\\end{array}} \\right)\n",
        "\\end{equation}"
      ],
      "metadata": {
        "collapsed": false,
        "pycharm": {
          "name": "#%% md\n"
        },
        "id": "X8Jy_cur-tBv"
      }
    },
    {
      "cell_type": "code",
      "execution_count": 143,
      "outputs": [],
      "source": [
        "def calc_J(theta, l):\n",
        "    return np.array([\n",
        "        [-l[0]*np.sin(theta[0])-l[1]*np.sin(sum(theta)), -l[1]*np.sin(sum(theta))],\n",
        "        [-l[0]*np.cos(theta[0])-l[1]*np.cos(sum(theta)), -l[1]*np.cos(sum(theta))]\n",
        "    ])"
      ],
      "metadata": {
        "pycharm": {
          "name": "#%%\n"
        },
        "id": "hHjmS8gF-tBw"
      }
    },
    {
      "cell_type": "markdown",
      "source": [
        "### b: Inverse kinematics\n",
        "\n",
        "Use Python (or other program) to calculate numerically the joint angle\n",
        "in degrees, angular\n",
        "velocity in deg/s, and angular acceleration in deg/s$^2$.\n",
        "\n",
        "#### Solution\n",
        "\n",
        "##### Joint angles"
      ],
      "metadata": {
        "collapsed": false,
        "pycharm": {
          "name": "#%% md\n"
        },
        "id": "Ust7DAUx-tBx"
      }
    },
    {
      "cell_type": "code",
      "execution_count": 144,
      "outputs": [
        {
          "output_type": "stream",
          "name": "stdout",
          "text": [
            "Shoulder angle: 35.5°\n",
            "Elbow angle: 44.0°\n"
          ]
        }
      ],
      "source": [
        "# Equation for applying cosine rule to find an angle\n",
        "def angle_c_from_cosine_rule(a, b, c):\n",
        "    cos_c = (a**2 + b**2 - c**2)/(2*a*b)\n",
        "    return np.arccos(cos_c)\n",
        "\n",
        "# Find joint angles using trignometry\n",
        "def calc_theta(H, l):\n",
        "    c = np.linalg.norm(H)\n",
        "    gamma = np.arccos(H[0]/c)\n",
        "    alpha = angle_c_from_cosine_rule(l[0], c, l[1])\n",
        "    beta = angle_c_from_cosine_rule(l[0], l[1], c)\n",
        "    return np.array([gamma-alpha, np.pi-beta])\n",
        "\n",
        "theta = calc_theta(H, l)\n",
        "print(f'Shoulder angle: {theta[0]*180/np.pi:.1f}\\N{DEGREE SIGN}')\n",
        "print(f'Elbow angle: {theta[1]*180/np.pi:.1f}\\N{DEGREE SIGN}')"
      ],
      "metadata": {
        "pycharm": {
          "name": "#%%\n"
        },
        "id": "B2fo0lc4-tBx",
        "outputId": "22a42492-09e8-49ac-971f-1369c92185b9",
        "colab": {
          "base_uri": "https://localhost:8080/"
        }
      }
    },
    {
      "cell_type": "markdown",
      "source": [
        "##### Joint velocities\n",
        "\n",
        "$\\dot \\theta  = {J^{ - 1}}\\left( \\theta  \\right)\\dot H$"
      ],
      "metadata": {
        "collapsed": false,
        "pycharm": {
          "name": "#%% md\n"
        },
        "id": "K2pxHRqH-tB0"
      }
    },
    {
      "cell_type": "code",
      "execution_count": 145,
      "outputs": [
        {
          "output_type": "stream",
          "name": "stdout",
          "text": [
            "Shoulder angular velocity: -480.8 deg/sec\n",
            "Elbow angular velocity: 1183.5 deg/sec\n"
          ]
        }
      ],
      "source": [
        "def calc_theta_dot(H, Hdot, l):\n",
        "    theta = calc_theta(H, l)\n",
        "    J = calc_J(theta, l)\n",
        "    invJ = np.linalg.inv(J)\n",
        "    return invJ @ Hdot\n",
        "\n",
        "theta_dot = calc_theta_dot(H, Hdot, l)\n",
        "\n",
        "print(f'Shoulder angular velocity: {theta_dot[0]*180/np.pi:.1f} deg/sec')\n",
        "print(f'Elbow angular velocity: {theta_dot[1]*180/np.pi:.1f} deg/sec')"
      ],
      "metadata": {
        "pycharm": {
          "name": "#%%\n"
        },
        "id": "aWG26kdU-tB0",
        "outputId": "832f526b-2312-412f-ef0e-9d36b2131ab5",
        "colab": {
          "base_uri": "https://localhost:8080/"
        }
      }
    },
    {
      "cell_type": "markdown",
      "source": [
        "##### Joint acceleration\n",
        "\n",
        "$\\ddot \\theta  = {J^{ - 1}}\\left( \\theta  \\right)\n",
        "\\left( {\\ddot H - \\dot J\\left( \\theta  \\right)\\dot \\theta } \\right)$\n",
        "\n",
        "To do this, we need to find $\\dot J(\\theta)$\n",
        "\n",
        "$\\dot J\\left( \\theta  \\right)  = \\frac{\\partial }{{\\partial {\\theta _s}}}J\\left( \\theta  \\right)\\frac{{d{\\theta _s}}}{{dt}} + \\frac{\\partial }{{\\partial {\\theta _e}}}J\\left( \\theta  \\right)\\frac{{d{\\theta _e}}}{{dt}}$\n",
        "\n",
        "Using the equation for $J(\\theta)$ derived above, we have:\n",
        "\n",
        "\\begin{equation}\n",
        "\\frac{\\partial }{{\\partial {\\theta _s}}}J\\left( \\theta  \\right) = \\left( {\\begin{array}{*{20}{c}}\n",
        "  { - {l_1}\\cos {\\theta _s} - {l_2}\\cos \\left( {{\\theta _s} + {\\theta _e}} \\right)}&{ - {l_2}\\cos \\left( {{\\theta _s} + {\\theta _e}} \\right)} \\\\\n",
        "  { - {l_1}\\sin {\\theta _s} - {l_2}\\sin \\left( {{\\theta _s} + {\\theta _e}} \\right)}&{ - {l_2}\\sin \\left( {{\\theta _s} + {\\theta _e}} \\right)}\n",
        "\\end{array}} \\right)\n",
        "\\end{equation}\n",
        "\n",
        "\\begin{equation}\n",
        "\\frac{\\partial }{{\\partial {\\theta _e}}}J\\left( \\theta  \\right) = \\left( {\\begin{array}{*{20}{c}}\n",
        "  { - {l_2}\\cos \\left( {{\\theta _s} + {\\theta _e}} \\right)}&{ - {l_2}\\cos \\left( {{\\theta _s} + {\\theta _e}} \\right)} \\\\\n",
        "  { - {l_2}\\sin \\left( {{\\theta _s} + {\\theta _e}} \\right)}&{{l_2}\\sin \\left( {{\\theta _s} + {\\theta _e}} \\right)}\n",
        "\\end{array}} \\right)\n",
        "\\end{equation}\n",
        "\n",
        "And thus:\n",
        "\n",
        "\\begin{equation}\n",
        "\\dot J\\left( \\theta  \\right) = \\left( {\\begin{array}{*{20}{c}}\n",
        "  { - {l_1}\\cos {\\theta _s}{{\\dot \\theta }_s} - {l_2}\\cos \\left( {{\\theta _s} + {\\theta _e}} \\right)\\left( {{{\\dot \\theta }_s} + {{\\dot \\theta }_e}} \\right)}&{ - {l_2}\\cos \\left( {{\\theta _s} + {\\theta _e}} \\right)\\left( {{{\\dot \\theta }_s} + {{\\dot \\theta }_e}} \\right)} \\\\\n",
        "  { - {l_1}\\sin {\\theta _s}{{\\dot \\theta }_s} - {l_2}\\sin \\left( {{\\theta _s} + {\\theta _e}} \\right)\\left( {{{\\dot \\theta }_s} + {{\\dot \\theta }_e}} \\right)}&{ - {l_2}\\sin \\left( {{\\theta _s} + {\\theta _e}} \\right)\\left( {{{\\dot \\theta }_s} + {{\\dot \\theta }_e}} \\right)}\n",
        "\\end{array}} \\right)\n",
        "\\end{equation}"
      ],
      "metadata": {
        "collapsed": false,
        "pycharm": {
          "name": "#%% md\n"
        },
        "id": "QvBxb2U6-tB1"
      }
    },
    {
      "cell_type": "code",
      "execution_count": 146,
      "outputs": [
        {
          "output_type": "stream",
          "name": "stdout",
          "text": [
            "Shoulder angular acceleration: -12238.0 deg/sec^2\n",
            "Elbow angular acceleration: 14515.0 deg/sec^2\n"
          ]
        }
      ],
      "source": [
        "def calc_Jdot(theta, theta_dot, l):\n",
        "    return np.array([\n",
        "        [-l[0]*np.cos(theta[0])*theta_dot[0]-l[1]*np.cos(sum(theta))*sum(theta_dot), -l[1]*np.cos(sum(theta))*sum(theta_dot)],\n",
        "        [-l[0]*np.sin(theta[0])*theta_dot[0]-l[1]*np.sin(sum(theta))*sum(theta_dot), -l[1]*np.sin(sum(theta))*sum(theta_dot)]\n",
        "    ])\n",
        "\n",
        "def calc_theta_ddot(H, Hdot, Hddot, l):\n",
        "    theta = calc_theta(H, l)\n",
        "    theta_dot = calc_theta_dot(H, Hdot, l)\n",
        "    J = calc_J(theta, l)\n",
        "    invJ = np.linalg.inv(J)\n",
        "    Jdot = calc_Jdot(theta, theta_dot, l)\n",
        "    return invJ @ (Hddot - Jdot @ theta_dot)\n",
        "\n",
        "theta_ddot = calc_theta_ddot(H, Hdot, Hddot, l)\n",
        "\n",
        "print(f'Shoulder angular acceleration: {theta_ddot[0]*180/np.pi:.1f} deg/sec^2')\n",
        "print(f'Elbow angular acceleration: {theta_ddot[1]*180/np.pi:.1f} deg/sec^2')"
      ],
      "metadata": {
        "pycharm": {
          "name": "#%%\n"
        },
        "id": "Ia-fw9Or-tB2",
        "outputId": "9d02bad3-7258-45fd-dacf-4af5058d6c08",
        "colab": {
          "base_uri": "https://localhost:8080/"
        }
      }
    },
    {
      "cell_type": "markdown",
      "source": [
        "### c: Forward kinematics\n",
        "\n",
        "Starting with your answers in part (b), calculate the forward kinematics to\n",
        "get hand position, velocity and acceleration. Compare your results to the original values.\n",
        "\n",
        "#### Hand position"
      ],
      "metadata": {
        "collapsed": false,
        "pycharm": {
          "name": "#%% md\n"
        },
        "id": "pbZWu2Xa-tB2"
      }
    },
    {
      "cell_type": "code",
      "execution_count": 147,
      "outputs": [
        {
          "output_type": "stream",
          "name": "stdout",
          "text": [
            "Original hand position is (0.36, 0.65)\n",
            "Ater inverse and forward kinematics we get: (0.36, 0.65)\n"
          ]
        }
      ],
      "source": [
        "def calc_H(theta, l):\n",
        "    return np.array([\n",
        "        l[0]*np.cos(theta[0])+l[1]*np.cos(sum(theta)),\n",
        "        l[0]*np.sin(theta[0])+l[1]*np.sin(sum(theta))\n",
        "    ])\n",
        "\n",
        "\n",
        "H1 = calc_H(theta, l)\n",
        "\n",
        "print(f'Original hand position is ({H[0]:.2f}, {H[1]:.2f})')\n",
        "print(f'Ater inverse and forward kinematics we get: ({H1[0]:.2f}, {H1[1]:.2f})')"
      ],
      "metadata": {
        "pycharm": {
          "name": "#%%\n"
        },
        "id": "dpethIxg-tB3",
        "outputId": "6f73427d-d6d7-4b97-b09a-5ce55dfcfcb9",
        "colab": {
          "base_uri": "https://localhost:8080/"
        }
      }
    },
    {
      "cell_type": "markdown",
      "source": [
        "#### Hand velocity"
      ],
      "metadata": {
        "collapsed": false,
        "pycharm": {
          "name": "#%% md\n"
        },
        "id": "rXatseZT-tB3"
      }
    },
    {
      "cell_type": "code",
      "execution_count": 148,
      "outputs": [
        {
          "output_type": "stream",
          "name": "stdout",
          "text": [
            "Original hand velocity is (-3.89, 1.30)\n",
            "Ater inverse and forward kinematics we get: (-3.89, 1.30)\n"
          ]
        }
      ],
      "source": [
        "def calc_Hdot(theta, theta_dot, l):\n",
        "    J = calc_J(theta, l)\n",
        "    return J @ theta_dot\n",
        "\n",
        "H1dot = calc_Hdot(theta, theta_dot, l)\n",
        "\n",
        "print(f'Original hand velocity is ({Hdot[0]:.2f}, {Hdot[1]:.2f})')\n",
        "print(f'Ater inverse and forward kinematics we get: ({H1dot[0]:.2f}, {H1dot[1]:.2f})')"
      ],
      "metadata": {
        "pycharm": {
          "name": "#%%\n"
        },
        "id": "dDMDCNe8-tB3",
        "outputId": "59a05d77-f251-4227-d43e-2afca8ca71c3",
        "colab": {
          "base_uri": "https://localhost:8080/"
        }
      }
    },
    {
      "cell_type": "markdown",
      "source": [
        "#### Hand acceleration"
      ],
      "metadata": {
        "collapsed": false,
        "pycharm": {
          "name": "#%% md\n"
        },
        "id": "iyW68qke-tB4"
      }
    },
    {
      "cell_type": "code",
      "execution_count": 149,
      "outputs": [
        {
          "output_type": "stream",
          "name": "stdout",
          "text": [
            "Original hand acceleration is (-7.79, -26.18)\n",
            "Ater inverse and forward kinematics we get: (-7.79, -26.18)\n"
          ]
        }
      ],
      "source": [
        "def calc_Hddot(theta, theta_dot, theta_ddot, l):\n",
        "    J = calc_J(theta, l)\n",
        "    Jdot = calc_Jdot(theta, theta_dot, l)\n",
        "    return Jdot @ theta_dot + J @ theta_ddot\n",
        "\n",
        "H1ddot = calc_Hddot(theta, theta_dot, theta_ddot, l)\n",
        "\n",
        "print(f'Original hand acceleration is ({Hddot[0]:.2f}, {Hddot[1]:.2f})')\n",
        "print(f'Ater inverse and forward kinematics we get: ({H1ddot[0]:.2f}, {H1ddot[1]:.2f})')"
      ],
      "metadata": {
        "pycharm": {
          "name": "#%%\n"
        },
        "id": "MTtVe1lz-tB4",
        "outputId": "7cbc8984-58b1-4c1c-c0ea-11d59245ec99",
        "colab": {
          "base_uri": "https://localhost:8080/"
        }
      }
    },
    {
      "cell_type": "markdown",
      "source": [
        "## Problem 2\n",
        "\n",
        "### a: Simulate dynamics of two joint arm\n",
        "\n",
        "Following the equations of motion defined in class, simulate the dynamics a two-link arm\n",
        "of 4 sec. Plot the trajectory in the x/y plane and the x and y velocities as functions of time.\n",
        "\n",
        "Use a time step of $1~\\textrm{msec}$ and a total simulation time of\n",
        "$4~\\textrm{sec}$.\n",
        "\n",
        "Use the following constants for the arm:\n",
        "\n",
        "*Upper arm*\n",
        "\n",
        "- Mass: $m_1 = 2.1~\\textrm{kg}$\n",
        "- Moment of inertia: $I_1 = 0.025~\\textrm{N s$^2$}$\n",
        "- Length: $l_1 = 0.3384~\\textrm{m}$\n",
        "- Center of mass: $r_1 = 0.1692~\\textrm{m}$\n",
        "\n",
        "*Lower arm*\n",
        "\n",
        "- Mass: $m_2 = 1.65~\\textrm{kg}$\n",
        "- Moment of inertia: $I_2 = 0.075~\\textrm{N s$^2$}$\n",
        "- Length: $l_2 = 0.4554~\\textrm{m}$\n",
        "- Center of mass: $r_2 = 0.2277~\\textrm{m}$\n",
        "\n",
        "- Gravitational constant: $g = 9.81~\\textrm{m/s$^2$}$\n",
        "- Shoulder muscle torque: $\\tau_s = 0$\n",
        "- Elbow mucle torque: $\\tau_e = 0$\n",
        "\n",
        "And initial conditions:\n",
        "\n",
        "- $\\theta_s = 180^{\\circ}$\n",
        "- $\\theta_e = 1^{\\circ}$\n",
        "- $\\dot{\\theta}_s = 0^{\\circ} / s$\n",
        "- $\\dot{\\theta}_e = 0^{\\circ} / s$\n",
        "\n",
        "#### Solution\n",
        "\n",
        "##### Set up constants"
      ],
      "metadata": {
        "collapsed": false,
        "pycharm": {
          "name": "#%% md\n"
        },
        "id": "kOh4_qGz-tB5"
      }
    },
    {
      "cell_type": "code",
      "execution_count": 150,
      "outputs": [],
      "source": [
        "m = np.array([2.1, 1.65])\n",
        "I = np.array([0.0025, 0.0075])\n",
        "l = np.array([0.3384, 0.4554])\n",
        "r = np.array([0.1692, 0.2277])\n",
        "g = 9.81\n",
        "tau_m = np.array([0, 0])\n",
        "\n",
        "theta_0 = np.array([180, 1])*np.pi/180\n",
        "theta_dot_0 = np.array([0, 0])*np.pi/180\n",
        "\n",
        "dt = 5e-6\n",
        "T = 4"
      ],
      "metadata": {
        "pycharm": {
          "name": "#%%\n"
        },
        "id": "9RwOJp3O-tB5"
      }
    },
    {
      "cell_type": "markdown",
      "source": [
        "##### Define function for inertia matrix\n",
        "\n",
        "\\begin{equation}\n",
        "M = \\left( {\\begin{array}{*{20}{c}}\n",
        "  {{I_1} + {I_2} + {m_1}r_1^2 + {m_2}\\left( {l_1^2 + r_2^2 + 2{l_1}{r_2}\\cos {\\theta _e}} \\right)}&{{I_2} + {m_2}\\left( {r_2^2 + {l_1}{r_2}\\cos {\\theta _e}} \\right)} \\\\\n",
        "  {{I_2} + {m_2}\\left( {r_2^2 + {l_1}{r_2}\\cos {\\theta _e}} \\right)}&{{I_2} + {m_2}r_2^2}\n",
        "\\end{array}} \\right)\n",
        "\\end{equation}"
      ],
      "metadata": {
        "collapsed": false,
        "pycharm": {
          "name": "#%% md\n"
        },
        "id": "zhsP1_AO-tB6"
      }
    },
    {
      "cell_type": "code",
      "execution_count": 151,
      "outputs": [],
      "source": [
        "def calc_M(theta, m, l, r, I):\n",
        "    I11 = I[0]+I[1]+m[0]*r[0]**2+m[1]*(l[0]**2+r[1]**2+2*l[0]*r[1]*np.cos(theta[1]))\n",
        "    I12 = I[1]+m[1]*(r[1]**2+l[0]*r[1]*np.cos(theta[1]))\n",
        "    I22 = I[1]+m[1]*r[1]**2\n",
        "    return np.array([[I11, I12], [I12, I22]])\n",
        "\n",
        "M_0 = calc_M(theta_0, m, l, r, I)"
      ],
      "metadata": {
        "pycharm": {
          "name": "#%%\n"
        },
        "id": "yTZou_uN-tB6"
      }
    },
    {
      "cell_type": "markdown",
      "source": [
        "##### Define function for coriolis matrix\n",
        "\n",
        "\\begin{equation}\n",
        "C = {l_1}{m_2}{r_2}\\sin {\\theta _e}\\left( {\\begin{array}{*{20}{c}}\n",
        "  0&{ - 2{{\\dot \\theta }_s} - {{\\dot \\theta }_e}} \\\\\n",
        "  {{{\\dot \\theta }_s}}&0\n",
        "\\end{array}} \\right)\n",
        "\\end{equation}"
      ],
      "metadata": {
        "collapsed": false,
        "pycharm": {
          "name": "#%% md\n"
        },
        "id": "Gg2hTd0p-tB7"
      }
    },
    {
      "cell_type": "code",
      "execution_count": 152,
      "outputs": [],
      "source": [
        "def calc_C(theta, theta_dot, m, l, r):\n",
        "    return l[0]*m[1]*r[1]*np.sin(theta[1])*np.array([\n",
        "        [0, -2*theta_dot[0]-theta_dot[1]],\n",
        "        [theta_dot[0], 0]])\n",
        "\n",
        "C_0 = calc_C(theta_0, theta_dot_0, m, l, r)"
      ],
      "metadata": {
        "pycharm": {
          "name": "#%%\n"
        },
        "id": "Klw0PAYQ-tB7"
      }
    },
    {
      "cell_type": "markdown",
      "source": [
        "##### Define function for gravitational matrix\n",
        "\n",
        "\\begin{equation}\n",
        "G = g\\left( {\\begin{array}{*{20}{c}}\n",
        "  {\\left( {{m_2}{l_1} + {m_1}{r_1}} \\right)\\sin {\\theta _e} + {m_2}{r_2}\\sin \\left( {{\\theta _s} + {\\theta _e}} \\right)} \\\\\n",
        "  {{m_2}{r_2}\\sin \\left( {{\\theta _s} + {\\theta _e}} \\right)}\n",
        "\\end{array}} \\right)\n",
        "\\end{equation}"
      ],
      "metadata": {
        "collapsed": false,
        "pycharm": {
          "name": "#%% md\n"
        },
        "id": "TiowvEg5-tB8"
      }
    },
    {
      "cell_type": "code",
      "execution_count": 153,
      "outputs": [],
      "source": [
        "def calc_G(theta, m, l, r, g):\n",
        "    return g*np.array([\n",
        "        [(m[1]*l[0]+m[0]*r[0])*np.sin(theta[1]) + m[1]*r[1]*np.sin(sum(theta))],\n",
        "        [m[1]*r[1]*np.sin(sum(theta))]\n",
        "    ]).reshape(2)\n",
        "\n",
        "G_0 = calc_G(theta_0, m, l, r, g)"
      ],
      "metadata": {
        "pycharm": {
          "name": "#%%\n"
        },
        "id": "MpaFhaeS-tB8"
      }
    },
    {
      "cell_type": "markdown",
      "source": [
        "##### Calculate angular acceleration from state\n",
        "\n",
        "\\begin{equation}\n",
        "\\ddot{\\theta} = M^{-1}(\\tau - C \\dot{\\theta} - G)\n",
        "\\end{equation}"
      ],
      "metadata": {
        "collapsed": false,
        "pycharm": {
          "name": "#%% md\n"
        },
        "id": "NiBqe5S4-tB8"
      }
    },
    {
      "cell_type": "code",
      "execution_count": 154,
      "outputs": [
        {
          "output_type": "stream",
          "name": "stdout",
          "text": [
            "[-3.13603315  8.11167638]\n"
          ]
        }
      ],
      "source": [
        "def calc_theta_ddot_dynamics(tau_m, theta, theta_dot, m, l, r, I, g):\n",
        "    M = calc_M(theta, m, l, r, I)\n",
        "    C = calc_C(theta, theta_dot, m, l, r)\n",
        "    G = calc_G(theta, m, l, r, g)\n",
        "    return np.linalg.inv(M)@(tau_m -(C @ theta_dot) - G)\n",
        "    # return theta_ddot.reshape(2)\n",
        "\n",
        "theta_ddot_0 = calc_theta_ddot_dynamics(tau_m, theta_0, theta_dot_0, m, l, r, I, g)\n",
        "print(theta_ddot_0)"
      ],
      "metadata": {
        "pycharm": {
          "name": "#%%\n"
        },
        "id": "1Rah0OTN-tB9",
        "colab": {
          "base_uri": "https://localhost:8080/"
        },
        "outputId": "c8e94f7a-4f12-47b3-f6d9-18e7f69002ce"
      }
    },
    {
      "cell_type": "markdown",
      "source": [
        "###### Movement constraints\n",
        "\n",
        "Let's think about our coordinate axes. Looking at the trignometry that was used to derive our equations in the lecture slides we see that shoulder pointing up is $\\theta_{s} = 180^{\\circ}$ and shoulder pointing straight down is $\\theta_{s} = 0^{\\circ}$. Elbow open is $\\theta_{e} = 0^{\\circ}$ and elbow closed is $\\theta_e = 180^{\\circ}$.\n",
        "\n",
        "We'll limit the shoulder angle to go between a little past straight up ($190^{\\circ}$) and well past all the way down ($-60^{\\circ}$).\n",
        "\n",
        "We'll limit the elbow angle to go between fully opn ($0^{\\circ}$) and almost fully closed ($170^{\\circ}$)."
      ],
      "metadata": {
        "id": "bdvgd92GqGGh"
      }
    },
    {
      "cell_type": "code",
      "source": [
        "theta_min = np.array([-60, 0])*np.pi/180\n",
        "theta_max = np.array([190, 170])*np.pi/180"
      ],
      "metadata": {
        "id": "v13f6etfqFfG"
      },
      "execution_count": 155,
      "outputs": []
    },
    {
      "cell_type": "markdown",
      "source": [
        "##### Run loop"
      ],
      "metadata": {
        "collapsed": false,
        "pycharm": {
          "name": "#%% md\n"
        },
        "id": "cZWaFj_z-tB9"
      }
    },
    {
      "cell_type": "code",
      "source": [
        "T"
      ],
      "metadata": {
        "id": "YZZ7dfDk9kX3",
        "outputId": "dbc716b2-b341-4b7e-f323-aa38cc65a568",
        "colab": {
          "base_uri": "https://localhost:8080/"
        }
      },
      "execution_count": 156,
      "outputs": [
        {
          "output_type": "execute_result",
          "data": {
            "text/plain": [
              "4"
            ]
          },
          "metadata": {},
          "execution_count": 156
        }
      ]
    },
    {
      "cell_type": "code",
      "execution_count": 182,
      "outputs": [],
      "source": [
        "t_range = np.arange(0, T, dt)\n",
        "theta = [theta_0]\n",
        "theta_dot = [theta_dot_0]\n",
        "theta_ddot = [np.array([0,0])]\n",
        "H = list()\n",
        "Hdot = list()\n",
        "Hddot = list()\n",
        "\n",
        "for t in t_range:\n",
        "  theta_ddot_prelim = calc_theta_ddot_dynamics(tau_m, theta[-1], theta_dot[-1], m, l, r, I, g)\n",
        "  theta_dot_prelim = theta_dot[-1] + dt*theta_ddot_prelim\n",
        "  theta_prelim = theta[-1] + dt*theta_dot_prelim\n",
        "\n",
        "  # For both joints, check if they are out of range. If so, set velocity and acceleration to 0 and put at limits of range\n",
        "  for i in [0,1]:\n",
        "    if theta_prelim[i] <= theta_min[i] or theta_max[i] <= theta_prelim[i]:\n",
        "      theta_ddot_prelim[i] = 0\n",
        "      theta_dot_prelim[i] = 0\n",
        "      theta_prelim[i] = np.maximum(theta_min[i], np.minimum(theta_max[i], theta_prelim[i]))\n",
        "\n",
        "  theta_ddot.append(theta_ddot_prelim)\n",
        "  theta_dot.append(theta_dot_prelim)\n",
        "  theta.append(theta_prelim)\n",
        "\n",
        "  H.append(calc_H(theta[-1], l))\n",
        "  Hdot.append(calc_Hdot(theta[-1], theta_dot[-1], l))\n",
        "  Hddot.append(calc_Hddot(theta[-1], theta_dot[-1], theta_ddot[-1], l))\n",
        "\n",
        "theta_ddot = np.stack(theta_ddot)\n",
        "theta_dot = np.stack(theta_dot)\n",
        "theta = np.stack(theta)\n",
        "Hddot = np.stack(Hddot)\n",
        "Hdot = np.stack(Hdot)\n",
        "H = np.stack(H)"
      ],
      "metadata": {
        "pycharm": {
          "name": "#%%\n"
        },
        "id": "KON51E6c-tB-"
      }
    },
    {
      "cell_type": "code",
      "source": [
        "fig = plt.figure(figsize=(4,4))\n",
        "ax = fig.add_subplot(111, aspect='equal', autoscale_on=False,\n",
        "                     xlim=(-1, 1), ylim=(-1, 0.5))\n",
        "ax.grid(alpha=0.5)\n",
        "ax.set_title('Animation of arm movement')\n",
        "ax.invert_yaxis()\n",
        "\n",
        "plt.plot(H[:,1],H[:,0])\n",
        "plt.axis('equal')"
      ],
      "metadata": {
        "id": "X51sqr3v_mSM",
        "outputId": "bf467a6e-2c23-4059-d71c-d732bdc681c5",
        "colab": {
          "base_uri": "https://localhost:8080/",
          "height": 350
        }
      },
      "execution_count": 183,
      "outputs": [
        {
          "output_type": "execute_result",
          "data": {
            "text/plain": [
              "(-0.19920633855711561,\n",
              " 0.001159722299089616,\n",
              " 0.16793013363182274,\n",
              " -0.8395240105639488)"
            ]
          },
          "metadata": {},
          "execution_count": 183
        },
        {
          "output_type": "display_data",
          "data": {
            "text/plain": [
              "<Figure size 288x288 with 1 Axes>"
            ],
            "image/png": "[encoded data removed]"
          },
          "metadata": {
            "needs_background": "light"
          }
        }
      ]
    },
    {
      "cell_type": "code",
      "source": [
        "def calc_E(theta, l):\n",
        "    return np.array([\n",
        "        l[0]*np.cos(theta[0]),\n",
        "        l[0]*np.sin(theta[0])\n",
        "    ])\n",
        "\n",
        "def calc_Edot(theta, l):\n",
        "  return np.array([\n",
        "      -l[0]*np.sin(theta[0]),\n",
        "      l[0]*np.cos(theta[0])\n",
        "  ])\n",
        "\n",
        "E = np.stack([calc_E(t, l) for t in theta])\n",
        "Edot = np.stack([calc_Edot(theta, l)])"
      ],
      "metadata": {
        "id": "__hyLgJ1ahMy"
      },
      "execution_count": 184,
      "outputs": []
    },
    {
      "cell_type": "code",
      "source": [
        "#------------------------------------------------------------\n",
        "# set up figure and animation\n",
        "fig = plt.figure(figsize=(4,4))\n",
        "ax = fig.add_subplot(111, aspect='equal', autoscale_on=False,\n",
        "                     xlim=(-1, 1), ylim=(-1, 0.5))\n",
        "ax.grid(alpha=0.5)\n",
        "ax.set_title('Animation of arm movement')\n",
        "ax.invert_yaxis()\n",
        " \n",
        "line, = ax.plot([], [], 'o-', lw=4, mew=5)\n",
        "time_text = ax.text(0.02, 0.95, '', transform=ax.transAxes)\n",
        " \n",
        "def init():\n",
        "    \"\"\"initialize animation\"\"\"\n",
        "    line.set_data([], [])\n",
        "    time_text.set_text('')\n",
        "    return line, time_text\n",
        " \n",
        "def animate(i):\n",
        "    \"\"\"perform animation step\"\"\"\n",
        "    line.set_data([0, E[i,1], H[i,1]], [0, E[i,0], H[i,0]])\n",
        "    time_text.set_text(f'time = {t_range[i]}')\n",
        "    return line, time_text\n",
        " \n",
        "animation_speed = 0.5\n",
        "frame_rate = 30 # frames / sec\n",
        "animation_T = T/animation_speed\n",
        "num_frames = int(animation_T*frame_rate)\n",
        "interval = 1000.0*animation_T/num_frames\n",
        "frames = np.linspace(start=0, stop=len(t_range), endpoint=False, num=num_frames, dtype=int)\n",
        "\n",
        "ani = animation.FuncAnimation(fig, animate, frames=frames,\n",
        "                              interval=interval, blit=True, \n",
        "                              init_func=init)\n",
        "\n",
        "from IPython.display import HTML\n",
        "HTML(ani.to_html5_video())"
      ],
      "metadata": {
        "colab": {
          "base_uri": "https://localhost:8080/",
          "height": 523
        },
        "id": "HeRtnPPcY4gc",
        "outputId": "0a957720-e8ae-4563-a5f8-324d84a1b10e"
      },
      "execution_count": 185,
      "outputs": [
        {
          "output_type": "execute_result",
          "data": {
            "text/plain": [
              "<IPython.core.display.HTML object>"
            ],
            "text/html": [
              "<video width=\"288\" height=\"288\" controls autoplay loop>\n",
              "  <source type=\"video/mp4\" src=\"data:video/mp4;base64,AAAAHGZ0eXBNNFYgAAACAGlzb21pc28yYXZjMQAAAAhmcmVlAAD23G1kYXQAAAKuBgX//6rcRem9\n",
              "5tlIt5Ys2CDZI+7veDI2NCAtIGNvcmUgMTUyIHIyODU0IGU5YTU5MDMgLSBILjI2NC9NUEVHLTQg\n",
              "QVZDIGNvZGVjIC0gQ29weWxlZnQgMjAwMy0yMDE3IC0gaHR0cDovL3d3dy52aWRlb2xhbi5vcmcv\n",
              "eDI2NC5odG1sIC0gb3B0aW9uczogY2FiYWM9MSByZWY9MyBkZWJsb2NrPTE6MDowIGFuYWx5c2U9\n",
              "MHgzOjB4MTEzIG1lPWhleCBzdWJtZT03IHBzeT0xIHBzeV9yZD0xLjAwOjAuMDAgbWl4ZWRfcmVm\n",
              "PTEgbWVfcmFuZ2U9MTYgY2hyb21hX21lPTEgdHJlbGxpcz0xIDh4OGRjdD0xIGNxbT0wIGRlYWR6\n",
              "b25lPTIxLDExIGZhc3RfcHNraXA9MSBjaHJvbWFfcXBfb2Zmc2V0PS0yIHRocmVhZHM9MyBsb29r\n",
              "YWhlYWRfdGhyZWFkcz0xIHNsaWNlZF90aHJlYWRzPTAgbnI9MCBkZWNpbWF0ZT0xIGludGVybGFj\n",
              "ZWQ9MCBibHVyYXlfY29tcGF0PTAgY29uc3RyYWluZWRfaW50cmE9MCBiZnJhbWVzPTMgYl9weXJh\n",
              "bWlkPTIgYl9hZGFwdD0xIGJfYmlhcz0wIGRpcmVjdD0xIHdlaWdodGI9MSBvcGVuX2dvcD0wIHdl\n",
              "aWdodHA9MiBrZXlpbnQ9MjUwIGtleWludF9taW49MjUgc2NlbmVjdXQ9NDAgaW50cmFfcmVmcmVz\n",
              "aD0wIHJjX2xvb2thaGVhZD00MCByYz1jcmYgbWJ0cmVlPTEgY3JmPTIzLjAgcWNvbXA9MC42MCBx\n",
              "cG1pbj0wIHFwbWF4PTY5IHFwc3RlcD00IGlwX3JhdGlvPTEuNDAgYXE9MToxLjAwAIAAABB6ZYiE\n",
              "ADf//vbw/gU2O5jQlxHN6J0zH78VuLo0N73OAZ6b1jZWZ3MtZICWa9fA2P5hPQX3vkhG3ZY3qTvP\n",
              "V/K+kq/u2+LU3/WlXPRiJ13PNktywlQmDa+9p5KXLVh2UfTygISsW9Xf9XQDafRW2DP00Iv7Emgf\n",
              "IPWEY6CVOrxE5KDl93k4p/1vhHtMXdavs+jYZb6OZSN6coKWJ3YFYBwwFsUdq1zp0679UInhoR95\n",
              "yO/UrTXot94RIEKRra1md7dwvME5lefR4u3hh+0FZIsCYWdehK2Y4d9LF+mkqa3oNlnIFMpk1y+H\n",
              "Ro4CPdKlyTB04NZYfmuJEG4zotrMrg/D8Sl5O6oflOhU8OTjwEr9tYR5u8Fny1xV+2TmZXC4BNa/\n",
              "zompl+YMz5j4FjtWHq7hUltWDpiM3sb5xA6YsKw6yW3KvZLOHtb+PSCW55dw/AmFpP9oRVFEtka2\n",
              "7DM3lw+ghT9F4fiT1kUyi8O54Snbop0HijmgLWhcgEx81CPH8gSp7wbEkcAI5GwIlI26e1wOpxn5\n",
              "+jOXLjEn9nVrnQ1NxdrAE243xL5Tdp8SXvQLns6Ipo3xkud3PrU6Cj7zMOtHzFSHuYyqU77KBRTu\n",
              "YzHA1Qwp5pemBNZOfKj0SS641ONxDPW/Fmm8rYIjRgD7co3dAAh3XhjiwFjEgrDl36gVUT5RWBfH\n",
              "37e0+mYZaSjly/gz87H1FT3d8NEdHf0HGBbDVxz6eqMhGcO9Sn+fpLsM3HH1ov5AZd47byiGbbS9\n",
              "TBGOCAhDJkfcfsnYxuz2WUI6Jyuk29FwzUfhaRNlCHrMxgMUxQGL65xeVQyIZ8O3L0JYeI03FP5v\n",
              "jQFrk/nKh+XoB9DIwDBYXDEofjc3bcUmZY/HfawmE5/3eyhg9AVPrQN/mmU2r6cS5iL8q4NyvCXd\n",
              "S8RU1rKwxMioObqzYijQy1VIgsb9vkl+JSjWPEL1D5lGvnZ6QxHfmILUqBTZm2JLixrB14c0g9b4\n",
              "OaEO1yfY8tF87EQ6MIYAYhu51BnIUCNmQjP+ccLljHDybYf99935HjOSbpPqpUAozdy08mTGVzVc\n",
              "VqK8NM4QKOKQAk+AYtwYmWvT/QICMpTlosn+23Xm/hnR3kd3eJLcXtSVlujygTXUU1sHTfP+W745\n",
              "6qhfnrt3WTeo0zEklB0Kik530UOizRiIeu7qjtzjGS7q7AwG70xWcRulCFZEPlINYUsPrnxnmd1C\n",
              "dfEtQ0/92RHn0Gy9FnehQ6KfDFRXoTY/jV8tZ+Hu131GPVWPzYuhbY7GrOB0BqK+mwt5uSiwyn34\n",
              "GJ3EYwYQAa8wppTQJF2xWAG+D4wYTs1innFZnarCLZbZiLbgUy9MJJRvfHW3TPA0QvqFqkLSg8/V\n",
              "7wA8YJS+Omf0UBwT8fsUDXoRLWxEIrzk0N4g5C/ephqyMSVhfIMtoPFXPlB86tlcVafLX9AeksZP\n",
              "2I3fSeNHHV9h8ATs+fjjcC3BLhTXdMO+tuPrh3uZA5YZxhSe4FaAtY1f0HSqnHaDcMa39Cb9JM8X\n",
              "azIC3uKn+3qJDNnH5uQ2yFPyfIA74WuSgoP94aLrpb6odC+H78IVHG2qkH4oJ+r+Jfamvbe7Hkdv\n",
              "jKdRkubt7QR52PVf9vRv3tOiFn7FglL5vmMwqnAcXIgt5fStQOdOVMyyGEnUmgNh9aUpJMBPr0Tg\n",
              "x1M7EacMxi5DalbufX1BWLU0FxnRhy+YMx1oAi15PgqZiLTTUDiezv5zcSqkCBxbWfkxTql+qeJ8\n",
              "j/Kh3MkIWXvZE4Xqwm6ONibTE18kuh6UBxj5Rg0OZL8V7dRA57c6jQaGuadR1tWsE4bDowBVcuUu\n",
              "0pMZdKnPDkhoG0g4DW0ppoxIjHUnr2ZDgtDLPulW3xA65m2XF+aFvGI8eyMCEXQ10DddmQwARwb3\n",
              "/ka/L3UH477N41Xye8t469kafQhyLoWMZTVt6LKe8LUuyeExy7tLRrfnM3Ov52oU5qrsIvWf7B+K\n",
              "QqHiPvBcDaIQiN9fQeOYU0it00bgw5u5ty4LQEQAQWEAQjuu5l8dyPV4SRfNPSCG8k6WcnlnrJq9\n",
              "YaNz6tkeq1KqMCmFckWxODQMo60v3WtlEbPv4s4tlVzp2wr4pbYkWXgOUYEZcHNOlit+m9iLkagu\n",
              "68SvbOOISkW1nVwYQUmZhpA9Bfqxu7if2yYizpq6g/aujCZ3T0cSYAWhXju8pquQYSGw3gmADm+7\n",
              "MOeRiYpvmNAvl5boAdGEbz14vRF5XVC7KoUP5K0mKyeYTCAJb3mRMpovn/Vfcrx7Z4aqdX7pikM5\n",
              "8Yfhi1QQVafRTWyQ+I82RB34XWz4LHhasISX7XZrt4RtLwGA7Dc3k66e6O77eL3x1LZbsnOBoZbd\n",
              "IB3d4m8J7WmVYGQZ0UW982FV/ktVUWsahVFwP4ekRYRiFYX3kF9AJqGdbb2v4tOhUhb1vnG/+ZEk\n",
              "KfIMuuxUNfTuYn29wP+0Hc5VP/mJlIMZEf9b591Pkkh7QEd7vPjqSbMJElgQwzWpVWqNLVLm5PGB\n",
              "lJoYxy0XC29mgRbZfhMoN0t3+MS32HE7r4/E9feaj+184lFNKaRbwFaRMzWa/X2tCxkn/zYqgrnc\n",
              "fh5quDCiNe4FicOGOOVfOlAIcgoltj0S4UBwn/+vPW/3rbVW8YNljpvpFrfQSehuL6U238OGEXbZ\n",
              "GkGwYAdYEbpkNNmGrjrgdYk86+V30SfhU1rDeDA3MVTh+2woI0ciGltRf+kN4fU1Wq10gJMAkDyE\n",
              "9ba9w7aiIz5qzenfy5fhHB0x8wSuTWYAd/SZj7liMErqJ8O8xN6n4e+ptSu791f3eh/Tx7iDF9TV\n",
              "Kn7uhfXaFkK/OVLcHqHukvHdovh2AQOKQA8AgDQ3Q34kCa9c2YiS7+9IRV5DPjE7Sh/8ES+nvqKx\n",
              "xOvM4mNHVba+r6AesCIJEXbbhTKe+1LXGheB4C1cGeNZv2kCfcaohGkwfptRuhoAyvBsxePGpT0p\n",
              "NBCvv2/UPcYGKS1W/zdQEF1NTTfYSguMdp3FH4Ioz6In/d9FyRk8SnK/sK0yLev8DSn4ff6hNmb4\n",
              "JS+7nfEnuK/y7a9jXQuub//VwrM2rIhdOuMFKuBQ5CZjayqdquJ+T2fbKA8tkCWafWaUT+s+Xe15\n",
              "HMu17ECjGJyuDQ4Zfxb82JochJ4b3UoYSx4EHT9xtnyJ0vNM6wVzLO+iXLvvQrCVBo+R5LnASEAa\n",
              "OG1ffeGZDW/tVxkAHuplnJnzFFEcLgR1bAqss0i/AdZeud1y8p7ZVhU/sZUQOvt+135lQcamJuEb\n",
              "Yd04kayG5wUbB9G7bHtGQPfBrjXIuikbvlo8gEeykP6hmXKOogLFppr87vd3lYjiOkU7oay/MXxt\n",
              "rCNbMIZw8WAIZrwf5T/Pmoy4FWCShnV9qXmYIl7Z+ISdB+pAlXdt6Znu2X+goDYBmC/laDNBFwqJ\n",
              "4IuELCzA/2ntJtmZt/EQeiR8lp5UO4F6vQs7Hlg3qPT9q47qUZONcGkZjtppvhI+Jlxj4fZhwi5p\n",
              "Vj1x4yyIOXPt2SXoaKTARdTdrduQcK73NyB9nk/kTB3E2heGILzqIdd/TlaxEJD7VuvmvG37+1SD\n",
              "tjgw2cTi8YY+1uu/34lMAYyaCXZehQpW5G2UEMUmzxPtu/UNOS+j+Ut76xoUzcZg3VMuUjynnWxY\n",
              "gllEIZUeCVTiqLKyfBWPGRhm8nrcfg7gCjdVSfWAv0v/9lCoP4mnw58nRKq5GqcNnC9qHt77AOfX\n",
              "gITp61LpeHV+Z0Iw+vo/sJiHwnl/C1ZV3YOwLHttwNEToF18BAnYgLhJ4p0xU192oSiR0+YAxB0B\n",
              "vwmxDxS3AV997FKxBOfNZ0uZ9fOWnyqJ662iZHHjfyXyzrsvUqlB/w4oYW8JVpGEr3OP4sPrESpB\n",
              "CRmrZP5g9hdbyDlNsuchv4EDUvVqZCO573WResTL2ARuJjqGQCRdKGf0v3vPNAP4JsbcHlHo4qbC\n",
              "k5ug0acTpDxffaug6tGZ6Boe3GAUbKB/UDriOQun5Uw5TBWaisadDP0phvtkxvCykPvX7Q05hjZh\n",
              "FB5MIdKhqK1IPFen46Qz7KZTqOKEx2pM6zeHMNsnKgZNyfwaIxmci/0PbIikJHrzcOCzy8qz/uJZ\n",
              "5jFX7kkBOte3Lj+SLSFknNfaoF9R7w78iMJSr/2OJY1Sf0+SD21a/rDrbBt7yeMFKVNX4/sc4F9B\n",
              "FrUuKnJQCh1slsgtFiBtlRFURgOZ0esSgw9Uynh40DXMKlaskCH4xGvBuDMc3tj0b+jK700nOtjc\n",
              "DZjdi1E5efbM2cZRa3DoKNA7jul0Ha6IF9BK2qW2x8Be3/thYIy9iQQkw333D1mJSoxlo7uGwbok\n",
              "hAAfjqlKfOfcYsqL8Zs7tQv96gsU40K5ANdC5v1oGN9mM7FKrTeTyqZ37zTbBtiLIy1CLUErPhrI\n",
              "SMlTClHslVEyTg3BATwhz+ZbVdZ0B0OXVo5S+SZa2h3vfXGHbbaB3El/nLq4+8m1wKgVdgFLl4l9\n",
              "LXgtiy6s9zyNtCDaol54gfKeZDTus5iT9Fx7OLE+lj9PlceeGDqIdue/Ud4vsZbfp9Ccf3Q3bf4/\n",
              "68/OR0bc8HibbB4ryNso+1qJIheD1W/VrtaKjnswNhFq3ISiaEDgBCwZLmkYW32GfuIdOO98PM/0\n",
              "WTeNAQfJceSkOPxkszUFqWQUgD40dYsMaqKznPYfC7B0bmQZ7POGkUJe/ZqXC76XF4T8brP8nUeN\n",
              "+kWLKyeRVdUuE7XoMKCpv+bU7WZD3x7cfzeM6TDLNffrRQ/23LH7c24H0utdVqnbI5AtPPqz3dwh\n",
              "nhaejDU/FkybKhwOxSFutsaQ0XjLblSKQ1EBHjHGJBKcr0exlabrusVIJRRBZu8NWE6Az/XR37zX\n",
              "nYdfGbgq8lvMo2p5qMlISvQPFEoOs2GuDESjBaVZ+6E+jRtEvl/wclRa13U9KMrW5+Cgsd+KqrSu\n",
              "R9NMHsPFjSHQC+bW+MEXtEuUAUuByNPjmr22CK7li5kimuwq//2bzXo7jtv6XeAshjlW5AZZ6H6y\n",
              "4nbTMf738RkWwQFz49rB0XMTl5wg9fbBy45dOdzPKksRlmi6kn0JjZPlP574szZEZFp8S86koJWP\n",
              "2wuAhJB31fYPgX3ED5JvDNsHf5r1k49SewRxMCLltZp4MgPo28QQb9awe4lvqv/xVVjpNxhhmV/2\n",
              "fwPaM6m8Xs7Y+YXhwvBI7QZEKMhf9NX9KH28oGNxCceCYChIZKRz+r3rpji/rv20CyolBnxnHIBq\n",
              "tItLi0PmqK1txOyKZ3n9HTeZd69BwMuVY8shtn2n2VKoFQRCJ7YzDAQxBLJITOMn+HU0JcXp9OhK\n",
              "JCdjb2H8diwAmJ9OG9RMAf9nbnKRGYsjdBu03mJRB4Gp/sn8D1b+bPVZ7YRFjCj5eBD7a+5dQAHw\n",
              "PrxTHu4s9QxYkw5HCcarWgMYHdQrQMDeolIF03Fy9pNw3AAPKAqOivG9/2G84hVfdg3H0CTYs2kL\n",
              "lR/WkdAfJSKynkEvcEA2WELIwbVS37xer9/+9raiArefvImXupvlW2gdx74LQpJIcHxpZH8k+Y1s\n",
              "aYHJCyTkl0nYDHJ5tsfPZ+GZhNfTcA4bJvLIV4vad8FrHSVrRErc6v2sLbvJwAByNhwAABfRAAAB\n",
              "nUGaI2xDf/6nhAJifA0ANrPof3Az9hmn6ckfAUFBodOkgzS6ON7MGPanmUCD9Lm2jTI/KzmsTvWc\n",
              "GGqkOU/t9lIuI9SXKmWwSXLdUknlvz+TITaGwDHfbE3yoNPUjqFdgtmekJ8hKtJ3a0T+5AOApOK2\n",
              "UuDxf9A8zAsvzP6eZS1mIuImiPfHoL3oSCnuhcSn11mgUDqKbF2A3kYuGahrqmNTTaPD+qhXoFP4\n",
              "WhHbyUOoUIJGZ+WTHaDt2zV8wAGqTeDjZl+9F0ItcPHKMyn1K0+B92A5YeHpD+fIWtjD5UQ8qjH3\n",
              "86RxV5DclMdiRwxlDlTg5hmcWpdcVUD0fHAOg1SL5yTHVWBw2u0nv7aQ4s6dGIjZzldhLL6tyU5x\n",
              "pVIzwe16fFdAET+7bPHmOMqPWSVRWvlr4L522MjNM3XNPRX6cO1rYkKiKFGLrF4nnmbYYVWMnQH8\n",
              "9+4nfl+MbcMi2uZyw8fsKWryPO0GCZtq/uMda9HcV3DbIz35ri5pe+DUhOdbn9NY2L/dQLkZ1VwX\n",
              "Lw7kyeDDcGpux5sQDAScAAABxUGeQXiFfwGJOt36ePr6AE1bH+guCfm1XsA8yKbYQbgpdK5f+HoX\n",
              "jGFEclv4GQpLQcxFT7yhxNyA91OLIbElkluGSumPFmVr97/IWAIVzHAdO496mgERQR6R9HzDMtGM\n",
              "IULNEL+PxoTSV6kCEhhA+kHYn/oTmON6j8gqYOP2mUXIAFUSw8F/UJLQmTfepj4IPHldAJwHNKDf\n",
              "ny3UtvkprJnn6Qycdqbdf2DufsRH1kho8G/hZAkma0vnf8fbZYiQ231TY5IFsnipeLmiExkLpYLK\n",
              "wxnLRrbt94R1pBdPNUefnVCpSH9HqcaCnmJOaNViQiGg9MxmfY4SjLS4rPK4u+TeSIQQ2lq5x3s8\n",
              "NNvsKA8Vyhi0hQoPiSyNPblJ8TmD8/g3Phi729oEIZSDt7v5I3yibCpjhZK4SRzcwA968jLV3SLs\n",
              "b4PyeePT4zITubHgzFOiTYHzqJ8OFr+Blc1+FJRnPaJrUsle3nzUbXuUWOcCCIhfKIBwZiaUvK6q\n",
              "thdaLCOUk5vEtbCsqlqUZhA4dQRKpqdr4ORzfnNyMxZngMUvzmHUtYvXpQ8gRTSgjRqPEMr6+8Nt\n",
              "y4Ghi9TpFTQda/N4OTgfMQAAARABnmJqQn8BuH1PgBCiI3sEys3zrL154lFcu/5Xv/BdwAAFCgJU\n",
              "gLm54ky9PC3fTjsEDXn2OpFIBcFrELg9sHL+MvpZwXtjwIxJUcxkDov3KuKVoZO/+DT5yGFYQr6M\n",
              "nVEBrYwbtZFKawoJc718X4Zxc+tFjmx92S6LJyCwFPX08rvBL9jWYXTzJfO0WjZkJNIk+Z6JGRQY\n",
              "c+6xmotXRaJId9sCddGm+pUDBr1pMPwvaVe2bE5MzpAUfRZHf+ryIupwg49OYm2Yy773VjNubckR\n",
              "obRjh2PA7ADE5naj7Go6gUUnCX4aACq7kcQkHS8ODmWfkvPWg8q8+QvP2hc0DAkLNdQjwnXswSkJ\n",
              "3trVmcPPgAAAATlBmmdJqEFomUwIb//+p4QB1YbPbBKuAG7HaAL24/GA+0ou4DKapOBEoQ4xbvtk\n",
              "9+xWQMfTdu0K1EhaVpgZrCMExl9UJl/jNV7R9w8bpv317ZwVmYUFyrejIb0eui9TzXSpjh9J/dfU\n",
              "782oEZY3ht1wazRCM0d6Gl2pPacY1M6PVEz3muZagod4JHD7UkwcF5dgkhadWBSF3KWjdleXjuEk\n",
              "85qeeqxS9KiJs4e0dSpd3paROEVjTvMr3WacBwzqg66x8bL5StHFRlzaV9uZULFKwwVOk/Fe/VIB\n",
              "XWONg3WgNJkgpMohngXIyecXr5gT47gB2tvuzrMW29NuQ5U5cuNM+qfDaRjJTuZL4KTDd8yBCSZd\n",
              "VMVvDTQZoW+I16bckebH4Kku77YF9U5gXwyMOoPjcou72AVjXIWBAAAAvUGehUURLCv/AVqzmIAT\n",
              "U/K6SG0TtoWswsU1F6XjY8jOe1nhSANFVkzRg8dR6g5E5rSxjBcSAxwa/BIwDTimuTAvjbK/Q6v2\n",
              "V44LlOzIzDbTC8PDDqgwSIEtogvqM40XWWL4di8Rdh9tKZp4yMBCifhIC4dF3KCF8pB1gjJZmFsu\n",
              "3fykDZkrSrIhrjxGizpPw/LlxEz9VTjzY141bJzU4yO3A1m5duB6WH6WxcNQPVc6bokJzlrpg+lO\n",
              "qMsq0QAAAFABnqR0Qn8BuV6AAQ/3iV0eb7zydq64R9Lzv/Tdpay4tP6jqNYUO1Oid++pAdbarWQs\n",
              "kY8zBsI02M1UNZbVuXlpAEgqEMNXoNDA5l056a9GIwAAAEEBnqZqQn8BuB4fACFPV53JWY3y7hDn\n",
              "KHfMWMmw+V+57Eu/zcZGlfDG4mg68r+EMJKhinyHqF1ulwpiUyLNu/l4sQAAAnxBmqtJqEFsmUwI\n",
              "b//+p4QB1haSAFtHabbsII9XJISwzDpV9Xtf1QP3X2XhiSYZeRVTmtDska5K5V1ux5iK4OEF+JZH\n",
              "6/ddU9c+ZExfT3pvUNvCyUMF+UQunbO2cj3Q7t0OlH5F1HlmZ5zo5JbSfLCjlPkpHmHmUS++UDgp\n",
              "m3heCIkRhVB7P5TKaZhXGR5qw3iDJPr3zmCC0xdG682UcX+s7U4hjuCN/Q2qcRiBg2byv6sfOOuS\n",
              "6gt61TiEt1Y3bWbI3fByQ9k6OywZM43v/GOBE+UUkbLMZymk0IDSP/BcaoO/ToXWoPfEpMZiMWnz\n",
              "ikSmOLa3sDeoLdyIO+lFPYAXrXAXsDlSZ/3V72fGbFtZ131Os9RFPQNSxGFJa6lbWEk2mV79fgsu\n",
              "fM3StKiHbgbdoz6E7Gn0CpLtU6zIpcZox8N/lLKveXSwd/kxfCPDpFQdST+wbLWi+iLJF4bIPu1A\n",
              "mLQ9aHzSX1qOAo20WLdIow5AnyHJOCp6Eaprl52CqQAuzWoIdAuhOl2XqOzhdowKfVxJ3RHuyEfC\n",
              "apf0pYq+VOeMTBmcQfV1efsks3Cljw5b73hi72Z57qcxe/m8z2kpPqf1VJGeTIVe77WLdiiEsN+x\n",
              "MDgLUpSTdEDuSqNZlt+GHv2wKMchiuBSgKTaWaGnb2g8ytLCaZ/fMIr02OJoAFBVqXwSroyamXlB\n",
              "7WYcyRxwR8j/Kl3BG0WrylSE/3sU+wFpr/dMDd18DjWSg8NRDDYNZoHt+fym+VJsQP0kxa05bDcc\n",
              "mS9wcwzpOD0eFqs8CK5QbehHZqA6b3v/U/sldpPgHC+IqGpR9lBerOQG0tjYtm02rtrtvqa5u4AA\n",
              "AAEOQZ7JRRUsK/8BWmkHCeAEKecHNRe6GWVjWlbo71/Z3uut+eZ1Kxbq1Y8V/P4sK/23LqtJfts8\n",
              "ksu2Cn4nzN3qhPpLSaxFg4m9eUo0zXJnVgDPJSNscgxb2G5rYKzVeDOFKA0GHjbFgf/Ml1lVK6yn\n",
              "j0np0u5/qwwdXFHxzvyUVDv8JRfEwb3mlsR8/2l2tRuK4zeho/1fhrCvEBxDWF7cf8v/pVWTHKEd\n",
              "NoRZDFgCPHiB05plxOtzz6l+tkFM9GmrVm7ptd8lfjgAwhIiBIZlr1cOVf1VfXlrRTC5Xm7NrVUm\n",
              "W1rPRg4odvG+9T25dqWc5ycsPRqA3pUG7UxiKn3tlPpoiBRdBBKSfP6XzZ55AAAAZgGe6HRCfwG5\n",
              "XoABEHGhLsUSMb8WkGAb+rg96Eb4Wff71V1PISKfxEj4wVXrPAbha2zeyCWmRze4a/zUy/Xg9oaf\n",
              "oyXLRueHrvL1SeXhRVVFOn+AgEctnYeVUImY2xn7QK7FB+vugQAAAHoBnupqQn8BuV6AAQ/2PbSL\n",
              "RC671R3xFWPi1wpRowTho34oTcKtc9cEZHm9X0Irugqq7/9/0KVaAO0qNByRFUyl9Qllrgx+DgAQ\n",
              "LSaw62KzqxsElpq3t+fOcunw5RPIdU66vlawSUUGk3HebF5+CQ6maw9+tEtN+ruUPAAAAb1Bmu5J\n",
              "qEFsmUwIZ//+nhAHAQ+V4uAAjA3e6O4c/5dBB+kq6qxV0a22h4BmFV7prhnSuBPNAbYx/KtpFu/r\n",
              "FcgC1C9KPSKsZ7TVXGRmim8AgY6oh+gxzRLvnjti7afxsJJbgJa+2TW25ZAl981No6bVCtNI8qXT\n",
              "sbmUynRUL6NvHyU8bmDB3LWf+iVy0bhEjXiWflqxWLzPbb+6TM0PsKIS31zWejInPR0/giWe8+dL\n",
              "K/7corig1TLcw5ntzu6SuBaaDDvOUMj+etf9HSNVQY5ef0nwewPuR71U1Sod5OnvDcbggo6XlhGS\n",
              "8FvYYXqHBRw31JMtHjmO6oCOD8yFaqRu+MKT9ZYWQjHFBDyjC9bmIV4PO7NiWtIkjGAPAFjZirpL\n",
              "SmibU2Zo7jU1LGn1M2CybEv7ZZE+2KAzXLukTdweZFP/hsC3ljIF9ipV+geyqXOO53EWlQ7p89HF\n",
              "uoh48uyY2kBS6yA5VukW83t4bAUHSR/tYyPMHKYJVDk2VXJNzDOg/dr/Ntx0DzwuLr8aydrHbDBW\n",
              "kVWxJt4L/SltHA8Qzfz6xS74V4Sw0lVKizGywgsWjVxyWd1LgMSIjUfAAAAAvEGfDEUVLCv/AVpx\n",
              "MQAhTzga1hfaR++8ShiYzg35vu+5MPiKa98/v+oQB++hbmNMfo2dviiiAzSeCm7XtUXZlFGB7Vzw\n",
              "MskfyZha2qCnS/+dX5c3NxoHz2efrHGIJTf35cWIY6CeInNwco6/vjU4gdTBKgqUcrZzb5eJYmRY\n",
              "UMtTdl7bAjM6aH5M4Tq4MK7ks+nnoWDxPPw6V9xHcgfKUpbdt+Dvl2rWWDn/l96GyTsLOglTYPLx\n",
              "EnThXfvdAAABPQGfLWpCfwGvfcABD7e79jDNTlNqXxWBVG97lD1pL4RoI+r6yXneJ5m5ccJNSETV\n",
              "dcZllATPU+Mtzr/UJ4WvKtDZXbR6zkZFoRE3wB+i/fTkJF6UIMXJlDn/JoNUN5lcAmkcQSXuL3WY\n",
              "aKuUlrgIWBkxGAt64jp1xPgVWAlTx3RvB1Kmcdp4PMCwQQgIHyJ7ypvyDgrXmneCvkGplBmOaz2d\n",
              "uKau/Q/J1o0LwthT8Oa4PtpnkdMMVolpIVXrdxhK1uhkurMr/bWSxUwqJcknvWIy2h5kezIFH6Ef\n",
              "SKsbbif7B3GLBr9xgHQR9kBPU7dZ4X4Z/xGJxvAtHUsP8WgB4iCfmyxi2v+p/gUzCTc8PAqLB/yU\n",
              "X7QS8hAJgXvbCxP+D1GjwXdUc5oOP1lpTQMWsjG8oNZL6G+YsYo2vBtBAAABCUGbL0moQWyZTAhv\n",
              "//6nhAHWFpIAW0hGcr7ZanMKNsS8Vhz1QVN2e+3vpzglhWzPJ8PsikXaWzYmuJzM3HlrG45GtHF1\n",
              "WPyGZdOz9WU05vWq/7qlqg75PA+rN86/PgkyUFxjpgCnSIg/GlLbREltKF8sDofTmQnuDrWu3my3\n",
              "uHqMVNxtTyUmfEXMMu/jFQSuJdL5LMPNUvu5vyNN11O83Jjtcj4s4hkw6gzdEMRkFouoSHEG2LdB\n",
              "dDALtvEyZlAhFQnmpF4/7fHM2HDkyXuDmGeHCpW/pGcnPTbUPkHH0Yz0IABDdcmuO8LFsldpPgHi\n",
              "41yHWf6kpzjSqRiK7CaFQYJ/nTbwFrtTPTEAAAOXQZtTSeEKUmUwIb/+p4QB1q4kgAcWtCBO9lYD\n",
              "CRKnF02qcUOyYH28Rj3d9O9a7Q2ZybRV+96q61J4GBqnTiXS0jUZ0inyUDv70kHxK5yGLShS8Qcu\n",
              "O+qeEQDJuOJXloYY55nkazSrKpxH6cEbDcfzRE5en8i9O6THocaxfR30ZoC/YNRsLgNtbwlS/t6p\n",
              "Fo/oJttS3p5TJnxYUDa9ee3Vxbh+Z4/2n2DsZ8fwRMS42ooejhZNsghAOIdILxJp8g61urPbvrFZ\n",
              "MDDIX2FymTB8DUMbBktW2M4gnFW9mvtUPhFyTz/Dm5CKIBhYf9sgiQI4lIsUXbtyJsAEAKj267w8\n",
              "wXjPem24or+W3XmSOmH70xhv1AnDTEJX6vMMT42xVOguuyaWT4Y+yRc616lvANjm/s3+tilSdHx6\n",
              "dAlIDvEnJj5YBSNrFN+3/zfwhLVNBkBZAI0Ckzm6azae910Xqpux/xOym7eF8nsuNSwoYbNEMYGP\n",
              "Yh2G6l0Dg8zRwsejXSZAcBsBJi3MQ3Ne3Xn3FHVOpZ60buFRUTMgiKdmkZTYQ+ExPrsuL2rujTdb\n",
              "zjAN/bijal/+4XbO6fg/9W78q5qBu01JILws9EM8QRjmV8pz7oWT/2kb5EeEDkD02zueTlNCC7vS\n",
              "Hg91zPBDNoKA0SBkPSDWEkci3caUfh5QXJIoanJElsGacL82h/seyPdzV/xMVQAAOTlIVCkxIu2Z\n",
              "Oz/U0+DvHiQzT8lxyVgK/MOL3nizgjOAsegXGGqkkvaHXZdssKpEJWhpwy9OKfzRv79cBjLv+mbP\n",
              "HjhYErLPfWLkvZIPucYxQuGxg0M04sFCifpiQkbGMavnbTw+F/0GbDX/yG9iB1xBqJP/8dqzo2j7\n",
              "UEqxdxl9r5vQdJEBXgBaEW/gaiE6Q/2N6ymtPgJLClFkA8W0Ax8Kgl4C40dsa5yTTWe4wCJ2PDSB\n",
              "UbOVW4TdHrUYT6XyMB/N6uzRnv6lvQxcmRHdM1fIB4dEs/EDXUwYC3U88aZCVG36JfBHaBOlZGTf\n",
              "sCLqd+1reaNgG5UvrwCApkJwIIMx8GR8Ts5xEhpXA27I7wrEX92W2RwnTb6er1PaBn9kVDxpGR2U\n",
              "9lTMpFMl7g5hnp7lTFFvd3oEwjoZsoXGToJ77Y7oFirtlC2olVYSDqC518FDxfdX1bGMdITBcaop\n",
              "KHPskqk/TqfDWpl7haMyU5xpVIygIaVIYZjYtm02rnG75VO93QAAAQBBn3FFNEwr/wFas5iAE1BJ\n",
              "VFlLNIcbTNuW+0gckUgVMwLcLJsm3QAw2P/mmi+qLBgk5gK0jYXP2F/mjs4oGoFW7mdMHz4KQ/XG\n",
              "3WtxZ/bEp9TXtS43JYEcOrQc3DegenIq6emrudPAkRxGq+jlKFR7WneeZpuWmqTIMgh+kS1SPatV\n",
              "/k5zPeFtQA/6FIHEtdX9oBeEvYy1bgp7/kYV5ysU9hdNHUpqnU20dR6eIAMMxhzkgIt/6WpDEd/k\n",
              "u2hsxAj2puljPrJyeebsasjeR16C+/1uCs/lhgkWMdtZG5p9yTfcLdJbnDT/8LbvlRw7PyaIoJyj\n",
              "U7tO2hTZ0KMqw8M+AAAA6AGfkHRCfwGuRL+gAh4gU5Lj/pxVJ9kIUJyDyhZcildzzlxU7eIaNVLv\n",
              "Ai/405BBxxMrpzdEmMuf1Strpv+htgMDIx+njnxdeag1DnNRUcUwLnj9OuLsaLO2b8HjEJApUZXc\n",
              "VRgdA8M9TaYlvWsqLKkSFt0TiAvPzKOkPIffG0/KXrH2X4uH5b2XlEv11XV+4QYty0/rSsQiTcZp\n",
              "mYWKLzlbUeltxS1WsyI/FEISCb0vvx8LRv7VUU7Jg4/RVkNagVRFl0KlxnOlXc62Q5pTspsr2Siv\n",
              "xD/CLrPOdJzrAiaL4BYP/xACuf8AAAF6AZ+SakJ/AbgeHwAhTKWO5n4zaqseIML+6DLccNYj0bN5\n",
              "WM4jbCljRpbS5GgaMP4i/tNFd2EOL0sbJOVwahFjKYRdzg00kV+yndjP7SgtKQcpZ/8v/BPfAPgU\n",
              "uW+hkj4rCQuW6CU7MCuP+8+PBj3Mceq/dwwQy/Jh6ExxpIuXjrxiLBUDMQdivddGHT/BzgovvkXR\n",
              "7MxUCHV74tPLUzv4lnnfReum0xaCED3ez3J8ypA90bFKBK3XQMFQ9Pq1D0dLuKpUDokHkeOPRNU8\n",
              "nWXxGR98S8qJmW/RQwRXOc3Fnm5C/f5raiRLHB5nIzKGuxZEIebxaKaQQjC6f4Z2Cz5oL+DJbDPm\n",
              "0shMKK0G6PsVE93YSchEtSuUjQw+/Wew5EHbN+bOdcfBHkoScqUCEDAdpVaftTAcn+K8b7Ae1VM7\n",
              "N7iTwRXLMpUpOUrpE+YXcK6JozJortBT5xtk3NeSx35O9u2S6sKqQ8d41xWaAaIcahrn5jGr3lJz\n",
              "GJ3QAAAB3EGblkmoQWiZTAhn//6eEAcEd0ABGRwCuokGI94Ih2EKpMeOuPS+CuJC78IVP4QNowpR\n",
              "Iue0xlOrd6Dr4D2UHiL46ELx8qs/GRcj8Onv9Z7N8IMGmUkK3+MIEwqyz41ZNIlMCr/6KXJIDBIl\n",
              "XS5cnckyurqgAyAyg4GBL4KgAFwsg3HczAfXKzj5pvJ/z6RuhZknQzvUT6ilpisAZ+dlWZBC0B03\n",
              "RuMN392vxAj5mbxAYHguFDxcB6EjL23obnTklZQP3vySnB3FYK6GmiY9UI8xbfuuit2qAmNKP0Yh\n",
              "yM/4bofPgiZD8R5EekgpY42tnuHdJxSiEUgImfNIRYk09072H3wLTqJqJNHnVKepqIzPgMgQC/9N\n",
              "6Q7fmC0IZvwWpbfEp6iPpMomdhGu10Tqk3an5dtQMy3YMgY3ppI/DVnKrg39cDjiXSGHMFMo2I9E\n",
              "9A9LsgWG91La1Ph7kI33u4qXbo9y3HfXD4K5bPS5SVjPHHKHzt3FfukOYXZbRYn7VcndsH9t0TqJ\n",
              "Vx9Ua/5Bj/1aPCOusngPvXppwVzvQ3CMW3zloY+6s7TV6HN8FoY9edlfSW1zAwb/fNGJG+/30Ip2\n",
              "/z67/o+Vn3MccNZnV3160nSevfWkJsvRiGOAAAAAuUGftEURLCv/AVqzmIAObHBcHKuCwzL8pX00\n",
              "vrvdOBmB6Gu16aFpWi55WGwo4CqmuPjZnPbtjDT29VT3GAu8dIXPSgw1k38vZG3wMajbIUPTU4TB\n",
              "k3EWwHrkIduxypEojpJZUtHJ65nwEbJuNYfGEmdb+jI+tt65M9Yj35vzPWBPCk5vqcf7KdSIjSxf\n",
              "62NbeFIOngCH2uFvmWIHxw9pg68zOGO7FUHKUaIQIDeyoB2y7HUIzCDivumBAAABOQGf1WpCfwG4\n",
              "Hh8AIUYBTuoN1wwoWB7hBZyX7Uma/vocTZ2XL2d2jIQK1A3ylMjAekM8PMemO5+o0TH/yX5rRIHB\n",
              "yEGuGxUjoGlVDCQg2+IiovbIYseK6eAw7eVbFBtNxJc4NJ8dUuyNh5W0Ehy4zJexzHuILV6dK8jL\n",
              "7C06Oj+OLy8ZxeEskxJVMmCPyFsEb/oQarLZ/MLXgn7GrPxZ9381xgCdYWEA6GH7VQQtTT2xYXxW\n",
              "tSPv9vSexGybKB8aFAJS1fMq9YorlnMtryXOdeRKeBf0DGx94dzErZthe60F6LiUhDmBoxw0uuIQ\n",
              "LA8cNKeP0B8QmzPbSgw0vz9/qu9oldJsB80xDtuySGjTHjSqIFvcbcFMiwrSiVCy9yswyJxJlqtp\n",
              "23TyOttjxlps8bbsF9SpQsUzB4AAAAEDQZvXSahBbJlMCG///qeEAdYWkgBbJj9Pn8SR7Gd8K58Q\n",
              "VDovKFa8kiiwqKibs8nRr1OwQvOCqyKP3aWbAdvIOCooKJ3y+rB+iqV2IsR2L3cNANNshMkYcN3e\n",
              "sU9jC7VPYo9Y50ng5HgSO4wE5u6R1vW1cTRT+Xz7PbJoylIMDJbLsOO+ISKTkC4PVKNdEKMhwbfE\n",
              "KUURoOqDdERmtkoZefJPQ3T6giXiVKxf41/esRTJe4OYZ5JaCljGbkNWZx+IFoQRbZq1F2v4I9wK\n",
              "EJup4A3Aq+SPL2EaeH5bwaaGpfDuoOG12k+AbU8Zi4QPSso5xpVIyx4A2LZtNq6294C5cOWzgQAA\n",
              "AdlBm/tJ4QpSZTAhv/6nhAHWiaQAF06809DpmV7bBVCdJ4eox9QsiiGE/36UWe1fE+NKPz6Kppfw\n",
              "Q9/mn4R3mmbGykKiEoVFFMScdoaz318Dexxrgae88nAJVW/b+tsWN/VkzVGzyrI501uvoFTbXV1G\n",
              "mZwOO3HFJBLxCZ+Op+kneG2oKxMI1ADSZAX8Egn9w7BNiJip3icAtBRp+1pKhRN9HHnH9g6p8i4Y\n",
              "O+VjsT83XFif7QrHTyFzE3eq5MpE649LpubggjeuUWuIGIGuC0/MZMru0A9Vc9MEUUimS9wcwz7t\n",
              "D4ZOrzkIuCw+hKOpyd7j611iGHxSigNhpZsBisc3++B17DWVCWv7tuSwxf1Wnm56Xq5EBT/Y/RF6\n",
              "vCbfidMvUmuxZgZQHi684oSVqJCSNLqZWWWqhy8esJ+MFSoV5q9/aNqhGOq0u7TdFs/dsgLi7+Pw\n",
              "i+JAjXw2xjSATJvHvtvlzKSQJL00y9aSdAq/JRoUYh5przcCkTXqP7dsauKo37JuuxZbGYgy/mra\n",
              "9ydqUVSKCIROIrLkHiTPloR1mBNHpCfDGj9+RvuUMpGSu0nwCwU6WzAW7yVrXbimnmdbB9NKvuje\n",
              "lHONKpHP0GWhUGCgTCrOPy+ALQAAAQlBnhlFNEwr/wFacTEALeO5K27a73l4VQxooP+n1IA9vNhI\n",
              "hRIYdrEfTcVkZ60zIAWDP5m7jDWX/zp1sEKi634QAo7zejxmmC8VKBSOZocxidLZ/67LVTbd6yjM\n",
              "k6QJ1FnJHOVRgNCzAyqRxOZQCHO2yAkscWfHrdZZmeQUvhz5u3RIrZaX8uy3aRKIg91MwZZf8AhC\n",
              "wIu/AQjW6DTGqC8nu0Sd/osz86ZSVpTO/kLu+bU0XmwEoxQtkLuq/++Z5SLAvmRP/axm+2SWmBsg\n",
              "5D1iEZNYTGiJwE8uGiMm4Xbxvnd11Dh3KoRzOPFLs5/szrANWbo7Y0ozmX3UXGJfVfcXd6lekM9n\n",
              "B+FwAAAAoAGeOHRCfwG3+A+AEKaiFtPsDaLDoayTopQOqExxgLlqm18qro1J9KIoJwj37/gBG0+F\n",
              "TpFo9dOQ00xiCkTOJGozlvhMxLFMR9x11UJdIBsP5AUS/RbRVXRanUlpfoU0BQO0Cv5R1K/FJMgI\n",
              "n7hI0/Ts5d0O5PdlR3FFxYv4PPgM5B1W4JZ1QSaiFvOp2TxzhoKSi3jcKL/nbsM/5idea30AAAGB\n",
              "AZ46akJ/Abh9T4AQohnLXU8HN6xF7cZw6KQ519Oagg+UCEy6Ld2gYbmqNnCzQUv6o7G6pEz/k54n\n",
              "4MkaLY4BCTBVYXv5Ls1qa6wlV8Ku7BRWHwYvfjvb4rdy6NVczna13KdvE2VheQ9NPhk1od22eb2d\n",
              "whZ7Mql4eTdiBnP5KmWsDwLUtb14MSMjTa+j0NR11l+/Depsf8JXzfjxCoWUEGlIo7X/oXOZc7Gb\n",
              "oLWszpT5sgQAc3eY1E6svoPfjekcNsN9mjEinEui4dK4Qtb5o2e+759N6KuyiMu2suivbbv5Jqcn\n",
              "vDCaldfAonHpVsi0RMrGoYuowI34rdEfKsmP6HliyQyPKIyp1RMDKEbIzal+JU8X2trWknIrQ5qr\n",
              "YxrgsuaYWdF04FuCKgaTgXvqAF6jhUCCc9VmNGEwisH6Oad+wUWcpbeeNB1YS5EcuRL76neukVw4\n",
              "29j6EukVt9X//lVMQQ5W5dZi9/L59SDRWP4XMsY1cEEy+lEJabcR19320AAAARFBmj5JqEFomUwI\n",
              "b//+p4QB1UfU7OSAAuqfCMq7jcb5dFC9cw0eLHbuhSWd5Nem7deTVF6D+FI1DFbENEvck8DGUOVO\n",
              "DmGe+RQnWvNfxfFub8j8uqlUI1MBQNw4JFkn9q/r4gJg6o3QLCj7NgFj6BgihcxDoYnB/a37RDm3\n",
              "chvqSqGeQUYdfi4xs6MnKbsr/sHi0StsVVVv9gsQrKIOS2aOLZqNxKRRbowsk23fDMvRDyWfPRvm\n",
              "fJTo0k0lMD68EaujzpDCA4AcixK/8TWcfLzcOG12k+AcEcsHVPms/CTEnX3l6RRnzxSa8yipdchj\n",
              "SLNOE7aaoc8++vn37a7tO4gtn+kUvB4WFtLbuTkLGS/NP5MAAAGaQZ5cRREsK/8BWrOYgBNS9HTl\n",
              "MzCxlIVr0/Ea/iK4N2JFn4CyZNZ8ZGHJwKOkpR4nx3M4Pms18XVh//ltyVONail0+ERDXlwz4pob\n",
              "cvjDnOUwm42iSnaWbq679UkAeUvfUGAkl1idl/p0ETJAgAMif9YTAbwZ23G3z4v46KQ2qHUracYM\n",
              "UmiLbiYw1i2hPSxY8gtvzmBlRL1XZk041r4lr3nwCD6OQ8CMfFQCMY38zwaFcPS9pmK5TBT7VHPc\n",
              "MrdmzAYnNaH/zxkOYTCA0Un+6UW+clTSS3+VlfnUnk/NMpwa18bSnIZNmqQDctkQWnx/x8mBfvu3\n",
              "Vot4Vj9g3VrMeqBw5fpRZHsdZKnfhXe3sC8iYOWX/la2sMaFhpGS5/eUE1OfQHFMpTkhtEy3065d\n",
              "zGEsQgrHBee8Ye98kjT5naxdQ0K7gj7dG4ZAIuzX5zetFLXTDiLtHxNRXkGGG9sQWsVzdr65Sf7o\n",
              "XmewETP7NWgysifimH7P2emugquca/xmKjn9OnYF4fSseoORB+rpI54Ush0e3bOIcqMAAAFCAZ59\n",
              "akJ/Abh9T4AQoHhSQJxQqe3Uq/1XTrb4UqaiCpd+jQX9AuFlAH+nlLijPAgQ8tqXdZ3+0/bgKMH3\n",
              "vZsN7ju6FPqz1GA+gH8JfAIjk93sMt8okkubgUNihR86CaLciIow6UKqAJtccd48YQGYz2PKcT1l\n",
              "0XnhCQs72aQQiUzq9q6M2TP1JX7L6LZpB96Qg3piScsuvcQr6/4rRbfzccqnZ6O1lQprqdspBPEZ\n",
              "hlT8RZZ1rejTF2wB9sxDUaBPRiPSHfMaYrB1RnTCK9LOq0vbjCZzbMWhP3ZaaB+yaOw3DC39kglj\n",
              "Mv3Asw3bc+Khh74VV5rlMlOXAwztqZVtmUiqN1LDje1lqQY0uOlMgHpNrMkZB6eOYeeimEFMGqRb\n",
              "HA2PyMHOBk+56+fjKVkDDHjraD3G4bKsiYG9Avo2xpRoQAAAASJBmmFJqEFsmUwIb//+p4QB1haS\n",
              "AEtWmn2ZDFsotUdEItzazjLTZbi82ul0QeuDXoTnddObRhiLLjxGob0lkqlzbt1pkKmGFxzQ748u\n",
              "HHKRC0wEcHONNAIl1Ms9ZvrGxEL7/o0kAxYZH4dTMkMRouw7I6hny6XcWw7equGpNvJuc/ELdVOG\n",
              "puXwR/BLC4ibEKE5gTJvvEAD/6Kj6aV3uTPpoEshsz/Kzuvd8/gdbvBuRBa12JMHNkVSlwJWKRSg\n",
              "nHVjTQtFmzI18IDxyHXa3fxs3ROtT9jsPVTDcCp3+OugFU1e38B0T+l4Y76dyYd9Rd/raPIfXPAo\n",
              "Ho2DbeMDUlF0PawfZE/T9NLdPvLGVgx81uldHiHzQRksiO7q1lSsLa1VSAAAAJdBnp9FFSwr/wFV\n",
              "4Jsm2ACdFHaGN9J9cVS8fbD96Hb2i/oLOTAMvLFbosBhQPpbQ/NAw5ZAPMxM1srdeABLo/T6a4uc\n",
              "Cjz1R6J3mhMLdSYm/ABYB9d1NB03hFrryji/jMdREuNjTQpGY5nDjaz8JnNftJuLf7l5hhTF2ZGf\n",
              "bOS7yWd1BxgxxTkTGr7VhuQfp8XA1ccKvlTBAAABdQGeoGpCfwG4fU+AEKI7sS/GOSxRSnOZPZAV\n",
              "GOssLRj8zLHr9VMUBe/syyx+mDsIOo4kxJE80QJ6nr+c0pTAEusszIz8kr4S4ATrAS9tVr2rAu9y\n",
              "ujpUsWWKu831zKTvn7FjpBqwUfiwviqcYfU6kU99qHKBIhyenQyUONrLz5Iu6+qzqofkVPA2h1Ou\n",
              "4BRAoJhPEePFDfRZMlyJ/8kpIxgKKu3W+N1U1P73dpRMWHzWdFTApkHCtg0m6BaNVKsSccgrAkqM\n",
              "AGk0pzRcoOLuJH4KmIzuigAwQoLUCWfznRa94oBgNdAv21BQzJPpQhVYJuea3XMBEmKNACb0rTWq\n",
              "VZ5BwFWPceXyF2ekc3H3qPSIvB0xTCvXHMZ5zTc+BozCO1DBLdTY6LZZpyHwlNYaQjmBZ/xNUhNp\n",
              "M4rq6lsIETOdj3ZwQADuyivfAbAU1FS/TTCw02vtyYWTyYn1+3zPI4uDBIKjMie1AVg4ZPzyDVxl\n",
              "tQo4ekAAAAEeQZqlSahBbJlMCG///qeEAdaJpAAXVDiFGn4dWlL5P8m5OBVFRzaxcoQ3tCq0OHHb\n",
              "lrzsgRbeSDiA+QF2By9LEVJ8nUEdKHdSnU8kzNQCcv6R72HcefQYNAQdQSeLlmautCY3DbSS3AVp\n",
              "cjMUwTOvkamiXG9MzY4FiKZL3BzDPbE0AC4jFfMUd7EWDRifzEY7xbJw8k3qa4s0fVHeq9Xg2dXp\n",
              "PQOlcn1UIDrkgT0Jm530MQ+5s5Grx32mfyFBZWTOeM/7JXaT4BzC7R9TSWy8Cr1VQCp0S3Qn/MHP\n",
              "M/HBbNgmRvtNC9KIZFo2C3ak6ztDmrtDwcifXdoEXPO3ya04r75gd2a24rNxz82JRs4WHLziPr/9\n",
              "4WgAABu86R77cQAAAKBBnsNFFSwr/wFas5iAE1NMdVity+xOA9YbUXM+2JbXR6S7sPbJW6K2XJ05\n",
              "egeboZ3wu4zbep12lj18XADUSqIyJEnasRgnsNvcSleBDDO1GNwIyhrjFaHLfhH2UrJkSfDnXgK2\n",
              "TC6SIvqcP5JTm0T5MRoA/o93uUnu30c8Hw+G7hzNWLmlG7mSGZ5vWmj6tbfbjWgO4cnrOIcPw3fx\n",
              "1uWFAAABOQGe4nRCfwG4oa8AIUXjUZUKWuEuiwEJ4gMFq+Sua7daUja8dk13NwrIfltEY04PbRmK\n",
              "2jA+wf1iijsvXiKae3Ibqcy3JEnGuwfK4CL3cXPsLF25aDFe8UMoM8xfV8t/g9vuzmOBuFykA4kc\n",
              "2BtCwAIYFxhFhMmMzoDJ60VMGqHgk0xg9xrJ8nOcVepVxCXtMbhwL6SKV/gLssUtoSzd2lqNm+O/\n",
              "l8kFMAiteVUQX1fTjYg+k7vxtFcN1PNz1/QlYUOIFSfejvc9MX+AtDZq5lN9ot9t+ZeOjV1IRJRc\n",
              "cKmK9IE5DrHgpTkQpOm4bOAiGZ3skbZZqdr+n0Kd6Jn9ChWky0uYmuTfoJxiRGmFRARTyDfMANc3\n",
              "funMaf7OO80vKAH7KeKUIXlF5ehvpTB2I5vVnvCJXX1dUHEAAAF1AZ7kakJ/AbgeHwAhTKZOVrjf\n",
              "drJI1LxKJy9NY3ba0OMuWtonVxmHzr7ILzmhoul5oUWnMoryO7kfXHEPERa6HP9W0GGIo25TvzeL\n",
              "ScZNeKJqnrLawiuwCIAiIWyqTt+75ZUwu9i1mzpBSvQlvq6H/7IknVRcg4bFleTQtZWw7eJxPIZ8\n",
              "uG1NVJLT2b3sp2xtGKX9jPQ5XYyy+p7H0y4FS4PgfEEaOiwBA4qpdq2eKq1m0xzi85xxJxwxmNkI\n",
              "eshqUubQnmIXQKRmnGOKI66CMswo9phDLJaOV42vT58+3L7UPQCEN3BNZdx3v2WI9z0mnWXNIBMs\n",
              "8Hbrgih8t/eyVoNE3PPmN+3sFJ5iQ1991O2GluDA6cOeX4AJErQXO6dH20fIGhSNta3to+lS5bAA\n",
              "7M1MrqIrUodaunuanPlu3tKVk9e6J1jnnBubY7rxE4On2gtIpJBPjdkdKvlaAv/tY0bApZU8ohgk\n",
              "kGbSWIzd2gL+j08XFwAAAdxBmuhJqEFsmUwIb//+p4QB2C9xkAJX3tOPUh+cb3QNeNDR8F3pMMGT\n",
              "fwB+6MXYbRjEiL6Rhx9jfFJoxpdaf+P6Cc/2vzRNVrge9anFSqSVcmMXrEPuUzsAN4/8s9RmIdBd\n",
              "8TYPnwwCzVSe/bZRucumrEdN18KlSo0gWx4MVtpepcVENG+hgw2ajTrgqjgs4zcnxBiMUUdZSetz\n",
              "xaR5mJ3rL89g1mMwZ2Synr29HYo5wKDq3FsZbR9e6oJLZ3hPVKN7dmHwLcP6oRkEA5q1BDZSYRzb\n",
              "ye4E4SyKIRFnTn6CSCJymGkYcU024edPc9ytXdRMLuiK8IVQkr/j2aSc2NT07gX0KCfFkz7bJ2io\n",
              "1RFZzxQ6PARRoILzACoKSw1XPPJrgpnh5T0c2bY41aGoEHnM+T4Q5W9aCQTS4tthc6uia3ckUf1I\n",
              "ewIqeZXcZofOT8/ypCkVYrMo4sm+9mwD8RAWtU068xwBj/MISJ0Rd8xhUfq9bJHXyBcAPtuq9gl4\n",
              "HHL6rS0KAYmuTiEOF3cYVEFh9QfCNDqdeysCFHv2I/mbi47ejgdc8FZ23EW14ODmGdwKQCBGKmJK\n",
              "pP06oKbS/KyilbNMS+6uY5A/dAH9Qe9GzQgIfVXqVbecY+EV1wAAAMRBnwZFFSwr/wFbXLAA7QpA\n",
              "ukCyLNlM/W4dG4r/4hZ6f1ArVnUa/wCbGtJHf9omdFZkNVLMB33m106XZUz1kH7tExsIi98kG/iM\n",
              "n8uvVb+xouSmNI5zJwTNUL2x+yI2MVP0OkHpsd2ovg0pziH94VV39J6h+zAX/PvjL3TWLA8Lrfww\n",
              "1lCQA+vJFV+VPcZFDnixZgx/lH+xNCa/5maIsxUXdpaDEpc65gtKUL+6c8p38bLoHbOEeCQGAqW2\n",
              "YecznASReX+BAAAAUQGfJ2pCfwG4Hh8AIT7w1vgtFSPnuKW6lbQj0QPNTlGZibuOu9s9YcLYoyOW\n",
              "8Pa6WN61WT9aQVSaKzlXUNtNEdmNQ+g/vUEOCIgDE1yYuQ/B4wAAALZBmytJqEFsmUwIb//+p4QB\n",
              "1q7PwAto7QBbhxB6LutVwv9uZeINo1q/Fu0naq+Xr1O0w6I7MVib4TwF4J1uo19SMV7cRYivvPd3\n",
              "E3SXg1wiGCwgQIHMW66NPi0HUZv1YSqZom6dNUuEhRjO5tdUnqLXekzZ8qxFMl7g5hniA8z6kb84\n",
              "inhUNQiRXxWlMj+zzpkoHDa7SfAMaB9jVqW3BfQJEoRDgtsyfJjEmur/rXmmmKOYwnlMdAAAADxB\n",
              "n0lFFSwr/wFas5iADmp3mL6IRHW7omS0onmfCTb7jP0NxoErIhTYksmFEfpyArWq76IhiLjAvf2A\n",
              "PSEAAACPAZ9qakJ/AbgeHwAhTKWO5lCwNgihSus7ht0kRnK2DRJcim9tNcRCTfM/I3j0LN82M9lw\n",
              "eET5XsP+MDhJ2hukAlTEUrs3IEkb1rb5P+7aLj3sPsKRvgjLm6kuznSgifDLnwPa7K9epceFDbtZ\n",
              "neXLmg3Sfod1QLbOdLAwQe75PjPaQnhic5FO4gys72sRm4AAAAFpQZtvSahBbJlMCG///qeEAdYW\n",
              "kgBbSEZu5N/yu2Lr3Dehm69P+ivXk8VQGIzDrdsYYQp4zpPxc2sfcFI4L7hx+2GtojC2Odx9iezw\n",
              "fhsMVx2tCa1o9+OdQSjwBC2a0bFvwfj9WpDiwtEbxreEq5aGMCx0PY58SI3aEttE76DbrJya/Tlm\n",
              "Hx8v1XmnwKha2u5xFmMxatR87k8lyvd2KoXS7azdmlURiUly7LmxtmSIb2/b/835hWRQEYyhypwc\n",
              "wzwYd0LIj3CRRMWGaNIH5XubBJzlI/54DwNAPcJyQyTbuH+d89XJkY58D775XbH3erZeV+SNwrIc\n",
              "NK9WfN6RROkuahwIHKapYzjZg+mwn3QbgIhndBiCnmjA/xmX2dZqWVjg7YqjNlinGPIkNrtJ8Asb\n",
              "nKP5dKOZSpH7jkTBEbYnlA8pecbrdka400AiSDzXrrUUwXe6bbD0Z78yxHcMnX4qmaVK0cMT4JWB\n",
              "DAAAAPZBn41FFSwr/wFacTEAHNZDUEqrdgMUKaiBtNrhZ3sAF3bLs9b7sHr1yQGYzaE+FJx0J0S9\n",
              "9lehzCxjM6NEd5LS1VwXl7+WTBkaRc+PchnTRwgoLLbNVMIZ3Jiiji7Lgrt480KC3EudinRjWJu1\n",
              "bH3mbf21KS4HE2biLGYTMTtymHoA/bwaCRU+z4l9l5h5VAl+EF0kBYy3N5q+SYywWxG+A5G1UYCo\n",
              "m4fxspJzDkNb4pLehSaX/Zuym6iT/qdB2GOtCrIc7KxV2Yyn7B6dWvA52n6liV2cOhgTDHW/nxjT\n",
              "AEhM6/ez4JPEzwpzd+9eNZwRHlP/jTEAAAC1AZ+sdEJ/Abe+xb4AQpmvSMh0mmawGeoYI2JOBAWz\n",
              "g8NA9jnxH8LLXsw1JQ/F89OqI5mBduJ+yPkM+DzqhluLiLWK0TgpLE/2d3XNYmHSmEQEz7sWQHYH\n",
              "2Uk9klgtBT4utVaozFrT8x6WbZd6+G5K6GNFsff7ApoYVPUB6kWmoAz0omPeuoCgx8a4ykwPIqe6\n",
              "pw8LbGEpYAUnnzEMkfX4QzW3nleZK5ZRh8qDkT0Bu0HU52N5eQAAAMgBn65qQn8BuH1PgBCfeH/O\n",
              "fUPJcA+ITxAYh1eBCbACl+ktdZg1xUkQDqoNarcs4Od2Mxb90TD9nN8R0IToQCGns9Gtgv2XikD+\n",
              "OEZ2t/+vPQv0/af0G7ya6o16us3b8qxINBW3T16JbVbjYx+Rd0lIRL+u+VjGd9gT3jqy2huGem8Q\n",
              "DDxpoeNgGgXf0BYJ0/AWGwlhJjxss3P1k4R8rQ9Nuwvj7MvOjeoyNodic7Am7gspMSDsO6PD4bEM\n",
              "nV4h85xVj6BgzEy8eQAAAVdBm7NJqEFsmUwIb//+p4QB1omkABxuoMPgo3YeaRJXtkTnmdXDLYBi\n",
              "y/E223yGsjBTQc+S0j9XIZ5//uphtD5lbgdUAtHZXh8py8GSI1VhDNkmBDawcZ+y5Echk6DJ0BWp\n",
              "lLBW9B6Psy7ogpj31LoANPCJUPJdaV8BWerFehOIL7jge0FVbWKOWVPLnLN50rDUKxFMl7g5hniR\n",
              "JRs8b043xGqGLpeIQvl3LZqikdUPmR/gIfOHP7hdPW6mcsV/5dmQ7R9KNZBRkwkYI62NrfR62Fls\n",
              "ZjdJWvLRkb+pB6OvmAZpRvWEpoRkPrhql+SPmuimXEYfvWEOEwYk9VJB8hUZahHEo+yLQQJ2NEZj\n",
              "1fSh/9NxvsT9Y1FTb3snumHXrN8e/BraNFhbmfgeySBvI4RDWJp4uqz2kjvplUOM5SAo/bR2JKpP\n",
              "06ohJ2XsmsoUTUy1PiYqdPVCAAAA2UGf0UUVLCv/AVpxMQAt47krbtX2tFsSuVsnG5OPZZ9munmA\n",
              "3OQAopJwWjiX6SLtkIXm7iyCgmIOqB7QayLxAnBzQgkD8vCyW6snZEQEp0EX+nlGHMxuNfjxhb+z\n",
              "5xa+tyfl3zHTrWTSsxLuS8E2vvbm8P5DkzUFi24m5olPkH1ArKTeYbdFoaQZObAe5QUdemQ1EjXH\n",
              "DCmkH8rDvvsX7L+7q80SU2L08HrULzvheFgEbF9vLWoopJyELxxy+3uIpiAmbht4nFu/9sYrY4MD\n",
              "g6TvsReAxewgDegAAADfAZ/wdEJ/Abf4D4AQp17rG1PwxqTY33ZIgNZmaCeo3osUBwoPBr+m1dHu\n",
              "NpdW/dZFw3VXpE1RSvTkUH2Zuybn2Bh8aI3T8kXaWLbd+sNrTLsdA+O/O92MCSlnUniO0zSIBAYH\n",
              "DJYHJby0fndILpC3Q6aRl2k3TUv3ARhW4wsFFjHMggDC0Y5zo48GXuVkaoP5phPhRr3OljC0kbEd\n",
              "n3Xk+uzuRVYjSrSLrDVeK0s+CPUjvXzMdVGiCyIhZg/TgVj5vlLMuBO7OQxY30YeA51AKwsYsl7A\n",
              "Cdkjb28jAzASsQAAAMEBn/JqQn8BuH1PgBCiI3K86fxBEVkhCPA2Ia1Zz9h3cKzWchuHxMY5MNZo\n",
              "vZOC7jq7ITdePENAAEuTxTGO3u2jckBHBEX2BLG+egFBNndRvoDzyx8OhIoIlFvFMepNroYFzxqC\n",
              "d0iizeu8RTaaBarHtqj/pDO+Su/E7hwd3tu7ES7JCD2flvRipDlF3ucF8kaJ1bkVcQ2vrm33vh8G\n",
              "d7jhlS2zOQyJ5RENIWc7W1gxaIqpWtnVuF4OCnm7G2qtzzugAAABk0Gb9UmoQWyZTBRMN//+p4QB\n",
              "1haSAFsxtKHuZQ8vdMrA5jmyK5j2gyWlv5dxzqCo2ZwiRyqpw7KgHDD4TEY797Q5lkniX4XZfTaS\n",
              "VtbT9UtidPCcW2JNGikCvr1856aVQTCSgyO0pH+q06yswWZoNDRHXHVu+/lf6faxSU4Qkc6W/ZLq\n",
              "QsNWGIx8AQV7aM2qqOth+ZFWa0bDm+ZKF1anm0ZPIOmA5Jn4cgwzdzB8RH067aKVOU/HAcMvj9gZ\n",
              "x1NNBEsWKswpX3WqCB1RI7Pe15n4Z4NrN2e3H3AZ7kHxC1KUasN7b5jMFUHHnfWhgtXpyBTXEW14\n",
              "ODmGc5I48PrXowR/+uSH97w1bubkZNqXvaG12ZTIZpAB727rZ5Q0/FI4KCDxC/LaP6duLaLuXHDH\n",
              "uud5xri2sBL1XjZJgL1dNH7dy/mP8AogNrNa5CT2MdxdO0iORlnj5jdcQbHgawZUnPzRy3uvg8F4\n",
              "7Yh7eh66l+miOBGSnECprjrDlSo3W4sPXn9MmtgC1SEx2JKpP06oUJfN/kwAAAC+AZ4UakJ/Able\n",
              "gAEP94ldUk3rxeDlva0iIuK6Nd2R+dDR5UisiqjP2Wzeh2orCzhuPTET9iNF8krfjo2UIwNtLb/P\n",
              "15O0wBb7nw2Hod8Od7LlPFFOiNrzI4yaqtulQ5Co158/vtub7AL3fOBZJF8OfzvORTo1O1lRrYx3\n",
              "dLUZUuusPAvCGtY2W+RsYxhZVEk1uStOqChaZV5vKytCvfZBf2DP4jGJSgtUdZFjoUhxU7500Xu8\n",
              "8Vne1K8pfKkmFQAAAmVBmhlJ4QpSZTAhv/6nhAHWiaQAHG95VKV5JlxoZaLSCQllE+ulhNRuPIZm\n",
              "bsVuxImpuG9NP4q+J3lOJL4q/0Zhym7mwU3L303AjCGDEujdaR02u6w8tNQ/FMxYVzUen94zZxXC\n",
              "hZqjxfMxQkvtQf1IzJjYTRwDZik6jrCPM93uQhrCNA+Ac55Ht7t0RT6rGpR34bwDN5zYuu9w6ZIb\n",
              "DbcpzuK/yKh+jHAgyMrafzOSVjM0o99nO5STHUjcKd2SDQ4b2jre4rKO5U54ZQ75sXg6+RkZ325e\n",
              "i2Nyrw1xHnB85jVb4sJkD4e/AQ9hs5UQMCRhDrsdkmpf+C8Yxr1kPtXntMFsAWgXEUf8sp5MC8Vx\n",
              "KKr4YBIqANUiBPcHHynieZC0FYYkcrdHRC1K9kWor+jUzTtqblKdeY50u+FCaFp/o2UdJEAm021G\n",
              "l2s9Wmoam78XkdjVdb9hGeWEwXgAbK77hECwZxOWy9VSfJa6HZNJbEJGqjmdmPYypNqpYof8lpvt\n",
              "4sUUhJlxSxnKCJiCBAeHOtRmVKl8d4s0NFhmZHapLmMZpYZD89g7SgWoywTAHaw9/y8yRjblAYyh\n",
              "ypwcwzs09Xqmdyk359KYMwqJXDDQAADdtHOtxKA8P5jIAcT5KQgpwbOVYHTzotQKZCT089CyR0m4\n",
              "3X5CLjRgHCJKR76YSth0PgHIu2XxA2iezd8Z1K8zC1lQPJzeH6wl9zOJzIN/zH7r1maOuCJs69Bt\n",
              "iOwY0his+cc0WdHKWph88OGlE/sr+LGahrQwL/ZK7SfAGS35iJjPtw+oY/ydtPN8qDOUwtoShV7c\n",
              "AAAA+0GeN0U0TCv/AVpxMQAt40lzuy7eoIyXkL1ZSzE6kqt6+0SQb2CcGsq56o7rOJBVLMR+A956\n",
              "rOpGffDp8cq6DRRbpQX7WURmu3+dBMVWt2GMeAhjouGetQc+0hVi57gWhNzmBiv5ACgYyrqYkatn\n",
              "G8iyPxRO1Ey+2xm4dT8s/meN15PB9Eje21kWbadl5kCrbsiB9nPacJtClZP3EeKH/i1oylzOtZFv\n",
              "etu3+nRpuVeoSeQ0ybrBnmQat1Fu5eEpW0ISf8OIwsx9M2M/qxjznHbLN3R39k1Jl5PJBE/Q3dW4\n",
              "IHlyJpXY9dRfN2+KKgXinaV6U5rJAOQjgLaBAAAA7AGeVnRCfwG3+A+AEKesdyXqMP1A/dalCWLY\n",
              "jD135GRRCA5bbdilhEGoRtJZHefGvC0jhOeUaXxi5jB/k2XIk3qnkY7Ys3Y6EQvWz+Y+HQOUvyZr\n",
              "FKdk1KBPJapUwWygjKcJbvD8poFtfSvvxZlRbb2BoGmrVOF6KbHVqEI9kyuaJDOVbcgMXiOrsZaa\n",
              "Nu9ns2OZdpQ052nQG2qRZFNU49G3F52knkeEvUu5FVBP92w2wd4hV8xf6MHhwVfsLbNzJtRTDc4o\n",
              "DABpPdYRCVKDLzHvtxu2PK9Jcee22o88T4unPGUSeAtzmTE2SD8hAAAAhwGeWGpCfwG4fU+AEKI3\n",
              "HmbQ6Vy0Wm7wwRsj2TLPanyQynj91mopRHbOM0ZhJ9MVgNvlKwBEjpxCYfWG0kxIfyjxlF62S6ep\n",
              "9uI3un4cySp9iumwPEGnInYHsLJbzVLDdKpJ9y9KiJzi3kkt1aw/lbAUREuUxQ+aWNbcRSun2Y7g\n",
              "fJBRWCDjgAAAAf5Bml1JqEFomUwIb//+p4QB6/aSAL/cl3Y76JVpynnrHu+jbVN/naaRJ5HTrwdh\n",
              "pK4zKqQ7nlCaN9f8wwYiHTfH+VVQoA/FcSs1JnjO8Xx/lLAGhROc5npWNlvdLkLiBx+FdF77hqd1\n",
              "auAq/xWF8V3O7GO1fpgx2yGFiIc4urShlCzgEpDLDZQaPAp6O2DHmgNsNVExEgOZ4ErSWCore5Jv\n",
              "HRU1LmOAH5YkQuWnjLvJoXn/MHNl9MugsrW/OrOvWlZeIL2AszAJDHt1/YdTFm/WdiJVV5RZCR9a\n",
              "daR9RvZicTWUTRwc04iNgD9irq9CcBA+JajRG8GHZ3R092NoT5XF9JpbvXxc2GdZUzmhZQJ3A6F6\n",
              "LdIZOQDM3K2U+D4ZLiP4GDrCjabkRGUJdAoK4qsqgh7mbPKbklrATrKoArI7zuFd6cQI4JEKjMGa\n",
              "CuZa4IAewnK08rikUyXueJhnVtBc9XGS/22FX9ppRrg6JG4KWT1BUMCwOGX/I1/SmzsnFz4od2gr\n",
              "wHJ015VknZ9CeIaaObKL6jQdfcVbWBWs0Odf6BZmHc3vrySBP8TKzyRs6Y6UyNnQgQsXjJKMR39K\n",
              "wgxlt6rLDdNNNfdp6KlOdIyV2k93bLfj4YWGwfSCI4pPyF1sCttV2rC3ZcriqmlF1tr/x5m3M+5R\n",
              "TaFVcH0/NAkAAAFhQZ57RREsK/8BY691e8AJqaY58X038UNv4+aw8unhfv2pfWvhnIOLRPFWBZmr\n",
              "ehP5jhiD/RnHZf3ROzaQD6MIUYYgvAda8IJ4rax0W19l2A+8MFCFmIxfZnSVHaOtvdl2VosxIXpS\n",
              "RKtCa9bXCTSmNZsU1iAj60bdjOnE+16YNxd3UKkbLp7lru1EaxG5SBQVSI1PFey6PoOy28+8Q9NP\n",
              "qJZlRPCx9/ItIDJi47Zd4YzeLSFIwb1BlfWPf1ZHRFut2HQqA+qYOYIu9Fv777z61Yk8fH4HlIrc\n",
              "fOcosl1nyKudrmDAPcSDJiRgGRo3aP7uiuq+HdVEUXkBTkF4FX+10mOmibdcHSRg+MQNScswnpDP\n",
              "+9cRGsn+WyH/fTZ340cXn0Ga1WjeACCZScd2OC5sw2uJHW2tlar/2QR/GnfmDBU4y2zF6kqXuWtM\n",
              "wyO11sIV7WlP1MDT0b8nzHR+jAx6ycAAAACTAZ6adEJ/Abf4D4AQn2JonUV/fJmbaK2ZAYMbAfKs\n",
              "9cBWjG7kzTNyAu5HVW1QUe4zTS5xh/7Y++fha/BSU/zAerZWR70STfHoRakXlipqCPIoIMiH7U6o\n",
              "s6tO+oGHGQXJui07zjjXbpH9K8dY3RV6twb6f+JCX9dxB12rLQTkb1Y9qtPvvAIpn2xtdijiQ55+\n",
              "TPvRAAAAqwGenGpCfwHDBqmVABn5zPrW5uiTxetZeheD8qSuW/qWDO9YqWF+R+N/JcXchtfDTneu\n",
              "IeJlrKli0KVR3mqC3rc2NsgBaLKJh55YFO5+VzxwVX/SEVcZ6z6xbBv2zUd/aEZx/TS4STmgj9lv\n",
              "54LqyF0onIJOjVWXPvgSgJKxT2jnF+HNZCiM7vVZciMHaI8fb/xaQXrh4/tjMDHG/QWTNhC7BiuD\n",
              "1JEMr9mE3QAAAT5BmoBJqEFsmUwIb//+p4QB1haSAFtHaHb+plhK+ehSdWb9W6HUPvobHEht02GX\n",
              "C6lSbu15+hYqnXiFTKwFg+9/CiwOhuF5kvM0xW2MF2q0mD6aL7n2j1gmqk2pP6WlrTVbptFKVUu+\n",
              "WYFRl9i9xMK0jVAs69Y+z0+fkzkLCJ9qiJzWNXHupm0dYu8uqqk4B53U1sliLfVPlFbeX6Kpa4Cc\n",
              "o07DufS2L2asZsmKE0s/RPULTqBWes3IRkhhiDROEVuORDhyZL3BzDPtQpjeacxbrm9+KX+S1fhm\n",
              "RKYeStZu3oQCLSqc6pXqMY7mTipgbwaNhyad2fKORqFSc1uJaDrv5+5tlK0HINYVdQ0lUn6dUN3c\n",
              "Ps5I4C6BV6SAMseQrXFFLgBGv86JmfnETg2CUIiq7Mz5yUsrBPfJT78gfR0AAACYQZ6+RRUsK/8B\n",
              "W1ywAOz0Hji9yDCi4XuR+P3O1GE4J7iYw40e8eJ8Upo0e6bZCsE8fQKPqPsI3J2J6GBCmBDe8i8z\n",
              "OS79QhFXtZhKRfGiClL+KPgi2tSkxwKe/SkJYrs4puuIXkYXQczy4MGtKx2FNioy1Gf+opW6wni+\n",
              "TQvbOHhGikMtQRXFnGfRFqGM/y1/ek0IVuoVb0AAAACRAZ7fakJ/AbgeHwAhPvDJ0SVYCArfMVoF\n",
              "UQB+vPC02tVj9ugJMrsGhqKiciwHNxVPn3m5ZAyjsTwjA8/630IMcfGiKA+BSUHAxaQ0mybvbiRq\n",
              "2Mwt0jEiAtJj2sKvfJg/FgYRwANYE9PbJpgWMOeq/+X1Ii9//hQeiMgmkS15h+0ghSqh9v6DtcDW\n",
              "5u0nJX1i8QAAAdhBmsRJqEFsmUwIb//+p4QB1omkACMrTds0GxBAZZX5syHbUS9Xocuz3ylNAMg6\n",
              "bGn8b8Dd9YGKZfG/lNUEeutVHNssSdQrAvQQ0f3/MWSMoF3uHD/j4HdP00+geaPo4cKGvSv71UNN\n",
              "fOnnbTQBxlCaABazoPbThYQneeCHuiBQNe5AJXKQZiyg0dWh/t84kDw13oD97fhbKnPCzD0K5Rsv\n",
              "OQky91pRy/nrSXtRsCuN/bSQyskMtnjpVDwIaSzT4kPQ0vpc7rb15bjsMCD/PToojLXgI70LPQKj\n",
              "gtlDXhEz8Nd+Evq+GFRZtvVw0a2ogtpJqDorVzm6skDdLwg8ddPtJKHy53Q5gSnvfiLNIYhUIy+B\n",
              "ziH6K5xKh9qc1al34tMXS0Do/2daoMVau3c6m1rMbXceWh8Rg3sNHlzF91LANYVvy8i8u81riqe8\n",
              "KeZsHtCzzFWpQ84df8h4yFV74rL9UBrHZ/nmmaZwj3HJkvcHMM/Ii5/udlGqzUeIU85kiybjl3nh\n",
              "8v2xeYcFm9dAVHMV+u7le/IVLfQRrdhQjKcipH6ehY09I126YLZntCMEpvcvzQ3hxD2ELW+GlJCX\n",
              "OxJVJ+nVBpgPfSrZi5i9bRUOFntCy1P/64PzAAAAwUGe4kUVLCv/AVpxMQAhTzga1hY3YrsXbsBW\n",
              "+vgydEMiEZXy0Y5uu5LGFu1d46RfOmfMhwbruaaG+vO5eZbZ+1mUR0QCsWby9XeB7KLysKHB0t7+\n",
              "4AAAlSGSvcFzCQtTkVjiZwXz0WdYsNTgXm6AWOqVF5N6sniXMuHGOG2A0/bqvWHNz53m7/E/97vh\n",
              "2i+prdloB2JuHxdT9V/7GauT8VcHd8jiZF5N4g3UdOCLkL8QLWlgeKhktBdNappCnetyou8AAACG\n",
              "AZ8BdEJ/AbihrwAhPsTEkmrHgszU6KLqIJBqpZkwKOFODSI+R3Z9+cK3udeNiXiJhs+eJREw+vVP\n",
              "hHXnXAZyXQfqZXoe9cwd9aHl8S7QppVjzdWsQ/DSOa6bPtognTDilq31lCBdUpx0OvRZKJWqjJnq\n",
              "CiD80vThngQmbY6yMHVVKsMA/lQAAABsAZ8DakJ/AblegAEQI8EpY3Xw3qgTMCV6zMC9xcaqMEEJ\n",
              "bCmGYVNlNlGo86N+uGWmZBZXqN9gftEBKKV9fA4qTyRHYxFkMPb4Ztipp4CXIL+3Vg3DTIOZ/cDR\n",
              "DZENviU1VfkOgCoq4LGD97uBAAABwEGbCEmoQWyZTAhv//6nhAHYL3GQA4w6G9+JCC6P9RKUXSTh\n",
              "RvZhXM/mKDJGGWpDH0dLhjCUK5jbimy0Q5NiW5poA5H+uRDx/082GSaVqULILkewDYaN1/GYw67P\n",
              "afeNQ49NuWK0rpmiTTzE91ZEqpRtSzJZ0SjgqkvWfY2976wKRnVHfSx4B8XFkL3kqKWsTGBc9Yml\n",
              "NmB/NGfmbkIPMTrk4dw1uqBHBKZxnTNayDhg5HKGFY6SU/J27V/9VnhO5tyP9H7vudeoXyJVhmUc\n",
              "RTLkagKysp7wlmA2iCD6fRKzsz0b6nuHmDujRE/m/boplrSEuLlYDW+vLGBd9b/kbRL7frfoXXwz\n",
              "Y9TnkgQeCTYt+vndCJEwzC9G5WXKO/Ngh3EW14ODmGfPSTofgf9GQXvqXZSKmiH9DUAJw1G/DMWH\n",
              "MI/3Z/U3xU7MbkhSxKIaBVxwSPjZXfF9nMTaa6bGDI0w/wRzkYVzaAp2kcyW20jLB7IPnJQA5MLb\n",
              "AaQfvIcU+XAb/dyx+QgAMOwBl0dF5m5SpcUPdg8OTVtGNbZA4bXaT4A1isEnKKW+P7EhS7AZguHU\n",
              "ncBdC6cFiaDf5N0hi1cAAADBQZ8mRRUsK/8BWrOYgBbx3JVgYF6hgujLZWSl8DGRHyAnZQxJp1GZ\n",
              "UBfKUCWH6Vj/jJbZgbUCjHqqnYYRqSZkXl9i4oHkhOSCYDLyGJ2Ldt13jNd9pZZeLatMgfKphoNy\n",
              "qzP6zC1TkJ6ncvB4pYQTOs4UT00YTL9MLY0Kkm5We+BoiUnMQULwrwJUFuDB68Sy0PFeioBUWxIG\n",
              "Il+suMRWS8YI1y4fqaMb3W2es3TF+5hBGmUKgJypWibIDPnGGpAsoQAAAK4Bn0V0Qn8BuV6AARB2\n",
              "5sdgB9IhLYmOAjRrHI18HgF96Y7qO6kjtCJgDgY+QSRQZWnfpPmmdeSQfmFuk3DNlFR0+XKDz1py\n",
              "BOm+tIqhrd+WU4A1UWI5F/mkmttPviGRGKvqk/q5Jr5NK0X4RL6eLTKIDk8GEKGZoCaij7HsMShp\n",
              "Poiq33TYALUp3nKdY/pZqaB59J12ePQf51Z7gjgh8Xa1/YDP8l7THxGi3I7fMaEAAABtAZ9HakJ/\n",
              "Abh9T4AQoPw9GIAkmDN2jdx3cCrNcE1WRnXboHryF/e6Z6gzqRA+bhgH5HIulDacs+ynK6pXiTo5\n",
              "qU7VD+1GEtNCVpMbLFpAZon/nhQYd8J4HHzOp02gD9Bw3w1iOu0KlEyMPX0BXwAAAUlBm0pJqEFs\n",
              "mUwUTDf//qeEAdYWkgBx7kvivmSX40PLD/nZ3jRRo35BhvpqkCrC9P4GCNt+5OjUCo5yxDYjI0x0\n",
              "Au16mwMS4LUR9A2n8PQLguckE8uDqe5cNl8U3tpb0kqdhGE/8PbYlYyw/9MdNufovg0FCKwDf8df\n",
              "fsuPmXvY9FNUrZLzxhL2h8p4f0rbT8dOs/tkTFNvgu7lhxdWyInWZNFrh0ZyxNB/clGzlwtKADnS\n",
              "oQCc1tNZvNK8k5GnBzswkmTC1VFzUF3nfE76tZjar0bImCgOXQLjoAfA8Y1YNZWeZcRbXg4OYZ9I\n",
              "kL6hiZUrk1vsT8qiQWDoMRhudZ70Z8XqoGI9uv39gc6HqmzwIXMn66z2mQcsstB2GueFbF4+W1Y8\n",
              "er0UQIIz/Vql6aqTne/X9c/J0WGZi2hIbXaT4ArtFo99kHtBZgAAAHEBn2lqQn8BuV6AARB26IiM\n",
              "/Hybq2bXhWdXr9EuSzpRL+nREe14jMno50tLG8u/qpdZBaQpbyHGsxu5qZtxMliN8PCKo0UTQdDi\n",
              "wXIYeUbgqbiiI/u4cB0Bd8yERdM7MNOSrEVm0xWRvULG4VehhzUBiwAAAU9Bm21J4QpSZTAhv/6n\n",
              "hAHWh1yAImuS4y6AosoSVfcQ8a3iHgjzvLb7XXbebSpkFlQ0bTlGt4DLB7KaCj3EscoojsukqArd\n",
              "6NngB2Bh6o28aFbJFODUxZltjqWJnoeWcnceUBJfHyYVhiIr5vuxAYCbcV1v2rCtajygEoEptyco\n",
              "FK6XDVYmIMWEmnaIRTaZqSPSZ33/Uwj4u0EoLtKYU5DdiGBvYrCw8L037saoEZvyBoIreGbayqz3\n",
              "bTRgH8pfpT6vvjejBccCFIxOlr+4ayhSY9FPWUMopfqJvky/a7LODkUimS9wcwz3Ec9CmfVoeI9K\n",
              "LLNqoTNXqIOY9tolFMfgWSLOTJEAMODCLFLlufLw2hme0Y7vqqCf9cMLVKorRDJoIpk+FmdqnuMF\n",
              "6oHVZbCFqtRh171Sm63lCeIhtdpPgByQ2pC8MfbHU3L0U4cOCAAAAJhBn4tFNEwr/wFacTEAHNW3\n",
              "K3LphfWFFnJwSuHFvpSLG5iifNsykNDuTYzOlhA6Sko9p1Xw8jR+PgWKYcRShwLboBZ6DHRiAsxe\n",
              "epmbRzpjAL7M9MmBrJXoru8VpxKKQaiCFKuSO7XmJlaITT6CwUZGrBVwsr8xRXY001HhfQCRxG3Z\n",
              "pEg2DymMCMaeBBtg7ZhosQDsEHASMAAAAYgBn6xqQn8BuV6AARAQlScagB3CsBZNtMZpEN0NglXy\n",
              "vzkI9ZR+E8UjIluS2h5ULsbAXyH0uztlcb8SNyrYjciF7WlzrOLj22CP0e/9gDuF0cuBISPZc/KG\n",
              "4YvV2VV8dpWW3SFXipS1aB4fuZxfH2DaCRkXpPec2A39JDyvOupAyTPLaa1vSgOQXAyUtIv8voUr\n",
              "1/uCpfia+RWh9U+ENDMcESKepmCtLxwwu2soiP34OzKu+LY6KFU/fd38BVS2Ji7x80+ZIM9aQLr4\n",
              "TOsMoNeq4QVcqF/oxcKRNA3hFLc5C2Q4maY5L3Ot67GhYROQtAtIewOkDgU++d5XFSq7a7pQZ2zN\n",
              "VNfH9EOXleWFXmyW8y2hRGi7KMKXT3Ru7A1WsC8bzOeKuqAJt31/lB2JHvSC1SLdey7tmdAePVTR\n",
              "f9jUAXOuBFMsIZCfPdEYP0TXP1/rkVZnyUN0eK90cr6reptYZc2F9BO7BPKm6ouJ97xvD+useDbO\n",
              "ee/zfIZdfIYIzBBGo5OEwTaBVQAAAXlBm7FJqEFomUwIb//+p4QB1odcgBuh8zlfOmDJKXtuI2z8\n",
              "WL1ILvTQSvYPTfMazcvqKTHxVGmtKDExT4U9Tz1gyTCNdeLhYqY7iISiJoHCxsWNGc/FMqyx5Cwq\n",
              "Q43m/6iT7XrXHGnnQVKASsO8qiJ9ZQm54cWdRw+f+PEyrMfIX8KlQNCRWiAV9q59gFzQW0LHMutn\n",
              "0WHbl97Fcld6cbxJ7dEtorn8WfwicG5YXmYUwy26+8TgA3k23ahZvj0h8o9tHTHaDhTOK14wluTw\n",
              "ccLdd8Hn/ygADjcrTap6FLVehuIG0L2gymM9hfzK8K+I7hjKHKnBzDPWnp3ll7mRVrQvg0c7/+8S\n",
              "B4jfbFxKJeIkdlWpmqXKwb6T3Iotc3OWzEifcGpVd0vYPjeHugp+iqhbjJY5sL+lkKiDrPbMoghx\n",
              "OmfQhIgTP0XEUgUBAsoGbxGb2I4+ajcU81JhK7YHpEhtdpPgBr7EXJgdjJ0yOw/RJAUeuhc5pseu\n",
              "4QAAAdtBn89FESwr/wFacTEALeNJc7mTTNJXRUf8HPhKaLtoZrb0UYWgaICzohfp3rhc9uaWKleq\n",
              "cprwrfxRabFB4BYNAaJ+NWhM0BStc7ewscSIpYsecWYSxdfutK3Sgcdsoa78qX+JYrakkaaxknRY\n",
              "yN75my23TTF5PDOWmBjbf7CuLXMnq/5EdhFmvV5Weegs+TcXQtksvqgrrizCd2LgRShP3rWPQo4S\n",
              "slgzCAigt3+/WfQvtWEAl5Xjl6rviNCrvAgdJn8Sjke38j/qfOzl2fq2h6pA3z025mdTxqMZpFgF\n",
              "nzygkgcGsD50kEAm+IpYHBjIEdqKvZG6eURCClez5hWhYlDnUGXfO6awji0VjGeMNqRlUXYHiweI\n",
              "lB3GGhKXp0JBnJfMEJheLRTsMVJ90hKA5xs4Tg6Q+wftU0qQ7BIaQMjK/BK15oM2jdEFeWyAKl5x\n",
              "PuOlYEZK0KazSt5ZTA38FQ5tl8VlciLY9wWVdLfkobPUNl3Bk5YZ0Leb+P8itD1jbN8Sq3OPbtHG\n",
              "oBdOfWhrTHpGhFsCf5eQNP2vzT2TSXbOC1hhsh8MnHgEitFRBDMX0P2qXpDI/SM+RAPiOoEOjmTP\n",
              "Fohtgpd0VBoTUoJRlJ3m6qRdjdLoiR3RAAAAagGf7nRCfwG3+A+AEKed+kKh2eSPyPgU5V6xDHai\n",
              "vL0Qx6oNFUH8JODPXMLU/ye4qTQu5PsLwYcfPNLATP+2RXmgHDsuUC2SYvjLf2b26c/gvA7OD7NJ\n",
              "7oilKs18tLXtYHVfubIwmwMpBHwAAADvAZ/wakJ/AblegAEQcaBYcHdg7q/fxHeboFzjWIGqg4v9\n",
              "WxLHL4vEJ0E0Em+wJWIVLWjbhULHZw8eNb5+6ELYNAtD9dh8ofjOMFFmYmbGwoXOrSGRHBMthUVu\n",
              "zm+px328lAUB0cGaV7nMVpaPy21cEb9nvKLAQq1uGeiUUzSPohcIW4+YAN1R7AZFbbK8zfeVxlSB\n",
              "7or5uQ7sKMUPGKp56vsEowex7MEm5wj1E/68GxCyDbiyUOJqWYOUa7MoIm9MXau4fwNoNpayLuSk\n",
              "iFoPqXLyPDLFsfeCfPg47awZLKimSfsQ9zJ0yhJgZf4sMl4AAAGgQZv1SahBbJlMCG///qeEAdaH\n",
              "XIAbofMAdLgAYsu9ogDU3ofBeOMMaqjHdAwjvODAiVzJafCpdB84uyAYKeDh3onqbGXMIKMJB3zr\n",
              "Ew9FYeTyMfwmKAcVwFv1ffa++B48DR/E0fSkKYqAne623pO5AR6AIDvaqtWk/IhXaQ/fuH/5/Z+G\n",
              "Lpi4uWk5KgPhctzBcnNDsN5INK0+ZbVvsopsh4DoipSGbiHir12HDgr96eZ7we5Pz5k/SESzHvv9\n",
              "dONLRI5vQeP37lMgtHzTs//RabmQIZaF4QOV1iaewqByqJqi8jZ5za03I3Sr8XNtcz12Mle43uK2\n",
              "oZ1xZKpdNLBjb32pmifkvQ6uSWqeXNFtikrrgqnv+jSPz4lYd+RysEnZUoak38/UBvjkvYxVbLNb\n",
              "h5Y4OkwY0wL1gw6w+pwoEnkZZ8vIPzRJZjklucQXQ8c3TN2rDjEKQUHbGB5aaSbTLuWLtHTdzPZ3\n",
              "lqnTTvpsHXpxcxNB1BlJXUf409OotE31kTTqjxJG+9KvqiGz0jIZP9EvD3npOEJftaQWiq9RzfkA\n",
              "AAFSQZ4TRRUsK/8BWrOYgBNQDQwylGHxVy//NuJq1sHspF5RBkHXnAZx7IlxUmJy5Cx8uDRT1e89\n",
              "HgxwInIugUPfaZKtETPdT+ApdaUFp39gTRj5csX5Lg28zUr49+Xsz9wp04fHjo2MJC6hnTfcgTMw\n",
              "KdDszVg6ggsoma7SoZTEkDkxqjPiYa7+a5IjtkfbFuCDuAd0S3aQNPPiysnZ2h99q+cgZJo+Ph1f\n",
              "6wpTCYzwtPcOYs8rcDhoNPtI/mGK0BrtZRHcz8rqawo1MbckGGRwAdZzUrv76qLONl/VjZeKOPiJ\n",
              "99Q6Eq/taQRrtKTRGL34GXIqHcW3IAKnxXHp0fEh1+Yh2k/7aYY9+ODXs5ZzfSmzKO30xGK0tWTq\n",
              "wM30Tvtk50bDDEUwhNIAvFIC5CLX85s84tIegHbYcYHkam4lSPgkcLwqsZpyghsQ0Q/sJkMAf4AA\n",
              "AABnAZ4ydEJ/Aa5Ev6ACH293uBZffLdqFCIt3zQIac9w0pw5qquRehVvJZmirh2uJH5VRfY9O1AU\n",
              "K6lE4hakLYOsNVPIVbG2si1ACdZGqlTPB5BYtWZrUcLrx237XbRo/pp7IPZRkoA/IAAAANYBnjRq\n",
              "Qn8BuB4fACFMpwWFFy34xSdyjZsV1acmExFM4ZNh/znzYB1FuqdpFKGCLL3448W5MPRx1RM6J0ik\n",
              "DATeD/kc00IiML1lPpl+Ht+MOcavU7eWfbrzQEeNaFCTxaroV/V/UUt9XG9N9LsM3nrcDjTsSGaJ\n",
              "Jtf8bwGsdD+mTJy/diIF8ILXUHaIbRtai3TCQ8gabQpHMwmP8KDs7XPSRmr4DB5hOybBAlNse0bA\n",
              "4LSLBF9+Do8Y9iWncdJ4S6kjM2/VXA0nAV6D0J21Cy6qLEoEIFJBAAABGUGaOEmoQWyZTAhv//6n\n",
              "hAHWFpIAW0dodv6mWEsZG9Umnfq3Q61a+hscSJq2kx07wOz8oaNtJzM/17Kuq8vlhXeviHcjjfoA\n",
              "yHtDSdaaWBjLNeDxCIgwBr5xHuZqlaFWqtGECQ+OR8hAETPxNx0qs67gAF0Nhjjl9+fsX/7Usrch\n",
              "SbOkvoy4+2N1mEhdeAm76/4kWcjGSVNZBDwybv3KdAwpHyMOxUaAtsxtxViKZL3BzDPf2NXshbhY\n",
              "cNocS5XnjxXjJIYmiJcBXpqaiRKrPDgOFEGLcs3okZfR1bZaWfQoqpcB926Zzwtv5lpIvttAQeY8\n",
              "LCFG6F7GT8Bqw0rEpH9eq2UFRemdF8UoARDa7SfAKS4Lfi1ppobAAAAAW0GeVkUVLCv/AVtcsADs\n",
              "9B2X50s0FsdGw7Kb6Nx2X1BRKCu96RehYsSirxhg0eOnoQba2CbPSBZOxUFMs1ecJM6XWmiK8GvN\n",
              "CyHBpf4B57J1kzHcV8+9AIpvQQcAAAC6AZ53akJ/AbgeHwAhPvDW9p20jHz+90lGnJcw9g1UpbNB\n",
              "ezu6q1sKpfV9hweRKe8UA5QpJpux5iAe2TqBD0hvw0y9EaxAsQTeAvLO8c24CGpUuFeMowxrmkfu\n",
              "oEHYPDWlf4dD8r7Jlqkc13WvRJQTuZNfhO6XDhSVHHjaZsm0Ox95t3Z8CE2vrc6jttjsX6s3O9QG\n",
              "VcIThW9SCKcj6IOkYam+Cy3tPKaFPDNqVDzTyZYoyYXh3eJ/uB6xAAAAjUGafEmoQWyZTAhv//6n\n",
              "hAHWiaQAHG5P4iJEWO/ixBJIKISstIcmnfBd4ul+GvWHzlHfYwAAK1cVhxVjcH3T8EWPoIK/4SiM\n",
              "BYGKv5eFido6TNacgYZorIbQ+IvhspsVWMIoX27ORp/OZcNoHlIJ64ueHMEBfr7dFx7frEUyXuDm\n",
              "GeymBCsxJVJ+nVD5+AAAAPBBnppFFSwr/wFacTEAHN6Dr7r7iz7JEbHOSUfkZmlIR/74XS/Bc3ic\n",
              "SVbgx9qd9oZJtQXzzBe2FwEZr6KJaBa/NbJiHCAvMelblEcS81S168lWVpMXVELSYUFWAwC3Ajbc\n",
              "t4AgMi11hl4faNB0mOzhQlyW15YmHL3rknJUNUpH3hMl8ryo6Z/prUPxMeTir0HRBUrbbm8oQtTx\n",
              "DzO8Iqf4WLKNCsKeZJbukAHGqcCHhGOQinYEgoYus/fsLFduAXdxrf5h8xBo+9eNjlykRZJkGccd\n",
              "2eKVM6CJSHs2aQ9/iswFWnUc3V7L3U4Z9SL8MR8AAAAyAZ65dEJ/AbihrwAhPsTEkmrHgu+zzgzW\n",
              "EFOTWBk0f66pmK+GoKAZgENtAzlHzlaIBswAAACwAZ67akJ/AblegAEQdubhi2DNocu+LStp2geQ\n",
              "kbktD+oS3UcU8pSEwiRbDdRwaSbtpU8QjfnETNPCJNOv4ukSphvRe8lPLcJ+kaVyWu6Xx8NpDq23\n",
              "wb6/XahY5wBztUIyZggUXiPgOaLxnO7SP+d92VfVM2rvdJbgznSHgVOeX2D4gNglfDHXOLDotuqV\n",
              "3V6oVuIOf7itR82O+aVpP+1Xv1Vi+mGeDQcmge75/UEjAUkAAAEZQZqgSahBbJlMCG///qeEAdVH\n",
              "zqUABxveY14p64+XozycVqUjydJrU/IZ/RUuQU6V8BrqWjkSRzbjU4U6RHv3MyyAHSQ205ROfxgs\n",
              "Mc4FrqSBYiU1Ug0uquY3RddkZm/hJQW4P/uMMjoTLCdSHE5AJ9fCL8o/xgSiBr6RTc6eCL4H2x/7\n",
              "dxLIGXAvYPAm3MoLEHB/Zv9OUV2U04HOTdlWv9cCUg/uKTtyRcyW5cnITIKhFeBglwcM7VL9LXU2\n",
              "3wXM07P9NulMbOqxFMl7g5hnslw3Ba/X0HR9Wc2JPcvA2YPJnMyuleKMKr/mDxpgSpuUu6+FApkH\n",
              "UCJr0iPF3a0SjLBVYHsSVSfp1RgmiTGYOzNRAbLkglLixM0AAADlQZ7eRRUsK/8BWuXewAXUdyTU\n",
              "PoK12LWLXkDoUWfYCNUR5SqfJv9nh6ZDqT33Kb0+vntsFFg/9+tCnEO+08T8ZeLoobGa5qTIx/ch\n",
              "NsrhEgiyfz8RND4XK2uPumYQwhpGfKbB65pYpz6csxUNXe60mBHcLXCDcb6eSFJUnm7PdhIOZyzo\n",
              "c55A0S8WCaA8sF2iPXJUZSwiRZsBMwIEiegfqT9RTIUh2pbgjBYvZo0Tyasdwe56+scYkusrAoBF\n",
              "Zkk3PpwmBKjModUwul2q/HBc8oP5dJWACm++Ud7cFT98VKD9/Lfy2gAAAE0Bnv10Qn8Bt/KwUfAB\n",
              "D82BAFYt+VxA/6/WwQuq8oqpIgSCHbyE1lHpfuCc/iONn62XbOT7CnmjQFenf3vZJCtpFX8iEMDS\n",
              "SpYqrVkRKwAAANoBnv9qQn8BuH1PgBCeo9Fr6GwpEQTX904VOimfrGM5jn1qNdc0FgKHqj8vhXM+\n",
              "WmWu5a5846+lWkyV0e/k3+qKcLWbhWkZFcoqJRZxNyFBmq3gX3OKNdk3A3zQ2V1d/GuUYbGHBzWt\n",
              "nPKyZKdBHQ7GxuOygPzgR/ibo9liKEeROsjHSuMpbTH8PpVcmjbk994PcotC1dZZdmJxE+iyEYaW\n",
              "u5JY8CcnpZ5QzCt/B9ndNZFmLv+1p/43NoyEsNVPS5xrUNrfaqpB9c9YI+B/SsPqsS+hXz34Te4F\n",
              "tQAAAT1BmuRJqEFsmUwIb//+p4QB2A9e4AW6ZNGLAG6c+xgUWFaD6PAjCD0u75bdczDlmlVkg4/j\n",
              "cpR4BIssU5Nw9D9+OUpeglvJRvn4ywCYdwt2qKEX4aazKoGq0QoS5OUWjx1gJUzB/NeFQ98n1AX6\n",
              "zkgjOT97T5piCKIxEv+/0KDWvJfmeEch7buuFFtxie3LwLSKP8Ic7CZLs6e+GCYdohiYgj5zETcK\n",
              "E8iNDXDcnUQl7KLLr3Xxri2BHkNi35pl/oaZmk1ja4HFyiqK93c7L1QblayE1rCwvuPLRjKHKnBz\n",
              "DP4w1c7ZTLNRCdS9cp8sABkgP1dgoA5YFxQKf2zn5/Uyy9753i1T8TMMQ83iL7mLMoptCSTCxXjP\n",
              "PaWff3Zrv4tAJXv21K5MN/gPS7mJDa7SfALacb7+nPIrhQafMAAAATVBnwJFFSwr/wFWSydgAh3G\n",
              "ltxtmQ7nkJtBHvyoQPLtbf7z5Uw8JD2euXbX9V8S5dwwi32XdXRNzISB1R6ro9LlYfEB+KfIMP53\n",
              "NELYqjAIqcj/8wzjEfX7xuhaG+v0oqMOaj/vCnL85C5HKvoPgcO7tpwnFB2HDX+UNQgTcwCDoMAR\n",
              "PwiCp57lIwYUW9/W0Hs6NKLYsfjKigOSc0Stjtv0VU4+enIkSHqp7qzLqwOQgqkpnS0DyNM7jyRt\n",
              "KMqA5p0rQ6C55XCS+x2dtUowQFejsKb8Uzy56VylSPAWgWdu5j6D9xo5n/a/D3QZat9ls9QItMEK\n",
              "P4EXOIN7RUMJBBpAByETbN07/eY+5wRSaqJjG3TSpVRHSve2OxO1pNH4lAoXabNwkRh727q2x6z1\n",
              "6co33EyEbKEAAADPAZ8hdEJ/AbiXcKPgAh9veDqbatb16xM1yDBE5M8xV/VSCNlgjHS1+rnTqxh2\n",
              "Sba2AYE7Rh1fKLPSW4zIVII01Lz8fMfg+PwFBAuB4PjNM+eQ8C0G7me9NDHTgvyxgG9VtyrgUE1g\n",
              "S7xRA6lCA6GgXmFoa/X6uU6Su5MmVHV2BomHp6stF+3kFXs1Nf6Agza3zgG+f7Y1cipKGUBsSc5K\n",
              "ZxcMvm8jemD1YUGyYYGYLe3y4iDyXYt3V5cY2GPrnBn10p9L2Iihkp/DSkb0kHTAAAAA0QGfI2pC\n",
              "fwG4Hh8AIUUuMh6nKsdgOEFtibOuf+JpHG+oo4+dyvHINq78mze5oHuj7YLgcRwGjICvUujaYp78\n",
              "NHAVEgab4m++X4I7URRvjcemg+meJjhOIYWnvXIwcI31iwq99Kn3sArYV1sIi27EklW1TlVro3wZ\n",
              "BS+V3LtG3nq2OaJSCZqBGNnjpnydTdxPfvhKZhYv9Oe+i90zwtVJap09lsYWUFlEmo4C4u0ZKJGW\n",
              "D5aUmMnmZrKTG1LtyqsXSpgOWBtVybVbXG+owlIoNXhBAAABXUGbJ0moQWyZTAhv//6nhAHVTQGa\n",
              "WpAAcb0DbM8OTAQHmAndUC56O3McZjfZrwUQpHKrAF/R/ajFnXEmlEHs/zR+tGBkZ9qAfHOtb3w0\n",
              "8tjxDLF75B6PeAQVy9EfGxgg/LDb4uV+OwbtPnh5xmS18rdziMflMOQfy9VzZXJRK9vlYZyj12Nd\n",
              "EUEzumQAs7Ne6PoCp+vzn5UgLdiZLNbdmJeUNh1bmO8K7tTg9L7u318qJo5KVy7aeKBAkUycTQz+\n",
              "2I08iBNRzwI26bkqiJ4ABXF2E/c8fvllAFqDIP0w4VSNXISLJp0oS/lDEdE0UimS9wcwz1sUJoaj\n",
              "9DXWb/AqJXCFAmAkRzJHyeZI+5Eq52LGNUHl5opdmLGiRIWl7brk3gb/kIL/ctbX4vUj2ZpFMQQd\n",
              "T7I1KigabTdI6rO0dGJb5eByfLY1xbJXaT4BagHeW+cgpvIRuyw0RUT7Q4EAAACBQZ9FRRUsK/8B\n",
              "WrOYgBCepft4jXUnvuiZLSieaIJAcHvwH6ibZ26+y3JiPQPboAUQrPR/PnWsDDejkR2Qmd+C6dNf\n",
              "0N3/Rn/7n8gWLu5CDgJS+wOoOcMQUm0VfKzT0rKMEGZBL7R9mYubbOxLAYncUdPZ1EUVqtI8GDHK\n",
              "cbQsyd6BAAAApAGfZmpCfwG4Hh8AIU8t2WSgNnoOQRBwvjM325EuukxtxW/5lq18xygzzmxxxKpC\n",
              "cZWgji7O5Ls4fREQF3OBTQpdQxp6cbH9UzKla7Y157ONgxqDMtREmc7yw6aDiqVLRMi6eohEUNtJ\n",
              "QLGJ3btT+9WXUz4wea0Wx5WsR7Ty1W80dcdAz5f4Bz53pzif8dRv3+/OQEd86YYRc70Jk4bdQ+05\n",
              "udp1AAABbUGba0moQWyZTAhv//6nhAHWFpIAW0hFeuwfR+GJDCuIhDkWLmmJh19pX1XEqb3K3ut6\n",
              "wB20bh/2B6924v70Jh15eDzLrnlXlCzihsbYCbhvHWZ1GpP2UpAArAcoCI+lye/OWVHLGotM6xyt\n",
              "Q/r2BBnb6n+l4Fp+at+zAXNpKvcNADnVFpKicqVQS30MuSmPW2fZkLKatYvKrQ7QNr/AGpSoIEbj\n",
              "1wXCR45qJuiT7NEfV+Bl47zh70Zjigz6YzhliItrwcHMM+Y2EX1bkRyHbIp+mK6NkmoZKMPbSF9B\n",
              "jC8kN/JoudmCBHQF90NuSNZyUeD03qTq2PbmJ173m2DnOVnGXjHkBAlCPq6uVCjteZDZlxkQ/ynw\n",
              "XxQj4ayXyom1DnLPLSGkqk/TqiQPIyuT9RsGUdbJHKMay7bi1lwkjI5ID2UV4UTyq8kidbryw1yT\n",
              "KUiBgK3S0krxQpyVetIRV2by7cn2RP30FFii+J74AAABE0GfiUUVLCv/AVtcsAEQdtf4HD3xKUMd\n",
              "3ixVjNOM06cIcqMrEfci4cK2L1NrPMgc+5/30BGrsppuZPWAH3D5w5YnIfN9AhdJlHP+koJKWMbI\n",
              "l2TyLWkgeSHKx+pb9uXn4O63hWcj9nt3Ztp6BgSy7hCoI71JwKJS5Hzscm3po75P0br1Y9Vr5kM9\n",
              "SQ3L6EhdlxeWl41gcQ9mbzvXr87psF8LbCjOA5g6GeVq/8fBcf/zcW5nwpkZvXzWihONlBzK8T3M\n",
              "A8WrOBKdTHuR6lbJjEaZ2Xq13V+g93/XW45HYMaz1LXK6eqjiap9qluR2nKXfsLPJR9mB8XuQjYq\n",
              "FtfvamHrR0KWfCcNsQ+xRRLijGORWWVAAAAARwGfqHRCfwG4oa8AIU8rjzHIsCfHMtWy78guiDJ4\n",
              "NMd+Jm6zdhez1m++F17ED9RPSPA3J7UVmf6YLRsfMJlnXqoNblFe2tihAAAAzwGfqmpCfwG4fU+A\n",
              "EJ+QcV5Y9RCJrrutscvY46vAMFO2nlsn+2TnVO75d3HPq2ozhkD0JrlAILM7ype4PUDhKp+JrIIo\n",
              "Y3zwZWuOdhW4DIY7PCX8OXQkSieRxHxsx2lgjGBPJfUa5pAuWEanjVqWEbzyg+btiJPRre35HD3w\n",
              "Okf7SnV9azoAgenYl3XgPdYgnhcVI4jfamIVbMbLOsLYb+YeQQj0u6Rk4X+V5LE5K5nXNbB7aty0\n",
              "/Jun1cMsg1dP5eOSpLABJFT8LdldMTwN6AAAATlBm69JqEFsmUwIb//+p4QB1omkABdVTcITH374\n",
              "78rzi+3Z6XeYbw4dmdVhi14fSNwwMFtPiGQBQeXj+V3jLjms1Zou3LM3LNqf6sJS5HGSnvDecBIu\n",
              "RqjZbYuQPeluuoUwr5kW15ZSGq+Yxi3HCfZHd3ry7w9bCLfx656PBgSesudQhH2a155NiaB75TCK\n",
              "k3dtZEq0g4X8WGJkcyS/Lvp69srRjYaPY7uTHRsc+LGd+6k+YTopKU440KGH0p5qtQGtITTZumUO\n",
              "hjKHKnBzDPkAduoOjSWtcv1AqsF7DROmOcsa2Y8w3ZdLahSy1qhlA39oB7aaufK6k8SSlwL3+3sT\n",
              "GOvZjzLu05Z3nNkeIYFdjESG12k+Aca9WiTnAcuNY5uP1daEM5XB57iTgRRHDLvKSnpTKvFgx+yg\n",
              "AAABDkGfzUUVLCv/AVpxMQAt40lzu1fTNJX2AfDipZjE7uLynLBfJ3ISQPAdRJ3UKswTEeXkeRmD\n",
              "EzMcVeXB7//ABoTCOkOftAKGQNtYWrukrH9TIOmy+CgCumCA9w/Ag3w4VW+Ef6OKUYsaZq8IdMdw\n",
              "nKB5XLbCgDPZ4Hwjt/hzw+NmDGtxN/hk1PzobakchJZK9vkadFazk+Wwb25hiNgZoTcuSurQGGsg\n",
              "MGjRYEv2opHNmjn+4I1wTkVL4YNlm6x/rG1F86sY6pyjtgRsLD3lnKR5TBnMy1nMgBvPC6WdBVtE\n",
              "1GC3fthIDQHOkElQ7SE5Uec6fyz5yIR7HbVLdo073yaXOnZ2cMKnc74+AX6rSQAAAD0Bn+x0Qn8B\n",
              "t/gPgBCnq+EB11cTTtDA2tYKwNIV3joDufOrX2XwzCQyYkh+/QkHqWGcSfSpYYSA2RLEQPaBAAAA\n",
              "ywGf7mpCfwG5XoABEHGgWG6Ig7rT8EQQOBc41g7v5aFuv0SS9hIh0qVF9ol4E53JV0hThWfMVIV0\n",
              "TDT8SQSNUrIrjPdOS9PI4pPHb5URGkUI89k83nc8PaDq9xdHawOcWMk3pHqoON7Cv0aTFCOD1/2Z\n",
              "h9VnZABiUJhr452zT8AwF2XYO5AEootxZHSGQJPSuR8wa4qHS3VhiUUeHTF7k0DU2WW8lLwWRYCC\n",
              "bcTU3HtuxP86vzgZcKocf16QkcuxFDsj2C5p0BPJnoEvAAABREGb80moQWyZTAhv//6nhAHWiaQA\n",
              "HG9A2yCy2SyWpog1QaSB7q8GiT9RKN75DZju5j0H5YKxN/rltJ+vR4JZRjT0jfrcWTfZfZjseqgq\n",
              "fd44Zw+F+jo3W7be3oxpCKD3unZxs7MyeGgfM3jxIGn70uO5wgBgedx7MbFRaAE4wADaZvbGO2dU\n",
              "Dq6rFVnH0rmbIMWImrZPv/RB1TcxAlvBD1xxXp88GMocqcHMM84ARCAfjspWox4x1m369bqWY4Ad\n",
              "zsw3AoaQA3wGnsKrgSW33VBS4A9DrXm3cN5wZNNT5/t6rWZcnU98V+dX3bdAZCNgCIUPsSG12k+A\n",
              "QSGicdurrWXKe0q8d8BXI5REaeF/A8jZa8vm2GmZbW6SinwkzpKB+y0st4Tj3qNKThweD+4FCQx0\n",
              "LerdEEZHYB4IMqrN+4Oj1GZ5awAAASNBnhFFFSwr/wFas5iAE1BJU/FVTjREHUmRmQkDjKbOAq1q\n",
              "yCnoBQWrFPnDEvReWuxPwHqbLKFi+lF9TjeEaMgtrpsgLmqsi0uRcMPqvBorJO1g4BW63+4hvnQJ\n",
              "EB/01YNteFHF5xVKoA031ZDtu1+KIZ3BsklOpG0uqiA7cQShq3zAymfPCfEIIeW+oAtV0/lx5QSY\n",
              "iqTAPHezvRV+FRNFEg7GJaNZvlYbtbLhiWtvQgF4RtBfg0DIn9EVV6vBtZ+8pNxG4VHipFMpY3l3\n",
              "EzMZAE75de8FBqUSa351IwIde+Gh8+6pgZ+NIZglDrIZPnSnQYqlbuAEulE6t1LnnA7Ld+YpbqoS\n",
              "gUCcl5N+KpfYUDC8+5EnFcGAbBVVBwYAkzW2jU8AAADOAZ4wdEJ/Abf4D4AQn2JjKbduldyvfBi4\n",
              "s1s0bbfl+8N0HnFcTvHif97rUV5QKVkQaV2BUMbtZAnetZt+dQnL2lb+wVibn3vQAXO8h8XLkah1\n",
              "+Rt7EnJ8fsjIgI3MupLt52nhaSpGslt1vdDIrcBwiEdnGtuPtIU5DLyEqoVS5X1T1iGM17D2N6Eu\n",
              "ezksN5tAUkEBix6SXw0p67CjapArjLajccnoUgs9MMUCHSRxm2FKWlUfvGP6upcy/Crv/eVor6nf\n",
              "7y8GTtfqrje8CXkAAADgAZ4yakJ/AbgeHwAhTxWCwouyFurY8P/SjamVC0LXV6IslhLFqf7CI2eV\n",
              "hlArdKo38qNArpZ1DDhEWH1zfuKsHRHTRBc67SIsQTTg4j6UmeaDkozMAHo4uc6gY/s+waZvGfVH\n",
              "9/QDiLR2orhVA4auuMfzV+Kihz8CzU9ekxkhSIsh1oNsAiQa8AQphdSeQ0r7IRIpwUycYD+4Wh4O\n",
              "huv3gfht0ir9HNt/RhUXAKEdPkHnAGgv/K9GMd7NcLuEWrS+DhlUeZbP6CCg6/2BLHdOTVVyWDB4\n",
              "6P6lJb76DIwQtIAAAAG2QZo3SahBbJlMCG///qeEAdYWkgBbSEV67CCPw0mWrgdGGB1P41MY73yu\n",
              "hdI0T5vW6OR/LGVCJCuqVS+xk5y2AduC1X94oxomvQaiIOyfR9f7yN7sTKOM4b8kSby2P98z7ovU\n",
              "4TijongGa9+fn7yYqnhXjVW/HRxzb7JJXCcyBFJxU8z9UkaMwbgpK+pYuWDJjMUpH0kR/HDfVT5b\n",
              "RqQ2qixRjGS9x8W4s/AEcTIZc7gpPYSDDENxdQFJooVyu+28CjQdLrrRDZR9us0OA5ysn8ov0TJe\n",
              "scjVF26pa42lds7O2s61+A426KVTRwF4v//zbwUiumJDGRci5bYp0l4bbIkd0DwfTsKwOHXVIOIa\n",
              "bPPuyTCY3Sr+KaUvIIJWZ0jpgY/KX1f9jzyaNTfRkXUYNIYBcNuoTNzndbet3GS0cfJ3f7LIygJz\n",
              "XG9BYDERbXg4OYZ4HOpxk1YgQsPDgzsTDoFg1LWN4rioT3kw3Ib/bHWq2xv+cU/GjCXJkAcfcnl7\n",
              "mqM98hGKURnK/kPEqPphmcUcaJsW3Y2Wqh6dbOhpKpP06nZKVaJVxvgdV39xFCPYbAdMBrgaAAAB\n",
              "G0GeVUUVLCv/AVpxMQAhP898/SqL6q6nKuIwweCcWM/tMNWanBGfjF3g3FZd6YLbiH5c5a0bedqs\n",
              "h/S6BWVGa1EDXgmtMysicsOwJMSf8eVqCz8zfP2kPRDXih1BJMnSK0ZIXUJWP/J9EpuYcqGAxSsp\n",
              "C2qVSXSVgxAkTQx2OeAP0cm4satGWqMW/qN5h/Eca+BFH+D48i+LwDImm5PIM8eGv5ds4GM+Nfgp\n",
              "BUHq19bo1xjDn7dnuDmcV8vXxnQmWVSvHeHxNSnwRiBuZp41u2e18CwWTwx1BOW+vyb4U89qSib6\n",
              "NvUmBkRrZ+R1BlsqwcG91Tf3uY+vO4P3Q+PlrnJKr7P0iLlZ05pMXKDMX0R6VzzHfkBKbfx5HOcA\n",
              "AABCAZ50dEJ/AblegAEQcaCAlTapq3fZs8jUQw42KQctQGfJgmvj5lMJqEeSBgE6q+8teUMfR56H\n",
              "eoE4EJrDH7LI2Rl3AAAAWQGedmpCfwG4fU+AEJ6bDBNlRCPWNY89J4VEm0htJi4wPP+t9CDHDKNS\n",
              "lH+rowYzQNa/tALsQp9mXfsdyew0Z9Y42WGLsblCy68nDMOeOchgwBWbT8LI9OaBAAABmUGae0mo\n",
              "QWyZTAhv//6nhAHVS6RTycALaD/A/3avbwyZnf5CYMqTpcvYL0NNe6psPEUPBG+2BTJsnnschAXb\n",
              "GHWoHO6FFv4DjNwj6VPGrm+UiuUR4GzGZ8OnvwYqQosK8nA7nwe8ggCZG7cUe78BzWx6UnukP82e\n",
              "PdY/mGwvxyuUo6l1NsQw6JaVPtp7Eaj1rmT4M5IitkC3GlF4xXfq1rYejdhUDaA8SqKO5fm6Z97P\n",
              "SZ6ySVHOr8RcyglINPqBIGvSvLxDOS0rfhJNrEUKvVDWnSWWb9fhuAxQOeHhQXSRgGRwBEHDYLke\n",
              "B0vwFo75HDfoPswKS4tQIJK+N50ldDdUPhegyf1gxc99NXn5IMOEO/mh7ylrx5u49rNxyZL3BzDP\n",
              "epAEeYpO7efMelItOC10GhAkDd51djXL6DlU/r8dPVTCoYnjfvjUf9HdrRvRXTmEtmVzDDB8RSen\n",
              "gtPB2tWF38DFbOK6S10H0nruQeBORm+8lqCNIrDp4py9oyB/qy97fyo8UF456Dx03OA0n5it5l5u\n",
              "wtlFF4EAAACRQZ6ZRRUsK/8BVksnYALoIZjjRVE99Nx4NoKxHbzNfse2nRQN8uP5X/6m2cZ7CN0j\n",
              "4mjjGndZUfVKkJ2gV9tIdHSKt4Kufeq6h7xTjy+EF8/kXgHBRkYbM9YzYztS8SA+DDyQHtpyXoth\n",
              "/z00xOYRFnYNtxNVF7sMDkVzmdkcJbg+0IY9a1hew4Wur3gZ60dW4QAAAH4Bnrh0Qn8Bt/hdQAZ+\n",
              "c10WmtGGvgftiivYwECMVfEGPYm6biNNQnsW5Kkkwr/tN2GmNElsCMWpbu033hJACMD8DHwChqii\n",
              "4ZQ1PSopw0Pf+Gbfc22HEyGYcQqcdopJ38ljQdlLs+rkv5UKMSAI+I2wD110Q8m9edDM/caPH5EA\n",
              "AABbAZ66akJ/AblegAEQcaBYcHvsra0/BEcCufYgza8u0Sxpj7Rny9N1B2Xi0+yNktCRMvVPTUqC\n",
              "Pc51gUYr29H7pmamwH/2hAj4NsO7hAp4Ws16vcdX9fPgYZdp8AAAAgNBmr9JqEFsmUwIb//+p4QB\n",
              "1omkACMrTds81jo+pBb1DmV5kOQD3At6Ba3csQ9TMlOD0CeayLYlN4yp741JbIjWHtr6CfLzYGtV\n",
              "r2fe5zemJ42NYFbQvr3Vr48iYXDSQsNN+Hopexd0OXnm3j0NSxA8EnbNgihQeyKg7hLykVWnBZJ2\n",
              "66Zjn71bYXwaawf6hcfMNxrna0IuUBnT3Fzl/QaWDszVdFYzMiUXObEvm4Pger4tuFdSq9X6lQu3\n",
              "Vhr49FB80Kj/a+F/S9DwOugqQSz2FYxLdI26jTncZ/q+5qAmlhhADmC7vX1TQUB8DkEQ7Bnnugt9\n",
              "SB+T0YeWqNCHQd55qGiVIpxSFeWW1O9qRzsYa0F5Qfxj5OjjeD4D6CjyrzEyl6SRyGnjjLUJIuk2\n",
              "PI+29gIr/QfK5Cyl4jqXh6LCjwPpW9ePItvWvimwYru6DYvobtlgH+mamfFGDa+TX8gBBTPAHqzo\n",
              "ehuYXQQBJBLYnmUOMIO3qNn8cCi4/duFLTscpzDPr438hpu9/3vapt7lIEcTAi+3jQYiLa8HBzDP\n",
              "WG3bid3v9f6GafURQguPwgdd3acFDmVsmBjNId0b26rK7Ihj84WFeadZrW9QB0J+VPJAVjERmuHY\n",
              "BTa3KKG6Z8mDR/Si/jCuFq9pvnV0LT09YWnPyiYGQtkrtJ8Ad3+EQlTruQAAALZBnt1FFSwr/wFa\n",
              "s5iAE1BJUtk4VfFXKAE0vtPp9Bb4b0JSzqbkmlDybUsaYWjrgWZ60HIXoxafmuRLkm3caZfVapks\n",
              "tHuUAFbaFH9Ke8ZifeNv6VXiPOAI85u1FeEwbrzxcXD3LydMhxLq5jW0cI2rGUOK9+4m+sHyT2Jb\n",
              "6uDxErAgG+jKbLq6Uo4GAYTWA6M9PjsgcY0E6pd4zHfrGZRm5+m7UzdfXkdGJu6TRnLOJCSf7Ksu\n",
              "yQAAAHoBnvx0Qn8Bt/gPgBCfYmCUMTlSRhdevJvfEYU/sXAD3fTwyRfLhmUiyXvyUHWZDWB5wBZg\n",
              "GpHI5cDQi1z+wrWXn378BbRBvO2konGnjkyHTp8257jgW7IhvQG7BBJ97uJP2M0XlruTFk6xacei\n",
              "g6hk+IZ76/bnRKGOuAAAAJABnv5qQn8BuBRC6ABtBVow18D96UV7GAgRi14gx7E36cRpqE9i3bFG\n",
              "9cojM0O8G7wmXbHpP97ixcPChuaODVuQCdYIxeJfVANTdWCRq7IckSM3tDI/xFCCICq5ab86AFTk\n",
              "AvoA/nnctRhVVXLhxX8rszxauh+fc75a2OTOFcG00nXtxH0CxL1G69qdbAojQIAAAAFRQZrjSahB\n",
              "bJlMCG///qeEAdYWkgBbSEZvw9Sj1CE1fcBPeU/c2yRwN+OogRbAdrSnrAi5fowFt5wmDG4CaZil\n",
              "NSl5fY+4sx+0/UZPByXw7Nv8xvFNhjk1/Z1aa5nb7WdRbLrTvZRdmwPnvTyoX3jYVZ/T1lgXdBr5\n",
              "De/V1CYxIMjjtptBz7hj0pG2XxCbIFm3c/j0KW+oATP4CQuoNO/Gevs5Hz4gvPWsH1gDke1tkNia\n",
              "CAnO54C2iW+cAmcs5f1Rmaw2k3ydHAGeAdRUbEs04DpjPQEgKRbXg4OYZ0VntbzgPcWwD9ehbICN\n",
              "8Ocd9ZpDxIXLLSbLbnbLF6UOyBrjZR6eQ7HroTOugIlbw7T0x3lSmGTN3KajYsroVXYAKJJx7GIa\n",
              "b9Lm4k3Mmidl65D5TUJ79/lMdxPtnwFasV8hedMDGHxJVJ+nU3LK7yy+FLlBIQAAAPdBnwFFFSwr\n",
              "/wFacTEAIT04LPxRi+AKxEeQQ42yE0vmJxBlW9vui+Y6h7YNH86x6E4zZQXi6cwnMhyDWC8slBg6\n",
              "1NatBjUt4XbJKOKGHtfiq0vx1Rjecnl+JaCw4WdxspGR1gBbfAfP3mjiyYlrSxmXKCgQCzH2i0Yi\n",
              "j8z9j7V+XMCGtOND4mFaKJ8uJVOh/9QI+jKghsMCudmSwWxnwGaU6WIH2PaorYZ+R5fKXBJ5N3KF\n",
              "Pf86Q+rRCn2QknPTPUUd/CN72N8nhiI6CiYesiCfiPs+Qd69d4K8838kW6oPCstkG0s+C/yz85Vw\n",
              "37McYZGM2TLQP3qxAAAAYwGfIHRCfwG5XoABEHGggJeN1cfYBFwj5vysikKrjJUQRd3sV0SYz9+C\n",
              "xamXiquClFuY5BiO7p2/xonomsqcbiYLo7l9ZUtqYQxk4ZYc3ETrfag4xxFOcXyhHlJgF0y0xKgX\n",
              "gQAAAHQBnyJqQn8BuH1PgBCepv/lzlRCPf/G89J4VE6vAr9NjNea2ZvNsI/0WFOIJIVnsoxOpYqU\n",
              "RWhuuLRKWRtFrjU1/Y8n3XBTCXINzvnT5A/ERI5lXNKev9Tp754GOq04HOPBtVw1g6NiFoYE45Pd\n",
              "g2HKHIMEfAAAANVBmyZJqEFsmUwIb//+p4QB1UutpGpAETUfPw3yoZc4VpolADRLAmI7CR5ARb+n\n",
              "jBS0k1GHw4PQ5KvjsHQSHkpOn37pew2aACyxSD0FxEq4XSIi9emfXNjo6fIQYls6AMHnYIMS6VPC\n",
              "4fXJ+zZRMg+CtRKTyPBsXp6CQnSfbWDVFhBB8otW3CEjXbhR9X7OjFaIayojfeBM51ydc5SXVr53\n",
              "hSopay61wWBGBLKxq+lxFteDg5hnoFDbZ7viXA1mTm+lFbLdcaq2oQlTomRmxJVJ+nU9B/kAAABh\n",
              "QZ9ERRUsK/8BWnExACFPODl9LhfpAFt9rOTyr+X+JAJPrO1p50kQXo1BRQy2HY2ZxLix2XhqUbB4\n",
              "mIk/aWBRu9/iZkISNJPTTTS4ZiNniZibDnrtnjxL+gByi0zGl+wYEQAAAWMBn2VqQn8BuHU9oZ4X\n",
              "ABDtycPE1wgaomKltDF8WAv4e3m7Hn/Fx4281bWeev/SQYbWRywnaOzk7BT0rehctYDL5x+Uy+8P\n",
              "qEtIOlrtGE0hzUb52XYBegznSqdcfkhGFlkyXkd1v2PTxcJV+oW1H0BNs5gvW7jxWrFa0wp4ZUjx\n",
              "xBVToKJfTZaMoDUYXkongnYtoxDJlurDlejEM+Hash/tDbIZ8CL48W8/lYWb9DsN8i5EKk/fHsh6\n",
              "Z+ah7hupJYq13xzT4gMZCpxhFkwMd8aH9B8NU4kgXEDZKYhPMc96dg/3Z6xE9xkT7vwWtJoDRnNr\n",
              "Tzp6L9eOgZdSqFf2sAupysNxcHBXqIkTj0PdLGneEa+CFIopn4eFmCpxbpZKP331wh+gzE0fG909\n",
              "XPgqVfUnLrIuMyFCE6FD4isrCcalgFh2ClO7AlVLRcxE1AhDbnsWuQpLIP+jXnn5d5oSKn7Da/+B\n",
              "AAACE0GbakmoQWyZTAhv//6nhAHY8KpIAWwe+hx9sb76Ap21DuVnTzEGA7W/K4lGRh1tGcEu9NrD\n",
              "iRAR2czM321KfEfJpWfApgvwOkifo6TG3ASN2KzxwGiSHuUpmv98My7Hpn+IIinkU5iEnTTeQx/m\n",
              "uMZrbLAhqAJ6z/jxGsyooc2cO0ymYu+05qnkD2HgmZaavk3Z/aaBje1ogD5VfFufwJo1Fmzrnc/q\n",
              "75CSC9ZxYV3j9cu1GlJv2bEuP4++sQBwSIOimIDOQPkhflQg795LXoXvX4jgJ/ts/Tb/Gv7qfLV9\n",
              "IL7JFNjdIpT7o998SC7x978lANWS6+rpra9bH+4btMRUi2yfo7Ohs/c2+6sMbKIGOp/s0XyviDaM\n",
              "bviaXQcD4c/5u9F5Vb+Fds3JOun4aS2zSCGYOgpvEbZFY5Wq7CHuSoVkQC2BLkSqGOis+KKXPlfv\n",
              "Jw8cFH/zaKfutCDLc+JLIrhkT4rGbA45Ed1zBZb0R15NFrzQEzaDVWI5Z8SnHaAGGJKw/H5LdYWJ\n",
              "kSIHNFC2cSfgNskgs2Vmx4VFHZKwLvvkcVEwJcEmBKkWYRgA5ZpWx83UeTVJezfja8ET+JMUz6HR\n",
              "2Px2j2cYUVgrsrfEBPOAi07Qi0Qmyby83p83obB9yplWIpkvcHMM899Dl0lmkC8bf8J9V3JLGL+x\n",
              "2kQDhxS9s8jMSOqDhtdpPgCwdgj94QAAAKdBn4hFFSwr/wFas5iAFvHck4nUUt5eO7xoAyW6G5gj\n",
              "bGtOiinIpNINwqBwnaVVN7YyhC/Xfpozm3SxfS6hKaB6UpUzbyJAUJhHwWl8mb5FceegeQFoB5s/\n",
              "pE3lcwAxvZ3f9lIvif0GI4urcOxfI9dvx7mG7liSOj9Gh+wi7Tu31rNkBRmoYKy5+xnH7QCafh/f\n",
              "QASUGVMBI8RGwmhcapVu0KKJWOcz+wAAAFIBn6d0Qn8BuV6AARB25qCFYOwg8mUercDsz6AC3HGS\n",
              "F995ny049yq2MfU6eLf/ZZgbNY+mMlxNiVF2w+drUzTolbpKieUf90XvYOJW2KbOoEPAAAAAgQGf\n",
              "qWpCfwG4fU+AEJ6nBi+HwlNST904ViK2AjVrUOkG0cJRlTLGOErKW8MheR8vQkHiCw9pUHPRSO51\n",
              "MbBVTDHMEC/+AMVGE7LU6rs5PlEPbu3dQ+bciIdueYfY/meOFbg0f/LMOXecttBpJ/P1hrUsr8Gc\n",
              "ZBgY8jE8pGI6zqC0mQAAAOxBm6xJqEFsmUwUTDf//qeEAdYWkgBbPFDVNmPaZnaPM+sCwKa4eM0Z\n",
              "6QNVycX/lPt/Jdl7hI3K1W5Nb7lnbaBv5m69OOcdVFvrm9veHNHETsbk0QmGB4mTzztETxgUUHfm\n",
              "giCysful7L6+qNPsWSK6eAW9aNDGpfZQRa3wjpmJsvmJxskOX8h4mNBut7eintT6eE+zT7XVGJDa\n",
              "dBML6v3xX2hTEXL75nVbbRg0kwAVYwCenNGMUi2vBwcwzpyrtX1vtGJ2KR0IegWR4zCa7RbDxHr+\n",
              "aar9Ldy1yRwfPgPrvOR+ySqT9Opxl9ZHmAAAAGkBn8tqQn8BuV6AARBhrcJ88ZOChNMm4lgvFyXJ\n",
              "Z1HlOW8uPKWJXUtmMNWfahHbjcix1s/NpBU5pwKJJIGTmyFBbISJE7nNg8AtwbU+gPhMLinY6MTY\n",
              "r+PJpTTDqPxzvKWouzJgk+/GRb0AAAE1QZvPSeEKUmUwIb/+p4QB1odcgBuyD4m/VPe4V7kytwD9\n",
              "XCRMBIhzbzMc5Aw1Si9HlMiaMvD6MByf8LKBveoZlap9AEHzKU/aEJUKCDpAN5y/iLfeC7pAt7ab\n",
              "gNzORcv18uWfuw8hNtr+OJfwwLqcU7kFvdTg3mW0FtZWf/Dy35VNs5Ucjx5xNUoWZGoP0NFzx6Sw\n",
              "3C8+bAIwOjooQqnbRRE/lkHZHjq5sF7h3dEDS42saebgFxsWbC2tdFrfKu/8MlfoT1R3eH2Nzz4Q\n",
              "rOChEH52Nhcdy2ZD0rlxyZL3BzDPe1FFDdLsDdQ11CIRwduhCJw6JRe6HbxHtCle7eNask2QF0Rx\n",
              "RGdWi+ERQKDcZ5QzviDwMuhtbQiCXXgNzD/Kn3EhtdpPgDeb+BCncBeZLZMqoSTBAAAAd0Gf7UU0\n",
              "TCv/AVppBwngA5w35hVpMrQcYMvij+h5nXTTIQwvhEpvHWEAXAEyHK97PXxRCUgCLzDIU8BpgnkN\n",
              "qv6/XkOdoqtcgMHRCRa7o6vPDZqFCwjdUw785Xb9fImjCxtaLMGOfpHqqPedHnxBAOzDeRHgsKNh\n",
              "AAABHQGeDmpCfwG5XoABD/Zg0KSvIsGBI3YBqR/tFNBKbVowTx6i0exV48XDn1b0zkpTt51BmF/E\n",
              "YKjkrTeZa+NuQmWnyiwsH5Z7sCwC3eRJY9J1k9wsY0YFcojcaHBTJ+d/aD3/rwVjSmP0kCuA0hQs\n",
              "oDqdOKrZl9zZJTjJOyIPnonMcJVL67ZNZvU0jhuViOD2h58UsMBoymmqhDnK0BwPWoQyy47Q2U+g\n",
              "XAT4IcqhH8WkoPN3oqP7R2cigYrbcYR28sGsjWvay8UoRTVv8xtU11vcr0wynxH0xSKZ8oPBUeB7\n",
              "g4pIbivTPXhB91A+oMfZxHD4G88c+NV2Vp5ydsJqyaaAJrIcfti8bI9SYZHubY9RZz4sIO/pLeQu\n",
              "HX2G3QAAASlBmhJJqEFomUwIb//+p4QB1q4kgAcWtaTs0BOUhcfEYzuzsNtV0bJL5SY3c5z6Yius\n",
              "FBf+gjzvM6lW2MrKvL1wRiMMnCmA0lObcDo/02TxGufzOTnazqRGiKHlQ5XPveQVC6Zeiv7/RY56\n",
              "6m8QMgVw93skww/k8t0K48wayRV5tnw87B7l/myULGy0euI1ntDCQ6WtcEOHoHufWcUkvvh/WDFX\n",
              "z7WhBMIt0YBoOR1aac1HM2pcGfxib6GMocqcHMM9S2iFqaJgk+jMOQfcoadibq2MVwBiyS09Itb4\n",
              "+lzNsroZHfpRtwqnhw4PfiCkw0Jz1ZfF/5GxiswfQV58MJoH9JAi6U67Fx3TxWjIzzAZFr+fab0B\n",
              "2JKpP06l+bYopYZ4wtXqY8KkPRIAAACyQZ4wRREsK/8BWnExABzeg6+5HbMNGNltqu8gDMs763Aq\n",
              "ufDJKvrD1IQbfukgO8EEp69nsQcwfa3Dugjgk2RFeqEyx5adYQebQkY6oDp/p/qxFFocYe/Kh284\n",
              "WP93QhNQMR0glZWHZOMwvHmK+YTzDEuJoDJ4H3ebjiPXV9G1Wq/tnEVOT22My6khZti3a6dwpOpD\n",
              "NQ1IvnhLek0yZPID33G9crC2q5JMFACMZUzYn+eQwAAAAK0BnlFqQn8BuV6AARBhzutMS48IEmuX\n",
              "BuSV/Jb5SGT/r/olNiqP3FOCXJ0YiJwtY3beAEjxFfb1QMgQ728Al/VIIucMMDkLDLaRWB1+B7NK\n",
              "S2a//Xha0Z5gA9F9HCUq48w/QQgW9iyYWxzxjmJ4787DEyBIV2aI3YRyDqsV8XPXyeSIQWM6w8m3\n",
              "OubrGG5CeBlNVjCE5i3oGPq+ILl7oHJYwaYi2pwY6uj7wbVmJwAAAO9BmlVJqEFsmUwIb//+p4QB\n",
              "1odcgBuyD4bJ3SQr0I6saeKzOt8E9ayP5kuNI7o2zwU8FJX9RufaUl4t1S9778u/jAVQrdGGNF5V\n",
              "kqbN7x2xbtXfx0qQonFeCwgBa31MpsbaijpCGSz02rtAEqyseWw4jKeADggHfMd8UcnQnbM6h8pv\n",
              "vERbXg4OYZ694w9izD4HZIzElXrfPAVzsWuGRdwwo4LpR39O4IpPt7J5rpxgoidPRr5VeL02CLJO\n",
              "Dq2/DOfYJkF6IYvVnNOfiMiMIcUNJVJ+nU+pMQRPUhCpeaIQONZ/b+KFGbB4C0ngLRI0sAAAAIZB\n",
              "nnNFFSwr/wFaKsLsADtDqqo3NXRLw0ix9HiQ6In/mbifBQWC0Zn3HDhoD2n0bmQR6jMDt7yRLbBh\n",
              "jJHk7CmwNgbiF4yja+xUgZuth9nYzYIyNmBfQRgQNmQYD+4RTNS2BIasAJ9ilU0n7II30Lh95nP+\n",
              "FgCTzENHa7KjsbrF+2DN6jpRkAAAAXwBnpRqQn8BuV6AAQ/2YDv3GMkXP2QfIAmaY4Zz0fFwh4C/\n",
              "xE5Iu6yQqpvqqT+i9sdnNjgPQtW146u4JduffgBQuO/PFzXFnRLmOmZSeq9dlZtyzibCZudXXl28\n",
              "ksLpmF8QUry5oIBAb6qKdP5//C6kOp1cqVnEGuE1Xl77NyRA9rNhwtGqUgjLUlaO/jX8IEXQhHJd\n",
              "iXZW3cinTkZh5EV5TK953+wonbxMHAskSOfbgg4zMQF68AwA3kJHB1a7HmG1Kn1+xROPT52/5tC1\n",
              "S9C8GhROEynxkIIjQzSoPC4wyAuOFHspcBM/zOPLnNTfDm+l0Qsg4XopfBuyIItN0ATaxcM5/DE2\n",
              "5rHq5XN3dFex7JlszJ22awK0UQr7C5FyMUVtfo+6c8HygwPwcNJr729K+s26W59BUCJ1bCwbxGMR\n",
              "EJtXOwqKI6CUiVHi8+B98pFDDt384jeXgh9SASvfemhvn8Z5rK8phdWd4uk0LrnFmX/9iUy5b7CS\n",
              "qK1RuwAAAvlBmplJqEFsmUwIb//+p4QB1UurqUABdVJHERIix2vCMjsCWDvdLQXuSSm78hm8LjTD\n",
              "w4RnzMeOchS7mTtnPcm7jeQE/aVSjZBv+r3T639/YG2RRzZPrvIFx85yfJVWw3d9+6eZ/sCDCgfx\n",
              "04FNHKqZinTffAbJMUkpzbInlYWr1L+RwViIqoNlhJTi1n3hQZBCJ2nQeJf2jgBnIAz4jrV2fIQG\n",
              "e1oQ2tD3kVDAmiyy7AYGnFB1JYacADMBLmE6PouzWrKHhJCGv5sBhhxC1P1uzorLeD3BO6B5C/iC\n",
              "+ieBHAEUsBjDw5LYrBUwhys6Y+3P6tWEG+K2hPiYhUGd5ck8VO63w7f2MGKAo1NsQBZRuoaBWZH3\n",
              "a36WMbQtCpy36AIT4x/GMKz0Oe29jx59xQaL/8rPuPdoI9YZhq9khkctqli7dW5lwo5Kz8pMu+t4\n",
              "OkT0w7nz4svVaicy0K7Lb8aTG4WFRHA6hH04taXFJQrmgJDF8uFS3mOsIhIscYEM7vD1R8rUkOGK\n",
              "o1JdY1SXOE95z2M+02C0jz2Y0g9lX4ZoNe0IuQ2xlCVlDlSFpAitPIWG46U3+iWMjfoxjBl5fRHy\n",
              "9Y0pJgxPatUBUOpnzW5O2eG464bwjQKccO3onyapUg8ZkEgZ2oSKoqS6N7H2P9Qo0pZtA4bM3bVs\n",
              "i8GRcB6dFAzva4J5NsjMfRFp4pSbvXhh1ez9LkGi4ys56wy3X7K7J3HFf5YhCP/zoE+U3mQmfuyM\n",
              "GDGR//GmauZtFf59PTm6nVbJMpfdVXJF58aomrostHk+DECJ2pouwss+BZaR4aK2sGMocqcHMM8b\n",
              "nTE8TjbOBTejhelIfhFHyJlpwHm4jqPK9+bv5cCB9NCK/ZGOivn5J74WbeXqBSkx494L58TosA4o\n",
              "vVeh4KI4SG12k+AQ40xJ2olVlOC4/uQj+qQ0K81c02xO6iyEhTEECORJ11v3+79/10/zy7mtA8Cr\n",
              "0RrmcSkgOPxpgQZRlbhmt7hp04Wpb6D/z839KAAAAOJBnrdFFSwr/wFV4Cagq/sAE6nXyT0qQ5w0\n",
              "KsAj+RYuO90gSSm3OalmEKQrctydxQOX6HBscoeKm93XgwjWlF81R8E/Xz5dQ5d0xXFbuSQA/GCf\n",
              "B/ETuEZydBY6w9sYRucx7bixAis+6S/Lzqq1L/6Gp9Fv2y8OTlihMR1Shy97lqWky58SD6WMiubb\n",
              "WuGAci34X7uOpMTqg/FgayRzT1CMAoXzYr+6+AhTFvWSCIsp/x8AFKZGz7PtEF9Pw2eQWuJ+rxi/\n",
              "YACND8Bl/+rqW1V57eXAzuFlOEqdcWQqKwFJQ+SBAAAAXwGe1nRCfwG38dm+modAA2gXGDgW0g0J\n",
              "+L1ZuoeBvvV41V4u0Dz0X0tdVZPBikekhtb31qjkjjmXBjabADUMN3lI2/6/sgIc7jJET1eD85TM\n",
              "Pwwo4mhuxNZ3TD++yethAAAAmwGe2GpCfwG5XoABEHGggJV9z2VXOjCTB1+Em+V5TeqX0VWxEjwC\n",
              "KIF5yzHRQe7LueAhnTSzTzoER14plEQHGdAu7XkwuiNiijq8uV8U4ifSP7hTWIz9+6JWP8sic9P3\n",
              "J9eMfOhjuIkInQQzqOJWcdmKtssq73XDjiQMCEE3XDz5L1oXyq/r4GXt5rVwJicMYfxQtHfBUMcA\n",
              "O6mAAAABeEGa3UmoQWyZTAhv//6nhAHWiaQAHG95TZxokceaRw51rZ6SzebL8H9MmSMYVIb6modl\n",
              "5kgfxf3ACSJbdkNyCubJBqgjy4hMtx35OjIpygl1NBwaR/bRQV1VKRP2NZlfUZ9AIqVsF+QR8BHh\n",
              "4wcyyeLNBo/p8cbvL2tJuHR4RBrfHQdKomWIhEqbr9oj6O1zGvGvi9v3GK+UjX2rvuMNt0A7HkeV\n",
              "b1EnPX2qjr9oguv9z5Pg3MkgW/1C9O2IaLITMTaIVdzIODVab80b93I4hAV/kCmoHPuDLQiDQYhx\n",
              "AOqhu/t1q7ZUs2+Ckzbbr/zcxypK5450EGeTVMFOCh57oHt444MClMjertIs23URjxyWbObrqsjz\n",
              "002SCbnN7yE1uOTJe4OYZ5JnVvtdyJTT8eKmceXjNGz3iGRGimUTsbPMVfcslbI5hSiboUsWPLYk\n",
              "qk/Tqe4ZQW9rKUVmyAO7KrEzs1oiWqpRy+a5tvrl51c24AwiqhajWmEAAACDQZ77RRUsK/8BWrOY\n",
              "gBNRzzypIiwD2l3+moZECqpi6VQLhPWIVdRksjH1+eleBRL9QEuXUDjAtdxEKzzQ3K55d3llCSz/\n",
              "Qn8LPRE1PiLmYm4UAkk1ZWCcjxj9IMDv1rNbOR9aYtYbGQcapB5Z9HbvFhkJPqCOxQLgX176pPER\n",
              "2TZkN3AAAABfAZ8adEJ/AbihrwAhPUSukzG1yQjzAgcu1V4zSGEUF3ZuyFNV/R8CPxVZ4Y/6n+Rn\n",
              "JR8OqkqqSfherDvdov9JkIj9XWdbp61WIj5r7GdQ09L+thGxkU/4888Ce8n4D0kAAABfAZ8cakJ/\n",
              "AbgRRaxCPsAITnOOKim7NJUbh9IpIk4kS91YCbXpnr2ligp8MO3naymxugTBZR6zkFg2kfWlrJH3\n",
              "0J655sdaCk27IaNOGia1OGXqTaa5KqlH9DaLVJAp4cEAAAEjQZsBSahBbJlMCG///qeEAdgPXuAF\n",
              "umTevRXSti1D9A4k3vTUVAU/nz+oKvISyKE/aog/wtuR6wzP5GaCUc6C8reG+IsX9LRdTHTTVKkI\n",
              "RmXQxG3cLAKRnZGdtcAYE91rf04yURcSIrNDQAoax3IUhabuS2PyoPH6KxMk4UM+wuK4CNewG7ST\n",
              "Ss2z0Y88mCLB1m5I+/Z0979YimS9wcwzpdZNhs8d6ux8C++SIJEg6ht9+jmNJj1M5mNZPoF6FPpQ\n",
              "Etgh5PLK1jqweXWZ/FPsZicEUduVN2duqrYmLVFdNnnKHmcA6P7JXaT4A+b/ObilK49DlvzhnjXB\n",
              "REYUF67wvVzXTNdSuc9kI/EQ1fbajJGcUnKFm8ev03mSTd/0sgOhme48AAAAhUGfP0UVLCv/AVpx\n",
              "MQAhP898/SqcU+/EsvTaDH72Qp42cjUZ4J/0oOkCG3OzLKGpUXinzwg1L5UM/LAS8jpkuxD8CqgB\n",
              "T63J4jFg5NdJvD3GJyYm1ATjam1nUnSIz78MY8x6hOoSJguvtRWwb5YQVyf3M97Kt/KY9XEPAV/I\n",
              "5Vh/UZaztiAAAACFAZ9edEJ/AblegAEQcaBCwZMXMKvujCTB/HRcD9ua1HTOkCKIBa8IogP7+SYw\n",
              "2ENE/aOcDcFYuWCzwBJfeu45s8r+LxCSrQytqUSf1e4ouDncHIA7XK+/l2cay80+JPenS72cx5Ie\n",
              "iRB+Kvgyb71tulskAIJQQJvOv5V9k33ClUJB3PBNwQAAAHABn0BqQn8BuH1PgBCekUV8cqHmF67q\n",
              "zSqdn6vBAj+/YWmWqd43dtNEZR/wEtRXUgg7STJcJJO2aPuAkgC5EoRM9Ww5HXpsTFApge7Dm1B+\n",
              "LsYM3we12SZoqiWprPg2RGjHa7iPRH6KjE7OXOtoAMeAAAABRUGbRUmoQWyZTAhv//6nhAHWiaQA\n",
              "HG9A2rQ+s2xWYomnSvUuL4kskI8OjcxrwxK281RLBP2pmJbU4e5aMU8o91u2rlt5BtRC3FGFV0f9\n",
              "QsZwguKqKE1yh4cgYnsU+I5neq/ksI1nWvu92Zkxf+ClboIvWtA5nKBdE2HG0bIVPu5Q5/EbonFb\n",
              "n8k+WIHNwcYbc5gJGzOeGaOIaudYdMCc7qhWyxP2hqZZlov6ESbeR4Uf5oRmmnGwH0/i/hiqp+wU\n",
              "0NvXi4juR3+Nzs3Se55gKvKpmCkW14ODmGd5kyYyoTfKQagRC4dkcCtaUTTCJ47CYDVo+60G+kpR\n",
              "xHesvMvyrreCj2OYL9wGostr109misOsWDrbKs9OcO173pCJ3kU05JwJ8tLUXe6Ieju57tzIi2Su\n",
              "0nwByPM0kTCTjPnnSFbuWpyBI5kAAACSQZ9jRRUsK/8BWnExACau6Qq8q0SIq1i9WT78SyxNbyZ9\n",
              "5ifPcqkdy1L+li1mTJilbbQ8ngCXjNqfq/D+qk6NiJCg8wZq4SkfEmM3SoNirugLSkAkSYLF7JLk\n",
              "o8iTIqmcHCh8ZwGgHuoznkbUzpWmOinRRpAe5ooGhLr5v2eHFks5yzISgvzfIzGzSP66OaBSYdAA\n",
              "AACKAZ+CdEJ/AbfzIXQANoF7LCStcbzcis7iBGK5RkEXKEP5TieYB8YBXPSkjQMFBEk01YTX5uu5\n",
              "G+RSaF4FB7N0yiUX2h1t9ULaVzWsaJzIuSTFrodthVJPwgRcm4F9GoBUD8ApBywS8laBY3OeeY+B\n",
              "eSwK9CHu1yEicsJasUYBeeY9Txo+v+qYEbo/AAAASQGfhGpCfwG4fU+AEKP/GMtaL3N3AoXAHY3j\n",
              "T5G2KHv3/MIKCUBXJ6EP/hXQRqQRbA+Gjl+EKvAunefDb/9y5A1XpZKfOJaQQ9MAAAH6QZuJSahB\n",
              "bJlMCG///qeEAdaJpAAcbqGD33aFVy2MfaOkzP2VYMcg0EkNsEi5QSQ6vZSfb45/pgFXqhSg9ppP\n",
              "o7cFg4Ve+2IEUPQGaeqji8moo79XjvygGunh2lqR94p59F97UmeWqrMU47FFADm50XWRTZ2ZGT3L\n",
              "e5H3Z72p9YUnPx95GsIk+2I5lusKpdJYtxaL7GAFJZUnEFXj3j4WCSdPNaNDvUnowG69++kjDAT2\n",
              "nO5pePtK+FbZx8OXYbsMaWkqo7kvfmdyJr/sNT0qmtW18tVbEl+BqjKs9gAMPSBnZhz6gOvU3sAY\n",
              "LG07lzfbigqriNfX+Y3cKWrYqq0iIzpM37eAAalXci5yzWdSfKWkjNx+b8J0jHz1m0k6H3QoA+LF\n",
              "9yVIkP8RDHh62r4sBfwjROykIoAUvHZUWIUaorKud+cOLS3StfJ/F1uJ6UFQDDUhtNjGUrXZv4if\n",
              "66bVYNpl7dK3YQbo6CcYf+dlgG4DHDZ0X/NjwmQJZlCnNxFteDg5hnoGVxW7oYV15eRyLQAfagM3\n",
              "DyQBkMzxSaoEWPWIkJGUPJ35L3xAhy6q0+hIfInGfnw0hxubJShQcq6wx/N6+YEaAI2fc53+F7eY\n",
              "oj5eJwddJs2FnVk780udw+4xm7ElUn6dTXI9ulZ4oSqjXmKoozoqdpROyuMAAAD0QZ+nRRUsK/8B\n",
              "WrOYgBNP575guHAx83XoYg4MlXwYhZcy0EQobbJ7jkwwkh8E3i98qaytcfYwdr75g0T/4jLp4vYR\n",
              "XBvnJw4aFYk45fvUgUrNaAKe4xBIG3d9hTuY/r5cjoFBMoIkA3UdroIoz9fDXyypl1JBm5Te/I21\n",
              "k2EhjMTI11VOzV/EggN4X5RfR7h2NYVI2Wo1xKP4XNrOdUgk/6jlknh25D3PmtXf6a57NshKn3rD\n",
              "080mDCEth6UX/6hv457Kib0EkoaJF/rFxzLQtjBLgB53TW3lv4JB8t1DgPAzFZXYnuiZM3QasRiF\n",
              "AlViEkYB/wAAAMoBn8Z0Qn8BuV6AAQ/pFhxtnbODGAIXzzX6GvWWlpI/NFhcvIc5OGXgR+c3nMom\n",
              "LTW6Ky5RPoJFcPyVUR9aiyBfzyLkEXmtxJ1xtGchFsHlfOHCwwx7SXt8ZmDnPOP8SOI1EgNIiaPx\n",
              "cP4c4D4SKTAdWPRosIW1YBdQUVlj6CPmIHrHW+tGDSb2yily4lUrhBXTVfWEjM13rBg8hk3ikPJJ\n",
              "p235RxWVytuJeT7ebarOme3GK5U3WPXn/0FAj6opqdyxI5qiErykqKmAAAAAswGfyGpCfwG4Hh8A\n",
              "IU8VgqKIcYLvf8tEkriBY4uXZfXLgJLQvxR7ntBNzLatrl0r1nSJ9sIHRUMW3iDlsHxpZR+GbT2R\n",
              "H/DvdWIM7iUi6jYotpFegVzP4pkHBZoJ7w4bFgDqnBk+t5KxfXrCa4eDZwDATNW0DWtkGDs0Znjn\n",
              "f2axuvh2l1RHdEYZdu5QIdTnIfy75OvZErIbT7wAbFWElna/e7/xWZU6TomVitMu6JF4bUp8AAAB\n",
              "YkGbzEmoQWyZTAhv//6nhAHWFpIAS1ab/r8wZda805ziyu7aMqkoTOP2FTk68OWoSH2kKVYBuNcM\n",
              "O4QovjnbsboeC7f7KGnIdpo32aYgWQEwUYZG5oU7XPWhQ0JNrKiiu2LS+CXw/J3lLzRwjlLOfGQa\n",
              "J0rXhG9f7CJcPya9a9sh1bUyPJbwBpfBG5W9adZyfQsrfkD7uzHjWM1OJX+J0MtNRaNhQM2WyQeY\n",
              "6fy3kMS7C746ELPJbhcFqnptgTj4lUeQ8D1AQZfKOxkONHem2Ij77Uqos3Uj3IPg+UWUiyJ3iZxh\n",
              "H8LURazH30nWPMPVlUKSJadpKpvVz1Pe+F3SDX4N/WTc86h7bjyAOHJkvcHMM+1dnkq05WvMIquA\n",
              "D42Ddn802pN3lk03gJFR/S7YvVmxl6hU6WfcwpbErYyjJWPO2Xh+XYKaxTmSWP3NshutcWLv99Bg\n",
              "iG12k+AWB/XQdX3zgQAAAOZBn+pFFSwr/wFbXLAA7PQdl+dK6c2uDW43VYUM9PVxyt7Gnmy3xUNG\n",
              "E73p0qLEEfLQqQonRBfPJS89IrUHb+9Q2pcqRXZpoOQZH5yQgEXb++GyxeoqnwbvAzNhUSXjCHTZ\n",
              "jGjVFG1a12FTkT+4OTyKvRVAPjUuQ+5mTmR4PqXPZG2qg1XreU55w794arFpdvGsDEbZgNd96Lqh\n",
              "41y9lupjz64PkOIAA5a28W8EX7uJjK+NT+GrZf6pL0w3DldVS463SZFyvN/LTzcIT0CSK/vCl5xz\n",
              "8ezxOEIm79wQRqgqabbpx2/gQAAAAJMBngtqQn8BuB4fACE+8Nb4LROlv/8OmrS/Z8T/dbBDGDgz\n",
              "xu5I9teTOdz3VeKn2WrcmUh3gKWk1LZ80kqNf1yT9PPstG2qEUz23kIZ20RNVse0waq20bzH+lwZ\n",
              "iefwD5vkD+aEjCHHX1Jf9k/FpvAlehCngcqfeRbI/LyJPqSNgG2w6eNjQpSKzZ95Jm03n1pALucA\n",
              "AAFuQZoPSahBbJlMCG///qeEAdauz8ALaO0AVjYxEPLVsunRRajmw7VYfEjdKliePAcu1k7Pa36D\n",
              "gvAAhPyHxg9OJTiCgwUpg6dl267IAcLjJ7lzBt/tWxiG9SVoCrw+cc+ttpDZXmbkn0AxjBeThLWP\n",
              "ur7wkTW7UwpFYwhN9gfmoP8VrK0JP+Rpdv4r/zcZ1T+czq6WmW/b/28ew+9l9iITZgOiY3vufQJp\n",
              "smkas8XtW6srKPvEfCZsJYAXEYpJxEask5gCGnHuEbFkSJBSZQWiQvJ9ElX+WYYMiSzNtEEV2eyK\n",
              "T9p0zHZpeS+o7P2y5M2Zt9IXmDCP1XtKFE5P8oYYXV9EMZQ5U4OYZ8fGWG2NVLfiVgy93aT+++ko\n",
              "9tedgjES5win4buOwAJB91EEcJv93L9S96q+ApWg1Wwhr1U1fSEXHWy3NKktRMC71q3eFAzuU26n\n",
              "CkLZnNjcfb4Hirem4OeCroOG12k+ALPHJR/RAAAA9kGeLUUVLCv/AVqzmIAQn2QeJX/rNohHNkZk\n",
              "OgYSK0uRjiCCpd9qEPE070kVnp7UkHS9eltX7qQaDcA/xavkElRRgx5h9nG/fl5GeLb6OBWg0vz0\n",
              "XlDpAMvZzxxhe2zdR1RZ4kBoRR18DC6bhAnokgEESLN2D7IP8cb6wB+L+1LHfog4wJb/QlOT3xBn\n",
              "nHoOUWWsrLFHnAyOauvqPA/dULscQElRYJww2ZAMqhOQ/a/Suaw04pFDTfM/XSPjOz5+PiigiBVw\n",
              "2du7ENLRYiVW+D1b0fg1979FV1XlgpnR1oyS997SnXZ474yV0JTutfLUZIK47gyQCwAAAM0Bnk5q\n",
              "Qn8BuB4fACFPLdON/SQ37ja09O6xMWDUP5hKURh4OVEYjTMm5zx26VM+5DD31opOYCACasf+yLfM\n",
              "9YOAmlBYN+BLCYCzPdn6vyc/cCk7SRZ8HGZOWyxElRmJ2JmVIiLn5uAdHQzrGvYPONNs5mPiKDyc\n",
              "zUM1Yu+neOtPIsjUok8/1IApGDsPXTajuay/NeK8d0w/OWwrbRMaxnulK7KO5n3mB9uEfWgGvAUh\n",
              "u4IXp9prrVah6NYM+eiBxCdvuRBujGXUyYl4i1bBAAABJ0GaU0moQWyZTAhv//6nhAHWFpIAW0hG\n",
              "b8PVSJMXKTcBh7dvt9bUQg/lt6jjsieJ5OPUB0I5ZfUxwG1/brbDpAhpPkxd8ybhn5x80fjQBbCh\n",
              "wn5xkGal8fO7UY5cJAPw31P30vfT/n4AgUFyDxnz4vA2rEYaB+/hY2H3I7ZnXX3af+8Rt/KC2DjJ\n",
              "kS+EM8/fzhSjeDoeIZkgDzB8xPpcJrMBy5dHEn15e5KcGmAKs0y7pdah+wuwx59bue3OGLw7L5pc\n",
              "mANFa891bRZRdOljcunnhYPGCYiLa8HBzDPSsl797jeAjJQN3eJcrhrWj369cqEX4cWthPBScCpy\n",
              "gH27lg5Psqu8QOy8F05KgYeTcRG8/+/Q053iRJ2sPsP4kqk/TqaPfkbHMMAAAABvQZ5xRRUsK/8B\n",
              "W1ywARB3R/wEX7xvFsRef+Sp7t1S/ymA2erhIKgWW1be8JNdOMcFul7oKD7MO6hCeudyA5QHwSYP\n",
              "vZ6bCWP8uU7wI1qBtFBEmyb80v37rioIYp3btZa6Up23cRxkiZCOmsbEVNiAAAAAPwGekHRCfwG3\n",
              "vsW+AEKI7nRZfFQdHh4hUy6Kgyye/0n+hSLzolQ8pRcy0+TJqk7XSsaPnzqRPfSXnLV8MzAm4QAA\n",
              "ASUBnpJqQn8BuH1PgBCekUacCoKDGAIoqHp4VE6vAo17mHHfp0Xei1P+sZt2dB6d+0i6Kq+FetSS\n",
              "pNB+UbuNplIeg0j3EtbVzpepnXOLowq+gCGDJd68/4/AEVAS1SFltb2r4Pcij8Ds1lttf04Bj7h4\n",
              "TbnlGtta9VD0IoHI+gdvaUHp1bMkOMVOycbKIsMtX2NlkIvrOZ2J0odMvJRxqCLdPuv+8PY9+Vxa\n",
              "ERshn/ZpTiUv26fN5d1b1IgK5jAYlRmmF6I76t0wqnt4kCmkCGw3KzxbBXS69NRqxL3J6uqAqNm2\n",
              "mWztOXmw5hW0HtsWH1tiHb9wodxz9/3OPHUcymrToPlp2Pa4HpK/rsyMkZd0bPK+9auNPGPf8/lx\n",
              "TuTU3hapZjwb0AAAAfJBmpZJqEFsmUwIb//+p4QB6/aSAL/cl3V+mJ3og15FpRZekfFokvyPXFZH\n",
              "R/phwGtEuM3qkJ6lsybzGijssudXPRpQwbfCQOb6Bs5Q4F3bGI5/i/8qo15frTaE4LKfs7alXSZ6\n",
              "QaNqC/+Qw1BzLzrdc/dNflzmgCMED+WpYzu4SSq06Zo3WiAaEAsvnXDe98Mus0OuUx3qx/fRH5Os\n",
              "ZVjccxriEBpZxnf7SQExjiRkBR/jgYl8QnLk5pk1dEd3cEncF+OVgXh0+auGs4lDWNAYw8hrpzEl\n",
              "burTy6sx3oanSQFzF4QuI8TBWBVcgL/W0fQdGKTFl321WPTp52Eda9/f4m/bqWivNW5nESFxF459\n",
              "2wAv8Sg8/ym+I0jHD1+LWqWDoeQ66c6GQwFJCUdKf8akX04wnwHv6to23AYwjhNgQ2TD375JAuB+\n",
              "exTtT/UsO/3KkvpQXenGk99SCcO07btb8NhT/qRAbMLPdaPGnJgCXCNobaZk4Vn9Gj5+YSh/Eq+p\n",
              "Ku8rmUEA41ganm74b6DgrDHARCw10j6PbZc/PzWduCPjdJ3W11QmFlfDHxeep5xELaDX84mJeXNz\n",
              "eDU9YAN7wZnyJC3LITORwYrcotFdWCZEv2QcNPROXkf+tDGUOVODmGdrWzl7tFLT7JXaT4BjlMAA\n",
              "AAC0QZ60RRUsK/8BY2iobwAhS0qlLYw+XQrlWOPqDf+CXkmaVvDtwvjB1pQFOSYDcZ/AqU3U6efb\n",
              "KOoqGRUpagrOfyuqrjayKVIZ30cO0jL1AeMvyo0aqkGeOjYT44/Us9h6U2Fg+5AvxVC9MLQPrD47\n",
              "b/x5bFwvPXA3ohxMbfXgikdmKp5X5zg26hBI7HyBC3QquR1Tww2wwFfrS88Oxe3kiixFol02jvRE\n",
              "ONCY3TSIhlgpHzJxAAAAlwGe1WpCfwG4Hh8AIUQzcKFfDKEkMZo6VMnslPRXimcsr/Fsc5esg8x4\n",
              "7rDYPQEM2KMJArGxcbZ/6hDv0KQdaXY3gd0OD9y4ku04MuW9wH+JXiKpb1/qhiSRymftaNPujrf4\n",
              "V3IQs51o4q3dgzyrR7iI8JXJbp3GRVo2lahIFkfHFhVUBdEut9evnoIVJnF0IZIyx+bUFBAAAADt\n",
              "QZrZSahBbJlMCG///qeEAdnpikAN2QjOYC4IRL3Mtk7Am2zbu7AlSJEc6I3BVKQfE13X6YhzaNGX\n",
              "KF65wCMbQn6zAKJ7pf0GzIaih7SEnXgrow3tOeOB2n7HxPMXv92lWhcwUxE6AGA3PIjZb48Ng/n8\n",
              "1/VvUKyJQ9XEiydzAnlFLutZu/kfAEsSsMIYo6AbDNYr3pzRqXPfyTYbrtPzo0WGMGPq6UoJCqxY\n",
              "pFteDg5hnvdRYfH9t0UyRMyrOIyEOoA/R/cycDyTstm9TRpFXbXHC48pcsyPLuq0yOyBmGNxwoiG\n",
              "12k+ALsx3vehAAAAsUGe90UVLCv/AVpxMQAc1IMKetcimhb9hC3fJVLyWzxW/hpo1p/B8FcOa7P9\n",
              "bpHzZdNw+UM3TDvcvcG2/V/PGhQeMqkynNQGKiN+2j0lVEzqnaAEpFclNhioZPda3YcT2qe90Qs1\n",
              "v9xk0jIXSOpR/jy3AU50OM7HWqQ6bQ85LM783+ZNlA7y88+iqDyOm0oWOv/WNViCsCfwgJqBQZH+\n",
              "h8aMdeP0y/Y5oYBJZA20d8PG6QAAAQcBnxhqQn8BuV6AAQ/3l3ptOqjgPcFXWsQ8Aq7LrAvYY7p6\n",
              "aCMcMms3Ghue0BmK+lXxXwlvrmci0PWNDbuEIKZW2s115EY+LXVEjzC5PwBllNt3QZoXVv4r1W45\n",
              "+xngAkPK393VAZrJuZVT8KinO7XNf7ak341WKjbpwUbtrSZxKWYAh72zGX5VoFykswTxDe7QqlzH\n",
              "YLjz2vtJmBPiyIPHAF+rOAolq/GrVFNPFyKBF1PsQnONQaM+KtOpqqwOPXt2ueAhcr9DKtvzwU81\n",
              "Vqmy1oLA83MtXnx6RC9NuqkSUleom93V637OWCGjEi5oxvod2AgBdv0ankWVvkn28EltcSeVIBgp\n",
              "IAAAAeFBmx1JqEFsmUwIb//+p4QB1U0BwSrgBux2gwhuIPoY6Js/Fpq0J36C6L4FhKan+IeAsxOM\n",
              "QPv5TD0rzWl5qI35YXnhqKdaZitryaTTuie9corCS9UCiLGbyhkwwcmaiDhq5JvhX5BMuvORj9N+\n",
              "QeqEbh8oMqilqNSXfmA1OaHgfcqOM7DZ+eafdJNrfvNBIAOMTi64pMknVMbcPUUA4rAHSkoSBvmx\n",
              "BCgjd/XcDMUgNyPkzAUGfUSFKgw4aawKU0BG9hl6BGD+oMTHh71viGqmPydR27XQgTlO4miGsoD6\n",
              "oJL47DoO8IT704nNiLkDgfrq/bLkE59eSKJ1deTT3rfHPH4CB4P+gYWm/UhwDqAniS6eWwmR1+QF\n",
              "LNvoxO+ljP27m9K0DAD/azqKU2if+vRsDzEbI8j3QNajA/GbTA52+UIOFlJVDk3yFfFNXqUFgwLd\n",
              "mcjSvnNI2+Z0ORPvSNglUEssTnv98ctuBy7God/Aa3grWIpkvcHMM5aKzPIMQUssMw7hZ6ZH7H3p\n",
              "wnSxQ9zHactwswJt1gOQUV8Lpe8D+9RtKwfWvaWVoB+QUMOeHY04KA58nk6J2EuDOHNL3WGsOUpn\n",
              "KrLbElUn6dTInnXgFMNTojndW2yGwDOVsrHs5PHTAAABTkGfO0UVLCv/AVXf30ax/sAFy5NL5vtn\n",
              "lsG5iUKb0pnotIdxE7EGKRBZ8J+4MQWo8nfsc9URhtt9Q0kVtTbXD/aGIr5N5cJX+YdjqpmluFze\n",
              "QJDGA+4ujc8h/JCVjrMNwGo4bsT08R6Fal/Ek1p/zafHm6Yd0hLlR0uVV7J15Cy9A7AenG8pFCYa\n",
              "ZzeNlQ3nALpLpyl0uyu+v6j6bgQw6tYtSikN9g3fw4DseGJLWcI2Cesuwxs/X/Ge1C3d71nbP1l5\n",
              "g+7kegceDQIHmfiex23y3xHBiUDHRdZWtl/Yg7nVegAYxLeKETWDZpKOrldEaWBaBDlxsF6xoZqp\n",
              "8b7ABlGuwQ6m4D5DHsbHBOfuIvWvpay3RAAPNMsLDhMAl12pkkEZZeAuc1VXx//XUzZKz1sIMzVY\n",
              "kHIX0qWXrjj4nS9Vv3j3lkTy0X9mD69HmdMAAAByAZ9adEJ/Abf4XUAGfakhkS29hEoZetcbY4Po\n",
              "w2buTgpBKDfV8LXXeasAFWX2oNpj39L23Pw5weud4IWpmYpb/JE40Oeu909iinof7TnzTY1sB63J\n",
              "P856bZOPzy2XuDru+wMP/2m+Rvy+SEl6znQf1bGLAAAAbQGfXGpCfwG5XoABEHGgQsJDFcCmwOZ6\n",
              "xDECNibZS9yii5Fho9Yef57HnkyO/Gct/3EoL5+NeOYDkqQBXE7eg+03wf2TVlyv4MSUulI+j1rE\n",
              "2HOr0K/F1DFC4FAx4Bcb6Ln7oEj7BzYtAMuCZL0AAAFyQZtBSahBbJlMCG///qeEAdaJpAAcYtg3\n",
              "E1yWfSft+J1/oL63UHsxr1FiIeKAlcw+FbIAL34mWFcmOSO7PHnIr7ai4ilWU0nqGfcWTOGDwzrQ\n",
              "WBY5fcgzQAMdJMFUB+2fp/qJVlqAqi4eM/meJj3wANss7tJZrh3ephMiBEpz1+tDxgDO5C83hH4E\n",
              "It/rg7TujdlzrwhnxOiKhOcvTey+xJi/DQVf0lhXntTYY+Uzp2CSLEMa4LlGx0tYWJkdsfXoGLhh\n",
              "guaKvce54y387P0vvpqTd/CBlJJYlGdTbMisnRaBpXCxjw1sQcaOktruX1NOtB/IrEUyXuDmGduK\n",
              "WsHVosTOIdUniNBKmrTAGDMPbNJfyS0kRSLzxdycfzp+md7bOgvcsiX41HlzKoowfVQSWNPoK+na\n",
              "kvn4uvJbOlfOYVOYXb0uI67WDgSdyf+OTf3O0MbEY5R7M2JKpP06mI02l7MQMNDjt0bogjeLeOWp\n",
              "RE9jpAAAAJdBn39FFSwr/wFas5iAE1NMdVity+7wN9twI15hNMYON4Ozixr2jaVCQt4lp24H3ofR\n",
              "Wm9HXQAH2bq+sZb1vWgPWzUn7SMtkKbin+l582xbf6s++Xh9dTxx6gScFUCkIz5WGRSXAZOvCqE5\n",
              "MT2owRkcwyFK0CoiPCnf9AzrgR0+zd5sEJcb/gJgjfGor93nN3ngXdvfMQkgAAAAYAGfnnRCfwGu\n",
              "RL+gAh+Y5Z31CeEfTmQi9ONdTwoil8BRnhXhbptIk+Q4b/qj3/ouWQca4bGZSD+kqa7B+F4qONS7\n",
              "6NnZBR9u24yro+/ojlZajdgnFF6twCsAOj+aiaVruQAAAH4Bn4BqQn8BuB4fACFPVyjLnqu+XrWR\n",
              "JlYSnQTUQ5t9ZYb+REbF8z2sLh+ZzKCC/niux8a6levrv+ioBGFiRTILxx+wqwSETk/vnciwddj7\n",
              "GSQDsygevVS/+ownioEFNs6Z0UuvUsHCVoxdxvtRBwj/LXbUMPovxMqs1RR8Mu4AAAHOQZuFSahB\n",
              "bJlMCG///qeEAdYWkgBbSEZvw9KPw1CnnnETi0gWShKPKUQvRbcU4uwN9uEi9TEE3aR/sWPvS9Wz\n",
              "/fo/xOnlbpF3V9iaQZ6msdIFK2YKcxNdIrxbygb6s/ZH8QfigMm0F//PStE+S/1vHTaUSgH9YWZ0\n",
              "e3HNtqirUsgp0r0lBa9KQFNMmsDszdRBQ3xdUTQ/qyTI9LUcnIlcMeqx3tjbRHka5lWK/3PzvRg+\n",
              "IGVeaIdVedIZSnZqVbJrOtRFJl+wRKEOxQlTBCEv1lGcI9nXmjHApeHoTbDfNJ6cTPffB0OZAzJy\n",
              "LZ22h4Gdr0wa6DxH9k8znwkjIusecqhwCLrDnJZmP6Ny8CuAVQTClUdVD6fwlZlNXd9pWtACxqsV\n",
              "C8Rw3XVgAG8wGxN1WIpkvcHMM8kaFTko6L+mH4xd/3ckiZ1pLXY5gISoupYQ5R0zCreQZpFzcP3S\n",
              "dQ9Il+kX2IoT7hD33RDLh6a+DkvezYSp5prO7uPzD/CA5Hh2s1ncgJDa7SfAIGoPn2SX8qWbiZS4\n",
              "InOhtIc5NkTFsrPb/w4EUcg7YKJv0RA6EMxAp2mWKGeKl+XVeE6K2j+5MHAaQISiRIS/dqBqKLfv\n",
              "AAAAe0Gfo0UVLCv/AVppBT8HKAB9/424AC3QNMG7n3K33useh2qHGDHfsi83kJOSkvAO6AlEw+tg\n",
              "Z8wmp0cnzAv21g/RLRR77pLAburvyk6/93wu44W59K/33pGwhcA3huKPp4++wLFFlv/vayPXWC+r\n",
              "ZZiMF7N07EY4wjH2QgAAAFgBn8J0Qn8BuKGvACFEbjzNVABPjmWSw+Td6cf5fyuHZaqGO7acNt07\n",
              "fZKYA9hl8DL+c3x5Yicxd8CKB4OBZa3bYAY4DcEzDuMh6gxu68AjtO7NIxx6efJ9AAAAwwGfxGpC\n",
              "fwG5XoABD/ZU8TQyF13qMNW+JzZ7g4uAOXeNiub/rjC9yjHlJPgksF2WajC8VwPKj9UkWD2Gsgpj\n",
              "ZGFT2O05QMpI9FCQvbbgg94S8tuZwDDDxw25vER8gDq4v3igUVDuU4OdXa4cBf0ReSzGzg3fG303\n",
              "Dt3piG+jW4gglmdTL4lQ6j3Gtpy4SKO5kbqXqfqRoxII35KwHVasieaNRsiVED6pUugXmmRLPJ1E\n",
              "B9dtWkt7Cuc21EF49snbghm4YQAAActBm8lJqEFsmUwIb//+p4QB1UfHXQAHF0t4sDKexOMeyzG7\n",
              "owJJwu2tCGGeqEVHuL0tLJbHOni/NxHNQxKZ72+T8Wlzrr2WEWPm5/A68xk8orWYIA7JQuAdXn86\n",
              "iA8jIyqH41tl0RDH4VU7vfExZiPjFOb643JYTQ9HdvwuefQsCwfov5Pcj6dxeW4XluF6MNrLtsR2\n",
              "5dEAtO8WDtFBHI3YARymvjAoKvVSLxmA+nApvDgg+tpWk7b7tJKMS5LNaT/3O/ndHUydYA2k/jM2\n",
              "oPniAmw/Mq2D57sMDQnfu2lqf8vduMDSCWPVHYUMBDx4aWkT2eae4mijq/16ze2WVgZsv77oCJbx\n",
              "uOW1xn3iCwEHuEqapW4J2aPJUU1xK+rN0njXKOsfngZ/8CFY8rTnT/VTe6qPRxP6awNl69ZLNeGE\n",
              "POL2xCnmU07wTMSJFFATeezQPZmZRtIWJAXyGke4PDgQHxqDBSVQDjTNQyIku3ndSIpFMl7g5hnX\n",
              "OajdLsATBSl3+8c+w+Xf6sXTpH7gHn2NCbXSsSEWjWwM4COrpWnmi50Vxx+jA4PvfZrKxEiGSu0n\n",
              "wBwLQalDvZDnrPozHnZkz/LFvnAeION/YO8AAADOQZ/nRRUsK/8BWnExAC3juStu1fa0WxLUyL1Z\n",
              "PwTvgbhfAPvF92bzKoollLUuFDJLAHoD7e2KZ4p/cm+9NzXl7CSLyhAghJ3d2eKSwx0mG0AjmSLL\n",
              "D9gJd1imMCrZiOojb7vHHasbedIaQXFD3acZ4ind3Qnx17PhfuPzRe5C7iD5ZkgWZoSIS2LjW1Ir\n",
              "KA3FyZtdMJfAbJH8cDL0wvCAf+fJ/KoFb0yuoZ8xBKw5+G6YpOf6EVNiI4kxde45X3pMXgqRqFVX\n",
              "/vYrrxNhgZEAAADCAZ4GdEJ/Abf4D4AQp5bGv7yZky3nVPuAhn0EJSLmgvkwQIbcSAHuaMKIsiox\n",
              "7E35xq+fWHC7rSx0LfYhhA/GP7brgiO8CkCliJTrUfPlqrh6xWRYfMQpv05mGENuQ4CPhftu0e7o\n",
              "tWNsR5I3TCnxQBIqNc8i5pt+C/3iDYFfs4lrcWpLrqsNUHz84/wNWuy53ZTTbYE9MV7NzAzrUgfP\n",
              "wYVw3HTSf7Oby8T1ur9uFvLv8K7uHjTkYIbeijMdlFmNBFwAAABMAZ4IakJ/Abh9T4AQoiNljrp1\n",
              "BaqRGgmqkRoYg3wm/tIPh6N5+6oAnAUP8kc27OdqUIp7YO0eOwAPP1Nb/QrhnYESZpLYiRWrx1Du\n",
              "gAAAAR1Bmg1JqEFsmUwIb//+p4QB1omkABxjtMnwNFIgUx5EHnGxt1CRoZ3LSIeiiYoC/E+P5Cve\n",
              "M/SRUZSsrVGHCfcWN/Smuj3JtOEVm9wkRu3M3/E/iaim4tWPJjTUjQkJD8SkeXzs+2XauCyCmvTi\n",
              "NQAEdTkblAisRmdDONmnCFU4ZGndsq53wQzy7pb6ZI+S16WIEacP39gnVOgZTcoH9GMocqcHMM9o\n",
              "dLes5l59Dd5ypU6tTD1QxnkwdTr39gdKXSomMNI/siwTUHvRID7Xs+/G4G4Xkcih7pk52JKpP06n\n",
              "1xMpaT2UE5JBm0leTrHP5yF4hRLYGASbXvq1VyfsEA8qy9MN6BytjvBEKZdC9bo4uUqddVwS8PZZ\n",
              "AdDM8tcAAAD9QZ4rRRUsK/8BWrOYgBNTTTm60l6zB8h8368ZoRLElYZ7Gu7IkMMDp9Ytgd93FJri\n",
              "96zMlgW0Us0pqqVGENrCwgPppTYXKWgQ0DKHyMDFX1FIFjStuQ9iTJaNz3HEBqJg55l17ov5a2DH\n",
              "3qCuRSLSGDgcARo9/Kh365pzipVd3sCgiSJEkiBDL/oaC0MEfTT2vDo/yhEoFJAAvMstXAvJaUQJ\n",
              "fbIEXhiut1RcHpidHqfgP9JGp11adii5NCOhD9tDHobnD/M4NydvQDwEkZwgexoGOOGXUG3GOHDb\n",
              "/w2xRf8DII2X0B4lm113FjTSktwyEmiEbVgf1B+iibC+OAAAAM8Bnkp0Qn8Bt/gPgBCfYn4gVd6j\n",
              "uluJK6z568NQKSOB0DZgofsKvrM7ponn89GU3LtTuBRxbY//NPvALnzmJu0Co5RRPI2107cA4Jh9\n",
              "dyaB0mnR38qDHqc7KX9sfD4LgomScevAI1aZpEngKnlJfUFYUnQXKk6rD5/sGkNyPkBL5BG6sPoN\n",
              "tkhHO9pH5NMX9+AXfiJZCDIjTpIxPuwLaG1A+l0MpVIO43I/3z/tUO6YB2qyMZX/Gt1LXC0qSBtH\n",
              "gxuTODQeAArsScq1DeMEJuAAAACHAZ5MakJ/AbgeHwAhTy2Nf3kzJmSm1jlqtBK0pCOs+J7P+oNu\n",
              "0tqzkCuyDxCdPsUo1fwPeLtn1HmTu6UEiko1KP2Crv4zLYL7MuaCSA8thmTtMDL9316fcc/JlySf\n",
              "J1ObeqwTmIBn9tDcIyHoLhYKhW1hGKVb6amTOH/5X1CdjDr7KDvGIDUhAAABvkGaUEmoQWyZTAhv\n",
              "//6nhAHWFpIAW0hGco+5KixmuRtPqm7pH37FnxayROO9JJuqI4nx6p33rdU6uWvuDeX1Sdl24GxB\n",
              "eqJgbG/+Xpxq1hJ+1nz94YzsDNzdG3eDR0uqQ2/2wxIz3cyRn6hs2R6FXcLaX5bqK4weaHPE6SJd\n",
              "HH30K5trXa3tKNuwxQIgNYGB3x2qU7hRHzubhEX1oKlgRb0P4Wo+5Z7WILkjxO7rYdTvZKLNINf3\n",
              "aRIVkbdFQqJpZ++b14dWcLdVBFyOJM/T/SBghOhiqxtQrAzB+8NjAePTFkuag1GT7hIEP8cywp57\n",
              "c/tH6eUEKjF0BPl3duojFa1ELvxA+/ADKjdkyRtlpApCbScLrQxaetZ1hXLXoeq8qrU/zbd+fHZ2\n",
              "q5iKVDd1wzLdFqhbtZXDdD2O6Lh0Y6V1NjXidg/GcEDJFlfnA8S8l5Zue67SR+d9Z7Rgh5epAint\n",
              "b2fEQXOww+G3jPO3HJkvcHMM6sGYcdtYX3FcM6NPV+BEM8pHfsGaCa7yv/f6Rk/jEDym9wDXCKQJ\n",
              "RWaR0MzJbN96KFFFRWAL0CjM8n3juxJVJ+nVMr/9h8CfOmqBAAAAeEGebkUVLCv/AVtcsADtCkJ/\n",
              "GhQvD8kzZG5ONNxe3nfWoQaNhiL09EkzfRJfaM9Pff/XbiFDpPQFKjBvnhiQ5zGLAO02PoMJteCo\n",
              "QTpzhQhbZhX1t96196v+diUN8VUgQOKJxjdY07ZMskXIDOdhiJPK7DxzXMWZiQAAAHIBno9qQn8B\n",
              "uB4fACFGAWZi2Y/OLaoMAw1I7AthtSGcRKB/9C72kcXij8ULgo5M2dl/ujRjB2M4+L9B1R9hvGtf\n",
              "MZt+8rJIpMZe6gQ3RzDPGJNAOkA7gtHv26ISo5JbsnQf6QIL3crOjBTHEn8DqC0BwR8AAAINQZqU\n",
              "SahBbJlMCG///qeEAdaJpAAcbk1ofa7Z+94+QvsCn1TQlPvysj1gdzWj+DXA1oZL/eUMLGYFFjy1\n",
              "5CVL3jqEAxJfpzuAVthGyiShS6jUBNQwz7vKUVUQ1m+JGIHYhyU5t1UdEx6t4mBoCsDMe/I4m39x\n",
              "dkEA8F9GJN3TYgb99hFsZbC/CBAA79PEfnN5aiqyCS9LEHqVSfi5VJuq7piYp0r8dFBMLAZ6iS61\n",
              "VP37tbSiuciCy2juiKZoZp7EPNKIJ2uGxjwpi2nkpQLA1RPbP1aeTJIVUQccGn3jkCUAtGzVaJjh\n",
              "Q5+7VPt6esDnxRd2yQys651ZIMXtSu4GoXhLqOkbBQgBRAENwETsRQRkaxymVJb+W4Am11gq4tXY\n",
              "1HIWN/zDp+Vxc5vMXcWMfefhatTi8rMLTSUhvqE7dtk4g2E0BYVHUqZulkiKRtjyWWBEalJCmgyw\n",
              "ipvHXmCJ0ST5f+dhihZ0UmSG5xWkQLI8rDP9MrdZN0xfjG/X/xaIf4qKm6xsp2zxfDhyZL3BzDPH\n",
              "TRCFuZ1yP277644kDBPnmU7RXqDmP2fILM8bykep3qWjLDyBfcZLiuI78omKBl4n2M2xvoTePzwR\n",
              "tNgBX2m4DEjZ6X3NMQgmc8wqZ0xFIjRyqu4yGkqk/Tqm2h5TR5FVp4ZJHUrsL8QElUZzOfp4Idjw\n",
              "VVYeK332tuO6AAAA20GeskUVLCv/AVpxMQAc3oOvuR2zDRjd+PeMWdnnVuBZ/PCPNb1EZRu8xzI9\n",
              "NLUApvLsSKxujpugMfmuKXN8SZsPxp0Nz5IlAzXNV7p1/un/LKHEu5h5BTy7bYp68IdwPoZPnGOR\n",
              "mfAQr4JZFnlcpcxHxKXDhKaOaYXfLvkUvnSMJDSf/Qf/YCWTl9/UqTaHwPe4m4r6vo1xOgX5CY3L\n",
              "3OqJ58YFbW8X3/dFdQk3zVsssN7PszLxfaYl5sKWwWwo/r7IgAR9khEnrf+0f1T31uoihEdeqGtJ\n",
              "QVGpgQAAAHABntF0Qn8BuKGvACE+xTvylmGq8EnH30qfXmfWlxERnIryNNvg0wtz3jJfwwQFFWtU\n",
              "xgQ14pwTAvM+ob9R6oxyy/30fEEP6gQaGYP/n/+10EQPTHCB7DVpqlMmQ8w5gm7BaJhxaYDowJmX\n",
              "OX6z4DjgAAAAzwGe02pCfwG5XoABEGGtw3/zSbvCGnrbUC7G/AEC1VsmVi7s/U0ZOzjfSDi/u4VR\n",
              "chu3jar+AxUn+q5WY3UrmuDofOeb/8gzEah7EcHJoa/s+aJ5dSSzxAcTzDAqVpSFeqoEloe3YLo8\n",
              "gNNC0g+gxhGJNmLfirDro1lIFls1wz6n2TwM8DvR5nTw0HBtJ2vZpqKezWcWqVt1g0VHgx7LDwwN\n",
              "lFL4cG2G772Uch8fO+KzaQDbzorxP87QwHLgXtNrKIweybXv6D9crfSYTWIxMAAAAhVBmthJqEFs\n",
              "mUwIb//+p4QB1hzOAFvWg+MP863o0uk3ty2JPxWbhFfFHCWFYcpjDl0rVFpLpb+VQiKAZF3lGqvz\n",
              "CasS2iM7NXdlICAouOAGXFSKJGvJkeUQuSekORQG40QqPIhl38Ok2V5lEKakY3QM4FubhdpTJ9Nn\n",
              "ec+kmjmt6xV9hREbjCbKHuOUdKdfJDHo1FZa7808BdUiJq3lvx7GcqZqjH0wD43Ud4whF4mo87mG\n",
              "Vi/M74ZnOBTqNoxFgO26PSHdpLceBngFIb5ZVUa7unN4bwwMQcbV6o/WpHgEQdsoZuEDupGByDuk\n",
              "EJkZTXEKN3d44e3wmRVPeA+kYt6CqYNr/3eKxySnG+V2pv5TVKBqyQPiDYap8Fe4FSvyMdWEF9X2\n",
              "d/qmFWKZ7VV6uWLHZV/aTuNANvy3TpGqu9b4AwvF3zHZaC16qfNY43oUiMxeRcTqkDNWR+4QfStm\n",
              "JY5CN+q5rHHuh0Ws8ZoVDat78QYtUpySDnM34fpPfJ82faTeIVTnYwMqbdRYMadkLyqVN2tD9xiH\n",
              "mZZbaMH/B3V9/0aR8UpIqEyMhGXzbs5lre3bSf72SdfiHhoiZ+94aUDf55XZOcws+Ldt7jlutzT0\n",
              "eUIq+hefmiiusDaXZA2jpFaMdJw3nLdTDXe/lrsoWavsX/2jXUDTextMgAVMWvzfx5izDPZ/+32R\n",
              "5I5k1KXZE82H1saq6QAAANBBnvZFFSwr/wFa5d7ABdR2ugDpk1YvKrENJjvdARUCmFApsfToqqhK\n",
              "Qrx0gf2Nj1Re/JyE5rChiwOsGQjNARg03/uqNXGfxiDtI58+uIMPwtwKzS3tWIpg+GN0DnylVTNQ\n",
              "BhrgETWigiAkXkMZEVP6KHKuqLeNJeZZE/83gq4sSgTZI1jjq58Qd4SjTtxPP4nVcyrrSPgat30G\n",
              "YawRGcDy6l+eshPHO2EqDMS/IKb1y4lvg0VCc+R6sJR+2PH1nk5has42cKeB0A+uAYjA33IKAAAA\n",
              "twGfFXRCfwG5XoABEHbm+ZL0MkV12N0PNJ1p3y2BOv9kWrTxDG1YjEhyfbpImmzL8YKnVNciysos\n",
              "1VR+h28SUyGqlO4Aue/DmE0O8QdJGQ0MKeMFxiaDR3TQno/kk5oIDm1L23nHpvJc8aIPVWPtWXKl\n",
              "BV0RVPcJo65kkp5Qbvz/QDmqZ9q/pnJs5A7SsC71sEn95KObBB0OsWk95j527RZC7MkoLfEsuBOh\n",
              "fCCfAhID5TNZSdbakQAAAGABnxdqQn8BuH1PgBCfYmJIuJyeVCrN1+gukamL++XhTlbMdYIvVjpK\n",
              "WKsIfprKXikIaY5w99LH3T6KYyvoZCWXd+LMkLCctyajQjbtfSEaXvfMmZ29ejOG+uF/exR0te0A\n",
              "AAG7QZscSahBbJlMCG///qeEAdgPXuAFt72efFv2t0W0AxJHu+TlywbCVPZ20MoSEpy4xgiijDpy\n",
              "mpwC2qLUPbPX16S4dLgirfa0PFuheVwGG0MH9VR8OXy7REzd5tWrW7QZm4DsV/u7n7hcHQoWhNxJ\n",
              "860VrUJNtqmuxaOOVTtD/ahPfj0w8TRSVvuXKmvKK6LKIEVcnS0JWeB6dWZMNpOpzARgCQDKT9Xd\n",
              "EDy1h054DuulxgL0po3g/v7/u3Z4zk3CU5vNPNtZ1IE4Ez5pSXfIVfy7Ck6cMnaFBCnibqfkGFEW\n",
              "izkJIRbfRMvFXHhASAxxKdrJgsi43fjkN9BrX/gQ/puQSN1qG08ilg8UsAhGIlpyhjVDP5C+xJyR\n",
              "banuNcNO0FV+8ix45WNxqxMIdKeCfh1C7e7iiII4HkKlOsIZjb6Y9RxSDUArt+/0aR8/U0NuTXS0\n",
              "pnr7U4AuuLKiLyfuEBJLTCAi9Y9v88ZSP3iHC6gNvDGbTburNYWwoheM4ZWuxx3laEiAE+QiJvMd\n",
              "qRK3gm0B8cQxoLbz4EoAbbRPQcqFMQi9opKFpYWWasO27bMoxLgeJ8f6K+4DNoAAAACXQZ86RRUs\n",
              "K/8BVksnYAIeCktmcMBmzO6NBKkSORGznKtncLP/uqcOY8CWFUx48Hy87nizhtiPTpq0nMUqLiSc\n",
              "PpqRfzEWCjgWiSpOgjsmnRTkwyDy3v4pRfu5NqvcKbLdZ6mehJIl+Ijsg13d4J5gON2iG2PKKG+S\n",
              "XyxtIywMW9IqxnX5bW75f8unKgDTGDbb4Xo21UA9IQAAAH0Bn1l0Qn8BuV6AARAiXEK9rho11ukG\n",
              "BdBdtiwjzDM67LJBQgANORHum9WamGhgl/IGWw0c6EJ6tPd9CsWXTwGBhYkfYyxmkNA1HdsW5moo\n",
              "hH0TscnE0miJpTe59JBOw2Xi+RvJFdGuiGsXY+ebTkrXsaSCRBaLjqDxGwOakgAAAKcBn1tqQn8B\n",
              "uV6AARB25vmS9DJIFpjhSQaAGdL7+53ujxdjp8JXkA/BG88x/ZNoGqKZBp7NheQMqHay+BfeTkrQ\n",
              "hZ/Bre83T7K/QDf/K0zrw8hDwdxYYMtS8xqvT8B4Baai3oFnvI2wZTar/h80QRIsGQJi1WSnMbhS\n",
              "ttGpGkfr4hy39lOhHqCQI1fB5DKlF9FHxshHaX6jrF1yBc59RiA5JsEGrjdtpwAAASJBm19JqEFs\n",
              "mUwIb//+p4QB1q7PwAlq03bM+NcbfK+Bz3+32epyWgODpl74ye/8ynAAFuq+p5TZft28tB0e1Csr\n",
              "UWeFgktU9K3atSSONdH0ZSXxshAt/rHdk9M0n3GLnqzelhj3SaYL7Q6W8tfyUrGbPTGKbXgi37+Q\n",
              "KYe59fZyr+Na4/Yux9wg20YLZTWiF3OmKHpyFmahLhcWM2mgNDHXRRG0qgwaOOgu+5LQYGFl7+oy\n",
              "Goszv5s2QTAauq0LBVyKBeKykZ0bemApq+KoslBQwswtqvly7R5SJXlVx6650MZGUA6cn/5W7Wat\n",
              "ndeWgzLrKSIVjJtyDgj8pfcrNWDT4VSYHXty7fTka382JxL9mnhYb86FxVO9iPJHMn95t9L9qQAA\n",
              "AF1Bn31FFSwr/wFas5iADmp1ncaoR5zYxP4o2Xgr2pGDRoibN9XCOLW6v4psaDoQjAaFcuq+rn/J\n",
              "VhP1kmurgLqd4gdNOdDuqwDW16SuutRUwglA8pWWjHUIiOia7x8AAAB3AZ+eakJ/AbgeHwAhTzvO\n",
              "gRbcpRW3Ynv6AnBszeARXyeR1fz1LB5996vAs4PmvyKQAcYTPrX6vLR8Ps272PaEuZ67lXAKAYBQ\n",
              "J4VGr0SPvhDkf4MyT5Gi9h+wB4GYnzAcwMa3xdjL+fSexNmf8JOss56hBZbipoAAAAE7QZuDSahB\n",
              "bJlMCG///qeEAdYWkgA/o7Tbanc3tzMWVa6SsMrbFKh67SYYWgNQlap6MUrW8rHc3MnmN8WPqawy\n",
              "0Axg1Fmi7JomnBFFh7BaWMHmY8c/6GdnRt9+LUVwRMh6Z2hx4QElByZ9QCqdPW7LcbMar90IN2Bt\n",
              "F681tE/U5OyvxTlYWTA1ga3OJ0iBOiUt0hKu85FqeU/GrX0b60zDInNQ14qf7U3zsIdM/HS+4ror\n",
              "N9Sscd8vWOmdlbKQArT7HGCIYmC/Mvw5yHsAap0mA3GD5pWgHD2DPeH3j2erb9g45hmJHj2pYoJF\n",
              "zBbxfdKyLP2GpVTHqT8YWNCfxsTNMGgtLUgHKlnFINl56ZtMOsAitG0dPxqDRRsCexvuR2ppg4NW\n",
              "PSYmjCzC2rBRPD0DVpC1wPGFb1gKv93BAAAA3EGfoUUVLCv/AVppBwngBCnnMA25eqwdB2gCZE1n\n",
              "IKl5UOb7z+zO7MP31nqWRRxQxzbyqSInWPmk/NrfSetsubaiKkNVaJvJ5RUmfFeZ87DnPAy8pjoM\n",
              "9UdxqOv1K1jn8ugZ5qj/kn6THk6rfq0xrwG8IpNc0BnDp9JPTKYQbrtZ6dz95km2atOvg2GUggjf\n",
              "DmjGJl0YQ2HFyL2RE+e4BTf2QUfRz05LurbNQi+W/tLCre2d5VxUwRXtOYBoLSA7gL8lDchPFtCp\n",
              "p354Jtjit49gF/Y8xxuOMrizWEAAAAA0AZ/AdEJ/AblegAEQcaCAl6Y39yNHRRKcFNKrnnxNbp/c\n",
              "8klU1A84JXIW664jmi+Ef/5LSQAAAJ8Bn8JqQn8BuV6AAQ/qcKkXpdfJEJtvSXjDlEmbDHImq5iQ\n",
              "E0pv/RGcCmzPyYAf42tuplt2sHUNIo796osR3u9ZCEXayxy+pIC5rTnF56GyEJb0K6tUnLc+DtPx\n",
              "Srl/Y8wLPnqdmlwONnKWraFCCmtGEMIjIpeb2w3aNJVO9AGfMSpP9RCHEPIViudjtJ7Y5KFSg8hT\n",
              "cyOqEPwtQMD4JeAAAAEgQZvHSahBbJlMCGf//p4QBwEPbT8AC6iiE9HriCpyNKYqQNAZFaUvqJ9D\n",
              "y9zhl9h4ocPg0piIssycj1rFrMyonfDNLxZoCgarDCisMQOUGk/UGO9KqE2nAULE6pSsqx1DzNjp\n",
              "+RWLG8KSm39Xs15xBEnaJEPUUkcUtQMzdNYwkpP68s6HoZhxJZDogH6mb73Tr4DLxV/3IDEluq/7\n",
              "1hWjLxX0wd215flit2sh7CwxzDWrXVahX9oVoqIPAkLO0fk5oK0ydeHTgasPGqNjusdxg4zze+Zq\n",
              "MXkEo7I7D+BsXBT7ZPoH95alqEZEKk/GdlpDk1GIbM4xtTy/kjfX0Hybel5qOVzraypANeKuko8o\n",
              "QkruDjbEPgGiEfrWxMhfXBAhAAAApkGf5UUVLCv/AVpxMQAt47krbtrvWi74P2Y9oLfrfBNmutPb\n",
              "ByWosL3qF4OfJkETWYqBcpVXNXKNgK3pTKONhW37zEsnRxhdGqV+9rcfoyLhSAUBGwSEDZhBsek/\n",
              "M7CCh4HAUxzRr5bSfSVJUutBFkEzcXkMhSpLegJubwsqZErpk+0AeChS6J4Mj363XPna6FbQm3YH\n",
              "9WZ/rou8KokPPVvW5XorjUEAAACYAZ4EdEJ/Abf4D4AQp4pjqVnNW97wASaphYhCUfR4UV5A5uF7\n",
              "mE87FCmnB0RqfjWWqE+DoWHFVDID2uBJIQm6uqTkuIKfdiKp3yvUF9QUyptHikSiT8LwfxkbGmZg\n",
              "JtchmEG8dIM69SMHeKc/emyme43hzDo2LxZ4oqm8WAITSrfjFikgT82qyzOj0gR1UDGOI9VLsrvB\n",
              "NcEAAACoAZ4GakJ/Abh9T4AQoiNyvOYFA4XNBfY32/P3pNM5X0IWOyL5xJml1bngqb+35ioFpP/n\n",
              "rrhpaPdtQKchqUnD/sMuxPIFVeoL8iqHpXf/CvQK1GAbn5BQwwT3oVOHHBTa8T8sJ6X9EMzK+MAl\n",
              "x6m4TGKzjuusN2dibnMZoQN6f1oxXF6hNnsLtNokNXOjS549e/53YtMvLXji2fe/ssxaGcB1L6ul\n",
              "D4JvAAABB0GaCkmoQWyZTAhn//6eEAcEjZABbxv+g/1u2a8hjl2CIQt4k6Qj+GOZNiV7OtialAJ6\n",
              "X/6lh7p1Y2ofoeQ4U59oGIjEHjM6iS+6G2Zr/Rq445P/bpHSGq2X2637d32skb3Ia91CXSFIsWXI\n",
              "WZD1q/BTtfEW9yr5zlaclNY5KCX51+U3D/k4NLcwgolTeN48catSg6ILa8+tsYeinvAk6iENZlz5\n",
              "bEkRllEVkOFrtx0V/4YwM+h1AztHM3XLW5kSlh0yWW2+5tzUzyQ48M8uiAkjwFcFTgVNeUef6hWQ\n",
              "CQS2WU4LiesI51FxBYV4nEPGWkTA0dwnzeRFDVvUWFEu11aw3VywGH+AAAAAfUGeKEUVLCv/AVqz\n",
              "mIATUwNicpxNHuEc71xwwkvyXVlkj7H/xxlO6UQdWMs+BRDKkbodi7Ui+DE5BSY7TABb68aNkaBI\n",
              "GBZCFf+ZUp3QgouIrS3Kg97X4nMKFJCO9z09ekct/YAPs+LE6btrIgRbGwYdfz+wUrSUqClIay+c\n",
              "AAAAuwGeSWpCfwG4fU+AEKB4Uj/2aNLD8Z5oOrbMiL98MV35OrMxhNEUNM8XemH+1WvKuUXvu8Rl\n",
              "Kj8P57q5wKrQiRtMGDs60iugilkGkxKLJAnacN5r7T9+Ifgm5KORmdZupO5Llfg+Gl+LUpgxwXU+\n",
              "mrM5zct/2Zjb0HtgKBubp/hfiqB+VE8pnfVsdm24kOdhAi3JD2DBvQAS9zshQOx3/Mybac0Ju1sP\n",
              "K1uosJJAPklkOKi6jPvNL/xUh90AAAEOQZpOSahBbJlMCFf//jhAGt5QIATV5sqQ+ifgObWJ3vLd\n",
              "S2kfWknqKiytMlSTsux21ewuC1f5quJ+8YXU/Z3zRHXg7QD6ZQFdh05+nzxtaMW+4XKwjXgz57a+\n",
              "iy1t3ABlOPPc/AxlUYiy4/I7pzV/CebRZ1YArQzUr8IVHQHzLssPOruzU9IsyZ1nc+nVJv37WXQq\n",
              "+aYAtoGybyyh1gy4UucZymBbgDuVAZvhE7viZtR9KQsD6H43+2E+f6JPHA63UzPuhZO8HgNOiC3R\n",
              "ere047PRrjBksq2OV+au/5tQ5CO+ufUZj0sQJjJCvlgcRqQD0iBzGdSZn0jWFoq+PR5YWmYQudAm\n",
              "iIWOV0OljiNaAAABMkGebEUVLCv/AVtcsAE7edFflXaklOhARubwX5lxUU2V95klJkf/bRw1k70G\n",
              "jbXKSFB6ArB6YmRimtvt14IiZilYNh8mb7dzii1MyXq3jYftaY4wiJgt0ydt8t4ajQuB+KBsHl/n\n",
              "ocYNs/mgHsUs9vji6DedHcciupaDB6qQG797CBcjC9GuVj983v3u9y6WDm4d2AlPsvW+s+xdMxGW\n",
              "XoQaz3d0H40px5rENnbtpgLPUv5w/wBCJSiIOo/iylJN4GOH3i3xOb2ND59GYcMrzisRxGYT7fXa\n",
              "zGNuJ0OYi0hE8rRP3rf8zFVtHY5KbGaqm2cjtJlsJlkpJjEaUGXx6tlPgZRRMc2s4J96eH+79DFE\n",
              "g4HQpm9HneFoPq5+Qr3dKkFSWIyZeRqDD5Pr/3JR2psJCAAAAHIBnot0Qn8BuV6AARB27eOq/BTe\n",
              "5A6tStGL0F22LCJrt3h/rsXGhiP0o/AJk7diltAx2kIhULg6CwTKOn/OrJjVrgK9ccTIhrq6XxRi\n",
              "IJFWxWT1WbYVdHc4cVdKVy6EKiNvcOD7SetPBkSGNKHWMbmF/fEAAAB6AZ6NakJ/AbgeHwAhPvDX\n",
              "IAtcYCAqEcCZq66GK91cVFC0I6N0FyEpZTBJnUaUV+CE1pHA73vUJY99aXNVGLpm24/u6EOTzxDd\n",
              "A/uRbj7Lfmfx7xsa5d6DGNkTYSHmsLGmZdvr1llUtiMe3RJeHzHTZTQm+VK/qqkLxd8AAACIQZqP\n",
              "SahBbJlMCE///fEAQay5AA2idCKrLPk7Au6zdP/XmPyYDUe1oDAi0E3XjjmXe/CPB5Gjogm4uUMb\n",
              "4TQNiTGp6zOSO20E3KNg/YOQE9uwO1/nql789GCVzfbCs9vd7VxtN41zhBPRsR+ZMvGwpn6BIdrr\n",
              "SqiDvLApsy/KDUceSA+d7LQwzQAADb5tb292AAAAbG12aGQAAAAAAAAAAAAAAAAAAAPoAAAfQAAB\n",
              "AAABAAAAAAAAAAAAAAAAAQAAAAAAAAAAAAAAAAAAAAEAAAAAAAAAAAAAAAAAAEAAAAAAAAAAAAAA\n",
              "AAAAAAAAAAAAAAAAAAAAAAAAAAACAAAM6HRyYWsAAABcdGtoZAAAAAMAAAAAAAAAAAAAAAEAAAAA\n",
              "AAAfQAAAAAAAAAAAAAAAAAAAAAAAAQAAAAAAAAAAAAAAAAAAAAEAAAAAAAAAAAAAAAAAAEAAAAAB\n",
              "IAAAASAAAAAAACRlZHRzAAAAHGVsc3QAAAAAAAAAAQAAH0AAAAQAAAEAAAAADGBtZGlhAAAAIG1k\n",
              "aGQAAAAAAAAAAAAAAAAAADwAAAHgAFXEAAAAAAAtaGRscgAAAAAAAAAAdmlkZQAAAAAAAAAAAAAA\n",
              "AFZpZGVvSGFuZGxlcgAAAAwLbWluZgAAABR2bWhkAAAAAQAAAAAAAAAAAAAAJGRpbmYAAAAcZHJl\n",
              "ZgAAAAAAAAABAAAADHVybCAAAAABAAALy3N0YmwAAACzc3RzZAAAAAAAAAABAAAAo2F2YzEAAAAA\n",
              "AAAAAQAAAAAAAAAAAAAAAAAAAAABIAEgAEgAAABIAAAAAAAAAAEAAAAAAAAAAAAAAAAAAAAAAAAA\n",
              "AAAAAAAAAAAAAAAAAAAY//8AAAAxYXZjQwFkAA3/4QAYZ2QADazZQSCWhAAAAwAEAAADAPA8UKZY\n",
              "AQAGaOvjyyLAAAAAHHV1aWRraEDyXyRPxbo5pRvPAyPzAAAAAAAAABhzdHRzAAAAAAAAAAEAAADw\n",
              "AAACAAAAABRzdHNzAAAAAAAAAAEAAAABAAAG4GN0dHMAAAAAAAAA2gAAAAEAAAQAAAAAAQAACAAA\n",
              "AAACAAACAAAAAAEAAAoAAAAAAQAABAAAAAABAAAAAAAAAAEAAAIAAAAAAQAACgAAAAABAAAEAAAA\n",
              "AAEAAAAAAAAAAQAAAgAAAAABAAAIAAAAAAIAAAIAAAAAAQAABAAAAAABAAAKAAAAAAEAAAQAAAAA\n",
              "AQAAAAAAAAABAAACAAAAAAEAAAgAAAAAAgAAAgAAAAABAAAEAAAAAAEAAAoAAAAAAQAABAAAAAAB\n",
              "AAAAAAAAAAEAAAIAAAAAAQAACAAAAAACAAACAAAAAAEAAAgAAAAAAgAAAgAAAAABAAAKAAAAAAEA\n",
              "AAQAAAAAAQAAAAAAAAABAAACAAAAAAEAAAgAAAAAAgAAAgAAAAABAAAIAAAAAAIAAAIAAAAAAQAA\n",
              "CgAAAAABAAAEAAAAAAEAAAAAAAAAAQAAAgAAAAABAAAKAAAAAAEAAAQAAAAAAQAAAAAAAAABAAAC\n",
              "AAAAAAEAAAYAAAAAAQAAAgAAAAABAAAKAAAAAAEAAAQAAAAAAQAAAAAAAAABAAACAAAAAAEAAAoA\n",
              "AAAAAQAABAAAAAABAAAAAAAAAAEAAAIAAAAAAQAACAAAAAACAAACAAAAAAEAAAoAAAAAAQAABAAA\n",
              "AAABAAAAAAAAAAEAAAIAAAAAAQAACgAAAAABAAAEAAAAAAEAAAAAAAAAAQAAAgAAAAABAAAGAAAA\n",
              "AAEAAAIAAAAAAQAACAAAAAACAAACAAAAAAEAAAoAAAAAAQAABAAAAAABAAAAAAAAAAEAAAIAAAAA\n",
              "AQAACgAAAAABAAAEAAAAAAEAAAAAAAAAAQAAAgAAAAABAAAIAAAAAAIAAAIAAAAAAQAACgAAAAAB\n",
              "AAAEAAAAAAEAAAAAAAAAAQAAAgAAAAABAAAKAAAAAAEAAAQAAAAAAQAAAAAAAAABAAACAAAAAAEA\n",
              "AAoAAAAAAQAABAAAAAABAAAAAAAAAAEAAAIAAAAAAQAACAAAAAACAAACAAAAAAEAAAoAAAAAAQAA\n",
              "BAAAAAABAAAAAAAAAAEAAAIAAAAAAQAACgAAAAABAAAEAAAAAAEAAAAAAAAAAQAAAgAAAAABAAAK\n",
              "AAAAAAEAAAQAAAAAAQAAAAAAAAABAAACAAAAAAEAAAoAAAAAAQAABAAAAAABAAAAAAAAAAEAAAIA\n",
              "AAAAAQAACgAAAAABAAAEAAAAAAEAAAAAAAAAAQAAAgAAAAABAAAKAAAAAAEAAAQAAAAAAQAAAAAA\n",
              "AAABAAACAAAAAAEAAAoAAAAAAQAABAAAAAABAAAAAAAAAAEAAAIAAAAAAQAACAAAAAACAAACAAAA\n",
              "AAEAAAoAAAAAAQAABAAAAAABAAAAAAAAAAEAAAIAAAAAAQAABgAAAAABAAACAAAAAAEAAAgAAAAA\n",
              "AgAAAgAAAAABAAAIAAAAAAIAAAIAAAAAAQAACAAAAAACAAACAAAAAAEAAAoAAAAAAQAABAAAAAAB\n",
              "AAAAAAAAAAEAAAIAAAAAAQAACgAAAAABAAAEAAAAAAEAAAAAAAAAAQAAAgAAAAABAAAKAAAAAAEA\n",
              "AAQAAAAAAQAAAAAAAAABAAACAAAAAAEAAAoAAAAAAQAABAAAAAABAAAAAAAAAAEAAAIAAAAAAQAA\n",
              "CgAAAAABAAAEAAAAAAEAAAAAAAAAAQAAAgAAAAABAAAIAAAAAAIAAAIAAAAAAQAACAAAAAACAAAC\n",
              "AAAAAAEAAAoAAAAAAQAABAAAAAABAAAAAAAAAAEAAAIAAAAAAQAACAAAAAACAAACAAAAAAEAAAgA\n",
              "AAAAAgAAAgAAAAABAAAKAAAAAAEAAAQAAAAAAQAAAAAAAAABAAACAAAAAAEAAAoAAAAAAQAABAAA\n",
              "AAABAAAAAAAAAAEAAAIAAAAAAQAACgAAAAABAAAEAAAAAAEAAAAAAAAAAQAAAgAAAAABAAAKAAAA\n",
              "AAEAAAQAAAAAAQAAAAAAAAABAAACAAAAAAEAAAoAAAAAAQAABAAAAAABAAAAAAAAAAEAAAIAAAAA\n",
              "AQAACAAAAAACAAACAAAAAAEAAAoAAAAAAQAABAAAAAABAAAAAAAAAAEAAAIAAAAAAQAACgAAAAAB\n",
              "AAAEAAAAAAEAAAAAAAAAAQAAAgAAAAABAAAKAAAAAAEAAAQAAAAAAQAAAAAAAAABAAACAAAAAAEA\n",
              "AAgAAAAAAgAAAgAAAAABAAAKAAAAAAEAAAQAAAAAAQAAAAAAAAABAAACAAAAAAEAAAoAAAAAAQAA\n",
              "BAAAAAABAAAAAAAAAAEAAAIAAAAAAQAACAAAAAACAAACAAAAAAEAAAoAAAAAAQAABAAAAAABAAAA\n",
              "AAAAAAEAAAIAAAAAAQAABAAAAAAcc3RzYwAAAAAAAAABAAAAAQAAAPAAAAABAAAD1HN0c3oAAAAA\n",
              "AAAAAAAAAPAAABMwAAABoQAAAckAAAEUAAABPQAAAMEAAABUAAAARQAAAoAAAAESAAAAagAAAH4A\n",
              "AAHBAAAAwAAAAUEAAAENAAADmwAAAQQAAADsAAABfgAAAeAAAAC9AAABPQAAAQcAAAHdAAABDQAA\n",
              "AKQAAAGFAAABFQAAAZ4AAAFGAAABJgAAAJsAAAF5AAABIgAAAKQAAAE9AAABeQAAAeAAAADIAAAA\n",
              "VQAAALoAAABAAAAAkwAAAW0AAAD6AAAAuQAAAMwAAAFbAAAA3QAAAOMAAADFAAABlwAAAMIAAAJp\n",
              "AAAA/wAAAPAAAACLAAACAgAAAWUAAACXAAAArwAAAUIAAACcAAAAlQAAAdwAAADFAAAAigAAAHAA\n",
              "AAHEAAAAxQAAALIAAABxAAABTQAAAHUAAAFTAAAAnAAAAYwAAAF9AAAB3wAAAG4AAADzAAABpAAA\n",
              "AVYAAABrAAAA2gAAAR0AAABfAAAAvgAAAJEAAAD0AAAANgAAALQAAAEdAAAA6QAAAFEAAADeAAAB\n",
              "QQAAATkAAADTAAAA1QAAAWEAAACFAAAAqAAAAXEAAAEXAAAASwAAANMAAAE9AAABEgAAAEEAAADP\n",
              "AAABSAAAAScAAADSAAAA5AAAAboAAAEfAAAARgAAAF0AAAGdAAAAlQAAAIIAAABfAAACBwAAALoA\n",
              "AAB+AAAAlAAAAVUAAAD7AAAAZwAAAHgAAADZAAAAZQAAAWcAAAIXAAAAqwAAAFYAAACFAAAA8AAA\n",
              "AG0AAAE5AAAAewAAASEAAAEtAAAAtgAAALEAAADzAAAAigAAAYAAAAL9AAAA5gAAAGMAAACfAAAB\n",
              "fAAAAIcAAABjAAAAYwAAAScAAACJAAAAiQAAAHQAAAFJAAAAlgAAAI4AAABNAAAB/gAAAPgAAADO\n",
              "AAAAtwAAAWYAAADqAAAAlwAAAXIAAAD6AAAA0QAAASsAAABzAAAAQwAAASkAAAH2AAAAuAAAAJsA\n",
              "AADxAAAAtQAAAQsAAAHlAAABUgAAAHYAAABxAAABdgAAAJsAAABkAAAAggAAAdIAAAB/AAAAXAAA\n",
              "AMcAAAHPAAAA0gAAAMYAAABQAAABIQAAAQEAAADTAAAAiwAAAcIAAAB8AAAAdgAAAhEAAADfAAAA\n",
              "dAAAANMAAAIZAAAA1AAAALsAAABkAAABvwAAAJsAAACBAAAAqwAAASYAAABhAAAAewAAAT8AAADg\n",
              "AAAAOAAAAKMAAAEkAAAAqgAAAJwAAACsAAABCwAAAIEAAAC/AAABEgAAATYAAAB2AAAAfgAAAIwA\n",
              "AAAUc3RjbwAAAAAAAAABAAAALAAAAGJ1ZHRhAAAAWm1ldGEAAAAAAAAAIWhkbHIAAAAAAAAAAG1k\n",
              "aXJhcHBsAAAAAAAAAAAAAAAALWlsc3QAAAAlqXRvbwAAAB1kYXRhAAAAAQAAAABMYXZmNTcuODMu\n",
              "MTAw\n",
              "\">\n",
              "  Your browser does not support the video tag.\n",
              "</video>"
            ]
          },
          "metadata": {},
          "execution_count": 185
        },
        {
          "output_type": "display_data",
          "data": {
            "text/plain": [
              "<Figure size 288x288 with 1 Axes>"
            ],
            "image/png": "[encoded data removed]"
          },
          "metadata": {
            "needs_background": "light"
          }
        }
      ]
    },
    {
      "cell_type": "markdown",
      "source": [
        "\n",
        "### b: Show energies\n",
        "\n",
        "Plot the total kinetic energy (T), total potential energy (U) and grand total energy (T+U) over\n",
        "the course of the simulation.\n"
      ],
      "metadata": {
        "collapsed": false,
        "pycharm": {
          "name": "#%% md\n"
        },
        "id": "iv9th_L8-tB-"
      }
    },
    {
      "cell_type": "markdown",
      "source": [
        "#### Kinetic energy"
      ],
      "metadata": {
        "id": "_danqFJA5eTQ"
      }
    },
    {
      "cell_type": "markdown",
      "source": [
        "##### Rotational kinetic energy"
      ],
      "metadata": {
        "id": "_7DEk4RE5goE"
      }
    },
    {
      "cell_type": "markdown",
      "source": [
        "$${T_{{\\rm{rotational}}}} = \\frac{1}{2}{I_1}\\dot \\theta _s^2 + \\frac{1}{2}{I_2}{\\left( {{{\\dot \\theta }_s} + {{\\dot \\theta }_e}} \\right)^2}$$\n",
        "\n"
      ],
      "metadata": {
        "id": "rplPSfi4s5b8"
      }
    },
    {
      "cell_type": "code",
      "source": [
        "T_rot = 0.5*I[0]*theta_dot[:,0]**2 + 0.5*I[1]*(theta_dot[:,0]+theta_dot[:,1])**2\n"
      ],
      "metadata": {
        "id": "VvSGC-9asocw"
      },
      "execution_count": 186,
      "outputs": []
    },
    {
      "cell_type": "markdown",
      "source": [
        "##### Linear kinetic energy"
      ],
      "metadata": {
        "id": "jXXWjNqi5kqW"
      }
    },
    {
      "cell_type": "markdown",
      "source": [
        "$${T_{{\\rm{linear}}}} = \\frac{1}{2}{m_1}\\dot x_1^2 + \\frac{1}{2}{m_2}\\dot x_2^2 $$"
      ],
      "metadata": {
        "id": "J2JRcYbs4ov_"
      }
    },
    {
      "cell_type": "markdown",
      "source": [
        "$${x_1} = \\left( {\\begin{array}{*{20}{c}}\n",
        "{{r_1}\\sin {\\theta _s}}\\\\\n",
        "{ - {r_1}\\cos {\\theta _s}}\n",
        "\\end{array}} \\right)$$\n",
        "$${x_2} = \\left( {\\begin{array}{*{20}{c}}\n",
        "{{l_1}\\sin {\\theta _s} + {r_2}\\sin \\left( {{\\theta _s} + {\\theta _e}} \\right)}\\\\\n",
        "{ - {l_1}\\cos {\\theta _s} - {r_2}\\cos \\left( {{\\theta _s} + {\\theta _e}} \\right)}\n",
        "\\end{array}} \\right)$$\n",
        "And we actually need the magnitude of the $\\dot{x_1}$ and $\\dot{x_2}$, which we can calculate using the appropriate Jacobians."
      ],
      "metadata": {
        "id": "eFSiKIBc4rik"
      }
    },
    {
      "cell_type": "code",
      "source": [
        "def calc_Jx1(theta, l):\n",
        "    return np.array([\n",
        "        [-r[0]*np.sin(theta[0]), 0],\n",
        "        [-r[0]*np.cos(theta[0]), 0]\n",
        "    ])\n",
        "\n",
        "def calc_x1dot(theta, theta_dot, l):\n",
        "    J = calc_Jx1(theta, l)\n",
        "    return J @ theta_dot\n",
        "\n",
        "def calc_Jx2(theta, l):\n",
        "    return np.array([\n",
        "        [-l[0]*np.sin(theta[0])-r[1]*np.sin(sum(theta)), -r[1]*np.sin(sum(theta))],\n",
        "        [-l[0]*np.cos(theta[0])-r[1]*np.cos(sum(theta)), -r[1]*np.cos(sum(theta))]\n",
        "    ])\n",
        "\n",
        "def calc_x2dot(theta, theta_dot, l):\n",
        "    J = calc_Jx2(theta, l)\n",
        "    return J @ theta_dot\n",
        "\n",
        "x1dot = np.stack([calc_x1dot(t, t_dot, l) for t, t_dot in zip(theta, theta_dot)])\n",
        "x2dot = np.stack([calc_x2dot(t, t_dot, l) for t, t_dot in zip(theta, theta_dot)])"
      ],
      "metadata": {
        "id": "KR6qnq0Syz6s"
      },
      "execution_count": 187,
      "outputs": []
    },
    {
      "cell_type": "code",
      "source": [
        "x1speed2 = np.sum(x1dot**2, axis=1)\n",
        "x2speed2 = np.sum(x2dot**2, axis=1)\n",
        "T_lin = 0.5*m[0]*x1speed2 + 0.5*m[1]*x2speed2"
      ],
      "metadata": {
        "id": "uboOH_RVwk2e"
      },
      "execution_count": 188,
      "outputs": []
    },
    {
      "cell_type": "markdown",
      "source": [
        "##### Total kinetic energy\n",
        "Now we have $T_{rotational}$ and $T_{linear}$ the kinetic energy and we can calculate the total kinetic energy."
      ],
      "metadata": {
        "id": "7JxQ53hz5Q03"
      }
    },
    {
      "cell_type": "code",
      "source": [
        "T_tot = T_rot + T_lin"
      ],
      "metadata": {
        "id": "YLRBG7ur4bjA"
      },
      "execution_count": 189,
      "outputs": []
    },
    {
      "cell_type": "markdown",
      "source": [
        "#### Potential energy"
      ],
      "metadata": {
        "id": "_stdrijL5tbX"
      }
    },
    {
      "cell_type": "markdown",
      "source": [
        "$$ {U_1} = {m_1}g{r_1}\\left( {1 - \\cos {\\theta _s}} \\right) $$\n",
        "$${U_2} = {m_2}g\\left[ {{l_1}\\left( {1 - \\cos {\\theta _s}} \\right) + {r_2}\\left( {1 - \\cos \\left( {{\\theta _s} + {\\theta _e}} \\right)} \\right)} \\right]$$"
      ],
      "metadata": {
        "id": "Ce-ruFE16Ej7"
      }
    },
    {
      "cell_type": "code",
      "source": [
        "U1 = m[0]*g*r[0]*(1 - np.cos(theta[:,0]))\n",
        "U2 = m[1]*g*(l[1]*(1-np.cos(theta[:,0])) + r[1]*(1 - np.cos(theta[:,0]+ theta[:,1])))\n",
        "U_tot = U1 + U2"
      ],
      "metadata": {
        "id": "LSMwe9JU6R0k"
      },
      "execution_count": 190,
      "outputs": []
    },
    {
      "cell_type": "markdown",
      "source": [
        "### Plot kinetic, potential and total energy"
      ],
      "metadata": {
        "id": "XMpDDzy864qM"
      }
    },
    {
      "cell_type": "code",
      "source": [
        "plt.plot(t_range, T_tot[:-1], label=\"T\")\n",
        "plt.plot(t_range, U_tot[:-1], label=\"U\")\n",
        "plt.plot(t_range, T_tot[:-1]+U_tot[:-1], label=\"T+U\")\n",
        "plt.legend()"
      ],
      "metadata": {
        "id": "2D7WB5CV69TQ",
        "outputId": "52f126be-a3a6-4a98-a3e4-4be211467024",
        "colab": {
          "base_uri": "https://localhost:8080/",
          "height": 282
        }
      },
      "execution_count": 191,
      "outputs": [
        {
          "output_type": "execute_result",
          "data": {
            "text/plain": [
              "<matplotlib.legend.Legend at 0x7f603dcbbc50>"
            ]
          },
          "metadata": {},
          "execution_count": 191
        },
        {
          "output_type": "display_data",
          "data": {
            "text/plain": [
              "<Figure size 432x288 with 1 Axes>"
            ],
            "image/png": "[encoded data removed]"
          },
          "metadata": {
            "needs_background": "light"
          }
        }
      ]
    }
  ],
  "metadata": {
    "kernelspec": {
      "name": "python3",
      "language": "python",
      "display_name": "Python 3"
    },
    "language_info": {
      "codemirror_mode": {
        "name": "ipython",
        "version": 2
      },
      "file_extension": ".py",
      "mimetype": "text/x-python",
      "name": "python",
      "nbconvert_exporter": "python",
      "pygments_lexer": "ipython2",
      "version": "2.7.6"
    },
    "colab": {
      "name": "HW3.ipynb",
      "provenance": []
    }
  },
  "nbformat": 4,
  "nbformat_minor": 0
}