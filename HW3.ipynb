{
  "cells": [
    {
      "cell_type": "code",
      "execution_count": 17,
      "outputs": [],
      "source": [
        "import numpy as np\n",
        "import matplotlib.pyplot as plt\n"
      ],
      "metadata": {
        "pycharm": {
          "name": "#%%\n"
        },
        "id": "PAIAYJGd-tBg"
      }
    },
    {
      "cell_type": "markdown",
      "metadata": {
        "collapsed": true,
        "pycharm": {
          "name": "#%% md\n"
        },
        "id": "duO2WXHX-tBi"
      },
      "source": [
        "# Homework 3\n",
        "## Problem 1\n",
        "\n",
        "For a 2-link arm, assume\n",
        "\n",
        "- Upper arm length: $l_1 = 0.34 ~\\textrm{m}$\n",
        "- Forearm length: $l_2 = 0.46 ~\\textrm{m}$\n",
        "- Hand position: $x = (0.36, 0.65)$ in $\\textrm{m}$\n",
        "- Hand velocity: $\\dot{x} = (−3.89, 1.30)$ in $\\textrm{m/s}$\n",
        "- Hand acceleration: $\\ddot{x} = (−7.79, −26.18)$ in $\\textrm{m/s$^2$}$"
      ]
    },
    {
      "cell_type": "code",
      "execution_count": 2,
      "outputs": [],
      "source": [
        "H = np.array([0.36,  0.65])\n",
        "l = np.array([0.34, 0.46])\n",
        "Hdot = np.array([-3.89, 1.30])\n",
        "Hddot = np.array([-7.79, -26.18])"
      ],
      "metadata": {
        "pycharm": {
          "name": "#%%\n"
        },
        "id": "xkXWLnMd-tBu"
      }
    },
    {
      "cell_type": "markdown",
      "source": [
        "### a: The Jacobian\n",
        "\n",
        "Work through the derivaitves by hand to find $J(\\theta)$ and $\\dot{J}(\\theta)$.\n",
        "\n",
        "#### Solution\n",
        "\n",
        "\\begin{equation}\n",
        "J\\left( \\theta  \\right) = \\left( {\\begin{array}{*{20}{c}}\n",
        "{\\frac{{\\partial {H_x}}}{{\\partial {\\theta _s}}}}&{\\frac{{\\partial {H_x}}}{{\\partial {\\theta _e}}}}\\\\\n",
        "{\\frac{{\\partial {H_y}}}{{\\partial {\\theta _s}}}}&{\\frac{{\\partial {H_y}}}{{\\partial {\\theta _e}}}}\n",
        "\\end{array}} \\right)\n",
        "\\end{equation}\n",
        "\\begin{equation}\n",
        "{} = \\left( {\\begin{array}{*{20}{c}}\n",
        "{\\frac{\\partial }{{\\partial {\\theta _s}}}{l_1}\\cos {\\theta _s} + {l_2}\\cos \\left( {{\\theta _s} + {\\theta _e}} \\right)}&{\\frac{\\partial }{{\\partial {\\theta _e}}}{l_1}\\cos {\\theta _s} + {l_2}\\cos \\left( {{\\theta _s} + {\\theta _e}} \\right)}\\\\\n",
        "{\\frac{\\partial }{{\\partial {\\theta _s}}}{l_1}\\sin {\\theta _s} + {l_2}\\sin \\left( {{\\theta _s} + {\\theta _e}} \\right)}&{\\frac{\\partial }{{\\partial {\\theta _e}}}{l_1}\\sin {\\theta _s} + {l_2}\\sin \\left( {{\\theta _s} + {\\theta _e}} \\right)}\n",
        "\\end{array}} \\right)\n",
        "\\end{equation}\n",
        "\\begin{equation}\n",
        "{} = \\left( {\\begin{array}{*{20}{c}}\n",
        "{ - {l_1}\\sin {\\theta _s} - {l_2}\\sin \\left( {{\\theta _s} + {\\theta _e}} \\right)}&{ - {l_2}\\sin \\left( {{\\theta _s} + {\\theta _e}} \\right)}\\\\\n",
        "{{l_1}\\cos {\\theta _s} + {l_2}\\cos \\left( {{\\theta _s} + {\\theta _e}} \\right)}&{{l_2}\\cos \\left( {{\\theta _s} + {\\theta _e}} \\right)}\n",
        "\\end{array}} \\right)\n",
        "\\end{equation}"
      ],
      "metadata": {
        "collapsed": false,
        "pycharm": {
          "name": "#%% md\n"
        },
        "id": "X8Jy_cur-tBv"
      }
    },
    {
      "cell_type": "code",
      "execution_count": 3,
      "outputs": [],
      "source": [
        "def calc_J(theta, l):\n",
        "    return np.array([\n",
        "        [-l[0]*np.sin(theta[0]-l[1]*np.sin(sum(theta))), -l[1]*np.sin(sum(theta))],\n",
        "        [-l[0]*np.cos(theta[0]-l[1]*np.cos(sum(theta))), -l[1]*np.cos(sum(theta))]\n",
        "    ])"
      ],
      "metadata": {
        "pycharm": {
          "name": "#%%\n"
        },
        "id": "hHjmS8gF-tBw"
      }
    },
    {
      "cell_type": "markdown",
      "source": [
        "### b: Inverse kinematics\n",
        "\n",
        "Use Python (or other program) to calculate numerically the joint angle\n",
        "in degrees, angular\n",
        "velocity in deg/s, and angular acceleration in deg/s$^2$.\n",
        "\n",
        "#### Solution\n",
        "\n",
        "##### Joint angles"
      ],
      "metadata": {
        "collapsed": false,
        "pycharm": {
          "name": "#%% md\n"
        },
        "id": "Ust7DAUx-tBx"
      }
    },
    {
      "cell_type": "code",
      "execution_count": 4,
      "outputs": [
        {
          "output_type": "stream",
          "name": "stdout",
          "text": [
            "Shoulder angle: 35.5°\n",
            "Elbow angle: 44.0°\n"
          ]
        }
      ],
      "source": [
        "# Equation for applying cosine rule to find an angle\n",
        "def angle_c_from_cosine_rule(a, b, c):\n",
        "    cos_c = (a**2 + b**2 - c**2)/(2*a*b)\n",
        "    return np.arccos(cos_c)\n",
        "\n",
        "# Find joint angles using trignometry\n",
        "def calc_theta(H, l):\n",
        "    c = np.linalg.norm(H)\n",
        "    gamma = np.arccos(H[0]/c)\n",
        "    alpha = angle_c_from_cosine_rule(l[0], c, l[1])\n",
        "    beta = angle_c_from_cosine_rule(l[0], l[1], c)\n",
        "    return np.array([gamma-alpha, np.pi-beta])\n",
        "\n",
        "theta = calc_theta(H, l)\n",
        "print(f'Shoulder angle: {theta[0]*180/np.pi:.1f}\\N{DEGREE SIGN}')\n",
        "print(f'Elbow angle: {theta[1]*180/np.pi:.1f}\\N{DEGREE SIGN}')"
      ],
      "metadata": {
        "pycharm": {
          "name": "#%%\n"
        },
        "id": "B2fo0lc4-tBx",
        "outputId": "11aaabe2-fb97-4d54-ce8c-da1413ecacb2",
        "colab": {
          "base_uri": "https://localhost:8080/"
        }
      }
    },
    {
      "cell_type": "markdown",
      "source": [
        "##### Joint velocities\n",
        "\n",
        "$\\dot \\theta  = {J^{ - 1}}\\left( \\theta  \\right)\\dot H$"
      ],
      "metadata": {
        "collapsed": false,
        "pycharm": {
          "name": "#%% md\n"
        },
        "id": "K2pxHRqH-tB0"
      }
    },
    {
      "cell_type": "code",
      "execution_count": 5,
      "outputs": [
        {
          "output_type": "stream",
          "name": "stdout",
          "text": [
            "Shoulder angular velocity: -410.1 deg/sec\n",
            "Elbow angular velocity: 544.2 deg/sec\n"
          ]
        }
      ],
      "source": [
        "def calc_theta_dot(H, Hdot, l):\n",
        "    theta = calc_theta(H, l)\n",
        "    J = calc_J(theta, l)\n",
        "    invJ = np.linalg.inv(J)\n",
        "    return invJ @ Hdot\n",
        "\n",
        "theta_dot = calc_theta_dot(H, Hdot, l)\n",
        "\n",
        "print(f'Shoulder angular velocity: {theta_dot[0]*180/np.pi:.1f} deg/sec')\n",
        "print(f'Elbow angular velocity: {theta_dot[1]*180/np.pi:.1f} deg/sec')"
      ],
      "metadata": {
        "pycharm": {
          "name": "#%%\n"
        },
        "id": "aWG26kdU-tB0",
        "outputId": "8ea14978-16e6-4fd2-dfc3-923932c6c496",
        "colab": {
          "base_uri": "https://localhost:8080/"
        }
      }
    },
    {
      "cell_type": "markdown",
      "source": [
        "##### Joint acceleration\n",
        "\n",
        "$\\ddot \\theta  = {J^{ - 1}}\\left( \\theta  \\right)\n",
        "\\left( {\\ddot H - \\dot J\\left( \\theta  \\right)\\dot \\theta } \\right)$\n",
        "\n",
        "To do this, we need to find $\\dot J(\\theta)$\n",
        "\n",
        "$\\dot J\\left( \\theta  \\right)  = \\frac{\\partial }{{\\partial {\\theta _s}}}J\\left( \\theta  \\right)\\frac{{d{\\theta _s}}}{{dt}} + \\frac{\\partial }{{\\partial {\\theta _e}}}J\\left( \\theta  \\right)\\frac{{d{\\theta _e}}}{{dt}}$\n",
        "\n",
        "Using the equation for $J(\\theta)$ derived above, we have:\n",
        "\n",
        "\\begin{equation}\n",
        "\\frac{\\partial }{{\\partial {\\theta _s}}}J\\left( \\theta  \\right) = \\left( {\\begin{array}{*{20}{c}}\n",
        "  { - {l_1}\\cos {\\theta _s} - {l_2}\\cos \\left( {{\\theta _s} + {\\theta _e}} \\right)}&{ - {l_2}\\cos \\left( {{\\theta _s} + {\\theta _e}} \\right)} \\\\\n",
        "  { - {l_1}\\sin {\\theta _s} - {l_2}\\sin \\left( {{\\theta _s} + {\\theta _e}} \\right)}&{ - {l_2}\\sin \\left( {{\\theta _s} + {\\theta _e}} \\right)}\n",
        "\\end{array}} \\right)\n",
        "\\end{equation}\n",
        "\n",
        "\\begin{equation}\n",
        "\\frac{\\partial }{{\\partial {\\theta _e}}}J\\left( \\theta  \\right) = \\left( {\\begin{array}{*{20}{c}}\n",
        "  { - {l_2}\\cos \\left( {{\\theta _s} + {\\theta _e}} \\right)}&{ - {l_2}\\cos \\left( {{\\theta _s} + {\\theta _e}} \\right)} \\\\\n",
        "  { - {l_2}\\sin \\left( {{\\theta _s} + {\\theta _e}} \\right)}&{{l_2}\\sin \\left( {{\\theta _s} + {\\theta _e}} \\right)}\n",
        "\\end{array}} \\right)\n",
        "\\end{equation}\n",
        "\n",
        "And thus:\n",
        "\n",
        "\\begin{equation}\n",
        "\\dot J\\left( \\theta  \\right) = \\left( {\\begin{array}{*{20}{c}}\n",
        "  { - {l_1}\\cos {\\theta _s}{{\\dot \\theta }_s} - {l_2}\\cos \\left( {{\\theta _s} + {\\theta _e}} \\right)\\left( {{{\\dot \\theta }_s} + {{\\dot \\theta }_e}} \\right)}&{ - {l_2}\\cos \\left( {{\\theta _s} + {\\theta _e}} \\right)\\left( {{{\\dot \\theta }_s} + {{\\dot \\theta }_e}} \\right)} \\\\\n",
        "  { - {l_1}\\sin {\\theta _s}{{\\dot \\theta }_s} - {l_2}\\sin \\left( {{\\theta _s} + {\\theta _e}} \\right)\\left( {{{\\dot \\theta }_s} + {{\\dot \\theta }_e}} \\right)}&{ - {l_2}\\sin \\left( {{\\theta _s} + {\\theta _e}} \\right)\\left( {{{\\dot \\theta }_s} + {{\\dot \\theta }_e}} \\right)}\n",
        "\\end{array}} \\right)\n",
        "\\end{equation}"
      ],
      "metadata": {
        "collapsed": false,
        "pycharm": {
          "name": "#%% md\n"
        },
        "id": "QvBxb2U6-tB1"
      }
    },
    {
      "cell_type": "code",
      "execution_count": 6,
      "outputs": [
        {
          "output_type": "stream",
          "name": "stdout",
          "text": [
            "Shoulder angular acceleration: 3018.2 deg/sec^2\n",
            "Elbow angular acceleration: -1245.5 deg/sec^2\n"
          ]
        }
      ],
      "source": [
        "def calc_Jdot(theta, theta_dot, l):\n",
        "    return np.array([\n",
        "        [-l[0]*np.cos(theta[0])*theta_dot[0]-l[1]*np.cos(sum(theta))*sum(theta_dot), -l[1]*np.cos(sum(theta))*sum(theta_dot)],\n",
        "        [-l[0]*np.sin(theta[0])*theta_dot[0]-l[1]*np.sin(sum(theta))*sum(theta_dot), -l[1]*np.sin(sum(theta))*sum(theta_dot)]\n",
        "    ])\n",
        "\n",
        "def calc_theta_ddot(H, Hdot, Hddot, l):\n",
        "    theta = calc_theta(H, l)\n",
        "    theta_dot = calc_theta_dot(H, Hdot, l)\n",
        "    J = calc_J(theta, l)\n",
        "    invJ = np.linalg.inv(J)\n",
        "    Jdot = calc_Jdot(theta, theta_dot, l)\n",
        "    return invJ @ (Hddot - Jdot @ theta_dot)\n",
        "\n",
        "theta_ddot = calc_theta_ddot(H, Hdot, Hddot, l)\n",
        "\n",
        "print(f'Shoulder angular acceleration: {theta_ddot[0]*180/np.pi:.1f} deg/sec^2')\n",
        "print(f'Elbow angular acceleration: {theta_ddot[1]*180/np.pi:.1f} deg/sec^2')"
      ],
      "metadata": {
        "pycharm": {
          "name": "#%%\n"
        },
        "id": "Ia-fw9Or-tB2",
        "outputId": "d641184f-4d84-4720-d261-85b788ece218",
        "colab": {
          "base_uri": "https://localhost:8080/"
        }
      }
    },
    {
      "cell_type": "markdown",
      "source": [
        "### c: Forward kinematics\n",
        "\n",
        "Starting with your answers in part (b), calculate the forward kinematics to\n",
        "get hand position, velocity and acceleration. Compare your results to the original values.\n",
        "\n",
        "#### Hand position"
      ],
      "metadata": {
        "collapsed": false,
        "pycharm": {
          "name": "#%% md\n"
        },
        "id": "pbZWu2Xa-tB2"
      }
    },
    {
      "cell_type": "code",
      "execution_count": 7,
      "outputs": [
        {
          "output_type": "stream",
          "name": "stdout",
          "text": [
            "Original hand position is (0.36, 0.65)\n",
            "Ater inverse and forward kinematics we get: (0.36, 0.65)\n"
          ]
        }
      ],
      "source": [
        "def calc_H(theta, l):\n",
        "    return np.array([\n",
        "        l[0]*np.cos(theta[0])+l[1]*np.cos(sum(theta)),\n",
        "        l[0]*np.sin(theta[0])+l[1]*np.sin(sum(theta))\n",
        "    ])\n",
        "\n",
        "\n",
        "H1 = calc_H(theta, l)\n",
        "\n",
        "print(f'Original hand position is ({H[0]:.2f}, {H[1]:.2f})')\n",
        "print(f'Ater inverse and forward kinematics we get: ({H1[0]:.2f}, {H1[1]:.2f})')"
      ],
      "metadata": {
        "pycharm": {
          "name": "#%%\n"
        },
        "id": "dpethIxg-tB3",
        "outputId": "0bd58ce3-8d8b-473a-edd4-4c444d5de298",
        "colab": {
          "base_uri": "https://localhost:8080/"
        }
      }
    },
    {
      "cell_type": "markdown",
      "source": [
        "#### Hand velocity"
      ],
      "metadata": {
        "collapsed": false,
        "pycharm": {
          "name": "#%% md\n"
        },
        "id": "rXatseZT-tB3"
      }
    },
    {
      "cell_type": "code",
      "execution_count": 8,
      "outputs": [
        {
          "output_type": "stream",
          "name": "stdout",
          "text": [
            "Original hand velocity is (-3.89, 1.30)\n",
            "Ater inverse and forward kinematics we get: (-3.89, 1.30)\n"
          ]
        }
      ],
      "source": [
        "def calc_Hdot(theta, theta_dot, l):\n",
        "    J = calc_J(theta, l)\n",
        "    return J @ theta_dot\n",
        "\n",
        "H1dot = calc_Hdot(theta, theta_dot, l)\n",
        "\n",
        "print(f'Original hand velocity is ({Hdot[0]:.2f}, {Hdot[1]:.2f})')\n",
        "print(f'Ater inverse and forward kinematics we get: ({H1dot[0]:.2f}, {H1dot[1]:.2f})')"
      ],
      "metadata": {
        "pycharm": {
          "name": "#%%\n"
        },
        "id": "dDMDCNe8-tB3",
        "outputId": "7dbb21a0-358c-41ab-95ed-8bbefc3766de",
        "colab": {
          "base_uri": "https://localhost:8080/"
        }
      }
    },
    {
      "cell_type": "markdown",
      "source": [
        "#### Hand acceleration"
      ],
      "metadata": {
        "collapsed": false,
        "pycharm": {
          "name": "#%% md\n"
        },
        "id": "iyW68qke-tB4"
      }
    },
    {
      "cell_type": "code",
      "execution_count": 9,
      "outputs": [
        {
          "output_type": "stream",
          "name": "stdout",
          "text": [
            "Original hand acceleration is (-7.79, -26.18)\n",
            "Ater inverse and forward kinematics we get: (-7.79, -26.18)\n"
          ]
        }
      ],
      "source": [
        "def calc_Hddot(theta, theta_dot, theta_ddot, l):\n",
        "    J = calc_J(theta, l)\n",
        "    Jdot = calc_Jdot(theta, theta_dot, l)\n",
        "    return Jdot @ theta_dot + J @ theta_ddot\n",
        "\n",
        "H1ddot = calc_Hddot(theta, theta_dot, theta_ddot, l)\n",
        "\n",
        "print(f'Original hand acceleration is ({Hddot[0]:.2f}, {Hddot[1]:.2f})')\n",
        "print(f'Ater inverse and forward kinematics we get: ({H1ddot[0]:.2f}, {H1ddot[1]:.2f})')"
      ],
      "metadata": {
        "pycharm": {
          "name": "#%%\n"
        },
        "id": "MTtVe1lz-tB4",
        "outputId": "70fa79da-a4ae-4644-8f5c-e862ff9c0812",
        "colab": {
          "base_uri": "https://localhost:8080/"
        }
      }
    },
    {
      "cell_type": "markdown",
      "source": [
        "## Problem 2\n",
        "\n",
        "### a: Simulate dynamics of two joint arm\n",
        "\n",
        "Following the equations of motion defined in class, simulate the dynamics a two-link arm\n",
        "of 4 sec. Plot the trajectory in the x/y plane and the x and y velocities as functions of time.\n",
        "\n",
        "Use a time step of $1~\\textrm{msec}$ and a total simulation time of\n",
        "$4~\\textrm{sec}$.\n",
        "\n",
        "Use the following constants for the arm:\n",
        "\n",
        "*Upper arm*\n",
        "\n",
        "- Mass: $m_1 = 2.1~\\textrm{kg}$\n",
        "- Moment of inertia: $I_1 = 0.025~\\textrm{N s$^2$}$\n",
        "- Length: $l_1 = 0.3384~\\textrm{m}$\n",
        "- Center of mass: $r_1 = 0.1692~\\textrm{m}$\n",
        "\n",
        "*Lower arm*\n",
        "\n",
        "- Mass: $m_2 = 1.65~\\textrm{kg}$\n",
        "- Moment of inertia: $I_2 = 0.075~\\textrm{N s$^2$}$\n",
        "- Length: $l_2 = 0.4554~\\textrm{m}$\n",
        "- Center of mass: $r_2 = 0.2277~\\textrm{m}$\n",
        "\n",
        "- Gravitational constant: $g = 9.81~\\textrm{m/s$^2$}$\n",
        "- Shoulder muscle torque: $\\tau_s = 0$\n",
        "- Elbow mucle torque: $\\tau_e = 0$\n",
        "\n",
        "And initial conditions:\n",
        "\n",
        "- $\\theta_s = 180^{\\circ}$\n",
        "- $\\theta_e = 1^{\\circ}$\n",
        "- $\\dot{\\theta}_s = 0^{\\circ} / s$\n",
        "- $\\dot{\\theta}_e = 0^{\\circ} / s$\n",
        "\n",
        "#### Solution\n",
        "\n",
        "##### Set up constants"
      ],
      "metadata": {
        "collapsed": false,
        "pycharm": {
          "name": "#%% md\n"
        },
        "id": "kOh4_qGz-tB5"
      }
    },
    {
      "cell_type": "code",
      "execution_count": 29,
      "outputs": [],
      "source": [
        "m = np.array([2.1, 1.65])\n",
        "I = np.array([0.0025, 0.0075])\n",
        "l = np.array([0.3384, 0.4554])\n",
        "r = np.array([0.1692, 0.2277])\n",
        "g = 9.81\n",
        "tau_m = np.array([0, 0])\n",
        "\n",
        "theta_0 = np.array([180, 1])*np.pi/180\n",
        "theta_dot_0 = np.array([0, 0])\n",
        "\n",
        "dt = 5e-6\n",
        "T = 4"
      ],
      "metadata": {
        "pycharm": {
          "name": "#%%\n"
        },
        "id": "9RwOJp3O-tB5"
      }
    },
    {
      "cell_type": "markdown",
      "source": [
        "##### Define function for inertia matrix\n",
        "\n",
        "\\begin{equation}\n",
        "M = \\left( {\\begin{array}{*{20}{c}}\n",
        "  {{I_1} + {I_2} + {m_1}r_1^2 + {m_2}\\left( {l_1^2 + r_2^2 + 2{l_1}{r_2}\\cos {\\theta _e}} \\right)}&{{I_2} + {m_2}\\left( {r_2^2 + {l_1}{r_2}\\cos {\\theta _e}} \\right)} \\\\\n",
        "  {{I_2} + {m_2}\\left( {r_2^2 + {l_1}{r_2}\\cos {\\theta _e}} \\right)}&{{I_2} + {m_2}r_2^2}\n",
        "\\end{array}} \\right)\n",
        "\\end{equation}"
      ],
      "metadata": {
        "collapsed": false,
        "pycharm": {
          "name": "#%% md\n"
        },
        "id": "zhsP1_AO-tB6"
      }
    },
    {
      "cell_type": "code",
      "execution_count": 11,
      "outputs": [],
      "source": [
        "def calc_M(theta, m, l, r, I):\n",
        "    I11 = I[0]+I[1]+m[0]*r[0]**2+m[1]*(l[0]**2+r[1]**2+2*l[0]*r[1]*np.cos(theta[1]))\n",
        "    I12 = I[1]+m[1]*(r[1]**2+l[0]*r[1]*np.cos(theta[1]))\n",
        "    I22 = I[1]+m[1]*r[1]**2\n",
        "    return np.array([[I11, I12], [I12, I22]])\n",
        "\n",
        "M_0 = calc_M(theta_0, m, l, r, I)"
      ],
      "metadata": {
        "pycharm": {
          "name": "#%%\n"
        },
        "id": "yTZou_uN-tB6"
      }
    },
    {
      "cell_type": "markdown",
      "source": [
        "##### Define function for coriolis matrix\n",
        "\n",
        "\\begin{equation}\n",
        "C = {l_1}{m_2}{r_2}\\sin {\\theta _e}\\left( {\\begin{array}{*{20}{c}}\n",
        "  0&{ - 2{{\\dot \\theta }_s} - {{\\dot \\theta }_e}} \\\\\n",
        "  {{{\\dot \\theta }_s}}&0\n",
        "\\end{array}} \\right)\n",
        "\\end{equation}"
      ],
      "metadata": {
        "collapsed": false,
        "pycharm": {
          "name": "#%% md\n"
        },
        "id": "Gg2hTd0p-tB7"
      }
    },
    {
      "cell_type": "code",
      "execution_count": 12,
      "outputs": [],
      "source": [
        "def calc_C(theta, theta_dot, m, l, r):\n",
        "    return l[0]*m[1]*r[1]*np.sin(theta[1])*np.array([\n",
        "        [0, -2*theta_dot[0]-theta_dot[1]],\n",
        "        [theta_dot[0], 0]])\n",
        "\n",
        "C_0 = calc_C(theta_0, theta_dot_0, m, l, r)"
      ],
      "metadata": {
        "pycharm": {
          "name": "#%%\n"
        },
        "id": "Klw0PAYQ-tB7"
      }
    },
    {
      "cell_type": "markdown",
      "source": [
        "##### Define function for gravitational matrix\n",
        "\n",
        "\\begin{equation}\n",
        "G = g\\left( {\\begin{array}{*{20}{c}}\n",
        "  {\\left( {{m_2}{l_1} + {m_1}{r_1}} \\right)\\sin {\\theta _e} + {m_2}{r_2}\\sin \\left( {{\\theta _s} + {\\theta _e}} \\right)} \\\\\n",
        "  {{m_2}{r_2}\\sin \\left( {{\\theta _s} + {\\theta _e}} \\right)}\n",
        "\\end{array}} \\right)\n",
        "\\end{equation}"
      ],
      "metadata": {
        "collapsed": false,
        "pycharm": {
          "name": "#%% md\n"
        },
        "id": "TiowvEg5-tB8"
      }
    },
    {
      "cell_type": "code",
      "execution_count": 13,
      "outputs": [],
      "source": [
        "def calc_G(theta, m, l, r, g):\n",
        "    return g*np.array([\n",
        "        [(m[1]*l[0]+m[0]*r[0])*np.sin(theta[1]) + m[1]*r[1]*np.sin(sum(theta))],\n",
        "        [m[1]*r[1]*np.sin(sum(theta))]\n",
        "    ]).reshape(2)\n",
        "\n",
        "G_0 = calc_G(theta_0, m, l, r, g)"
      ],
      "metadata": {
        "pycharm": {
          "name": "#%%\n"
        },
        "id": "MpaFhaeS-tB8"
      }
    },
    {
      "cell_type": "markdown",
      "source": [
        "##### Calculate angular acceleration from state\n",
        "\n",
        "\\begin{equation}\n",
        "\\ddot{\\theta} = M^{-1}(\\tau - C \\dot{\\theta} - G)\n",
        "\\end{equation}"
      ],
      "metadata": {
        "collapsed": false,
        "pycharm": {
          "name": "#%% md\n"
        },
        "id": "NiBqe5S4-tB8"
      }
    },
    {
      "cell_type": "code",
      "execution_count": 14,
      "outputs": [],
      "source": [
        "def calc_theta_ddot_dynamics(tau_m, theta, theta_dot, m, l, r, I, g):\n",
        "    M = calc_M(theta, m, l, r, I)\n",
        "    C = calc_C(theta, theta_dot, m, l, r)\n",
        "    G = calc_G(theta, m, l, r, g)\n",
        "    return np.linalg.inv(M)@(tau_m -(C @ theta_dot) - G)\n",
        "    # return theta_ddot.reshape(2)\n",
        "\n",
        "theta_ddot_0 = calc_theta_ddot_dynamics(tau_m, theta_0, theta_dot_0, m, l, r, I, g)"
      ],
      "metadata": {
        "pycharm": {
          "name": "#%%\n"
        },
        "id": "1Rah0OTN-tB9"
      }
    },
    {
      "cell_type": "markdown",
      "source": [
        "##### Run loop"
      ],
      "metadata": {
        "collapsed": false,
        "pycharm": {
          "name": "#%% md\n"
        },
        "id": "cZWaFj_z-tB9"
      }
    },
    {
      "cell_type": "code",
      "execution_count": 30,
      "outputs": [],
      "source": [
        "t_range = np.arange(0, T, dt)\n",
        "theta = [theta_0]\n",
        "theta_dot = [theta_dot_0]\n",
        "theta_ddot = [np.array([0,0])]\n",
        "H = [calc_H(theta_0, l)]\n",
        "Hdot = [calc_Hdot(theta_0, theta_dot_0, l)]\n",
        "Hddot = [np.array([0,0])]\n",
        "\n",
        "for t in t_range:\n",
        "    theta_ddot.append(\n",
        "        calc_theta_ddot_dynamics(tau_m, theta[-1], theta_dot[-1], m, l, r, I, g)\n",
        "    )\n",
        "    theta_dot.append((theta_dot[-1] + dt*theta_ddot[-1]).reshape(2))\n",
        "    theta.append((theta[-1] + dt*theta_dot[-1]).reshape(2))\n",
        "\n",
        "    H.append(calc_H(theta[-1], l))\n",
        "    Hdot.append(calc_Hdot(theta[-1], theta_dot[-1], l))\n",
        "    Hddot.append(calc_Hddot(theta[-1], theta_dot[-1], theta_ddot[-1], l))\n",
        "\n",
        "H = np.stack(H)"
      ],
      "metadata": {
        "pycharm": {
          "name": "#%%\n"
        },
        "id": "KON51E6c-tB-"
      }
    },
    {
      "cell_type": "code",
      "source": [
        "plt.plot(H[:,0],H[:,1])"
      ],
      "metadata": {
        "id": "X51sqr3v_mSM",
        "outputId": "696a0f2e-7427-492b-84da-2704f3d6616d",
        "colab": {
          "base_uri": "https://localhost:8080/",
          "height": 282
        }
      },
      "execution_count": 31,
      "outputs": [
        {
          "output_type": "execute_result",
          "data": {
            "text/plain": [
              "[<matplotlib.lines.Line2D at 0x7f27edcbb050>]"
            ]
          },
          "metadata": {},
          "execution_count": 31
        },
        {
          "output_type": "display_data",
          "data": {
            "text/plain": [
              "<Figure size 432x288 with 1 Axes>"
            ],
            "image/png": "[encoded data removed]"
          },
          "metadata": {
            "needs_background": "light"
          }
        }
      ]
    },
    {
      "cell_type": "markdown",
      "source": [
        "\n",
        "### b: Show energies\n",
        "\n",
        "Plot the total kinetic energy (T), total potential energy (U) and grand total energy (T+U) over\n",
        "the course of the simulation.\n"
      ],
      "metadata": {
        "collapsed": false,
        "pycharm": {
          "name": "#%% md\n"
        },
        "id": "iv9th_L8-tB-"
      }
    }
  ],
  "metadata": {
    "kernelspec": {
      "name": "python3",
      "language": "python",
      "display_name": "Python 3"
    },
    "language_info": {
      "codemirror_mode": {
        "name": "ipython",
        "version": 2
      },
      "file_extension": ".py",
      "mimetype": "text/x-python",
      "name": "python",
      "nbconvert_exporter": "python",
      "pygments_lexer": "ipython2",
      "version": "2.7.6"
    },
    "colab": {
      "name": "HW3.ipynb",
      "provenance": []
    }
  },
  "nbformat": 4,
  "nbformat_minor": 0
}