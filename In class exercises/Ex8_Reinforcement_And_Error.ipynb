{
 "cells": [
  {
   "cell_type": "markdown",
   "id": "fc4fe87b",
   "metadata": {},
   "source": [
    "# Reward and Error Learning Simulation (Izawa & Shadmehr, 2011)"
   ]
  },
  {
   "cell_type": "markdown",
   "id": "97a7c94d",
   "metadata": {},
   "source": [
    "## 1. Imports and Constants"
   ]
  },
  {
   "cell_type": "code",
   "execution_count": null,
   "id": "c1d254bc",
   "metadata": {
    "lines_to_next_cell": 1
   },
   "outputs": [],
   "source": [
    "import numpy as np\n",
    "import matplotlib.pyplot as plt\n",
    "\n",
    "# Simulation settings\n",
    "n_trials = 200\n",
    "gamma = 0.9           # discount factor\n",
    "alpha_r = 0.1         # learning rate for reward prediction error\n",
    "alpha_v = 0.1         # learning rate for value function\n",
    "a = 0.98              # forgetting factor for perturbation\n",
    "b = np.array([[0], [1]])  # input matrix\n",
    "C = np.array([[0, 1]])    # observation matrix\n",
    "A = np.array([[a, 0], [1, 0]])\n",
    "\n",
    "# Initial values\n",
    "x = np.zeros((2, 1))    # true state: [p; h]\n",
    "x_hat = np.zeros((2, 1)) # state estimate\n",
    "w_r = 0.0                # reward-based controller\n",
    "w_v = 0.0                # value estimate\n",
    "nu = 0.0                 # motor noise"
   ]
  },
  {
   "cell_type": "markdown",
   "id": "023f3148",
   "metadata": {},
   "source": [
    "## 2. Task Environment Setup"
   ]
  },
  {
   "cell_type": "code",
   "execution_count": null,
   "id": "4bb9394e",
   "metadata": {
    "lines_to_next_cell": 1
   },
   "outputs": [],
   "source": [
    "def simulate(condition=\"ERR\", seed=42):\n",
    "    np.random.seed(seed)\n",
    "    # Visual noise level varies by condition\n",
    "    sigma_y = {\n",
    "        \"ERR\": 5.0,\n",
    "        \"EPE\": 20.0,\n",
    "        \"RWD\": 1e6  # essentially no observation\n",
    "    }[condition]\n",
    "    \n",
    "    P = np.diag([1.0, 1.0])\n",
    "    Q = np.diag([0.05, 0.05])\n",
    "    R = sigma_y ** 2\n",
    "\n",
    "    h_history = []\n",
    "    h_hat_history = []\n",
    "\n",
    "    p_hat = 0.0\n",
    "    w_r = 0.0\n",
    "    w_v = 0.0\n",
    "\n",
    "    for k in range(n_trials):\n",
    "        # true perturbation dynamics\n",
    "        p = a * x[0, 0] + np.random.normal(0, Q[0, 0]**0.5)\n",
    "        u = -p_hat + w_r + np.random.normal(0, 0.5)  # control policy\n",
    "        h = u + np.random.normal(0, Q[1, 1]**0.5)\n",
    "\n",
    "        x = np.array([[p], [h]])\n",
    "        y = C @ x + np.random.normal(0, R**0.5, size=(1, 1))\n",
    "\n",
    "        # Kalman prediction\n",
    "        x_hat = A @ x_hat + b * u\n",
    "        P = A @ P @ A.T + Q\n",
    "\n",
    "        # Kalman update\n",
    "        K = P @ C.T @ np.linalg.inv(C @ P @ C.T + R)\n",
    "        x_hat = x_hat + K @ (y - C @ x_hat)\n",
    "        P = (np.eye(2) - K @ C) @ P\n",
    "\n",
    "        # reward computation\n",
    "        reward = 1.0 if abs(h) < 3.0 else 0.0\n",
    "        delta_r = reward + gamma * w_v - w_v\n",
    "        w_v += alpha_v * delta_r\n",
    "        w_r += alpha_r * delta_r * nu\n",
    "\n",
    "        h_history.append(h)\n",
    "        h_hat_history.append(x_hat[1, 0])\n",
    "\n",
    "    return np.array(h_history), np.array(h_hat_history)"
   ]
  },
  {
   "cell_type": "markdown",
   "id": "c2f6356d",
   "metadata": {},
   "source": [
    "## 3. Run Simulation for Each Condition"
   ]
  },
  {
   "cell_type": "code",
   "execution_count": null,
   "id": "21e9ed95",
   "metadata": {},
   "outputs": [],
   "source": [
    "conditions = [\"ERR\", \"EPE\", \"RWD\"]\n",
    "results = {}\n",
    "\n",
    "for cond in conditions:\n",
    "    h, h_hat = simulate(cond)\n",
    "    results[cond] = (h, h_hat)"
   ]
  },
  {
   "cell_type": "markdown",
   "id": "3208f01e",
   "metadata": {},
   "source": [
    "## 4. Plotting Estimated vs Actual Hand Position"
   ]
  },
  {
   "cell_type": "code",
   "execution_count": null,
   "id": "1b02bb2d",
   "metadata": {},
   "outputs": [],
   "source": [
    "plt.figure(figsize=(12, 6))\n",
    "for cond, (h, h_hat) in results.items():\n",
    "    plt.plot(h_hat, label=f\"{cond} (estimate)\")\n",
    "plt.plot(results[\"ERR\"][0], '--', color='k', label=\"True hand (ERR)\")\n",
    "plt.axhline(0, color='gray', linestyle='--')\n",
    "plt.title(\"Estimated Hand Position Across Conditions\")\n",
    "plt.xlabel(\"Trial\")\n",
    "plt.ylabel(\"Hand Position (deg)\")\n",
    "plt.legend()\n",
    "plt.grid(True)\n",
    "plt.show()"
   ]
  }
 ],
 "metadata": {
  "jupytext": {
   "cell_metadata_filter": "-all",
   "main_language": "python",
   "notebook_metadata_filter": "-all"
  }
 },
 "nbformat": 4,
 "nbformat_minor": 5
}
