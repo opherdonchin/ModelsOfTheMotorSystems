{
 "cells": [
  {
   "cell_type": "code",
   "execution_count": null,
   "id": "848009a1",
   "metadata": {},
   "outputs": [],
   "source": [
    "# 📘 Lecture 6 In-Class Assignment: Fitts' Law and Movement Time\n",
    "# Course: Models of the Motor System (Spring 2025)\n",
    "# Objective: Analyze mouse-based pointing data to evaluate Fitts' Law using your own and peer data"
   ]
  },
  {
   "cell_type": "code",
   "execution_count": null,
   "id": "a6f83e3a",
   "metadata": {},
   "outputs": [],
   "source": [
    "# 🧰 Step 1: Setup and Imports\n",
    "# We import required libraries for data analysis and visualization\n",
    "import pandas as pd\n",
    "import numpy as np\n",
    "import matplotlib.pyplot as plt\n",
    "import seaborn as sns\n",
    "from scipy.stats import linregress"
   ]
  },
  {
   "cell_type": "code",
   "execution_count": null,
   "id": "716b51aa",
   "metadata": {
    "lines_to_next_cell": 2
   },
   "outputs": [],
   "source": [
    "# 📂 Step 2: Load your data\n",
    "# Load the CSV file you downloaded from the Fitts' Law demo site.\n",
    "# Replace the filename if needed.\n",
    "# Task: Load the data and preview the first few rows.\n",
    "\n",
    "# Your code here"
   ]
  },
  {
   "cell_type": "code",
   "execution_count": null,
   "id": "24f8b500",
   "metadata": {
    "lines_to_next_cell": 2
   },
   "outputs": [],
   "source": [
    "# 🧹 Step 3: Preprocess the data\n",
    "# Filter to include only successful trials (hit == True).\n",
    "# Compute the Index of Difficulty: log2(D / W + 1)\n",
    "# Use the columns 'distanceFromPrevious' as D and 'radius' as W.\n",
    "# Task: Create a new column called 'ID_log2' and clean your dataset.\n",
    "\n",
    "# Your code here"
   ]
  },
  {
   "cell_type": "code",
   "execution_count": null,
   "id": "3f31af4a",
   "metadata": {
    "lines_to_next_cell": 2
   },
   "outputs": [],
   "source": [
    "# 📊 Step 4: Plot Movement Time vs Index of Difficulty\n",
    "# Choose one participant (e.g., yourself) and create a scatterplot of movement time vs ID_log2.\n",
    "# Task: Subset the data for one username and plot the result.\n",
    "\n",
    "# Your code here"
   ]
  },
  {
   "cell_type": "code",
   "execution_count": null,
   "id": "c3d4cae9",
   "metadata": {
    "lines_to_next_cell": 2
   },
   "outputs": [],
   "source": [
    "# 📈 Step 5: Fit Fitts' Law to your data\n",
    "# Fit a linear regression of the form MT = a + b * ID_log2\n",
    "# Task: Fit and report the slope, intercept, and R² for your selected participant.\n",
    "\n",
    "# Your code here"
   ]
  },
  {
   "cell_type": "code",
   "execution_count": null,
   "id": "7859f5f5",
   "metadata": {
    "lines_to_next_cell": 2
   },
   "outputs": [],
   "source": [
    "# 📋 Step 6: Fit and Compare Across Participants\n",
    "# Task: For each participant in the dataset, fit the Fitts' Law model.\n",
    "# Create a summary table of intercept (a), slope (b), and R² for each participant.\n",
    "\n",
    "# Your code here"
   ]
  },
  {
   "cell_type": "code",
   "execution_count": null,
   "id": "ac9e8900",
   "metadata": {
    "lines_to_next_cell": 2
   },
   "outputs": [],
   "source": [
    "# 📈 Step 7: Visualize Group Differences\n",
    "# Create bar plots showing the intercept and slope for each participant.\n",
    "# Task: Make side-by-side bar plots using seaborn or matplotlib.\n",
    "\n",
    "# Your code here"
   ]
  },
  {
   "cell_type": "code",
   "execution_count": null,
   "id": "44089ce1",
   "metadata": {
    "lines_to_next_cell": 2
   },
   "outputs": [],
   "source": [
    "# 🧠 Step 8: Reflect and Answer\n",
    "# Write your answers in comments.\n",
    "\n",
    "# 1. What does the intercept (a) represent in this model?\n",
    "# 2. What does the slope (b) reflect about task difficulty?\n",
    "# 3. Why might intercepts or slopes differ between participants?\n",
    "# 4. Does Fitts' Law seem to describe your data well?"
   ]
  }
 ],
 "metadata": {
  "jupytext": {
   "cell_metadata_filter": "-all",
   "main_language": "python",
   "notebook_metadata_filter": "-all"
  },
  "language_info": {
   "name": "python"
  }
 },
 "nbformat": 4,
 "nbformat_minor": 5
}
