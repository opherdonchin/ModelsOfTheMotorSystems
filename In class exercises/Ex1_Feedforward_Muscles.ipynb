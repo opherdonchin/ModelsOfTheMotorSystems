{
 "cells": [
  {
   "cell_type": "markdown",
   "id": "a256b779",
   "metadata": {},
   "source": [
    "# Lecture 1 In-Class Exercise: Modeling a Simple Arm Movement Controller"
   ]
  },
  {
   "cell_type": "markdown",
   "id": "64877a51",
   "metadata": {},
   "source": [
    "## Notebook Setup"
   ]
  },
  {
   "cell_type": "code",
   "execution_count": null,
   "id": "fb8fb441",
   "metadata": {
    "lines_to_next_cell": 1
   },
   "outputs": [],
   "source": [
    "import numpy as np\n",
    "import pandas as pd\n",
    "import matplotlib.pyplot as plt\n",
    "\n",
    "# Constants for the arm model\n",
    "mass = 3.0  # kg\n",
    "length = 0.3  # meters\n",
    "damping = 0.5  # damping coefficient\n",
    "inertia = (1/3) * mass * (length ** 2)  # moment of inertia of rod rotating at one end\n",
    "\n",
    "dt = 0.01  # time step in seconds\n",
    "sim_time = 1.0  # total simulation time in seconds\n",
    "time = np.arange(0, sim_time, dt)"
   ]
  },
  {
   "cell_type": "markdown",
   "id": "e9fed0eb",
   "metadata": {},
   "source": [
    "## Provided Plant Function"
   ]
  },
  {
   "cell_type": "code",
   "execution_count": null,
   "id": "91977382",
   "metadata": {
    "lines_to_next_cell": 1
   },
   "outputs": [],
   "source": [
    "def arm_plant(muscle_commands_df, initial_angle):\n",
    "    \"\"\"\n",
    "    Simulates arm dynamics.\n",
    "    \n",
    "    Inputs:\n",
    "        muscle_commands_df: DataFrame with columns ['time', 'flexor', 'extensor']\n",
    "        initial_angle: initial angle in radians\n",
    "    Returns:\n",
    "        angles: array of joint angles over time (radians)\n",
    "    \"\"\"\n",
    "    angles = [initial_angle]\n",
    "    angular_velocity = 0.0\n",
    "\n",
    "    for i in range(1, len(muscle_commands_df)):\n",
    "        flexor = muscle_commands_df.loc[i, 'flexor']\n",
    "        extensor = muscle_commands_df.loc[i, 'extensor']\n",
    "        torque = (flexor - extensor) * 10  # Max torque per muscle = 10 Nm\n",
    "\n",
    "        # Add damping and noise\n",
    "        torque -= damping * angular_velocity\n",
    "        torque += np.random.normal(0, 0.2)  # small noise\n",
    "\n",
    "        # Update dynamics\n",
    "        angular_acc = torque / inertia\n",
    "        angular_velocity += angular_acc * dt\n",
    "        new_angle = angles[-1] + angular_velocity * dt\n",
    "        angles.append(new_angle)\n",
    "    \n",
    "    return np.array(angles)"
   ]
  },
  {
   "cell_type": "markdown",
   "id": "eb24ae1c",
   "metadata": {},
   "source": [
    "## Student Task\n",
    "Define a controller function that takes:\n",
    "- initial_angle (in radians)\n",
    "- desired_angle (in radians)\n",
    "And outputs a DataFrame with columns ['time', 'flexor', 'extensor'].\n",
    "\n",
    "Your controller should generate muscle activations over time to move the arm\n",
    "from the initial_angle to the desired_angle."
   ]
  },
  {
   "cell_type": "code",
   "execution_count": null,
   "id": "4f1fa410",
   "metadata": {
    "lines_to_next_cell": 1
   },
   "outputs": [],
   "source": [
    "# ---- START OF STUDENT WORK ----\n",
    "\n",
    "# Define your controller function below:\n",
    "\n",
    "def controller(initial_angle, desired_angle, time):\n",
    "    # Example structure:\n",
    "    flexor_activation = np.zeros_like(time)\n",
    "    extensor_activation = np.zeros_like(time)\n",
    "\n",
    "    # --- Your code here ---\n",
    "    # Fill in flexor_activation and extensor_activation arrays to control movement.\n",
    "\n",
    "    return pd.DataFrame({\n",
    "        'time': time,\n",
    "        'flexor': flexor_activation,\n",
    "        'extensor': extensor_activation\n",
    "    })\n",
    "\n",
    "# ---- END OF STUDENT WORK ----"
   ]
  },
  {
   "cell_type": "markdown",
   "id": "5c492cfd",
   "metadata": {},
   "source": [
    "## Running Simulation"
   ]
  },
  {
   "cell_type": "code",
   "execution_count": null,
   "id": "9a270ab9",
   "metadata": {},
   "outputs": [],
   "source": [
    "# Set initial and desired positions (in radians)\n",
    "initial_angle = np.deg2rad(-30)  # -30 degrees\n",
    "desired_angle = np.deg2rad(30)   # +30 degrees\n",
    "\n",
    "# Call student controller\n",
    "commands_df = controller(initial_angle, desired_angle, time)\n",
    "\n",
    "# Pass to plant\n",
    "angles = arm_plant(commands_df, initial_angle)"
   ]
  },
  {
   "cell_type": "markdown",
   "id": "ac860c09",
   "metadata": {},
   "source": [
    "## Plotting Results"
   ]
  },
  {
   "cell_type": "code",
   "execution_count": null,
   "id": "cd09b376",
   "metadata": {},
   "outputs": [],
   "source": [
    "plt.figure(figsize=(10, 5))\n",
    "plt.plot(time, np.rad2deg(angles), label='Actual Angle')\n",
    "plt.axhline(np.rad2deg(desired_angle), color='r', linestyle='--', label='Desired Angle')\n",
    "plt.xlabel('Time (s)')\n",
    "plt.ylabel('Joint Angle (degrees)')\n",
    "plt.legend()\n",
    "plt.title('Arm Movement Simulation')\n",
    "plt.grid(True)\n",
    "plt.show()"
   ]
  },
  {
   "cell_type": "markdown",
   "id": "5b64aaad",
   "metadata": {},
   "source": [
    "## Bonus Challenge\n",
    "Modify your controller to get the arm to reach the desired angle\n",
    "as quickly and stably as possible."
   ]
  },
  {
   "cell_type": "markdown",
   "id": "46f0aeb9",
   "metadata": {},
   "source": [
    "**Instructor Note:**\n",
    "Remove code inside `controller()` before giving to students.\n",
    "Provide notebook pre-filled except for student solution sections."
   ]
  }
 ],
 "metadata": {
  "jupytext": {
   "cell_metadata_filter": "-all",
   "main_language": "python",
   "notebook_metadata_filter": "-all"
  }
 },
 "nbformat": 4,
 "nbformat_minor": 5
}
