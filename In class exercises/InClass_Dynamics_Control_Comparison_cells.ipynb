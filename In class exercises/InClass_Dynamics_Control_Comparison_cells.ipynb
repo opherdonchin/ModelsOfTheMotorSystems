{
 "cells": [
  {
   "cell_type": "code",
   "execution_count": null,
   "id": "ec62d729",
   "metadata": {},
   "outputs": [],
   "source": []
  },
  {
   "cell_type": "markdown",
   "id": "7ad53f4d",
   "metadata": {},
   "source": [
    "# In-Class Exercise: Control with Increasing Muscle Complexity\n",
    "\n",
    "## 🚀 Goal\n",
    "Move a single-joint arm from a fully extended position (θ = 0) to a 90° bend (θ = π/2), and stabilize it there using three different control approaches."
   ]
  },
  {
   "cell_type": "markdown",
   "id": "06304508",
   "metadata": {},
   "source": [
    "## 🔧 Setup"
   ]
  },
  {
   "cell_type": "code",
   "execution_count": null,
   "id": "412ad1b7",
   "metadata": {
    "lines_to_next_cell": 1
   },
   "outputs": [],
   "source": [
    "import numpy as np\n",
    "import matplotlib.pyplot as plt\n",
    "from scipy.integrate import solve_ivp\n",
    "\n",
    "# Constants (SI units)\n",
    "m = 2.0           # kg\n",
    "r = 0.04          # m (moment arm)\n",
    "I = 0.05          # kg·m²\n",
    "b = 0.05          # damping coefficient\n",
    "F_max = 1000.0    # N\n",
    "g = 9.81          # m/s²\n",
    "\n",
    "# Hill-type parameters\n",
    "theta_opt = np.pi/2\n",
    "w = 0.4\n",
    "v_max = 5.0\n",
    "k_v = 1.0\n",
    "\n",
    "theta_goal = np.pi / 2\n",
    "T_total = 2.5  # seconds"
   ]
  },
  {
   "cell_type": "markdown",
   "id": "04c6a923",
   "metadata": {},
   "source": [
    "## 💪 Muscle Models"
   ]
  },
  {
   "cell_type": "code",
   "execution_count": null,
   "id": "17a41088",
   "metadata": {
    "lines_to_next_cell": 1
   },
   "outputs": [],
   "source": [
    "def muscle_force_simple_dual(a_bi, a_tri, dtheta):\n",
    "    F_bi = a_bi * (F_max - k_v * dtheta)\n",
    "    F_tri = a_tri * (F_max + k_v * dtheta)\n",
    "    return r * (F_bi - F_tri)\n",
    "\n",
    "def muscle_force_hill_dual(a_bi, a_tri, theta, dtheta):\n",
    "    f_l_bi = np.exp(-((theta - theta_opt) / w)**2)\n",
    "    f_l_tri = np.exp(-((theta - (np.pi - theta_opt)) / w)**2)\n",
    "    f_v_bi = (v_max - dtheta) / (v_max + k_v * dtheta)\n",
    "    f_v_tri = (v_max + dtheta) / (v_max - k_v * dtheta)\n",
    "    F_bi = a_bi * f_l_bi * f_v_bi * F_max\n",
    "    F_tri = a_tri * f_l_tri * f_v_tri * F_max\n",
    "    return r * (F_bi - F_tri)"
   ]
  },
  {
   "cell_type": "markdown",
   "id": "b32db5b1",
   "metadata": {},
   "source": [
    "## 🌀 Dynamics Function"
   ]
  },
  {
   "cell_type": "code",
   "execution_count": null,
   "id": "75796688",
   "metadata": {
    "lines_to_next_cell": 1
   },
   "outputs": [],
   "source": [
    "def simulate_two_muscles(controller, model='simple'):\n",
    "    def dynamics(t, state):\n",
    "        theta, dtheta = state\n",
    "        a_bi, a_tri = controller(t, theta, dtheta)\n",
    "\n",
    "        if model == 'simple':\n",
    "            tau = muscle_force_simple_dual(a_bi, a_tri, dtheta)\n",
    "        elif model == 'hill':\n",
    "            tau = muscle_force_hill_dual(a_bi, a_tri, theta, dtheta)\n",
    "        else:\n",
    "            raise ValueError(\"Unknown model type\")\n",
    "\n",
    "        ddtheta = (tau - b * dtheta - m * g * r * np.sin(theta)) / I\n",
    "        return [dtheta, ddtheta]\n",
    "\n",
    "    sol = solve_ivp(dynamics, [0, T_total], [0, 0], t_eval=np.linspace(0, T_total, 300))\n",
    "    return sol"
   ]
  },
  {
   "cell_type": "markdown",
   "id": "f37a3e9d",
   "metadata": {},
   "source": [
    "## 🧠 Part 1: Direct Torque Control"
   ]
  },
  {
   "cell_type": "code",
   "execution_count": null,
   "id": "5fb46e20",
   "metadata": {
    "lines_to_next_cell": 1
   },
   "outputs": [],
   "source": [
    "def torque_controller(t, theta, dtheta):\n",
    "    Kp = 20.0\n",
    "    Kd = 4.0\n",
    "    return Kp * (theta_goal - theta) - Kd * dtheta\n",
    "\n",
    "def simulate_direct_torque():\n",
    "    def dynamics(t, state):\n",
    "        theta, dtheta = state\n",
    "        tau = torque_controller(t, theta, dtheta)\n",
    "        ddtheta = (tau - b * dtheta - m * g * r * np.sin(theta)) / I\n",
    "        return [dtheta, ddtheta]\n",
    "\n",
    "    sol = solve_ivp(dynamics, [0, T_total], [0, 0], t_eval=np.linspace(0, T_total, 300))\n",
    "    return sol\n",
    "\n",
    "sol_direct = simulate_direct_torque()"
   ]
  },
  {
   "cell_type": "markdown",
   "id": "c703ac0e",
   "metadata": {},
   "source": [
    "## 🧠 Part 2: Two-Muscle Control (Simple Model)"
   ]
  },
  {
   "cell_type": "code",
   "execution_count": null,
   "id": "1bbd1083",
   "metadata": {},
   "outputs": [],
   "source": [
    "def dual_activation_controller(t, theta, dtheta):\n",
    "    Kp = 6.0\n",
    "    Kd = 1.5\n",
    "    tau_desired = Kp * (theta_goal - theta) - Kd * dtheta\n",
    "    F_desired = tau_desired / r\n",
    "    a_bi = np.clip(F_desired / (2 * F_max), 0, 1)\n",
    "    a_tri = np.clip(-F_desired / (2 * F_max), 0, 1)\n",
    "    return a_bi, a_tri\n",
    "\n",
    "sol_simple = simulate_two_muscles(dual_activation_controller, model='simple')"
   ]
  },
  {
   "cell_type": "markdown",
   "id": "95149208",
   "metadata": {},
   "source": [
    "## 🧠 Part 3: Two-Muscle Control (Hill-Type Model)"
   ]
  },
  {
   "cell_type": "code",
   "execution_count": null,
   "id": "1f695d4a",
   "metadata": {
    "lines_to_next_cell": 1
   },
   "outputs": [],
   "source": [
    "sol_hill = simulate_two_muscles(dual_activation_controller, model='hill')"
   ]
  },
  {
   "cell_type": "markdown",
   "id": "c6dd7971",
   "metadata": {},
   "source": [
    "## 📊 Plotting"
   ]
  },
  {
   "cell_type": "code",
   "execution_count": null,
   "id": "65b9c92c",
   "metadata": {},
   "outputs": [],
   "source": [
    "def plot_theta(sol, label):\n",
    "    plt.plot(sol.t, sol.y[0], label=label)\n",
    "\n",
    "plt.figure(figsize=(10, 5))\n",
    "plot_theta(sol_direct, \"Direct torque\")\n",
    "plot_theta(sol_simple, \"Simple muscle\")\n",
    "plot_theta(sol_hill, \"Hill-type muscle\")\n",
    "plt.axhline(theta_goal, color='gray', linestyle='--', label='Target')\n",
    "plt.xlabel(\"Time (s)\")\n",
    "plt.ylabel(\"Theta (rad)\")\n",
    "plt.title(\"Arm Angle Over Time\")\n",
    "plt.legend()\n",
    "plt.grid(True)\n",
    "plt.tight_layout()\n",
    "plt.show()"
   ]
  },
  {
   "cell_type": "markdown",
   "id": "400c509f",
   "metadata": {},
   "source": [
    "## ✅ Summary Prompts for Students\n",
    "- Which model gave you the best stabilization?\n",
    "- How did muscle constraints affect your control options?\n",
    "- What would change if you added noise or time delay?\n",
    "\n",
    "> **Instructor answer:** Hill model reveals the limitations of naive control strategies—students begin to see why biological control is hard!"
   ]
  }
 ],
 "metadata": {
  "jupytext": {
   "cell_metadata_filter": "-all",
   "main_language": "python",
   "notebook_metadata_filter": "-all"
  }
 },
 "nbformat": 4,
 "nbformat_minor": 5
}
