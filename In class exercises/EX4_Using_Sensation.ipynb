{
 "cells": [
  {
   "cell_type": "markdown",
   "id": "83bc4334",
   "metadata": {},
   "source": [
    "# Lecture 4 In-Class Assignment: Sensory Feedback in a 1D Movement Task\n",
    "\n",
    "This assignment extends our 1D arm model to incorporate two sensory systems:\n",
    "- **Proprioception** (short delay, small noise)\n",
    "- **Touch** (contact force at a wall)\n",
    "\n",
    "We will test three conditions:\n",
    "1. **No Sensation** (feedforward only)\n",
    "2. **Proprioception** only\n",
    "3. **Proprio + Touch**\n",
    "\n",
    "**Goal**: Move from x=0.0 to x=1.0 (a \"wall\") and apply a contact force within [2.0, 4.0] N.\n",
    "\n",
    "## Outline\n",
    "1. [Imports & Setup](#section1)\n",
    "2. [1D Plant](#section2)\n",
    "3. [Sensory Systems](#section3)\n",
    "4. [Condition 1: No Sensation](#section4)\n",
    "5. [Condition 2: Proprioception Only](#section5)\n",
    "6. [Condition 3: Proprio + Touch](#section6)\n",
    "7. [Discussion / Bonus](#section7)\n",
    "\n",
    "**Instructions**:\n",
    "- Each part has a Markdown explanation followed by code cells.\n",
    "- Controller functions have placeholder code returning (0.0, 0.0).\n",
    "- Cells labeled \"STUDENT CODE HERE\" are where you implement your logic.\n",
    "- You can re-run simulations after each change to see how performance improves."
   ]
  },
  {
   "cell_type": "markdown",
   "id": "f2f37781",
   "metadata": {},
   "source": [
    "<a id=\"section1\"></a>\n",
    "## 1) Imports & Setup\n",
    "**DO NOT EDIT**: Basic setup, constants, and time array."
   ]
  },
  {
   "cell_type": "code",
   "execution_count": null,
   "id": "beb0a2c5",
   "metadata": {},
   "outputs": [],
   "source": [
    "import numpy as np\n",
    "import matplotlib.pyplot as plt\n",
    "import collections"
   ]
  },
  {
   "cell_type": "code",
   "execution_count": null,
   "id": "c8164f30",
   "metadata": {},
   "outputs": [],
   "source": [
    "np.random.seed(42)  # For reproducible randomness"
   ]
  },
  {
   "cell_type": "code",
   "execution_count": null,
   "id": "fd8623ee",
   "metadata": {},
   "outputs": [],
   "source": [
    "# Simulation parameters\n",
    "dt = 0.001\n",
    "t_final = 2.0\n",
    "time = np.arange(0, t_final, dt)"
   ]
  },
  {
   "cell_type": "code",
   "execution_count": null,
   "id": "45a902ee",
   "metadata": {
    "lines_to_next_cell": 1
   },
   "outputs": [],
   "source": [
    "# Task parameters\n",
    "TARGET_POS = 1.0              # \"Wall\" position\n",
    "FORCE_WINDOW = (2.0, 4.0)     # Desired contact force range (N)"
   ]
  },
  {
   "cell_type": "code",
   "execution_count": null,
   "id": "11286e33",
   "metadata": {
    "lines_to_next_cell": 1
   },
   "outputs": [],
   "source": [
    "# Helper function to plot results\n",
    "def plot_results(t_array, x_array, force_array, label):\n",
    "    fig, ax = plt.subplots(2, 1, figsize=(6,4))\n",
    "    ax[0].plot(t_array, x_array, label='Position')\n",
    "    ax[0].axhline(TARGET_POS, color='r', linestyle='--', label='Wall Pos')\n",
    "    ax[0].set_ylim(0, 1.5)\n",
    "    ax[0].set_title(label)\n",
    "    ax[0].legend()\n",
    "\n",
    "    ax[1].plot(t_array, force_array, label='Contact Force')\n",
    "    ax[1].axhline(FORCE_WINDOW[0], color='g', linestyle='--', label='Force Min')\n",
    "    ax[1].axhline(FORCE_WINDOW[1], color='g', linestyle='--', label='Force Max')\n",
    "    ax[1].legend()\n",
    "    ax[1].set_ylim(0, 5)"
   ]
  },
  {
   "cell_type": "markdown",
   "id": "e5d31e39",
   "metadata": {},
   "source": [
    "<a id=\"section2\"></a>\n",
    "## 2) 1D Plant\n",
    "\n",
    "A simple model with flexor vs. extensor forces on a mass, plus friction.\n",
    "\n",
    "**DO NOT EDIT**: We keep this consistent for everyone."
   ]
  },
  {
   "cell_type": "code",
   "execution_count": null,
   "id": "edcd50b5",
   "metadata": {
    "lines_to_next_cell": 1
   },
   "outputs": [],
   "source": [
    "class OneDMusclePlant:\n",
    "    \"\"\"\n",
    "    1D arm with minimal muscle dynamics: flexor vs. extensor forces on a mass.\n",
    "    \"\"\"\n",
    "    def __init__(self, mass=1.0):\n",
    "        self.mass = mass\n",
    "        self.x = 0.0  # position\n",
    "        self.v = 0.0  # velocity\n",
    "\n",
    "    def update(self, flexor_force, extensor_force, dt):\n",
    "        \"\"\"\n",
    "        Update the arm state given muscle forces + friction.\n",
    "        \"\"\"\n",
    "        net_force = flexor_force - extensor_force\n",
    "        friction = 0.1 * self.v\n",
    "        net_force -= friction\n",
    "\n",
    "        a = net_force / self.mass\n",
    "        self.v += a * dt\n",
    "        self.x += self.v * dt\n",
    "\n",
    "        return self.x, self.v"
   ]
  },
  {
   "cell_type": "markdown",
   "id": "9288c6dd",
   "metadata": {},
   "source": [
    "<a id=\"section3\"></a>\n",
    "## 3) Sensory Systems\n",
    "\n",
    "We simulate delays and noise for:\n",
    "- **Proprioception**: ~20 ms delay, small noise\n",
    "- **Touch**: Only reads nonzero if x >= TARGET_POS, plus small noise\n",
    "\n",
    "**DO NOT EDIT** unless you want to experiment after finishing the assignment."
   ]
  },
  {
   "cell_type": "code",
   "execution_count": null,
   "id": "b44f69be",
   "metadata": {
    "lines_to_next_cell": 1
   },
   "outputs": [],
   "source": [
    "class DelayedSignal:\n",
    "    \"\"\"\n",
    "    Utility for simulating delayed signals with a FIFO buffer.\n",
    "    \"\"\"\n",
    "    def __init__(self, delay_steps):\n",
    "        self.delay_steps = delay_steps\n",
    "        self.buffer = collections.deque([0.0]*delay_steps, maxlen=delay_steps)\n",
    "\n",
    "    def __call__(self, current_value):\n",
    "        oldest_val = self.buffer[0]\n",
    "        self.buffer.append(current_value)\n",
    "        return oldest_val"
   ]
  },
  {
   "cell_type": "code",
   "execution_count": null,
   "id": "a9d98fe6",
   "metadata": {},
   "outputs": [],
   "source": [
    "# Delays\n",
    "proprio_delay = DelayedSignal(delay_steps=20)   # ~20 ms\n",
    "proprio_vel_delay = DelayedSignal(delay_steps=20)"
   ]
  },
  {
   "cell_type": "code",
   "execution_count": null,
   "id": "c9a6a390",
   "metadata": {
    "lines_to_next_cell": 1
   },
   "outputs": [],
   "source": [
    "# Noise levels\n",
    "proprio_noise_std = 0.03         # in m (3cm)\n",
    "proprio_noise_vel_std = 0.02     # fraction of velocity\n",
    "touch_noise_std   = 0.1          # fraction of touch force"
   ]
  },
  {
   "cell_type": "code",
   "execution_count": null,
   "id": "8ceb5aa2",
   "metadata": {
    "lines_to_next_cell": 1
   },
   "outputs": [],
   "source": [
    "def get_proprioceptive_feedback(actual_pos, actual_vel):\n",
    "    # Delay\n",
    "    delayed_pos = proprio_delay(actual_pos)\n",
    "    delayed_vel = proprio_vel_delay(actual_vel)\n",
    "    # Add noise\n",
    "    pos_with_noise = delayed_pos + np.random.normal(0, proprio_noise_std)\n",
    "    vel_with_noise = delayed_vel + np.random.normal(0, abs(proprio_noise_vel_std * actual_vel))\n",
    "    return pos_with_noise, vel_with_noise"
   ]
  },
  {
   "cell_type": "code",
   "execution_count": null,
   "id": "435a5dd7",
   "metadata": {
    "lines_to_next_cell": 1
   },
   "outputs": [],
   "source": [
    "def get_touch_feedback(actual_pos, contact_force):\n",
    "    # If x < TARGET_POS => no contact\n",
    "    if actual_pos < TARGET_POS:\n",
    "        return 0.0\n",
    "    else:\n",
    "        return contact_force + np.random.normal(0, touch_noise_std * contact_force)"
   ]
  },
  {
   "cell_type": "markdown",
   "id": "04bfd626",
   "metadata": {},
   "source": [
    "### Contact Force Model\n",
    "For the wall, we define a spring-damper if x > 1.0, else 0.0. We'll handle that in the simulation."
   ]
  },
  {
   "cell_type": "markdown",
   "id": "e3e00a85",
   "metadata": {},
   "source": [
    "### Simulation Function\n",
    "We'll create a helper function to run the simulation for a given controller."
   ]
  },
  {
   "cell_type": "code",
   "execution_count": null,
   "id": "a993edfc",
   "metadata": {
    "lines_to_next_cell": 1
   },
   "outputs": [],
   "source": [
    "def run_simulation(controller_func, label):\n",
    "    \"\"\"\n",
    "    Runs the simulation with the given controller.\n",
    "    Returns logs for position (x_array) and contact force (force_array).\n",
    "    \"\"\"\n",
    "    plant = OneDMusclePlant()\n",
    "    \n",
    "    x_log = []\n",
    "    force_log = []\n",
    "    \n",
    "    # Example wall parameters (can be tuned)\n",
    "    wall_stiffness = 360.0  # Stiffness (N/m)\n",
    "    wall_damping   = 1.2    # Damping (N*s/m)\n",
    "\n",
    "    for i, t in enumerate(time):\n",
    "        overlap = plant.x - TARGET_POS\n",
    "        if overlap > 0:\n",
    "            # Contact force from a stiff, damped wall\n",
    "            contact_force = wall_stiffness * overlap + wall_damping * plant.v\n",
    "            if contact_force < 0:\n",
    "                contact_force = 0.0\n",
    "        else:\n",
    "            contact_force = 0.0\n",
    "\n",
    "        # Controller decides muscle forces\n",
    "        flex, exten = controller_func(i, t, plant.x, plant.v, contact_force)\n",
    "\n",
    "        # Clamp negative muscle commands to 0\n",
    "        if flex < 0:\n",
    "            flex = 0.0\n",
    "        if exten < 0:\n",
    "            exten = 0.0\n",
    "\n",
    "        # If the arm is beyond the wall, add the wall’s push-back as extensor force\n",
    "        if plant.x > TARGET_POS:\n",
    "            exten += contact_force\n",
    "\n",
    "        plant.update(flex, exten, dt)\n",
    "\n",
    "        x_log.append(plant.x)\n",
    "        force_log.append(contact_force)\n",
    "    \n",
    "    return np.array(x_log), np.array(force_log)"
   ]
  },
  {
   "cell_type": "markdown",
   "id": "09da39b8",
   "metadata": {},
   "source": [
    "<a id=\"section4\"></a>\n",
    "## 4) Condition 1: No Sensation\n",
    "\n",
    "We have **no feedback** about position or force. It's purely feedforward.\n",
    "\n",
    "**Student Task**: Implement a time-based open-loop controller in the placeholder below.\n",
    "  - For example, push forward for some duration, then back off, etc.\n",
    "  - The goal is to get near the wall and produce a contact force in [2,4] N."
   ]
  },
  {
   "cell_type": "code",
   "execution_count": null,
   "id": "3ab12cd1",
   "metadata": {
    "lines_to_next_cell": 1
   },
   "outputs": [],
   "source": [
    "def controller_no_sensation(time_idx, t, plant_x, plant_v, contact_force):\n",
    "    \"\"\"\n",
    "    STUDENT CODE HERE:\n",
    "    Use only time (t) to decide muscle commands (flexor or extensor).\n",
    "    \"\"\"\n",
    "    # For now, do nothing:\n",
    "    flexor = 0.0\n",
    "    extensor = 0.0\n",
    "    \n",
    "    return (flexor, extensor)"
   ]
  },
  {
   "cell_type": "markdown",
   "id": "e4863c6f",
   "metadata": {},
   "source": [
    "### Simulation & Plot: No Sensation"
   ]
  },
  {
   "cell_type": "code",
   "execution_count": null,
   "id": "3decf79f",
   "metadata": {
    "lines_to_next_cell": 1
   },
   "outputs": [],
   "source": [
    "x_noSens, f_noSens = run_simulation(controller_no_sensation, label=\"No Sensation\")\n",
    "plot_results(time, x_noSens, f_noSens, label=\"No Sensation\")\n",
    "plt.show()"
   ]
  },
  {
   "cell_type": "markdown",
   "id": "6deb7120",
   "metadata": {},
   "source": [
    "**Questions**:\n",
    "- Do you see any movement?\n",
    "- How might you guess how long/strong to push so you end up with force in [2, 4] N?"
   ]
  },
  {
   "cell_type": "markdown",
   "id": "9702d075",
   "metadata": {},
   "source": [
    "<a id=\"section5\"></a>\n",
    "## 5) Condition 2: Proprioception Only\n",
    "\n",
    "We can use:\n",
    "  prop_x, prop_v = get_proprioceptive_feedback(plant_x, plant_v)\n",
    "\n",
    "This gives delayed, noisy estimates of position and velocity.\n",
    "\n",
    "**Student Task**: Implement a simple P or PD controller to reach x=1.0.\n",
    "  - For example, compute an error = (TARGET_POS - prop_x) and apply a force."
   ]
  },
  {
   "cell_type": "code",
   "execution_count": null,
   "id": "6f3d06e7",
   "metadata": {
    "lines_to_next_cell": 1
   },
   "outputs": [],
   "source": [
    "def controller_proprio(time_idx, t, plant_x, plant_v, contact_force):\n",
    "    \"\"\"\n",
    "    STUDENT CODE HERE:\n",
    "    Use proprioceptive feedback (prop_x, prop_v) to control position.\n",
    "    \"\"\"\n",
    "    # Get noisy, delayed signals\n",
    "    prop_x, prop_v = get_proprioceptive_feedback(plant_x, plant_v)\n",
    "    \n",
    "    # For now, do nothing:\n",
    "    flexor = 0.0\n",
    "    extensor = 0.0\n",
    "    \n",
    "    return (flexor, extensor)"
   ]
  },
  {
   "cell_type": "markdown",
   "id": "ab246768",
   "metadata": {},
   "source": [
    "### Simulation & Plot: Proprioception"
   ]
  },
  {
   "cell_type": "code",
   "execution_count": null,
   "id": "96312770",
   "metadata": {
    "lines_to_next_cell": 1
   },
   "outputs": [],
   "source": [
    "x_prop, f_prop = run_simulation(controller_proprio, label=\"Proprio Only\")\n",
    "plt.figure(figsize=(6,4))\n",
    "plot_results(time, x_prop, f_prop, label=\"Proprioception Only\")\n",
    "plt.show()"
   ]
  },
  {
   "cell_type": "markdown",
   "id": "90a460d6",
   "metadata": {},
   "source": [
    "**Questions**:\n",
    "- Are you able to stop at the wall?\n",
    "- Can you see the effect of the 20ms delay or the noise?"
   ]
  },
  {
   "cell_type": "markdown",
   "id": "c05045e7",
   "metadata": {},
   "source": [
    "<a id=\"section6\"></a>\n",
    "## 6) Condition 3: Proprio + Touch\n",
    "\n",
    "Now you have:\n",
    "  prop_x, prop_v = get_proprioceptive_feedback(plant_x, plant_v)\n",
    "  touch_f        = get_touch_feedback(plant_x, contact_force)\n",
    "\n",
    "**Goal**: Approach the wall and maintain a contact force in [2.0, 4.0]."
   ]
  },
  {
   "cell_type": "code",
   "execution_count": null,
   "id": "3d6fdaa0",
   "metadata": {
    "lines_to_next_cell": 1
   },
   "outputs": [],
   "source": [
    "def controller_touch(time_idx, t, plant_x, plant_v, contact_force):\n",
    "    \"\"\"\n",
    "    STUDENT CODE HERE:\n",
    "    Combine proprioceptive feedback and touch feedback.\n",
    "    \n",
    "    - Use proprio to approach x=1.0\n",
    "    - Use touch feedback (touch_f) to maintain force in [2,4] N once in contact.\n",
    "    \"\"\"\n",
    "    # Get noisy, delayed proprio\n",
    "    prop_x, prop_v = get_proprioceptive_feedback(plant_x, plant_v)\n",
    "    \n",
    "    # Get noisy touch\n",
    "    touch_f = get_touch_feedback(plant_x, contact_force)\n",
    "    \n",
    "    # For now, do nothing:\n",
    "    flexor = 0.0\n",
    "    extensor = 0.0\n",
    "    \n",
    "    return (flexor, extensor)"
   ]
  },
  {
   "cell_type": "markdown",
   "id": "a1e90bcf",
   "metadata": {},
   "source": [
    "### Simulation & Plot: Proprio + Touch"
   ]
  },
  {
   "cell_type": "code",
   "execution_count": null,
   "id": "4f05bebf",
   "metadata": {},
   "outputs": [],
   "source": [
    "x_touch, f_touch = run_simulation(controller_touch, label=\"Proprio + Touch\")\n",
    "plt.figure(figsize=(6,4))\n",
    "plot_results(time, x_touch, f_touch, label=\"Proprio + Touch\")\n",
    "plt.show()"
   ]
  },
  {
   "cell_type": "markdown",
   "id": "0c186b9a",
   "metadata": {},
   "source": [
    "**Check**:\n",
    "- Do you see stable contact force in [2,4] N at the end?\n",
    "- How can you tweak your logic or gains?"
   ]
  },
  {
   "cell_type": "markdown",
   "id": "0279b593",
   "metadata": {},
   "source": [
    "<a id=\"section7\"></a>\n",
    "## 7) Discussion / Bonus\n",
    "\n",
    "1. **Compare** the final position and contact force in each condition.\n",
    "2. **Tune** your control laws until you see consistent force in [2,4] N at the end.\n",
    "3. (Bonus) Plot error vs. time or measure how quickly each condition stabilizes. \n",
    "4. (Bonus) Consider adding a simple gain schedule: push hard at first, then reduce gains near x=1.\n",
    "\n",
    "Submit your final code when you’re done!"
   ]
  }
 ],
 "metadata": {
  "jupytext": {
   "cell_metadata_filter": "-all",
   "formats": "py:percent,ipynb"
  },
  "kernelspec": {
   "display_name": "default",
   "language": "python",
   "name": "python3"
  },
  "language_info": {
   "name": "python",
   "version": "3.11.11"
  }
 },
 "nbformat": 4,
 "nbformat_minor": 5
}
