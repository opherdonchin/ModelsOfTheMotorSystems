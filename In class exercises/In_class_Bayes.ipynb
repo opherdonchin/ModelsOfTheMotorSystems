{
  "nbformat": 4,
  "nbformat_minor": 0,
  "metadata": {
    "colab": {
      "name": "In class Bayes.ipynb",
      "provenance": [],
      "authorship_tag": "ABX9TyOOfDG0JStzdY3WNqNLMupF",
      "include_colab_link": true
    },
    "kernelspec": {
      "name": "python3",
      "display_name": "Python 3"
    },
    "language_info": {
      "name": "python"
    }
  },
  "cells": [
    {
      "cell_type": "markdown",
      "metadata": {
        "id": "view-in-github",
        "colab_type": "text"
      },
      "source": [
        "<a href=\"https://colab.research.google.com/github/opherdonchin/ModelsOfTheMotorSystems2021-2/blob/master/In_class_Bayes.ipynb\" target=\"_parent\"><img src=\"https://colab.research.google.com/assets/colab-badge.svg\" alt=\"Open In Colab\"/></a>"
      ]
    },
    {
      "cell_type": "markdown",
      "source": [
        "- You see the box and it seems like it will be light. Say $\\mu_0=3.5\\text{N}$.\n",
        "\n"
      ],
      "metadata": {
        "id": "4ETzjw5peFBF"
      }
    },
    {
      "cell_type": "code",
      "execution_count": 1,
      "metadata": {
        "id": "31rLlIQ3d71E"
      },
      "outputs": [],
      "source": [
        "mu0 = 3.5"
      ]
    },
    {
      "cell_type": "markdown",
      "source": [
        "- You aren’t sure though. You think your guess is good to $\\sigma_0 = 1.0\\text{N}$\n"
      ],
      "metadata": {
        "id": "4ZgBR5IEeht3"
      }
    },
    {
      "cell_type": "code",
      "source": [
        "s0 = 1.0"
      ],
      "metadata": {
        "id": "A0miM3wpfa7i"
      },
      "execution_count": 2,
      "outputs": []
    },
    {
      "cell_type": "markdown",
      "source": [
        "- When you lift the box, your perception is that it is actually heavier. It seems to be 𝑥=6N"
      ],
      "metadata": {
        "id": "FrXHohxWfbaZ"
      }
    },
    {
      "cell_type": "code",
      "source": [
        "mux = 6.0"
      ],
      "metadata": {
        "id": "sKZihJZ1fprV"
      },
      "execution_count": 7,
      "outputs": []
    },
    {
      "cell_type": "markdown",
      "source": [
        "- But, of course, your perception is noisy. 𝜎_𝑥=1.0N"
      ],
      "metadata": {
        "id": "XhyoQ8PWfqLs"
      }
    },
    {
      "cell_type": "code",
      "source": [
        "sx = 1.0"
      ],
      "metadata": {
        "id": "iQqNb6uPf1xs"
      },
      "execution_count": 4,
      "outputs": []
    },
    {
      "cell_type": "markdown",
      "source": [
        "- If your brain is doing optimal estimation, what is your new estimate of the weight of the box?"
      ],
      "metadata": {
        "id": "XKJxptjVf2V_"
      }
    },
    {
      "cell_type": "code",
      "source": [
        ""
      ],
      "metadata": {
        "id": "meqamGDSgFp6"
      },
      "execution_count": 11,
      "outputs": []
    },
    {
      "cell_type": "markdown",
      "source": [
        "- You continue to lift the box 4 more times and perceive the weight to be: 6, 7, 7, 4, 5. \n"
      ],
      "metadata": {
        "id": "J42cpXOYgGSQ"
      }
    },
    {
      "cell_type": "code",
      "source": [
        "import numpy as np\n",
        "\n",
        "x = [6, 7, 7, 4, 5]\n",
        "mux = np.mean(x)\n",
        "smux = np.sqrt( sx**2 / len(x) )\n",
        "print([mux, smux])"
      ],
      "metadata": {
        "colab": {
          "base_uri": "https://localhost:8080/"
        },
        "id": "SmmG_0nmjv7g",
        "outputId": "0e8c92e6-3274-40bf-e2ed-f58861d28107"
      },
      "execution_count": 10,
      "outputs": [
        {
          "output_type": "stream",
          "name": "stdout",
          "text": [
            "[5.8, 0.4472135954999579]\n"
          ]
        }
      ]
    },
    {
      "cell_type": "markdown",
      "source": [
        "- What is your final estimate of the weight and how much noise is there in the estimate?"
      ],
      "metadata": {
        "id": "RQM4kbc5jwdR"
      }
    },
    {
      "cell_type": "code",
      "source": [
        ""
      ],
      "metadata": {
        "id": "58CBQGqPkebO"
      },
      "execution_count": 11,
      "outputs": []
    }
  ]
}