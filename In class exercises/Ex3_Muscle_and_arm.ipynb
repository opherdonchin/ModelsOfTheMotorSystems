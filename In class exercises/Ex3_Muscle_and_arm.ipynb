{
 "cells": [
  {
   "cell_type": "code",
   "execution_count": null,
   "id": "ec62d729",
   "metadata": {},
   "outputs": [],
   "source": []
  },
  {
   "cell_type": "markdown",
   "id": "7ad53f4d",
   "metadata": {},
   "source": [
    "# In-Class Exercise: Control with Increasing Muscle Complexity\n",
    "\n",
    "## 🚀 Goal\n",
    "Move a single-joint arm from a fully extended position (θ = 0) to a 90° bend (θ = π/2), and stabilize it there using three different control approaches."
   ]
  },
  {
   "cell_type": "markdown",
   "id": "06304508",
   "metadata": {},
   "source": [
    "## 🔧 Setup"
   ]
  },
  {
   "cell_type": "code",
   "execution_count": 1,
   "id": "412ad1b7",
   "metadata": {
    "lines_to_next_cell": 1
   },
   "outputs": [],
   "source": [
    "import numpy as np\n",
    "import matplotlib.pyplot as plt\n",
    "from scipy.integrate import solve_ivp\n",
    "\n",
    "# Constants (SI units)\n",
    "m = 2.0           # kg\n",
    "r = 0.04          # m (moment arm)\n",
    "I = 0.05          # kg·m²\n",
    "b = 0.05          # damping coefficient\n",
    "F_max = 1000.0    # N\n",
    "g = 9.81          # m/s²\n",
    "\n",
    "# Hill-type parameters\n",
    "theta_opt = np.pi/2\n",
    "w = 0.4\n",
    "v_max = 5.0\n",
    "k_v = 1.0\n",
    "\n",
    "theta_goal = np.pi / 2\n",
    "T_total = 2.5  # seconds"
   ]
  },
  {
   "cell_type": "markdown",
   "id": "04c6a923",
   "metadata": {},
   "source": [
    "## 💪 Muscle Models"
   ]
  },
  {
   "cell_type": "code",
   "execution_count": 2,
   "id": "17a41088",
   "metadata": {
    "lines_to_next_cell": 1
   },
   "outputs": [],
   "source": [
    "def muscle_force_simple_dual(a_bi, a_tri, dtheta):\n",
    "    F_bi = a_bi * (F_max - k_v * dtheta)\n",
    "    F_tri = a_tri * (F_max + k_v * dtheta)\n",
    "    return r * (F_bi - F_tri)\n",
    "\n",
    "def muscle_force_hill_dual(a_bi, a_tri, theta, dtheta):\n",
    "    f_l_bi = np.exp(-((theta - theta_opt) / w)**2)\n",
    "    f_l_tri = np.exp(-((theta - (np.pi - theta_opt)) / w)**2)\n",
    "    f_v_bi = (v_max - dtheta) / (v_max + k_v * dtheta)\n",
    "    f_v_tri = (v_max + dtheta) / (v_max - k_v * dtheta)\n",
    "    F_bi = a_bi * f_l_bi * f_v_bi * F_max\n",
    "    F_tri = a_tri * f_l_tri * f_v_tri * F_max\n",
    "    return r * (F_bi - F_tri)"
   ]
  },
  {
   "cell_type": "markdown",
   "id": "b32db5b1",
   "metadata": {},
   "source": [
    "## 🌀 Dynamics Function"
   ]
  },
  {
   "cell_type": "code",
   "execution_count": 3,
   "id": "75796688",
   "metadata": {
    "lines_to_next_cell": 1
   },
   "outputs": [],
   "source": [
    "def simulate_two_muscles(controller, model='simple'):\n",
    "    def dynamics(t, state):\n",
    "        theta, dtheta = state\n",
    "        a_bi, a_tri = controller(t, theta, dtheta)\n",
    "\n",
    "        if model == 'simple':\n",
    "            tau = muscle_force_simple_dual(a_bi, a_tri, dtheta)\n",
    "        elif model == 'hill':\n",
    "            tau = muscle_force_hill_dual(a_bi, a_tri, theta, dtheta)\n",
    "        else:\n",
    "            raise ValueError(\"Unknown model type\")\n",
    "\n",
    "        ddtheta = (tau - b * dtheta - m * g * r * np.sin(theta)) / I\n",
    "        return [dtheta, ddtheta]\n",
    "\n",
    "    sol = solve_ivp(dynamics, [0, T_total], [0, 0], t_eval=np.linspace(0, T_total, 300))\n",
    "    return sol"
   ]
  },
  {
   "cell_type": "markdown",
   "id": "f37a3e9d",
   "metadata": {},
   "source": [
    "## 🧠 Part 1: Direct Torque Control"
   ]
  },
  {
   "cell_type": "markdown",
   "id": "a0de0c27",
   "metadata": {},
   "source": [
    "Fill in the torque controller ot return the torque to apply as a function of t, theta and dtheta"
   ]
  },
  {
   "cell_type": "code",
   "execution_count": 4,
   "id": "5fb46e20",
   "metadata": {
    "lines_to_next_cell": 1
   },
   "outputs": [
    {
     "ename": "NameError",
     "evalue": "name 'zeros_like' is not defined",
     "output_type": "error",
     "traceback": [
      "\u001b[31m---------------------------------------------------------------------------\u001b[39m",
      "\u001b[31mNameError\u001b[39m                                 Traceback (most recent call last)",
      "\u001b[36mCell\u001b[39m\u001b[36m \u001b[39m\u001b[32mIn[4]\u001b[39m\u001b[32m, line 15\u001b[39m\n\u001b[32m     12\u001b[39m     sol = solve_ivp(dynamics, [\u001b[32m0\u001b[39m, T_total], [\u001b[32m0\u001b[39m, \u001b[32m0\u001b[39m], t_eval=np.linspace(\u001b[32m0\u001b[39m, T_total, \u001b[32m300\u001b[39m))\n\u001b[32m     13\u001b[39m     \u001b[38;5;28;01mreturn\u001b[39;00m sol\n\u001b[32m---> \u001b[39m\u001b[32m15\u001b[39m sol_direct = \u001b[43msimulate_direct_torque\u001b[49m\u001b[43m(\u001b[49m\u001b[43m)\u001b[49m\n",
      "\u001b[36mCell\u001b[39m\u001b[36m \u001b[39m\u001b[32mIn[4]\u001b[39m\u001b[32m, line 12\u001b[39m, in \u001b[36msimulate_direct_torque\u001b[39m\u001b[34m()\u001b[39m\n\u001b[32m      9\u001b[39m     ddtheta = (tau - b * dtheta - m * g * r * np.sin(theta)) / I\n\u001b[32m     10\u001b[39m     \u001b[38;5;28;01mreturn\u001b[39;00m [dtheta, ddtheta]\n\u001b[32m---> \u001b[39m\u001b[32m12\u001b[39m sol = \u001b[43msolve_ivp\u001b[49m\u001b[43m(\u001b[49m\u001b[43mdynamics\u001b[49m\u001b[43m,\u001b[49m\u001b[43m \u001b[49m\u001b[43m[\u001b[49m\u001b[32;43m0\u001b[39;49m\u001b[43m,\u001b[49m\u001b[43m \u001b[49m\u001b[43mT_total\u001b[49m\u001b[43m]\u001b[49m\u001b[43m,\u001b[49m\u001b[43m \u001b[49m\u001b[43m[\u001b[49m\u001b[32;43m0\u001b[39;49m\u001b[43m,\u001b[49m\u001b[43m \u001b[49m\u001b[32;43m0\u001b[39;49m\u001b[43m]\u001b[49m\u001b[43m,\u001b[49m\u001b[43m \u001b[49m\u001b[43mt_eval\u001b[49m\u001b[43m=\u001b[49m\u001b[43mnp\u001b[49m\u001b[43m.\u001b[49m\u001b[43mlinspace\u001b[49m\u001b[43m(\u001b[49m\u001b[32;43m0\u001b[39;49m\u001b[43m,\u001b[49m\u001b[43m \u001b[49m\u001b[43mT_total\u001b[49m\u001b[43m,\u001b[49m\u001b[43m \u001b[49m\u001b[32;43m300\u001b[39;49m\u001b[43m)\u001b[49m\u001b[43m)\u001b[49m\n\u001b[32m     13\u001b[39m \u001b[38;5;28;01mreturn\u001b[39;00m sol\n",
      "\u001b[36mFile \u001b[39m\u001b[32mc:\\Git-projects\\ModelsOfTheMotorSystems\\.pixi\\envs\\default\\Lib\\site-packages\\scipy\\integrate\\_ivp\\ivp.py:621\u001b[39m, in \u001b[36msolve_ivp\u001b[39m\u001b[34m(fun, t_span, y0, method, t_eval, dense_output, events, vectorized, args, **options)\u001b[39m\n\u001b[32m    618\u001b[39m \u001b[38;5;28;01mif\u001b[39;00m method \u001b[38;5;129;01min\u001b[39;00m METHODS:\n\u001b[32m    619\u001b[39m     method = METHODS[method]\n\u001b[32m--> \u001b[39m\u001b[32m621\u001b[39m solver = \u001b[43mmethod\u001b[49m\u001b[43m(\u001b[49m\u001b[43mfun\u001b[49m\u001b[43m,\u001b[49m\u001b[43m \u001b[49m\u001b[43mt0\u001b[49m\u001b[43m,\u001b[49m\u001b[43m \u001b[49m\u001b[43my0\u001b[49m\u001b[43m,\u001b[49m\u001b[43m \u001b[49m\u001b[43mtf\u001b[49m\u001b[43m,\u001b[49m\u001b[43m \u001b[49m\u001b[43mvectorized\u001b[49m\u001b[43m=\u001b[49m\u001b[43mvectorized\u001b[49m\u001b[43m,\u001b[49m\u001b[43m \u001b[49m\u001b[43m*\u001b[49m\u001b[43m*\u001b[49m\u001b[43moptions\u001b[49m\u001b[43m)\u001b[49m\n\u001b[32m    623\u001b[39m \u001b[38;5;28;01mif\u001b[39;00m t_eval \u001b[38;5;129;01mis\u001b[39;00m \u001b[38;5;28;01mNone\u001b[39;00m:\n\u001b[32m    624\u001b[39m     ts = [t0]\n",
      "\u001b[36mFile \u001b[39m\u001b[32mc:\\Git-projects\\ModelsOfTheMotorSystems\\.pixi\\envs\\default\\Lib\\site-packages\\scipy\\integrate\\_ivp\\rk.py:94\u001b[39m, in \u001b[36mRungeKutta.__init__\u001b[39m\u001b[34m(self, fun, t0, y0, t_bound, max_step, rtol, atol, vectorized, first_step, **extraneous)\u001b[39m\n\u001b[32m     92\u001b[39m \u001b[38;5;28mself\u001b[39m.max_step = validate_max_step(max_step)\n\u001b[32m     93\u001b[39m \u001b[38;5;28mself\u001b[39m.rtol, \u001b[38;5;28mself\u001b[39m.atol = validate_tol(rtol, atol, \u001b[38;5;28mself\u001b[39m.n)\n\u001b[32m---> \u001b[39m\u001b[32m94\u001b[39m \u001b[38;5;28mself\u001b[39m.f = \u001b[38;5;28;43mself\u001b[39;49m\u001b[43m.\u001b[49m\u001b[43mfun\u001b[49m\u001b[43m(\u001b[49m\u001b[38;5;28;43mself\u001b[39;49m\u001b[43m.\u001b[49m\u001b[43mt\u001b[49m\u001b[43m,\u001b[49m\u001b[43m \u001b[49m\u001b[38;5;28;43mself\u001b[39;49m\u001b[43m.\u001b[49m\u001b[43my\u001b[49m\u001b[43m)\u001b[49m\n\u001b[32m     95\u001b[39m \u001b[38;5;28;01mif\u001b[39;00m first_step \u001b[38;5;129;01mis\u001b[39;00m \u001b[38;5;28;01mNone\u001b[39;00m:\n\u001b[32m     96\u001b[39m     \u001b[38;5;28mself\u001b[39m.h_abs = select_initial_step(\n\u001b[32m     97\u001b[39m         \u001b[38;5;28mself\u001b[39m.fun, \u001b[38;5;28mself\u001b[39m.t, \u001b[38;5;28mself\u001b[39m.y, t_bound, max_step, \u001b[38;5;28mself\u001b[39m.f, \u001b[38;5;28mself\u001b[39m.direction,\n\u001b[32m     98\u001b[39m         \u001b[38;5;28mself\u001b[39m.error_estimator_order, \u001b[38;5;28mself\u001b[39m.rtol, \u001b[38;5;28mself\u001b[39m.atol)\n",
      "\u001b[36mFile \u001b[39m\u001b[32mc:\\Git-projects\\ModelsOfTheMotorSystems\\.pixi\\envs\\default\\Lib\\site-packages\\scipy\\integrate\\_ivp\\base.py:154\u001b[39m, in \u001b[36mOdeSolver.__init__.<locals>.fun\u001b[39m\u001b[34m(t, y)\u001b[39m\n\u001b[32m    152\u001b[39m \u001b[38;5;28;01mdef\u001b[39;00m\u001b[38;5;250m \u001b[39m\u001b[34mfun\u001b[39m(t, y):\n\u001b[32m    153\u001b[39m     \u001b[38;5;28mself\u001b[39m.nfev += \u001b[32m1\u001b[39m\n\u001b[32m--> \u001b[39m\u001b[32m154\u001b[39m     \u001b[38;5;28;01mreturn\u001b[39;00m \u001b[38;5;28;43mself\u001b[39;49m\u001b[43m.\u001b[49m\u001b[43mfun_single\u001b[49m\u001b[43m(\u001b[49m\u001b[43mt\u001b[49m\u001b[43m,\u001b[49m\u001b[43m \u001b[49m\u001b[43my\u001b[49m\u001b[43m)\u001b[49m\n",
      "\u001b[36mFile \u001b[39m\u001b[32mc:\\Git-projects\\ModelsOfTheMotorSystems\\.pixi\\envs\\default\\Lib\\site-packages\\scipy\\integrate\\_ivp\\base.py:23\u001b[39m, in \u001b[36mcheck_arguments.<locals>.fun_wrapped\u001b[39m\u001b[34m(t, y)\u001b[39m\n\u001b[32m     22\u001b[39m \u001b[38;5;28;01mdef\u001b[39;00m\u001b[38;5;250m \u001b[39m\u001b[34mfun_wrapped\u001b[39m(t, y):\n\u001b[32m---> \u001b[39m\u001b[32m23\u001b[39m     \u001b[38;5;28;01mreturn\u001b[39;00m np.asarray(\u001b[43mfun\u001b[49m\u001b[43m(\u001b[49m\u001b[43mt\u001b[49m\u001b[43m,\u001b[49m\u001b[43m \u001b[49m\u001b[43my\u001b[49m\u001b[43m)\u001b[49m, dtype=dtype)\n",
      "\u001b[36mCell\u001b[39m\u001b[36m \u001b[39m\u001b[32mIn[4]\u001b[39m\u001b[32m, line 8\u001b[39m, in \u001b[36msimulate_direct_torque.<locals>.dynamics\u001b[39m\u001b[34m(t, state)\u001b[39m\n\u001b[32m      6\u001b[39m \u001b[38;5;28;01mdef\u001b[39;00m\u001b[38;5;250m \u001b[39m\u001b[34mdynamics\u001b[39m(t, state):\n\u001b[32m      7\u001b[39m     theta, dtheta = state\n\u001b[32m----> \u001b[39m\u001b[32m8\u001b[39m     tau = \u001b[43mtorque_controller\u001b[49m\u001b[43m(\u001b[49m\u001b[43mt\u001b[49m\u001b[43m,\u001b[49m\u001b[43m \u001b[49m\u001b[43mtheta\u001b[49m\u001b[43m,\u001b[49m\u001b[43m \u001b[49m\u001b[43mdtheta\u001b[49m\u001b[43m)\u001b[49m\n\u001b[32m      9\u001b[39m     ddtheta = (tau - b * dtheta - m * g * r * np.sin(theta)) / I\n\u001b[32m     10\u001b[39m     \u001b[38;5;28;01mreturn\u001b[39;00m [dtheta, ddtheta]\n",
      "\u001b[36mCell\u001b[39m\u001b[36m \u001b[39m\u001b[32mIn[4]\u001b[39m\u001b[32m, line 3\u001b[39m, in \u001b[36mtorque_controller\u001b[39m\u001b[34m(t, theta, dtheta)\u001b[39m\n\u001b[32m      1\u001b[39m \u001b[38;5;28;01mdef\u001b[39;00m\u001b[38;5;250m \u001b[39m\u001b[34mtorque_controller\u001b[39m(t, theta, dtheta):\n\u001b[32m      2\u001b[39m     \u001b[38;5;66;03m# STUDENT WORK GOES HERE\u001b[39;00m\n\u001b[32m----> \u001b[39m\u001b[32m3\u001b[39m     \u001b[38;5;28;01mreturn\u001b[39;00m \u001b[43mzeros_like\u001b[49m(t)\n",
      "\u001b[31mNameError\u001b[39m: name 'zeros_like' is not defined"
     ]
    }
   ],
   "source": [
    "def torque_controller(t, theta, dtheta):\n",
    "    # STUDENT WORK GOES HERE\n",
    "    return zeros_like(t)\n",
    "\n",
    "def simulate_direct_torque():\n",
    "    def dynamics(t, state):\n",
    "        theta, dtheta = state\n",
    "        tau = torque_controller(t, theta, dtheta)\n",
    "        ddtheta = (tau - b * dtheta - m * g * r * np.sin(theta)) / I\n",
    "        return [dtheta, ddtheta]\n",
    "\n",
    "    sol = solve_ivp(dynamics, [0, T_total], [0, 0], t_eval=np.linspace(0, T_total, 300))\n",
    "    return sol\n",
    "\n",
    "sol_direct = simulate_direct_torque()"
   ]
  },
  {
   "cell_type": "markdown",
   "id": "c703ac0e",
   "metadata": {},
   "source": [
    "## 🧠 Part 2: Two-Muscle Control (Simple Model)"
   ]
  },
  {
   "cell_type": "markdown",
   "id": "c9e2397e",
   "metadata": {},
   "source": [
    "Fill in the controller to return biceps and triceps activation (between 0 and 1) as a function of t, theta, and dtheta."
   ]
  },
  {
   "cell_type": "code",
   "execution_count": null,
   "id": "1bbd1083",
   "metadata": {},
   "outputs": [],
   "source": [
    "def dual_activation_controller(t, theta, dtheta):\n",
    "    a_bi = zeros_like(t)\n",
    "    a_tri = zeros_like(t)\n",
    "    return a_bi, a_tri\n",
    "\n",
    "sol_simple = simulate_two_muscles(dual_activation_controller, model='simple')"
   ]
  },
  {
   "cell_type": "markdown",
   "id": "95149208",
   "metadata": {},
   "source": [
    "## 🧠 Part 3: Two-Muscle Control (Hill-Type Model)"
   ]
  },
  {
   "cell_type": "markdown",
   "id": "7ca53b30",
   "metadata": {},
   "source": [
    "Fill in the controller to return biceps and triceps activation as a function of t, theta, and dtheta"
   ]
  },
  {
   "cell_type": "code",
   "execution_count": null,
   "id": "69ce37f6",
   "metadata": {},
   "outputs": [],
   "source": [
    "def hill_controller(t, theta, dtheta):\n",
    "    a_bi = zeros_like(t)\n",
    "    a_tri = zeros_like(t)\n",
    "    return a_bi, a_tri"
   ]
  },
  {
   "cell_type": "code",
   "execution_count": null,
   "id": "1f695d4a",
   "metadata": {
    "lines_to_next_cell": 1
   },
   "outputs": [],
   "source": [
    "sol_hill = simulate_two_muscles(hill_controller, model='hill')"
   ]
  },
  {
   "cell_type": "markdown",
   "id": "c6dd7971",
   "metadata": {},
   "source": [
    "## 📊 Plotting"
   ]
  },
  {
   "cell_type": "code",
   "execution_count": null,
   "id": "65b9c92c",
   "metadata": {},
   "outputs": [
    {
     "data": {
      "image/png": "[encoded data removed]",
      "text/plain": [
       "<Figure size 1000x500 with 1 Axes>"
      ]
     },
     "metadata": {},
     "output_type": "display_data"
    }
   ],
   "source": [
    "def plot_theta(sol, label):\n",
    "    plt.plot(sol.t, sol.y[0], label=label)\n",
    "\n",
    "plt.figure(figsize=(10, 5))\n",
    "plot_theta(sol_direct, \"Direct torque\")\n",
    "plot_theta(sol_simple, \"Simple muscle\")\n",
    "plot_theta(sol_hill, \"Hill-type muscle\")\n",
    "plt.axhline(theta_goal, color='gray', linestyle='--', label='Target')\n",
    "plt.xlabel(\"Time (s)\")\n",
    "plt.ylabel(\"Theta (rad)\")\n",
    "plt.title(\"Arm Angle Over Time\")\n",
    "plt.legend()\n",
    "plt.grid(True)\n",
    "plt.tight_layout()\n",
    "plt.show()"
   ]
  },
  {
   "cell_type": "markdown",
   "id": "400c509f",
   "metadata": {},
   "source": [
    "## ✅ Summary Prompts for Students\n",
    "- Which model gave you the best stabilization?\n",
    "- How did muscle constraints affect your control options?\n",
    "- What would change if you added noise or time delay?\n",
    "\n",
    "> **Instructor answer:** Hill model reveals the limitations of naive control strategies—students begin to see why biological control is hard!"
   ]
  }
 ],
 "metadata": {
  "jupytext": {
   "cell_metadata_filter": "-all",
   "main_language": "python",
   "notebook_metadata_filter": "-all"
  },
  "kernelspec": {
   "display_name": "default",
   "language": "python",
   "name": "python3"
  },
  "language_info": {
   "codemirror_mode": {
    "name": "ipython",
    "version": 3
   },
   "file_extension": ".py",
   "mimetype": "text/x-python",
   "name": "python",
   "nbconvert_exporter": "python",
   "pygments_lexer": "ipython3",
   "version": "3.11.11"
  }
 },
 "nbformat": 4,
 "nbformat_minor": 5
}
