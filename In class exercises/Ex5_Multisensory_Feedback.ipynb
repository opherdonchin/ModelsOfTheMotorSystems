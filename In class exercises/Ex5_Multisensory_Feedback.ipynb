{
  "cells": [
    {
      "cell_type": "markdown",
      "metadata": {
        "colab_type": "text",
        "id": "view-in-github"
      },
      "source": [
        "<a href=\"https://colab.research.google.com/github/opherdonchin/ModelsOfTheMotorSystems2021-2/blob/master/In_class_Bayes.ipynb\" target=\"_parent\"><img src=\"https://colab.research.google.com/assets/colab-badge.svg\" alt=\"Open In Colab\"/></a>"
      ]
    },
    {
      "cell_type": "markdown",
      "metadata": {
        "id": "4ETzjw5peFBF"
      },
      "source": [
        "- You see the box and it seems like it will be light. Say $\\mu_0=3.5\\text{N}$.\n",
        "\n"
      ]
    },
    {
      "cell_type": "code",
      "execution_count": null,
      "metadata": {
        "id": "31rLlIQ3d71E"
      },
      "outputs": [],
      "source": []
    },
    {
      "cell_type": "markdown",
      "metadata": {
        "id": "4ZgBR5IEeht3"
      },
      "source": [
        "- You aren’t sure though. You think your guess is good to $\\sigma_0 = 1.0\\text{N}$\n"
      ]
    },
    {
      "cell_type": "code",
      "execution_count": null,
      "metadata": {
        "id": "A0miM3wpfa7i"
      },
      "outputs": [],
      "source": []
    },
    {
      "cell_type": "markdown",
      "metadata": {
        "id": "FrXHohxWfbaZ"
      },
      "source": [
        "- When you lift the box, your perception is that it is actually heavier. It seems to be 𝑥=6N"
      ]
    },
    {
      "cell_type": "code",
      "execution_count": null,
      "metadata": {
        "id": "sKZihJZ1fprV"
      },
      "outputs": [],
      "source": []
    },
    {
      "cell_type": "markdown",
      "metadata": {
        "id": "XhyoQ8PWfqLs"
      },
      "source": [
        "- But, of course, your perception is noisy. 𝜎_𝑥=1.0N"
      ]
    },
    {
      "cell_type": "code",
      "execution_count": null,
      "metadata": {
        "id": "iQqNb6uPf1xs"
      },
      "outputs": [],
      "source": []
    },
    {
      "cell_type": "markdown",
      "metadata": {
        "id": "XKJxptjVf2V_"
      },
      "source": [
        "- If your brain is doing optimal estimation, what is your new estimate of the weight of the box?"
      ]
    },
    {
      "cell_type": "code",
      "execution_count": 11,
      "metadata": {
        "id": "meqamGDSgFp6"
      },
      "outputs": [],
      "source": []
    },
    {
      "cell_type": "markdown",
      "metadata": {
        "id": "J42cpXOYgGSQ"
      },
      "source": [
        "- You continue to lift the box 4 more times and perceive the weight to be: 6, 7, 7, 4, 5. \n"
      ]
    },
    {
      "cell_type": "code",
      "execution_count": null,
      "metadata": {
        "colab": {
          "base_uri": "https://localhost:8080/"
        },
        "id": "SmmG_0nmjv7g",
        "outputId": "0e8c92e6-3274-40bf-e2ed-f58861d28107"
      },
      "outputs": [],
      "source": []
    },
    {
      "cell_type": "markdown",
      "metadata": {
        "id": "RQM4kbc5jwdR"
      },
      "source": [
        "- What is your final estimate of the weight and how much noise is there in the estimate?"
      ]
    },
    {
      "cell_type": "code",
      "execution_count": 11,
      "metadata": {
        "id": "58CBQGqPkebO"
      },
      "outputs": [],
      "source": []
    }
  ],
  "metadata": {
    "colab": {
      "authorship_tag": "ABX9TyOOfDG0JStzdY3WNqNLMupF",
      "include_colab_link": true,
      "name": "In class Bayes.ipynb",
      "provenance": []
    },
    "kernelspec": {
      "display_name": "Python 3",
      "name": "python3"
    },
    "language_info": {
      "name": "python"
    }
  },
  "nbformat": 4,
  "nbformat_minor": 0
}
