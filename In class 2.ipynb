{
  "nbformat": 4,
  "nbformat_minor": 0,
  "metadata": {
    "colab": {
      "name": "Untitled0.ipynb",
      "provenance": [],
      "authorship_tag": "ABX9TyPhgQmt4OFksuLmpHnprwTi",
      "include_colab_link": true
    },
    "kernelspec": {
      "name": "python3",
      "display_name": "Python 3"
    },
    "language_info": {
      "name": "python"
    }
  },
  "cells": [
    {
      "cell_type": "markdown",
      "metadata": {
        "id": "view-in-github",
        "colab_type": "text"
      },
      "source": [
        "<a href=\"https://colab.research.google.com/github/opherdonchin/ModelsOfTheMotorSystems2021-2/blob/master/In%20class%202.ipynb\" target=\"_parent\"><img src=\"https://colab.research.google.com/assets/colab-badge.svg\" alt=\"Open In Colab\"/></a>"
      ]
    },
    {
      "cell_type": "markdown",
      "source": [
        "# A simple structural model of the muscle spindle\n",
        "\n",
        "In his 1983 [Journal of Neurophysiology paper](https://journals.physiology.org/doi/abs/10.1152/jn.1983.49.4.989?rfr_dat=cr_pub++0pubmed&url_ver=Z39.88-2003&rfr_id=ori%3Arid%3Acrossref.org), A model of spindle afferent response to muscle stretch, Hasan puts forward what is called a \"structural model\" of muscle spindles. The model is called structural because it has multiple components that reflect actual parts of the biological system.\n",
        "\n",
        "The model has essentially two components: the sensory element of the muscle spindle $z$ and the non-sensory element $y$. Together they add up to the total muscle length $x$. The firing rate of the muscle spindle is a function of $z$ and $\\frac{dz}{dt}$ and is given by the formula ($H$ and $p$ constants):\n",
        "\n",
        "$$\n",
        "r(t) = H\\left( z(t) + p \\frac{dz(t)}{dt} \\right)\n",
        "$$\n",
        "\n",
        "The length and rate of change of the sensory component is related to the length and rate of change of the muscle itself through the physical coupling of the lengths:\n",
        "\n",
        "$$\n",
        "x = z + y\n",
        "$$\n",
        "\n",
        "and the tension between the two components ($E$, $C$, $A$ and $k$ constants)\n",
        "\n",
        "$$\n",
        "f(t) = \n",
        "E(y-C)\\left(1+\\left(\\frac{1}{A}\\frac{dy}{dt}\\right)^{\\frac{1}{3}}\\right) =\n",
        "kz\n",
        "$$\n",
        "\n",
        "In other words, the tension in the muscle rises slowly with velocity and this causes increaed stretching of the sensory component when the muscle lengthens.\n",
        "\n",
        "In this exercise, we will take code which I've written to implement this model and observe how it behaves in different conditions."
      ],
      "metadata": {
        "id": "aB2XxgA9j8Xg"
      }
    },
    {
      "cell_type": "markdown",
      "source": [
        "# The model implementation\n",
        "The function `dz_from_state` implements the differential equation that relates $x$, $\\frac{dx}{dt}$, and $z$ to $\\frac{dz}{dt}$. We will later use this in the differential equation solver. A little bit of algebra has been applied to the equations above to find $\\frac{dz}{dt}$ (called `dz`) in terms of the other variables.\n",
        "\n",
        "The function `fr_from_state` implements the translation from the state of the sensory component to the firing rate."
      ],
      "metadata": {
        "id": "G-cz72iTnfFR"
      }
    },
    {
      "cell_type": "code",
      "source": [
        "from scipy.integrate import odeint, solve_ivp\n",
        "import numpy as np\n",
        "import matplotlib.pyplot as plt\n",
        "\n",
        "A = 0.3\n",
        "B = 250\n",
        "C = -15\n",
        "def dz_from_state(t, z, x, dx):\n",
        "  y = x(t)-z\n",
        "  delta_y = y-C\n",
        "  dz = dx(t) - A*(((B-1)*z - delta_y)/delta_y)**3\n",
        "  return dz\n",
        "\n",
        "H = 350\n",
        "P = 0.1\n",
        "def fr_from_state(z, dz):\n",
        "  fr = H*(z + P*dz)\n",
        "  return fr\n",
        "\n"
      ],
      "metadata": {
        "id": "QB3E1WlGhEyl"
      },
      "execution_count": 1,
      "outputs": []
    },
    {
      "cell_type": "markdown",
      "source": [
        "# Manipulating the muscle length and deriving firing rate\n",
        "This code takes muscle length, solves the differential equation and generates the appropriate firing rate.\n",
        "\n",
        "You can change the function of muscle length and change accordingly to try different options.\n",
        "\n",
        "You can make this code better by taking the numerical derivative of `x` to get `dx`. Otherwise, it is on the programmer to keep them consistent and there could be meaningless results."
      ],
      "metadata": {
        "id": "uTFnrOyupB3D"
      }
    },
    {
      "cell_type": "code",
      "source": [
        "\n",
        "\n",
        "t_span = (0.0, 10.0)\n",
        "t_eval = np.arange(t_span[0], t_span[1], 0.005)\n",
        "\n",
        "\n",
        "x = lambda t : 15\n",
        "dx = lambda t : 0\n",
        "\n",
        "z0 = np.atleast_1d( (x(0)-C) / B )\n",
        "\n",
        "result = solve_ivp(dz_from_state, t_span, z0, args=(x, dx), method='LSODA', t_eval=t_eval)\n",
        "\n",
        "t = result.t\n",
        "z = result.y[0,:]\n",
        "dz = dz_from_state(t, z, x, dx)\n",
        "\n",
        "fr = fr_from_state(z, dz)\n"
      ],
      "metadata": {
        "id": "Ha7oXmwKwoM7"
      },
      "execution_count": null,
      "outputs": []
    },
    {
      "cell_type": "markdown",
      "source": [
        "# Plotting\n",
        "This plots the firing rate as a function of time.\n",
        "\n",
        "You can make this code better by adding the muscle length on this plot or below it."
      ],
      "metadata": {
        "id": "eM5YJ3XYpmHq"
      }
    },
    {
      "cell_type": "code",
      "source": [
        "fig , ax = plt.subplots(figsize=(9 ,8))\n",
        "plt.title('Firing rate of spindle' , fontsize = 24)\n",
        "plt.ylabel('fr(sp/sec)' , fontsize = 21)\n",
        "plt.xlabel('t(sec)', fontsize = 21)\n",
        "plt.plot(t, fr, linestyle='-', linewidth=2.0, color='blue')\n",
        "plt.show()"
      ],
      "metadata": {
        "id": "mF74FfDYqH8m"
      },
      "execution_count": null,
      "outputs": []
    },
    {
      "cell_type": "markdown",
      "source": [
        "Please check the following:\n",
        "\n",
        "1. For constant muscle length, do we see a linear relationship between muscle length and firing rate?\n",
        "2. Show that when a ramp and hold is applied to the muscle, this leads to:\n",
        "  - strong transients when the ramp is started and stopped\n",
        "  - ramping increase in firing rate during the ramp\n",
        "  - constant firing rate that depends on final length at the end of the ramp\n",
        "3. Later models have an explicit way of modeling the fusiform input. For this model, fusiform input can only be modeled by changes in parameters. Remember that $\\gamma$-dynamic inputs should increase the sensitivity to velocity and $\\gamma$-static should increase the sensitivity to length. You can check this. The authors suggest:\n",
        "  - Activation of the $\\gamma$-dynamic inputs: `A = 0.1`, `B = 125`, `C = -15`, `h = 250`, and `p = 0.1`\n",
        "  - Activation of the $\\gamma$-static inputs: `A = 100`, `B = 100`, `C = -25`, `h = 200`, and `p = 0.1`"
      ],
      "metadata": {
        "id": "AkpBauG1pyP6"
      }
    }
  ]
}